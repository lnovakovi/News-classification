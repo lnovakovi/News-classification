{
 "cells": [
  {
   "cell_type": "code",
   "execution_count": 2,
   "metadata": {},
   "outputs": [],
   "source": [
    "import json\n",
    "import pandas as pd\n",
    "import json\n",
    "from sklearn.pipeline import FeatureUnion\n",
    "from sklearn_pandas import DataFrameMapper\n",
    "import nltk\n",
    "from nltk.corpus import stopwords\n",
    "from nltk.tokenize import wordpunct_tokenize, sent_tokenize\n",
    "from sklearn import model_selection, preprocessing, linear_model, naive_bayes, metrics, svm\n",
    "from sklearn.feature_extraction.text import TfidfVectorizer, CountVectorizer\n",
    "# splitting data set into train/test\n",
    "from sklearn.model_selection import train_test_split\n",
    "import numpy as np\n",
    "from sklearn.linear_model import LogisticRegression\n",
    "from sklearn.ensemble import RandomForestClassifier\n",
    "from sklearn.naive_bayes import MultinomialNB\n",
    "\n",
    "from sklearn.model_selection import cross_val_score\n",
    "from nltk.stem import WordNetLemmatizer "
   ]
  },
  {
   "cell_type": "code",
   "execution_count": 3,
   "metadata": {
    "scrolled": true
   },
   "outputs": [
    {
     "data": {
      "text/html": [
       "<div>\n",
       "<style scoped>\n",
       "    .dataframe tbody tr th:only-of-type {\n",
       "        vertical-align: middle;\n",
       "    }\n",
       "\n",
       "    .dataframe tbody tr th {\n",
       "        vertical-align: top;\n",
       "    }\n",
       "\n",
       "    .dataframe thead th {\n",
       "        text-align: right;\n",
       "    }\n",
       "</style>\n",
       "<table border=\"1\" class=\"dataframe\">\n",
       "  <thead>\n",
       "    <tr style=\"text-align: right;\">\n",
       "      <th></th>\n",
       "      <th>short_description</th>\n",
       "    </tr>\n",
       "    <tr>\n",
       "      <th>category</th>\n",
       "      <th></th>\n",
       "    </tr>\n",
       "  </thead>\n",
       "  <tbody>\n",
       "    <tr>\n",
       "      <th>ARTS</th>\n",
       "      <td>3878</td>\n",
       "    </tr>\n",
       "    <tr>\n",
       "      <th>BLACK VOICES</th>\n",
       "      <td>4528</td>\n",
       "    </tr>\n",
       "    <tr>\n",
       "      <th>BUSINESS</th>\n",
       "      <td>5937</td>\n",
       "    </tr>\n",
       "    <tr>\n",
       "      <th>COMEDY</th>\n",
       "      <td>5175</td>\n",
       "    </tr>\n",
       "    <tr>\n",
       "      <th>CRIME</th>\n",
       "      <td>3405</td>\n",
       "    </tr>\n",
       "    <tr>\n",
       "      <th>DIVORCE</th>\n",
       "      <td>3426</td>\n",
       "    </tr>\n",
       "    <tr>\n",
       "      <th>EDUCATION</th>\n",
       "      <td>2148</td>\n",
       "    </tr>\n",
       "    <tr>\n",
       "      <th>ENTERTAINMENT</th>\n",
       "      <td>16058</td>\n",
       "    </tr>\n",
       "    <tr>\n",
       "      <th>ENVIRONMENT</th>\n",
       "      <td>3945</td>\n",
       "    </tr>\n",
       "    <tr>\n",
       "      <th>FOOD &amp; DRINK</th>\n",
       "      <td>6226</td>\n",
       "    </tr>\n",
       "    <tr>\n",
       "      <th>HEALTHY LIVING</th>\n",
       "      <td>6694</td>\n",
       "    </tr>\n",
       "    <tr>\n",
       "      <th>HOME &amp; LIVING</th>\n",
       "      <td>4195</td>\n",
       "    </tr>\n",
       "    <tr>\n",
       "      <th>IMPACT</th>\n",
       "      <td>3459</td>\n",
       "    </tr>\n",
       "    <tr>\n",
       "      <th>MEDIA</th>\n",
       "      <td>2815</td>\n",
       "    </tr>\n",
       "    <tr>\n",
       "      <th>PARENTS</th>\n",
       "      <td>12632</td>\n",
       "    </tr>\n",
       "    <tr>\n",
       "      <th>POLITICS</th>\n",
       "      <td>32739</td>\n",
       "    </tr>\n",
       "    <tr>\n",
       "      <th>QUEER VOICES</th>\n",
       "      <td>6314</td>\n",
       "    </tr>\n",
       "    <tr>\n",
       "      <th>RELIGION</th>\n",
       "      <td>2556</td>\n",
       "    </tr>\n",
       "    <tr>\n",
       "      <th>SCIENCE</th>\n",
       "      <td>2178</td>\n",
       "    </tr>\n",
       "    <tr>\n",
       "      <th>SPORTS</th>\n",
       "      <td>4884</td>\n",
       "    </tr>\n",
       "    <tr>\n",
       "      <th>STYLE</th>\n",
       "      <td>11903</td>\n",
       "    </tr>\n",
       "    <tr>\n",
       "      <th>TRAVEL</th>\n",
       "      <td>9887</td>\n",
       "    </tr>\n",
       "    <tr>\n",
       "      <th>WEDDINGS</th>\n",
       "      <td>3651</td>\n",
       "    </tr>\n",
       "    <tr>\n",
       "      <th>WELLNESS</th>\n",
       "      <td>17827</td>\n",
       "    </tr>\n",
       "    <tr>\n",
       "      <th>WOMEN</th>\n",
       "      <td>3490</td>\n",
       "    </tr>\n",
       "    <tr>\n",
       "      <th>WORLDPOST</th>\n",
       "      <td>8420</td>\n",
       "    </tr>\n",
       "  </tbody>\n",
       "</table>\n",
       "</div>"
      ],
      "text/plain": [
       "                short_description\n",
       "category                         \n",
       "ARTS                         3878\n",
       "BLACK VOICES                 4528\n",
       "BUSINESS                     5937\n",
       "COMEDY                       5175\n",
       "CRIME                        3405\n",
       "DIVORCE                      3426\n",
       "EDUCATION                    2148\n",
       "ENTERTAINMENT               16058\n",
       "ENVIRONMENT                  3945\n",
       "FOOD & DRINK                 6226\n",
       "HEALTHY LIVING               6694\n",
       "HOME & LIVING                4195\n",
       "IMPACT                       3459\n",
       "MEDIA                        2815\n",
       "PARENTS                     12632\n",
       "POLITICS                    32739\n",
       "QUEER VOICES                 6314\n",
       "RELIGION                     2556\n",
       "SCIENCE                      2178\n",
       "SPORTS                       4884\n",
       "STYLE                       11903\n",
       "TRAVEL                       9887\n",
       "WEDDINGS                     3651\n",
       "WELLNESS                    17827\n",
       "WOMEN                        3490\n",
       "WORLDPOST                    8420"
      ]
     },
     "execution_count": 3,
     "metadata": {},
     "output_type": "execute_result"
    }
   ],
   "source": [
    "json_file=r\"C:\\Users\\Lora\\Desktop\\TxMM\\Project\\news-category-dataset\\News_Category_Dataset_v2.json\"\n",
    "\n",
    "## investigate data \n",
    "data = []\n",
    "for line in open(json_file,'r'):\n",
    "    data.append(json.loads(line))\n",
    "    \n",
    "# Creates DataFrame. \n",
    "df_headline = pd.DataFrame(data) \n",
    "df_short_desc = pd.DataFrame(data)\n",
    "\n",
    "# Dropping unnecessary categories from both data frames\n",
    "df_headline = df_headline.drop(['date','authors','link','short_description'], axis=1)\n",
    "df_short_desc = df_short_desc.drop(['date','authors','link','headline'], axis=1)\n",
    "\n",
    "# Grouping similar categories in data frame for headline \n",
    "df_headline.loc[df_headline['category'] == 'COLLEGE', 'category'] = 'EDUCATION'\n",
    "df_headline.loc[df_headline['category'] == 'CULTURE & ARTS', 'category'] = 'ARTS'\n",
    "df_headline.loc[df_headline['category'] == 'ARTS & CULTURE', 'category'] = 'ARTS'\n",
    "df_headline.loc[df_headline['category'] == 'THE WORLDPOST', 'category'] = 'WORLDPOST'\n",
    "df_headline.loc[df_headline['category'] == 'WORLD NEWS', 'category'] = 'WORLDPOST'\n",
    "df_headline.loc[df_headline['category'] == 'GREEN', 'category'] = 'ENVIRONMENT'\n",
    "df_headline.loc[df_headline['category'] == 'PARENTING', 'category'] = 'PARENTS'\n",
    "df_headline.loc[df_headline['category'] == 'STYLE & BEAUTY', 'category'] = 'STYLE'\n",
    "\n",
    "\n",
    "# Dropping categories with two little samples for headline \n",
    "df_headline=df_headline.drop(df_headline[df_headline.category == 'FIFTY'].index)\n",
    "df_headline=df_headline.drop(df_headline[df_headline.category == 'GOOD NEWS'].index)\n",
    "df_headline=df_headline.drop(df_headline[df_headline.category == 'LATINO VOICES'].index)\n",
    "df_headline=df_headline.drop(df_headline[df_headline.category == 'MONEY'].index)\n",
    "df_headline=df_headline.drop(df_headline[df_headline.category == 'WEIRD NEWS'].index)\n",
    "df_headline=df_headline.drop(df_headline[df_headline.category == 'TASTE'].index)\n",
    "df_headline=df_headline.drop(df_headline[df_headline.category == 'TECH'].index)\n",
    "\n",
    "# Grouping similar categories in data frame for short desc \n",
    "df_short_desc.loc[df_short_desc['category'] == 'COLLEGE', 'category'] = 'EDUCATION'\n",
    "df_short_desc.loc[df_short_desc['category'] == 'CULTURE & ARTS', 'category'] = 'ARTS'\n",
    "df_short_desc.loc[df_short_desc['category'] == 'ARTS & CULTURE', 'category'] = 'ARTS'\n",
    "df_short_desc.loc[df_short_desc['category'] == 'THE WORLDPOST', 'category'] = 'WORLDPOST'\n",
    "df_short_desc.loc[df_short_desc['category'] == 'WORLD NEWS', 'category'] = 'WORLDPOST'\n",
    "df_short_desc.loc[df_short_desc['category'] == 'GREEN', 'category'] = 'ENVIRONMENT'\n",
    "df_short_desc.loc[df_short_desc['category'] == 'PARENTING', 'category'] = 'PARENTS'\n",
    "df_short_desc.loc[df_short_desc['category'] == 'STYLE & BEAUTY', 'category'] = 'STYLE'\n",
    "\n",
    "# Dropping categories with two little samples for short desc  \n",
    "df_short_desc=df_short_desc.drop(df_short_desc[df_short_desc.category == 'FIFTY'].index)\n",
    "df_short_desc=df_short_desc.drop(df_short_desc[df_short_desc.category == 'GOOD NEWS'].index)\n",
    "df_short_desc=df_short_desc.drop(df_short_desc[df_short_desc.category == 'LATINO VOICES'].index)\n",
    "df_short_desc=df_short_desc.drop(df_short_desc[df_short_desc.category == 'MONEY'].index)\n",
    "df_short_desc=df_short_desc.drop(df_short_desc[df_short_desc.category == 'WEIRD NEWS'].index)\n",
    "df_short_desc=df_short_desc.drop(df_short_desc[df_short_desc.category == 'TASTE'].index)\n",
    "df_short_desc=df_short_desc.drop(df_short_desc[df_short_desc.category == 'TECH'].index)\n",
    "\n",
    "# reseting index for both tables\n",
    "df_headline=df_headline.reset_index(drop=True)\n",
    "df_short_desc=df_short_desc.reset_index(drop=True)\n",
    "\n",
    "# checking categories\n",
    "df_headline.groupby('category').count()\n",
    "df_short_desc.groupby('category').count()\n"
   ]
  },
  {
   "cell_type": "code",
   "execution_count": 4,
   "metadata": {},
   "outputs": [],
   "source": [
    "import string\n",
    "\n",
    "#cleaning headlines and short descriptions\n",
    "stop_words = set(stopwords.words('english'))\n",
    "lemmatizer = WordNetLemmatizer() \n",
    "\n",
    "def remove_punctuations(text):\n",
    "    for punctuation in string.punctuation:\n",
    "        text = text.replace(punctuation, '')\n",
    "    return text\n",
    "\n",
    "import re \n",
    "# removing numbers from string   \n",
    "def remove(tt): \n",
    "    pattern = '[0-9]'\n",
    "    a = re.sub(pattern, '',tt) \n",
    "    return a\n",
    "\n",
    "def remove_stopwords(text):\n",
    "    help_list=[]\n",
    "    stop_words = set(stopwords.words('english'))\n",
    "    for item in text.split(' '):\n",
    "        if item not in stop_words:\n",
    "            help_list.append(item)\n",
    "    a = ' '.join(help_list)\n",
    "    return a\n",
    "\n",
    "\n",
    "def lemm(str):\n",
    "    x=str.split(' ')\n",
    "    r=[]\n",
    "    for word in x: \n",
    "        r.append(lemmatizer.lemmatize(word))\n",
    "    return ' '.join(r)\n",
    "\n",
    "\n",
    "\n",
    "## cleaning headline df\n",
    "#lower case\n",
    "df_headline['headline'] = df_headline['headline'].str.lower()\n",
    "# removing punct \n",
    "df_headline['headline'] = df_headline['headline'].apply(remove_punctuations)\n",
    "# removing numbers\n",
    "df_headline['headline'] = df_headline['headline'].apply(remove)\n",
    "# lemmatization\n",
    "df_headline['headline'] = df_headline['headline'].apply(lemm)\n",
    "# removing stop words performed automatically \n",
    "\n",
    "## cleaning short description df\n",
    "\n",
    "#lower case\n",
    "df_short_desc['short_description'] = df_short_desc['short_description'].str.lower()\n",
    "# removing punct \n",
    "df_short_desc['short_description'] = df_short_desc['short_description'].apply(remove_punctuations)\n",
    "# removing numbers\n",
    "df_short_desc['short_description'] = df_short_desc['short_description'].apply(remove)\n",
    "# removing stop words performed automatically \n",
    "# removing empty rows where description not available\n",
    "df_short_desc['short_description'].replace('', np.nan, inplace=True)\n",
    "df_short_desc.dropna(subset=['short_description'], inplace=True)\n",
    "df_short_desc = df_short_desc.reset_index(drop=True)\n",
    "# resulted with 170098 rows × 2 columns\n",
    "#lemmatization\n",
    "df_short_desc['short_description'] = df_short_desc['short_description'].apply(lemm)\n"
   ]
  },
  {
   "cell_type": "code",
   "execution_count": 136,
   "metadata": {},
   "outputs": [],
   "source": [
    "df_headline = df_headline.head(50000)\n",
    "df_headline=df_headline.sample(frac=1)\n",
    "df_headline = df_headline.reset_index(drop=True)"
   ]
  },
  {
   "cell_type": "code",
   "execution_count": 5,
   "metadata": {},
   "outputs": [],
   "source": [
    "df_short_desc= df_short_desc.head(50000)\n",
    "df_short_desc = df_short_desc.sample(frac=1)\n",
    "df_short_desc = df_short_desc.reset_index(drop=True)"
   ]
  },
  {
   "cell_type": "code",
   "execution_count": 6,
   "metadata": {},
   "outputs": [],
   "source": [
    "# for both\n",
    "\n",
    "# Associate Category names with numerical index and save it in new column category_id\n",
    "df_headline['category_id'] = df_headline['category'].factorize()[0]\n",
    "df_short_desc['category_id'] = df_short_desc['category'].factorize()[0]\n",
    "\n",
    "#View first 10 entries of category_id, as a sanity check\n",
    "#df_headline['category_id'][0:10]\n",
    "#df_short_desc['category_id'][0:10]"
   ]
  },
  {
   "cell_type": "code",
   "execution_count": 7,
   "metadata": {},
   "outputs": [],
   "source": [
    "# for both\n",
    "\n",
    "# Create a new pandas dataframe \"category_id_df\", which only has unique Categories, also sorting this list in order of category_id values\n",
    "category_id_df_headline = df_headline[['category', 'category_id']].drop_duplicates().sort_values('category_id')\n",
    "category_id_df_shd = df_short_desc[['category', 'category_id']].drop_duplicates().sort_values('category_id')"
   ]
  },
  {
   "cell_type": "code",
   "execution_count": 8,
   "metadata": {},
   "outputs": [],
   "source": [
    "# for both\n",
    "\n",
    "# Create a dictionary ( python datastructure - like a lookup table) that \n",
    "# can easily convert category names into category_ids and vice-versa\n",
    "category_to_id_headline = dict(category_id_df_headline.values)\n",
    "id_to_category_headline = dict(category_id_df_headline[['category_id', 'category']].values)\n",
    "\n",
    "category_to_id_shd = dict(category_id_df_shd.values)\n",
    "id_to_category_shd = dict(category_id_df_shd[['category_id', 'category']].values)\n"
   ]
  },
  {
   "cell_type": "code",
   "execution_count": 10,
   "metadata": {},
   "outputs": [],
   "source": [
    "# headlines\n",
    "from sklearn.feature_extraction.text import TfidfVectorizer\n",
    "\n",
    "tfidf = TfidfVectorizer(sublinear_tf=True, min_df=5, norm='l2', encoding='latin-1', ngram_range=(1, 2), stop_words='english',max_features=7000)\n",
    "\n",
    "features = tfidf.fit_transform(df_short_desc.short_description) # Remaps the words in the 1490 articles in the text column of \n",
    "                                                  # data frame into features (superset of words) with an importance assigned \n",
    "                                                  # based on each words frequency in the document and across documents\n",
    "\n",
    "labels = df_short_desc.category_id                           # represents the category of each of the 1490 articles"
   ]
  },
  {
   "cell_type": "code",
   "execution_count": 174,
   "metadata": {},
   "outputs": [
    {
     "data": {
      "text/plain": [
       "(50000, 7000)"
      ]
     },
     "execution_count": 174,
     "metadata": {},
     "output_type": "execute_result"
    }
   ],
   "source": [
    "# how many features are there\n",
    "features.shape"
   ]
  },
  {
   "cell_type": "code",
   "execution_count": 145,
   "metadata": {
    "collapsed": true
   },
   "outputs": [
    {
     "data": {
      "text/plain": [
       "0         0\n",
       "1         1\n",
       "2         2\n",
       "3         1\n",
       "4         3\n",
       "5         4\n",
       "6         5\n",
       "7         6\n",
       "8         7\n",
       "9         8\n",
       "10        9\n",
       "11       10\n",
       "12       11\n",
       "13        1\n",
       "14       11\n",
       "15        4\n",
       "16        3\n",
       "17        1\n",
       "18        1\n",
       "19        1\n",
       "20        6\n",
       "21        6\n",
       "22        1\n",
       "23        1\n",
       "24        6\n",
       "25       12\n",
       "26       11\n",
       "27        9\n",
       "28       13\n",
       "29        1\n",
       "         ..\n",
       "49970     1\n",
       "49971    12\n",
       "49972    20\n",
       "49973     1\n",
       "49974     9\n",
       "49975    19\n",
       "49976    10\n",
       "49977     1\n",
       "49978    13\n",
       "49979     1\n",
       "49980    13\n",
       "49981     1\n",
       "49982     1\n",
       "49983     9\n",
       "49984     1\n",
       "49985     1\n",
       "49986     8\n",
       "49987     7\n",
       "49988     6\n",
       "49989     9\n",
       "49990     7\n",
       "49991     4\n",
       "49992     1\n",
       "49993     4\n",
       "49994     9\n",
       "49995    14\n",
       "49996    17\n",
       "49997     9\n",
       "49998    11\n",
       "49999    12\n",
       "Name: category_id, Length: 50000, dtype: int64"
      ]
     },
     "execution_count": 145,
     "metadata": {},
     "output_type": "execute_result"
    }
   ],
   "source": [
    "labels"
   ]
  },
  {
   "cell_type": "code",
   "execution_count": 11,
   "metadata": {},
   "outputs": [
    {
     "name": "stdout",
     "output_type": "stream",
     "text": [
      "# 'ARTS':\n",
      "  . Most correlated unigrams:\n",
      "       . brighten\n",
      "       . succinct\n",
      "       . woman\n",
      "  . Most correlated bigrams:\n",
      "       . twitter fail\n",
      "       . brilliant succinct\n",
      "       . wisdom week\n",
      "# 'BLACK VOICES':\n",
      "  . Most correlated unigrams:\n",
      "       . book\n",
      "       . artist\n",
      "       . art\n",
      "  . Most correlated bigrams:\n",
      "       . harry potter\n",
      "       . short film\n",
      "       . new book\n",
      "# 'BUSINESS':\n",
      "  . Most correlated unigrams:\n",
      "       . parent\n",
      "       . kid\n",
      "       . mom\n",
      "  . Most correlated bigrams:\n",
      "       . way week\n",
      "       . thing parent\n",
      "       . mom dad\n",
      "# 'COMEDY':\n",
      "  . Most correlated unigrams:\n",
      "       . shelter\n",
      "       . nonprofit\n",
      "       . homeless\n",
      "  . Most correlated bigrams:\n",
      "       . ucf forum\n",
      "       . hurricane irma\n",
      "       . people just\n",
      "# 'CRIME':\n",
      "  . Most correlated unigrams:\n",
      "       . president\n",
      "       . republican\n",
      "       . trump\n",
      "  . Most correlated bigrams:\n",
      "       . hillary clinton\n",
      "       . white house\n",
      "       . donald trump\n",
      "# 'DIVORCE':\n",
      "  . Most correlated unigrams:\n",
      "       . football\n",
      "       . footage\n",
      "       . zoo\n",
      "  . Most correlated bigrams:\n",
      "       . foreign government\n",
      "       . football player\n",
      "       . foreign minister\n",
      "# 'EDUCATION':\n",
      "  . Most correlated unigrams:\n",
      "       . queer\n",
      "       . gay\n",
      "       . lgbtq\n",
      "  . Most correlated bigrams:\n",
      "       . lgbtq people\n",
      "       . week talked\n",
      "       . lgbtq community\n",
      "# 'ENTERTAINMENT':\n",
      "  . Most correlated unigrams:\n",
      "       . movie\n",
      "       . actress\n",
      "       . actor\n",
      "  . Most correlated bigrams:\n",
      "       . star war\n",
      "       . new album\n",
      "       . new movie\n",
      "# 'ENVIRONMENT':\n",
      "  . Most correlated unigrams:\n",
      "       . school\n",
      "       . charter\n",
      "       . education\n",
      "  . Most correlated bigrams:\n",
      "       . school district\n",
      "       . betsy devos\n",
      "       . charter school\n",
      "# 'FOOD & DRINK':\n",
      "  . Most correlated unigrams:\n",
      "       . football\n",
      "       . footage\n",
      "       . zoo\n",
      "  . Most correlated bigrams:\n",
      "       . foreign government\n",
      "       . football player\n",
      "       . foreign minister\n",
      "# 'HEALTHY LIVING':\n",
      "  . Most correlated unigrams:\n",
      "       . customer\n",
      "       . company\n",
      "       . uber\n",
      "  . Most correlated bigrams:\n",
      "       . company said\n",
      "       . company say\n",
      "       . company ha\n",
      "# 'HOME & LIVING':\n",
      "  . Most correlated unigrams:\n",
      "       . football\n",
      "       . footage\n",
      "       . zoo\n",
      "  . Most correlated bigrams:\n",
      "       . foreign government\n",
      "       . football player\n",
      "       . foreign minister\n",
      "# 'IMPACT':\n",
      "  . Most correlated unigrams:\n",
      "       . comedian\n",
      "       . late\n",
      "       . host\n",
      "  . Most correlated bigrams:\n",
      "       . week tonight\n",
      "       . daily host\n",
      "       . late host\n",
      "# 'MEDIA':\n",
      "  . Most correlated unigrams:\n",
      "       . castile\n",
      "       . officer\n",
      "       . black\n",
      "  . Most correlated bigrams:\n",
      "       . black people\n",
      "       . black life\n",
      "       . black woman\n",
      "# 'PARENTS':\n",
      "  . Most correlated unigrams:\n",
      "       . team\n",
      "       . medal\n",
      "       . olympic\n",
      "  . Most correlated bigrams:\n",
      "       . usa gymnastics\n",
      "       . super bowl\n",
      "       . gold medal\n",
      "# 'POLITICS':\n",
      "  . Most correlated unigrams:\n",
      "       . health\n",
      "       . virus\n",
      "       . disease\n",
      "  . Most correlated bigrams:\n",
      "       . zika virus\n",
      "       . article appeared\n",
      "       . appeared quietrevcom\n",
      "# 'QUEER VOICES':\n",
      "  . Most correlated unigrams:\n",
      "       . scientist\n",
      "       . mar\n",
      "       . nasa\n",
      "  . Most correlated bigrams:\n",
      "       . doe mean\n",
      "       . scientist say\n",
      "       . step closer\n",
      "# 'RELIGION':\n",
      "  . Most correlated unigrams:\n",
      "       . destination\n",
      "       . traveler\n",
      "       . travel\n",
      "  . Most correlated bigrams:\n",
      "       . national park\n",
      "       . theyre just\n",
      "       . credit card\n",
      "# 'SCIENCE':\n",
      "  . Most correlated unigrams:\n",
      "       . meditation\n",
      "       . prayer\n",
      "       . spiritual\n",
      "  . Most correlated bigrams:\n",
      "       . prayer mindful\n",
      "       . hope daily\n",
      "       . personal spiritual\n",
      "# 'SPORTS':\n",
      "  . Most correlated unigrams:\n",
      "       . gunman\n",
      "       . police\n",
      "       . suspect\n",
      "  . Most correlated bigrams:\n",
      "       . authority said\n",
      "       . police said\n",
      "       . police say\n",
      "# 'STYLE':\n",
      "  . Most correlated unigrams:\n",
      "       . designer\n",
      "       . fashion\n",
      "       . dress\n",
      "  . Most correlated bigrams:\n",
      "       . star ha\n",
      "       . make stop\n",
      "       . just time\n",
      "# 'TRAVEL':\n",
      "  . Most correlated unigrams:\n",
      "       . animal\n",
      "       . storm\n",
      "       . climate\n",
      "  . Most correlated bigrams:\n",
      "       . environmental protection\n",
      "       . renewable energy\n",
      "       . climate change\n",
      "# 'WEDDINGS':\n",
      "  . Most correlated unigrams:\n",
      "       . football\n",
      "       . footage\n",
      "       . zoo\n",
      "  . Most correlated bigrams:\n",
      "       . foreign government\n",
      "       . football player\n",
      "       . foreign minister\n",
      "# 'WELLNESS':\n",
      "  . Most correlated unigrams:\n",
      "       . football\n",
      "       . footage\n",
      "       . zoo\n",
      "  . Most correlated bigrams:\n",
      "       . foreign government\n",
      "       . football player\n",
      "       . foreign minister\n",
      "# 'WOMEN':\n",
      "  . Most correlated unigrams:\n",
      "       . news\n",
      "       . cnn\n",
      "       . fox\n",
      "  . Most correlated bigrams:\n",
      "       . cnn host\n",
      "       . news host\n",
      "       . fox news\n",
      "# 'WORLDPOST':\n",
      "  . Most correlated unigrams:\n",
      "       . attack\n",
      "       . killed\n",
      "       . minister\n",
      "  . Most correlated bigrams:\n",
      "       . people killed\n",
      "       . islamic state\n",
      "       . prime minister\n"
     ]
    }
   ],
   "source": [
    "from sklearn.feature_selection import chi2\n",
    "\n",
    "N = 3  # We are going to look for top 3 categories\n",
    "\n",
    "#For each category, find words that are highly corelated to it\n",
    "for Category, category_id in sorted(category_to_id_headline.items()):\n",
    "    features_chi2 = chi2(features, labels == category_id)                   # Do chi2 analyses of all items in this category\n",
    "    indices = np.argsort(features_chi2[0])                                  # Sorts the indices of features_chi2[0] - the chi-squared stats of each feature\n",
    "    feature_names = np.array(tfidf.get_feature_names())[indices]            # Converts indices to feature names ( in increasing order of chi-squared stat values)\n",
    "    unigrams = [v for v in feature_names if len(v.split(' ')) == 1]         # List of single word features ( in increasing order of chi-squared stat values)\n",
    "    bigrams = [v for v in feature_names if len(v.split(' ')) == 2]          # List for two-word features ( in increasing order of chi-squared stat values)\n",
    "    print(\"# '{}':\".format(Category))\n",
    "    print(\"  . Most correlated unigrams:\\n       . {}\".format('\\n       . '.join(unigrams[-N:]))) # Print 3 unigrams with highest Chi squared stat\n",
    "    print(\"  . Most correlated bigrams:\\n       . {}\".format('\\n       . '.join(bigrams[-N:]))) # Print 3 bigrams with highest Chi squared stat"
   ]
  },
  {
   "cell_type": "code",
   "execution_count": 12,
   "metadata": {},
   "outputs": [],
   "source": [
    "from sklearn.linear_model import LogisticRegression\n",
    "from sklearn.svm import LinearSVC\n",
    "from sklearn.naive_bayes import MultinomialNB\n",
    "\n",
    "from sklearn.model_selection import cross_val_score\n",
    "\n",
    "\n",
    "models = [\n",
    "    LinearSVC(C=0.7,multi_class=\"ovr\"),\n",
    "    MultinomialNB(),\n",
    "    LogisticRegression(random_state=0,max_iter=1000),\n",
    "]\n",
    "\n",
    "CV = 5  # Cross Validate with 5 different folds of 20% data ( 80-20 split with 5 folds )\n",
    "\n",
    "#Create a data frame that will store the results for all 5 trials of the 3 different models\n",
    "cv_df = pd.DataFrame(index=range(CV * len(models)))\n",
    "entries = [] # Initially all entries are empty\n",
    "\n",
    "for model in models:\n",
    "    model_name = model.__class__.__name__\n",
    "  # create 5 models with different 20% test sets, and store their accuracies\n",
    "    accuracies = cross_val_score(model, features, labels, scoring='accuracy', cv=CV)\n",
    "  # Append all 5 accuracies into the entries list ( after all 3 models are run, there will be 3x5 = 15 entries)\n",
    "    for fold_idx, accuracy in enumerate(accuracies):\n",
    "        entries.append((model_name, fold_idx, accuracy))"
   ]
  },
  {
   "cell_type": "code",
   "execution_count": 13,
   "metadata": {},
   "outputs": [
    {
     "data": {
      "text/html": [
       "<div>\n",
       "<style scoped>\n",
       "    .dataframe tbody tr th:only-of-type {\n",
       "        vertical-align: middle;\n",
       "    }\n",
       "\n",
       "    .dataframe tbody tr th {\n",
       "        vertical-align: top;\n",
       "    }\n",
       "\n",
       "    .dataframe thead th {\n",
       "        text-align: right;\n",
       "    }\n",
       "</style>\n",
       "<table border=\"1\" class=\"dataframe\">\n",
       "  <thead>\n",
       "    <tr style=\"text-align: right;\">\n",
       "      <th></th>\n",
       "      <th>model_name</th>\n",
       "      <th>fold_idx</th>\n",
       "      <th>accuracy</th>\n",
       "    </tr>\n",
       "  </thead>\n",
       "  <tbody>\n",
       "    <tr>\n",
       "      <th>0</th>\n",
       "      <td>LinearSVC</td>\n",
       "      <td>0</td>\n",
       "      <td>0.5026</td>\n",
       "    </tr>\n",
       "    <tr>\n",
       "      <th>1</th>\n",
       "      <td>LinearSVC</td>\n",
       "      <td>1</td>\n",
       "      <td>0.5020</td>\n",
       "    </tr>\n",
       "    <tr>\n",
       "      <th>2</th>\n",
       "      <td>LinearSVC</td>\n",
       "      <td>2</td>\n",
       "      <td>0.5057</td>\n",
       "    </tr>\n",
       "    <tr>\n",
       "      <th>3</th>\n",
       "      <td>LinearSVC</td>\n",
       "      <td>3</td>\n",
       "      <td>0.5068</td>\n",
       "    </tr>\n",
       "    <tr>\n",
       "      <th>4</th>\n",
       "      <td>LinearSVC</td>\n",
       "      <td>4</td>\n",
       "      <td>0.5056</td>\n",
       "    </tr>\n",
       "    <tr>\n",
       "      <th>5</th>\n",
       "      <td>MultinomialNB</td>\n",
       "      <td>0</td>\n",
       "      <td>0.4688</td>\n",
       "    </tr>\n",
       "    <tr>\n",
       "      <th>6</th>\n",
       "      <td>MultinomialNB</td>\n",
       "      <td>1</td>\n",
       "      <td>0.4671</td>\n",
       "    </tr>\n",
       "    <tr>\n",
       "      <th>7</th>\n",
       "      <td>MultinomialNB</td>\n",
       "      <td>2</td>\n",
       "      <td>0.4733</td>\n",
       "    </tr>\n",
       "    <tr>\n",
       "      <th>8</th>\n",
       "      <td>MultinomialNB</td>\n",
       "      <td>3</td>\n",
       "      <td>0.4734</td>\n",
       "    </tr>\n",
       "    <tr>\n",
       "      <th>9</th>\n",
       "      <td>MultinomialNB</td>\n",
       "      <td>4</td>\n",
       "      <td>0.4712</td>\n",
       "    </tr>\n",
       "    <tr>\n",
       "      <th>10</th>\n",
       "      <td>LogisticRegression</td>\n",
       "      <td>0</td>\n",
       "      <td>0.5050</td>\n",
       "    </tr>\n",
       "    <tr>\n",
       "      <th>11</th>\n",
       "      <td>LogisticRegression</td>\n",
       "      <td>1</td>\n",
       "      <td>0.5028</td>\n",
       "    </tr>\n",
       "    <tr>\n",
       "      <th>12</th>\n",
       "      <td>LogisticRegression</td>\n",
       "      <td>2</td>\n",
       "      <td>0.5028</td>\n",
       "    </tr>\n",
       "    <tr>\n",
       "      <th>13</th>\n",
       "      <td>LogisticRegression</td>\n",
       "      <td>3</td>\n",
       "      <td>0.5045</td>\n",
       "    </tr>\n",
       "    <tr>\n",
       "      <th>14</th>\n",
       "      <td>LogisticRegression</td>\n",
       "      <td>4</td>\n",
       "      <td>0.5068</td>\n",
       "    </tr>\n",
       "  </tbody>\n",
       "</table>\n",
       "</div>"
      ],
      "text/plain": [
       "            model_name  fold_idx  accuracy\n",
       "0            LinearSVC         0    0.5026\n",
       "1            LinearSVC         1    0.5020\n",
       "2            LinearSVC         2    0.5057\n",
       "3            LinearSVC         3    0.5068\n",
       "4            LinearSVC         4    0.5056\n",
       "5        MultinomialNB         0    0.4688\n",
       "6        MultinomialNB         1    0.4671\n",
       "7        MultinomialNB         2    0.4733\n",
       "8        MultinomialNB         3    0.4734\n",
       "9        MultinomialNB         4    0.4712\n",
       "10  LogisticRegression         0    0.5050\n",
       "11  LogisticRegression         1    0.5028\n",
       "12  LogisticRegression         2    0.5028\n",
       "13  LogisticRegression         3    0.5045\n",
       "14  LogisticRegression         4    0.5068"
      ]
     },
     "execution_count": 13,
     "metadata": {},
     "output_type": "execute_result"
    }
   ],
   "source": [
    "cv_df = pd.DataFrame(entries, columns=['model_name', 'fold_idx', 'accuracy'])\n",
    "# Mean accuracy of each algorithm\n",
    "cv_df.groupby('model_name').accuracy.mean()\n",
    "cv_df\n"
   ]
  },
  {
   "cell_type": "code",
   "execution_count": 14,
   "metadata": {},
   "outputs": [
    {
     "data": {
      "text/plain": [
       "model_name\n",
       "LinearSVC             0.50454\n",
       "LogisticRegression    0.50438\n",
       "MultinomialNB         0.47076\n",
       "Name: accuracy, dtype: float64"
      ]
     },
     "execution_count": 14,
     "metadata": {},
     "output_type": "execute_result"
    }
   ],
   "source": [
    "cv_df.groupby('model_name').accuracy.mean()"
   ]
  },
  {
   "cell_type": "code",
   "execution_count": 153,
   "metadata": {},
   "outputs": [
    {
     "data": {
      "text/plain": [
       "RangeIndex(start=0, stop=50000, step=1)"
      ]
     },
     "execution_count": 153,
     "metadata": {},
     "output_type": "execute_result"
    }
   ],
   "source": [
    "df_headline.index"
   ]
  },
  {
   "cell_type": "code",
   "execution_count": 23,
   "metadata": {},
   "outputs": [
    {
     "data": {
      "text/plain": [
       "Text(0.5, 15.0, 'Predicted')"
      ]
     },
     "execution_count": 23,
     "metadata": {},
     "output_type": "execute_result"
    },
    {
     "data": {
      "image/png": "[encoded data removed]",
      "text/plain": [
       "<Figure size 432x288 with 2 Axes>"
      ]
     },
     "metadata": {
      "needs_background": "light"
     },
     "output_type": "display_data"
    }
   ],
   "source": [
    "from matplotlib import pyplot as plt\n",
    "model = LinearSVC(C=0.7,multi_class=\"ovr\")\n",
    "\n",
    "#Split Data \n",
    "X_train, X_test, y_train, y_test, indices_train, indices_test = train_test_split(features, labels, df_short_desc\n",
    "                                                                                 .index, test_size=0.33, random_state=0)\n",
    "\n",
    "#Train Algorithm\n",
    "model.fit(X_train, y_train)\n",
    "\n",
    "# Make Predictions\n",
    "#y_pred_proba = model.predict(X_test)\n",
    "y_pred = model.predict(X_test)\n",
    "\n",
    "from sklearn.metrics import confusion_matrix\n",
    "import seaborn as sns\n",
    "\n",
    "conf_mat = confusion_matrix(y_test, y_pred)\n",
    "sns.heatmap(conf_mat, annot=True, fmt='d',\n",
    "            xticklabels=category_id_df_shd.category.values, yticklabels=category_id_df_shd.category.values)\n",
    "plt.ylabel('Actual')\n",
    "plt.xlabel('Predicted')"
   ]
  },
  {
   "cell_type": "code",
   "execution_count": 162,
   "metadata": {
    "scrolled": true
   },
   "outputs": [
    {
     "name": "stdout",
     "output_type": "stream",
     "text": [
      "'POLITICS' predicted as 'SCIENCE' : 3 examples.\n"
     ]
    },
    {
     "data": {
      "text/plain": [
       "44915            are u strategist living on another planet\n",
       "45319                          normalizing a solar eclipse\n",
       "3865     gop want nasa to stop worrying about earth and...\n",
       "Name: headline, dtype: object"
      ]
     },
     "metadata": {},
     "output_type": "display_data"
    },
    {
     "name": "stdout",
     "output_type": "stream",
     "text": [
      "\n",
      "'ENTERTAINMENT' predicted as 'SCIENCE' : 6 examples.\n"
     ]
    },
    {
     "data": {
      "text/plain": [
       "10749    levar burton reading goodnight moon to neil de...\n",
       "41147    how can anyone be antiscience when bill nye an...\n",
       "38457    gal gadot’s seemingly innocent tribute to step...\n",
       "39331    milhouse predicted monday nobel prize winner b...\n",
       "15217       watch blue ivy bid  on art like it no big deal\n",
       "24865    neil degrasse tyson pick apart the science of ...\n",
       "Name: headline, dtype: object"
      ]
     },
     "metadata": {},
     "output_type": "display_data"
    },
    {
     "name": "stdout",
     "output_type": "stream",
     "text": [
      "\n",
      "'ENVIRONMENT' predicted as 'SCIENCE' : 4 examples.\n"
     ]
    },
    {
     "data": {
      "text/plain": [
       "1787     knoxville zoo investigates mysterious death of...\n",
       "4037     stargazer rejoice u get it first international...\n",
       "48031    scientist stumped by thousand of dead fish off...\n",
       "11738    to the surprise of no one nasa predicts  will ...\n",
       "Name: headline, dtype: object"
      ]
     },
     "metadata": {},
     "output_type": "display_data"
    },
    {
     "name": "stdout",
     "output_type": "stream",
     "text": [
      "\n",
      "'WORLDPOST' predicted as 'SCIENCE' : 4 examples.\n"
     ]
    },
    {
     "data": {
      "text/plain": [
       "17490      climate change what do the scientist really say\n",
       "28404        papua new guinea rattled by strong aftershock\n",
       "26955    sergei skripals cat guinea pig dead after inve...\n",
       "30634    newly discovered amelia earhart pic is b milit...\n",
       "Name: headline, dtype: object"
      ]
     },
     "metadata": {},
     "output_type": "display_data"
    },
    {
     "name": "stdout",
     "output_type": "stream",
     "text": [
      "\n",
      "'STYLE' predicted as 'SCIENCE' : 3 examples.\n"
     ]
    },
    {
     "data": {
      "text/plain": [
       "43036           a look back at eminems image over the year\n",
       "45723    goop deletes yet another strange health claim ...\n",
       "2222            start the new year right by organizing now\n",
       "Name: headline, dtype: object"
      ]
     },
     "metadata": {},
     "output_type": "display_data"
    },
    {
     "name": "stdout",
     "output_type": "stream",
     "text": [
      "\n",
      "'WOMEN' predicted as 'SCIENCE' : 2 examples.\n"
     ]
    },
    {
     "data": {
      "text/plain": [
       "25854    zero woman win nobel prize during sadly antiwo...\n",
       "15100    we have liftoff lego set honoring woman of nas...\n",
       "Name: headline, dtype: object"
      ]
     },
     "metadata": {},
     "output_type": "display_data"
    },
    {
     "name": "stdout",
     "output_type": "stream",
     "text": [
      "\n",
      "'SCIENCE' predicted as 'POLITICS' : 8 examples.\n"
     ]
    },
    {
     "data": {
      "text/plain": [
       "32246    hundred of coastal community could face monthl...\n",
       "33351    bobak ferdosi we are far more similar than dif...\n",
       "43715    a highly classified spy satellite ha been dest...\n",
       "25140       a debate on the pro and con of aging and death\n",
       "13465       the march for science is a march for democracy\n",
       "37440    dolphin conversation caught on tape for first ...\n",
       "31245    stephen hawking trump climate policy could tur...\n",
       "1494     everything you need to know to get ready for t...\n",
       "Name: headline, dtype: object"
      ]
     },
     "metadata": {},
     "output_type": "display_data"
    },
    {
     "name": "stdout",
     "output_type": "stream",
     "text": [
      "\n",
      "'SPORTS' predicted as 'POLITICS' : 62 examples.\n"
     ]
    },
    {
     "data": {
      "text/plain": [
       "7302              yankee retiring derek jeters no  on may \n",
       "20051    woman basketball team declined trump white hou...\n",
       "24664    nevada legislature approves  million tax subsi...\n",
       "35508    adam rippon will now totally take mike pences ...\n",
       "35208    report college hoop corruption case poised to ...\n",
       "4064     anthemprotesting qb colin kaepernick is now at...\n",
       "29747    lilly king becomes american hero wagging finge...\n",
       "38084           fbi monitored muhammad ali over muslim tie\n",
       "8942     atlanta falcon strike gold hiring steve sarkis...\n",
       "31738    the staple center will soon bust out a huge st...\n",
       "14931    donovan mitchell us footwear to send powerful ...\n",
       "16922    famed quarterback warren moon hit with sexual ...\n",
       "15784                                  nyc fc    dc united\n",
       "49851    people sent a lot of racist email to ucla afte...\n",
       "26315    mckayla maroney signed confidentiality agreeme...\n",
       "13948    diana taurasi becomes wnbas alltime leading sc...\n",
       "47403    central michigan upset with incredible hail ma...\n",
       "7811     raider punter response to roughing penalty wa ...\n",
       "39525    russian rival offered to lend luge to struggli...\n",
       "39614    miami dolphin michael thomas fight tear while ...\n",
       "41720                        the patriotic act of kneeling\n",
       "13604    jet running back ha creative plan to bring att...\n",
       "49878    tongan flag bearer set himself inspirationally...\n",
       "43987    washington state bill would allow gun in sport...\n",
       "21457    police union decides against boycotting san fr...\n",
       "34018    here why you dont bully a poker pro with  mill...\n",
       "29458    an olympian barely missed out on gold and gave...\n",
       "9080                       dc united    philadelphia union\n",
       "3390        wada hacker leak another batch of athlete data\n",
       "13351    so chris christie might end up replacing mike ...\n",
       "                               ...                        \n",
       "13873    usa hockey general manager jim johannson dy un...\n",
       "9739     steelers linebacker hurt in headon tackle stan...\n",
       "8984     curt schilling say trump eyeing a yearold wa t...\n",
       "35806    nunes finish rousey at ufc  garbrandt dethrone...\n",
       "27015    carson wentz is exceeding even the loftiest ex...\n",
       "799      always dreaming win kentucky derby on sloppy t...\n",
       "18274    gun control advocate send safety lock to eagle...\n",
       "16102          five soccer city making america great again\n",
       "37254    president obama pardon mlb great willie mccove...\n",
       "26884    louisiana sheriff us joe mcknight press confer...\n",
       "17339    wisconsin apologizes for mishandling fan depic...\n",
       "14601    new england patriot player and assistant help ...\n",
       "41851    mirai nagasu say her parent hard work in resta...\n",
       "8263     fifa trump travel ban could hurt u effort to h...\n",
       "30320    mlb avoids work stoppage with lastminute labor...\n",
       "20849    chris christie nabs foul ball at mets game and...\n",
       "21720    progressive group fight vega nfl stadium after...\n",
       "41799    carmelo anthony during team usa singalong sum ...\n",
       "24847    lance armstrong settle  million federal fraud ...\n",
       "11222    u ice dancing team break down after heartbreak...\n",
       "301      trump praise san antonio spur a team that reje...\n",
       "7343     aretha franklin serenaded america with minute ...\n",
       "46068         arizona edge oregon for pac tournament title\n",
       "42909    several eagle player already planning to skip ...\n",
       "33886    steph curry chooses hillary clinton over donal...\n",
       "44267                is medium use hurting student athlete\n",
       "37435    the presidential debate should model themselve...\n",
       "21983    trump administration alternative fact inspires...\n",
       "25151    bryant gumbel thanked donald trump for nfl ran...\n",
       "36708    espn threat of troll not political correctness...\n",
       "Name: headline, Length: 62, dtype: object"
      ]
     },
     "metadata": {},
     "output_type": "display_data"
    },
    {
     "name": "stdout",
     "output_type": "stream",
     "text": [
      "\n",
      "'ARTS' predicted as 'POLITICS' : 59 examples.\n"
     ]
    },
    {
     "data": {
      "text/plain": [
       "43836    tarot reader describe how their client have ch...\n",
       "11078                obama’s next chapter write a new book\n",
       "4263     pussy riot offer advice on how to defy ‘stupid...\n",
       "14684    merriamwebster step in after trump tell americ...\n",
       "38276                           norman rockwell hallelujah\n",
       "3344     the harmonic sorcery of jerry bergonzispotligh...\n",
       "29769    priestdaddy take on priesthood fatherhood and ...\n",
       "5029      year after his death architect’s building are...\n",
       "17555    bizarre photo capture the unreality of the  el...\n",
       "33065    this new york activist want to replace a statu...\n",
       "45744    a brief history of america most controversial ...\n",
       "8056     musician from country affected by trump’s trav...\n",
       "32256    photo of america quirkiest convention will bri...\n",
       "10258    donald trump clearly like reading book if they...\n",
       "31836    obama possible aspiringnovelistinchief once wr...\n",
       "3411               the sartorial genius of georgia okeeffe\n",
       "41115    the strippeddown history of underwear from wha...\n",
       "42408    donald trump gave the pope a sculpture his hol...\n",
       "4761     ciswhitemalecom redirects to jonathan franzens...\n",
       "5820     a sketch by donald trump is headed to auction ...\n",
       "29598    philip pullman is dropping new antiauthoritari...\n",
       "4349     a book of hillary clinton personal essay is co...\n",
       "23826    that time the hitchhiker’s guide to the galaxy...\n",
       "7919     yiyun li to be orphaned from my native languag...\n",
       "1967                        lost building of new york city\n",
       "47325      kehinde wiley wa destined to paint barack obama\n",
       "39987    pulitzer prize winner tony kushner is writing ...\n",
       "33254                                    tondo tondo tondo\n",
       "11551    people have book recommendation for trump if h...\n",
       "37790    dr seuss wa into taxidermy in the most seussic...\n",
       "38815    oops ivanka and jared failed to disclose their...\n",
       "20947        tip for choosing the best idea for your novel\n",
       "37643    the national poetry day hashtag is getting a l...\n",
       "41800    this instagram account is documenting every an...\n",
       "27703                                            the first\n",
       "17260    naomi klein is writing an antitrump manifesto ...\n",
       "39532    ivanka trump will skip her book tour due to et...\n",
       "6526     beyoncés pregnancy photographer is turning his...\n",
       "31683    student around the country are sending letter ...\n",
       "17695    now you can protest donald trump’s wealth in t...\n",
       "45499    someone made erotic art about trump meeting th...\n",
       "33380                                             much ado\n",
       "22652    one poster capture just how remarkable a hilla...\n",
       "15419    heartbreaking and free poster honor the woman ...\n",
       "44454    a play about a small pennsylvania city is what...\n",
       "41300    how the hell do you appraise a crappy drawing ...\n",
       "7567                            so thats what ok stand for\n",
       "17907     republican lawmaker sign letter in support of...\n",
       "13439    bernie sander new book take corporate medium t...\n",
       "21609    macarthur foundation announces it  class of ge...\n",
       "13912    bob dylan didnt attend nobel prize meetandgree...\n",
       "9077     fancy food market eataly is going to help save...\n",
       "7413     sadly puppy isnt merriamwebsters word of the year\n",
       "23442    in solitary confinement for a crime he didnt c...\n",
       "42643    no putin piano recital doesnt make him any softer\n",
       "34132    most notable quote of  trump saying he could s...\n",
       "35649    after  year yoko ono is finally credited for c...\n",
       "38855    disturbing photo sum up the horror that ha bee...\n",
       "10568    this new york activist want to replace a statu...\n",
       "Name: headline, dtype: object"
      ]
     },
     "metadata": {},
     "output_type": "display_data"
    },
    {
     "name": "stdout",
     "output_type": "stream",
     "text": [
      "\n",
      "'QUEER VOICES' predicted as 'POLITICS' : 52 examples.\n"
     ]
    },
    {
     "data": {
      "text/plain": [
       "22468    gay politician call for yuengling beer boycott...\n",
       "44302    donald trump wa about to make jerry falwell jr...\n",
       "43416                                        we are still \n",
       "28607    betsy devos wont protect lgbt student so we ha...\n",
       "1990     kentucky governor call kim davis an inspiratio...\n",
       "46860    candice wiggins say wnba wa toxic to her for b...\n",
       "25826    cop sue st louis county after allegedly being ...\n",
       "11406    hillary clinton blast north carolina meanspiri...\n",
       "26078    yes there actually a straight life matter rall...\n",
       "6947     here the perfect candidate to replace north ca...\n",
       "41026    are some democrat going soft on lgbtq right in...\n",
       "29524    congratulation – and thank you – to these pion...\n",
       "1597     mike penny claiming he care about the most vul...\n",
       "23965    illinois gop rep doesnt get why transphobic ad...\n",
       "8309     these men became house flipper so they could s...\n",
       "46581    tim kaine keynote human right campaign nationa...\n",
       "3597     how my uncle military photo inspired my projec...\n",
       "23207    behind the issue sinister wisdom  lesbianima r...\n",
       "21979                                   outfest  highlight\n",
       "40066    federal court in seattle also rule against tru...\n",
       "30861    jason collins say he came out to the clinton b...\n",
       "2300     historic gathering of api transmasculine peopl...\n",
       "24938    my child is they and it society not language t...\n",
       "19531    donald trump jr sends offensive tweet about ‘t...\n",
       "38489    st louis cardinal featuring antilgbt speaker a...\n",
       "14980                something simple you can do right now\n",
       "14791    jeremiah brent share  tip for entertaining on ...\n",
       "38853    donald trump response to hurricane harvey divi...\n",
       "29220    texas governor lash out at nfl over threat of ...\n",
       "11009    trump transition official religious freedom or...\n",
       "4744     donald trump will never be restrained we must ...\n",
       "23295    why is ice closing it only detention center fo...\n",
       "662      here’s what happened when i said i couldn’t be...\n",
       "26656    what the trump presidency mean for people livi...\n",
       "7967     supreme court cake case could set america back...\n",
       "2464     a a lesbian americanbritish couple our hope fo...\n",
       "6296     this photo hidden history make me want to figh...\n",
       "22231    sad north carolina bigot asked paypal to give ...\n",
       "33153    civil right act protects lgbtq worker federal ...\n",
       "16459    want to boycott trump business now there an ap...\n",
       "34312    nhl’s draft decision fuel sad message hockey i...\n",
       "35910    adam rippon is changing his tune on mike penny...\n",
       "17686            sadly more surprising reason why we smoke\n",
       "5156              pittsburgh pridefest the resistance year\n",
       "40006    new hampshire house vote to protect transgende...\n",
       "21955                  being a transwoman in trump america\n",
       "2497     kerry washington slam white house that literal...\n",
       "6534     joe biden urge lgbtq right activist to hold tr...\n",
       "48981    doug jones fire back at roy moore after campai...\n",
       "45788    why education secretary nominee betsy devos is...\n",
       "27097    you are not alone celebs stand up for trans ki...\n",
       "6126     miriam benshalom the woman who fought don’t as...\n",
       "Name: headline, dtype: object"
      ]
     },
     "metadata": {},
     "output_type": "display_data"
    },
    {
     "name": "stdout",
     "output_type": "stream",
     "text": [
      "\n",
      "'MEDIA' predicted as 'POLITICS' : 161 examples.\n"
     ]
    },
    {
     "data": {
      "text/plain": [
       "31902    yearold grill mike penny on whether he is soft...\n",
       "32490    donald trump is a threat to press freedom unkn...\n",
       "7187     breitbart news want trump to know his base is ...\n",
       "49021    journalist lash out a georgia campaign bar med...\n",
       "11239    ap deems term altright a publicrelations devic...\n",
       "44644    donald trump hometown newspaper just burned hi...\n",
       "12782    twitter get into trump conspiracy spirit with ...\n",
       "49066    ahmed naji  month of detention is  month too many\n",
       "27738    presidential debate moderator are feeling the ...\n",
       "32309    rachel maddow it seems clear trump is now unde...\n",
       "10597    glenn beck call james comeys letter one of the...\n",
       "39844    tomi lahren blame liberal for tide pod challen...\n",
       "21337    olbermann is convinced a grand jury is probing...\n",
       "41253    sunday show shirk climate expert after a fires...\n",
       "32350    donald trump victory challenge the power of th...\n",
       "4276     trump will lunch with the enemy ahead of his c...\n",
       "12883    the trump white house still hasnt made peace w...\n",
       "36175    here the story behind this summer incredible n...\n",
       "10077    the economist sound off on trump with cover sh...\n",
       "36236    donald trump campaign aim to replace the media...\n",
       "18883    pope irresponsible journalism is a form of ter...\n",
       "36911             donald trump exposed on new yorker cover\n",
       "14396    fox news give donald trump a pas on birther cr...\n",
       "47244         how will video game fare in the age of trump\n",
       "31368    newly published email reveal journalist encour...\n",
       "9640     senator asks attorney general for any evidence...\n",
       "41590    jake tapper really doesnt care if donald trump...\n",
       "45882    hillary clinton warms to fox news a general el...\n",
       "39227    meet the press chuck todd will disqualify most...\n",
       "18809    is trump fatigue real how reader engagement ha...\n",
       "                               ...                        \n",
       "47996              national enquirer turn on michael cohen\n",
       "20745    homeland security to compile a database of jou...\n",
       "47869    cnn chief jeff zucker rip donna braziles disgu...\n",
       "22548    don lemon on sean spicer everyone is dumber fo...\n",
       "3154     jeb bush warns trump stop saying thing that ar...\n",
       "38447    a mysterious company bought la weekly and just...\n",
       "27958    trump’s attack on jeff session test breitbart’...\n",
       "41241    blistering editorial in conservative new hamps...\n",
       "31121    a running list of coward courtier striver and ...\n",
       "22655    sean hannity trump need to ‘purge’ the ‘obama ...\n",
       "856      fox news bench andrew napolitano over trump wi...\n",
       "44395    trump coauthor white house now deeply concerne...\n",
       "1479                    silencing war criticism in the usa\n",
       "8553     trump war on the medium echo  but the press ma...\n",
       "47583    laura ingraham would seriously consider white ...\n",
       "3455     in joke few find funny czech president wave fa...\n",
       "1915     lester holt proved debate moderator can factcheck\n",
       "25004       why i won’t support medium’s new paid platform\n",
       "44685    andrea tantaros want roger ailes fox news exec...\n",
       "5261     donald trump ha brought the fight for press fr...\n",
       "14653    the muzzling of the cdc seven word banned by t...\n",
       "25766    from russia with a plan after his press confer...\n",
       "15752    fox news revenue nosedive despite trump consta...\n",
       "47232    remembering jimmy breslin and a newspaper worl...\n",
       "16242                feeding people and democracy to death\n",
       "17116    tweet will get twice a long and people are afraid\n",
       "13582    donald trump phony outrage could get journalis...\n",
       "15083    clinton campaign is trying a lot harder with h...\n",
       "10054    breitbart fire reporter over her islamophobic ...\n",
       "6646     donald trump will meet with the new york time ...\n",
       "Name: headline, Length: 161, dtype: object"
      ]
     },
     "metadata": {},
     "output_type": "display_data"
    },
    {
     "name": "stdout",
     "output_type": "stream",
     "text": [
      "\n",
      "'HEALTHY LIVING' predicted as 'POLITICS' : 173 examples.\n"
     ]
    },
    {
     "data": {
      "text/plain": [
       "47765    hurricane harvey public health impact extends ...\n",
       "27174    the mental toll of repeal how the aca protects...\n",
       "33110            here are  myth about diversity in science\n",
       "45482    very few health condition should disqualify yo...\n",
       "34853     white privilege help explain the opioid epidemic\n",
       "9773     your office ha a microbiome and it might make ...\n",
       "4390     why are we questioning opiate replacement medi...\n",
       "49766     of the absolute worst holiday stressor and ho...\n",
       "2369     health care cost expected to rise because of n...\n",
       "38645    tyson chicken recalled over possible hard plas...\n",
       "35537         quarter of republican want to keep obamacare\n",
       "7769     expanding the emergency room model central car...\n",
       "41418         how i afford both avocado toast and my house\n",
       "20280    what you need to know about medicare before op...\n",
       "2508     cheap drug may have turned this indian lake in...\n",
       "366                    fact everyone should know about hpv\n",
       "35891                     this is your body on dry january\n",
       "21528                         the smell of my mother house\n",
       "48274    u supreme court ruling threatens massive talc ...\n",
       "28201         how to emotionally recover from the election\n",
       "7006     ohio county claim top spot in america’s opioid...\n",
       "24       workaholism doesnt make you more productive he...\n",
       "38189    the armed octopus deconstructing the opioid ep...\n",
       "2813     how politics is changing conversation between ...\n",
       "19343    a medical journal asked both candidate about h...\n",
       "42885    how gun shop could play a crucial role in prev...\n",
       "7529     trump pick to lead health agency call epipen i...\n",
       "45355        shame of our city neglect of the mentally ill\n",
       "30956    why new drug approval are at a sixyear low in ...\n",
       "28559    obamacare signup challenge proving the law is ...\n",
       "                               ...                        \n",
       "23452    even the young and invincible need health insu...\n",
       "38642    pot product are now so potent they can trigger...\n",
       "18575                          zip code of medical destiny\n",
       "4124     thank you texas rep shawn thierry for addressi...\n",
       "26051    most medicaid enrollee are happy with coverage...\n",
       "31405    my recent firsthand lesson understanding chall...\n",
       "980      what is mindful eating and how do you practice it\n",
       "28263       control your todo list dont let it control you\n",
       "31283    florida governor say u is not doing enough to ...\n",
       "13016     conversation starter for actually meaningful ...\n",
       "12574    what the house gop isn’t telling you about the...\n",
       "15258    people may never fully recover from a real bro...\n",
       "39480    most u dermatologist receive money from drug c...\n",
       "23690         trap you fall into that limit your happiness\n",
       "22802    if it is an inherited condition then who is to...\n",
       "1615     baltimore top doctor why arent we treating gun...\n",
       "32560    whichever way ‘repeal and replace’ blow pharma...\n",
       "28029    lead poison child in la neighborhood rich and ...\n",
       "33909                 obamacare  three key for improvement\n",
       "30880    kentucky trial could make state first in u wit...\n",
       "19268    sugary drink tax across the country are planti...\n",
       "23422    to president trump from a pediatrician please ...\n",
       "26523    rural cambodia us guppy fish to fight mosquito...\n",
       "2956     what feeling overwhelmed may be telling you an...\n",
       "46118     epipen alternative exist and they may be cheaper\n",
       "29816    polio could be stopped worldwide by year end s...\n",
       "45706    trapped in a cycle of harassment a a chronical...\n",
       "15971         why is measles making an unpleasant comeback\n",
       "42150    millennial duck syndrome the fakedsuccess cycl...\n",
       "12412    an apology expert analyzes the explanation for...\n",
       "Name: headline, Length: 173, dtype: object"
      ]
     },
     "metadata": {},
     "output_type": "display_data"
    },
    {
     "name": "stdout",
     "output_type": "stream",
     "text": [
      "\n",
      "'COMEDY' predicted as 'POLITICS' : 140 examples.\n"
     ]
    },
    {
     "data": {
      "text/plain": [
       "44605    there wa no audio so we captioned the trump an...\n",
       "49489                       facebook in real life politics\n",
       "9873     donald trump tweet are so whiny they got anoth...\n",
       "41185    wilmer valderrama cover american refugee in me...\n",
       "20770    commuter barbie listens to npr and ha no time ...\n",
       "7167     george carlin recorded a joke about mass fatal...\n",
       "43043    we got the exclusive look at hillary dnc speec...\n",
       "28643     thing that lasted longer than scaramucci in t...\n",
       "12346               everything i did while i wa unemployed\n",
       "20698    smoldering clintonkaine campaign poster stokes...\n",
       "4833     jordan klepper destroys gop bill that sell goo...\n",
       "45975    watch all these vine in a row and i promise yo...\n",
       "8210     this trump protest sign reminds u the resistan...\n",
       "20504    black friday sale on white house official a yu...\n",
       "5115     whitehousescentedcandles prove that something ...\n",
       "9530        deserves this beyond scared straight treatment\n",
       "25054    father of trump tower climber also ha an impor...\n",
       "22845    the president show take u inside the twisted m...\n",
       "45282    trumpafamousquote finally put all those great ...\n",
       "46024    here are fitting haiku for the member of presi...\n",
       "10060    yale most intrepid newspaper sure isnt endorsi...\n",
       "6087                 trumplethinskin a president day fable\n",
       "30477    let these jewish woman explain how trump is li...\n",
       "9370     the fictional moment donald trump wa told he c...\n",
       "24677    trumpsutawney kellyanne conway delivers presid...\n",
       "20048    finally the guide to catching your own hillary...\n",
       "11746    thirsty trump desperate dash for water ha ever...\n",
       "42452    obama’s official portrait is already the best ...\n",
       "45113    the point that everyone is missing with this t...\n",
       "21479    what you write in your email versus what they ...\n",
       "                               ...                        \n",
       "41872    dan savage donald trump just became the ahole ...\n",
       "16049    watch this rubber chicken sing despacito and r...\n",
       "3545     michael bolton singing john boltons scary word...\n",
       "10483    rudy giuliani cant figure out airpods in price...\n",
       "17316    bernie sander is what paul ryan see when he cl...\n",
       "25246    mike penny literally shortcircuited trying to ...\n",
       "38500    paul ryans super weird new action hero video b...\n",
       "384      what if climate change denier used the same lo...\n",
       "6249     for the first time in  billion year the univer...\n",
       "40773    trumpcabinetband is how twitter stay positive ...\n",
       "34861    guy creates trump inauguration flyer we should...\n",
       "3872     this moose strike a blow against the takeover ...\n",
       "28168    alec baldwin trump ha a plan for pardoning pau...\n",
       "17831                     sign you’re being a total bannon\n",
       "32871    mitch mcconnell looking queasy with trump prom...\n",
       "33639    behold trump cabinet member a sesame street ch...\n",
       "38794    sam bee’s show explains the gop tax plan in te...\n",
       "32591    people on twitter prepare for trump second yea...\n",
       "13664    donald trump reveals james comeys golden repla...\n",
       "19802    if donald trump staff were spokespeople for ot...\n",
       "3473     is donald trump president or have i suffered s...\n",
       "3833     the president show us a focus group to determi...\n",
       "24376    white house maganomics visual aid fly off the ...\n",
       "20143    watch facebooks emojis tell you how they reall...\n",
       "13859    the president show sign a bunch of executive o...\n",
       "34071    proof that human alex jones is most certainly ...\n",
       "25394    little girl meet trump impersonator doesnt hol...\n",
       "39241    gael garcia bernal rip donald trump rhetoric o...\n",
       "12654    terry tate take down donald trump over his dis...\n",
       "19738    these kid portrait of the trump administration...\n",
       "Name: headline, Length: 140, dtype: object"
      ]
     },
     "metadata": {},
     "output_type": "display_data"
    },
    {
     "name": "stdout",
     "output_type": "stream",
     "text": [
      "\n",
      "'EDUCATION' predicted as 'POLITICS' : 56 examples.\n"
     ]
    },
    {
     "data": {
      "text/plain": [
       "42025    democracy requires citizenship education now m...\n",
       "49986    huffpost welcome honorary take your child to w...\n",
       "25697    devos should stop stalling enforce obama rule ...\n",
       "35477    what did we learn from the betsy devos confirm...\n",
       "44126    what it mean when a school district declares i...\n",
       "43106    betsy devos government suck and we don’t fire ...\n",
       "36792    betsy devos and public school visit a brief guide\n",
       "14441    school stand up for trans student a gop withdr...\n",
       "34302    teacher swarm kentucky capitol to protest pens...\n",
       "24837    partisan divide about college reflects our dis...\n",
       "11121                          devoss disqualifying record\n",
       "49186         arizona teacher are abandoning ship here why\n",
       "7353     we can’t wait solution to k sexual harassment ...\n",
       "64       housing crisis in california force more studen...\n",
       "9026     norm pattiz accused of sexual harassment to re...\n",
       "22094    if state takeover of new orleans school worked...\n",
       "27247    pa charter management ceo not publicly account...\n",
       "10392    calif high school student win election on anti...\n",
       "17349     colorado professor condemn donald trump rheto...\n",
       "39578                                 dear secretary devos\n",
       "29457                              the altright curriculum\n",
       "8313     why the strategy to end discrimination against...\n",
       "30801    the problem with public school isn’t low test ...\n",
       "38355    how a betsy devos department of education coul...\n",
       "11509    radio mogul under pressure to resign from powe...\n",
       "10791        devos stand with scoundrel not student  part \n",
       "34756    judicial negligence compound political neglige...\n",
       "22741    how paul tough helping child succeed helped th...\n",
       "14201    stanford new hard liquor ban actually isnt unu...\n",
       "33975    tentative deal reached to end west virginia te...\n",
       "20836    how betsy devos ignored and targeted michigan ...\n",
       "21274      yale revers course on symbol of white supremacy\n",
       "48856    the political is personal how the gop tax on t...\n",
       "4312     immigration crackdown taking heavy toll on cal...\n",
       "47118        milo yiannopoulos stay the hell off my campus\n",
       "21073    i am a public school teacher give me all the r...\n",
       "28794    do girl have access to team sport many califor...\n",
       "29190    forget cheat ‘sheet’ — student outwits profess...\n",
       "20421         educational test still incentivizes cheating\n",
       "48799    jargon legalese and the bluebook my conversati...\n",
       "6553     student protestors and their faculty ally at t...\n",
       "5443                  what do we do with the flat earthers\n",
       "22538    west virginia teacher are making sure their st...\n",
       "19351    voucher champ take note illinois’ m tax credit...\n",
       "41992                                       teaching trump\n",
       "15650    newly reelected new york city mayor decides hi...\n",
       "17744    pearson botch mississippi testing again missis...\n",
       "26797                           i am not hostile to change\n",
       "34036    an open letter to the secretary of education d...\n",
       "35872               millennials are uncertain not entitled\n",
       "37019    teaching gatsby under obama wa eerie teaching ...\n",
       "12070         teaching climate science in the age of trump\n",
       "292                 devos stand with scoundrel not student\n",
       "24845    what dc school won’t report many naep subgroup...\n",
       "40242    must we accept trumpism and a second rate educ...\n",
       "32772      returning to class the morning after a massacre\n",
       "Name: headline, dtype: object"
      ]
     },
     "metadata": {},
     "output_type": "display_data"
    },
    {
     "name": "stdout",
     "output_type": "stream",
     "text": [
      "\n",
      "'ENTERTAINMENT' predicted as 'POLITICS' : 173 examples.\n"
     ]
    },
    {
     "data": {
      "text/plain": [
       "15055    mila kunis expertly troll mike penny every sin...\n",
       "22320    emilia clarke should never try to imitate chew...\n",
       "27739    jon voight claim lincoln is smiling knowing am...\n",
       "21015    ilana glazer ha no problem firing men for sexu...\n",
       "36811    boyd tinsley to hate group in charlottesville ...\n",
       "37787    ally sheedy know you still think of her a an s...\n",
       "8157     ricky gervais stand up for truth in the age of...\n",
       "31291    wyclef jean troll donald trump in if i wa pres...\n",
       "7813     george hw bush resurfaces to toss out super bo...\n",
       "24574    doe the party in power determine the monster i...\n",
       "28088    assassination of gianni versace is the best ry...\n",
       "20513    how e tried and failed to bring the metoo move...\n",
       "12656     year ago to the day doctor who predicted alte...\n",
       "43826    donald trump may actually enjoy jim carreys la...\n",
       "36344    rightwing conspiracy theory about alabama elec...\n",
       "11740    rosie odonnell tweet up an antitrump storm dur...\n",
       "7283     ozzy osbourne say separation from sharon wa ju...\n",
       "24851    jimmy fallon offer up weak excuse for chummy i...\n",
       "29117    ‘the simpsons’ troll donald trump with message...\n",
       "12402    after one hell of a year aaron carter is ready...\n",
       "16022    camille cosby call opposing counsel totally un...\n",
       "48911    the director of tangerine is back with the flo...\n",
       "14490    radiohead sue lana del rey for copyright infri...\n",
       "17703                even doctor who is trolling trump now\n",
       "34489    donald trump make dubious claim about inaugura...\n",
       "34535    sxsw criticized over deportation warning to fo...\n",
       "45233    andy cohen think trump is pretty much just a r...\n",
       "28090    mark hamill shuts down trump latest complaint ...\n",
       "46275    olivia wilde sneakily reveals baby sex while b...\n",
       "39212    mel gibson sure hope weinstein misconduct repo...\n",
       "                               ...                        \n",
       "32499    riz ahmed and his the night of lawyer john tur...\n",
       "3126     this is u finale delayed by a week for trump s...\n",
       "33685    guitarist caleb keeter say seeing vega shootin...\n",
       "6761     weinstein company may be sold to firm led by d...\n",
       "23897    people have strong reaction to barack and mich...\n",
       "37740    avril lavigne slam mark zuckerberg for bullyin...\n",
       "42989    michael moore claim donald trump ha already ma...\n",
       "30069    joan baez tear into future dictator donald tru...\n",
       "8619     edward snowden ass technology role in our life...\n",
       "1638     jim carreys new blooddripping portrait take ai...\n",
       "33926    joy behar responds to michael flynn guilty ple...\n",
       "46093    leonardo dicapriobacked project launch to help...\n",
       "28593    for hoda kotb everything is happening right on...\n",
       "16546        comedy central donald trump talk show is here\n",
       "44483    zach braff ha learned he the face of russian b...\n",
       "11252    craig robinson explains the value of family in...\n",
       "44751    the real story behind katharine graham and the...\n",
       "21317    celebs express anger after donald trump announ...\n",
       "47206    roger moore came to hate the way society glori...\n",
       "4914     allison janney talk about the one positive thi...\n",
       "48125    guy review of a long island rest stop is worth...\n",
       "47351    the truly uncool thing transformer  doe to ant...\n",
       "16444    lady gaga call out melania trump’s hypocrisy s...\n",
       "35400    harvey weinstein fired from his production com...\n",
       "3024     howard stern say replaying trump tape would be...\n",
       "39548    the price is right contestant freak out after ...\n",
       "39592    hero pair trump team with real housewife to ge...\n",
       "30570            suzanne somers say shes happy about trump\n",
       "28217    rosie o’donnell open up about feeling ‘complet...\n",
       "10131    trump supporter thought a fake station called ...\n",
       "Name: headline, Length: 173, dtype: object"
      ]
     },
     "metadata": {},
     "output_type": "display_data"
    },
    {
     "name": "stdout",
     "output_type": "stream",
     "text": [
      "\n",
      "'ENVIRONMENT' predicted as 'POLITICS' : 103 examples.\n"
     ]
    },
    {
     "data": {
      "text/plain": [
       "48520    trump administration move to weaken offshore s...\n",
       "19278    here what we know about the florida key after ...\n",
       "4135     in massachusetts protester balk at pipeline co...\n",
       "40349    phoenix az a blue city in a red state is going...\n",
       "10627    drone are bugging seal pupping on a california...\n",
       "35674    u take strong stand against rhino poaching wit...\n",
       "21200    dakota access pipeline protest sweep across co...\n",
       "42057    regenerative appalachia storytelling and song ...\n",
       "38517    california get federal emergency declaration f...\n",
       "17536    check out all these doggos enjoying the bomb c...\n",
       "47435    to presidentelect trump let not handoff the us...\n",
       "48889                             bar war climate in court\n",
       "14740    dear president obama you must do this bold cli...\n",
       "11792    major grassroots victory last coal export term...\n",
       "31735    texan ride out the fury of the storm inside a ...\n",
       "35464    what if trump and xi were to see eye to eye on...\n",
       "6347     jerry brown asks donald trump for california s...\n",
       "4180              pet left in hot car is everyones problem\n",
       "28543    in europe a solidarity march for science — and...\n",
       "3485     a better ice year for churchill bear but what ...\n",
       "1927     west virginia revoke approval of mountain vall...\n",
       "46269    climate change is the real job killer not the ...\n",
       "5326     it the first climate lawsuit to make it this f...\n",
       "38743    if we want to stop climate change were going t...\n",
       "45943               state and city can save the paris pact\n",
       "24109    much of america will kick off  with record low...\n",
       "39817    boomerang tuesday  reason election day wa a wi...\n",
       "14950    in the week before trump take office obamas ma...\n",
       "2793                   trump escape from his paris dilemma\n",
       "27764    meet gracie glacier national park’s lovable ‘b...\n",
       "                               ...                        \n",
       "5536     if the white house wont fight climate change i...\n",
       "35969    epa slam trump climate change policy — by acci...\n",
       "29487       how washington blew it chance for a carbon tax\n",
       "39338                         public land is a civil right\n",
       "34358    puerto rico plan to have the light back on by ...\n",
       "47160      trump victory mean goodbye to appalachian trail\n",
       "10013    wealthy donor give  million to standing rock l...\n",
       "21791                                     who charmed whom\n",
       "1589     trump and pruitt to scrap major climate action...\n",
       "12057    truth or lie separating fact from fiction in t...\n",
       "734      zinke aim to shave national monument — except ...\n",
       "32468    trump’s laughing stock climate change argument...\n",
       "3759          the u requires an energy technology strategy\n",
       "8756                              the limit of engineering\n",
       "47171    sinking island pass fundraising goal after tru...\n",
       "24723    is it insensitive to discus climate change rig...\n",
       "2968     sea turtle named bank on the mend after swallo...\n",
       "8915     no palm oil is not responsible for  of global ...\n",
       "6046     gatlinburg ablaze here how you can help wildfi...\n",
       "4804     after nine year of effort a cooperative wind p...\n",
       "16580    la set an example of environmental resistance ...\n",
       "36567    scotland investigating trump resort damage to ...\n",
       "27993    veteran v trump pipeline will never be built w...\n",
       "7879     u withdrawal from the paris agreement misreads...\n",
       "12907    trump administration denies endangered specie ...\n",
       "48594           thirty year of thirdstage environmentalism\n",
       "28052    check out these outofthisworld photo while noa...\n",
       "49797              is donald trump our secret climate hero\n",
       "10365    trump ethical storm  environmental appointee w...\n",
       "14078      the renewable energy genie is out of the bottle\n",
       "Name: headline, Length: 103, dtype: object"
      ]
     },
     "metadata": {},
     "output_type": "display_data"
    },
    {
     "name": "stdout",
     "output_type": "stream",
     "text": [
      "\n",
      "'WORLDPOST' predicted as 'POLITICS' : 271 examples.\n"
     ]
    },
    {
     "data": {
      "text/plain": [
       "26750                         news roundup for september  \n",
       "42944    exit poll show uk conservative set to lose maj...\n",
       "12186    british defense secretary michael fallon resig...\n",
       "48059               cyber attack cripple company worldwide\n",
       "7107           the real economic cost of accepting refugee\n",
       "15843    governor gone wild mexico face a lost generati...\n",
       "46725    uruguay first country in the world to legally ...\n",
       "24492    in russia state tv and the internet tell a tal...\n",
       "7064     trump apprenticeship program should help train...\n",
       "23399    jewish advocate slam putin for implicating jew...\n",
       "11815                              what next for kurdistan\n",
       "16706    record number of venezuelan seek asylum in the...\n",
       "2307      way in  day here how trump ha threatened huma...\n",
       "28634       photo show the calais jungle going up in flame\n",
       "47220    there almost no chance of meeting paris climat...\n",
       "46742    major power warn trump over middle east peace ...\n",
       "3335     defeating terrorism requires recognition of we...\n",
       "22262    president bashar alassad trump travel ban doe ...\n",
       "41637    with more civilian death reported each week th...\n",
       "31271    former bosnian croat official on trial for war...\n",
       "32079    a belated american cry to rescue the two state...\n",
       "19379    u ally threaten retaliation over trump tariff ...\n",
       "12761    british parliament to debate withdrawing donal...\n",
       "45711    trump’s syria strike put america at the precip...\n",
       "39199    using quality improvement approach for better ...\n",
       "27608    mr trump a a muslim immigrant mother im terrif...\n",
       "4139     marine le pen literally stole part of a speech...\n",
       "37315    on election day the middle east is watching  a...\n",
       "10397    rick perry took chartered jet day before price...\n",
       "25235    stepping up the fight against money laundering...\n",
       "                               ...                        \n",
       "40884                                     remembering dina\n",
       "20806           putin say he ready to cooperate with trump\n",
       "49710    a trump withdraws from the world nonstate netw...\n",
       "49708    harvard biologist just demonstrated the most e...\n",
       "30115                         merkels fourth term in doubt\n",
       "1914     china map out how to deal with donald trump an...\n",
       "47471    mexican president enrique pena nieto accused o...\n",
       "20122    uk police investigating letter laying out poin...\n",
       "38965    un pleads for truce in syria to prevent a mass...\n",
       "13555                                            pardon me\n",
       "17967    trump’s apprenticeship program is a good thing...\n",
       "15759    ha society become desensitized to the pain inf...\n",
       "47877    north korea accuses cia of biochemical plot ag...\n",
       "34155    people rally around french lawmaker hit with r...\n",
       "25705                                   what land day mean\n",
       "25710    malaysia outlaw socalled fake news with jail o...\n",
       "14017    u expels  russian diplomat close two compound ...\n",
       "49342    trump and other leader clash on trade climate ...\n",
       "32995                     north korea nuke and negotiation\n",
       "11589     another light go out in bahrain a al wasat close\n",
       "41931    how armenia is trying to stop sexselective abo...\n",
       "22389    mass killer breivik loses human right case aga...\n",
       "38184    pope francis urge america to care for it dream...\n",
       "21281    ethiopia to release all political prisoner in ...\n",
       "37351                            news roundup for august  \n",
       "5866     this life isnt worth a damn the precarious exi...\n",
       "35818    khamenei adviser mock inexperienced trump say ...\n",
       "2947     trump break the ice with china xi in letter se...\n",
       "37433    how blocking the saudi arm deal can help stop ...\n",
       "22125    we arent doing enough to help syrian refugee b...\n",
       "Name: headline, Length: 271, dtype: object"
      ]
     },
     "metadata": {},
     "output_type": "display_data"
    },
    {
     "name": "stdout",
     "output_type": "stream",
     "text": [
      "\n",
      "'PARENTS' predicted as 'POLITICS' : 42 examples.\n"
     ]
    },
    {
     "data": {
      "text/plain": [
       "26331    bus driver build student with wheelchair a ram...\n",
       "44542                     growing up isnt a bad a it seems\n",
       "42573    what i want to be able to tell my child about ...\n",
       "46398    school celebrates crossing guard who served sa...\n",
       "37503                    mothering mistake make u stronger\n",
       "41577    the number of baby named barack is back on the...\n",
       "25533               tale of anaphylaxis from the spin bike\n",
       "28813    how to talk with child about la vega in a way ...\n",
       "23822                                    our american life\n",
       "28930    tip for keeping grandparenting the great gig t...\n",
       "9362         will i ever share my bed with a partner again\n",
       "8928                              down syndrome a disaster\n",
       "14350    parent create teachable moment at immigration ...\n",
       "44099    liar liar pant on fire making kid say sorry wh...\n",
       "4672     bighearted iowa principal get head shaved to b...\n",
       "15291    to my meanttobes a letter to my failed ivf embryo\n",
       "7875                 let demand equal right for father day\n",
       "34301    student give passionate speech on why betsy de...\n",
       "2134                       merry christmas even if it hard\n",
       "35870                          this adulting thing is hard\n",
       "40933    legal protection for nursing mom are on the ch...\n",
       "39633      the real reason i had a drugfree birth im cheap\n",
       "45780    these centuriesold flax baby bed are helping t...\n",
       "49716        trying to be a good dad in the age of bad men\n",
       "16402                            put on your damn swimsuit\n",
       "30129    why i am no longer ashamed to breastfeed in pu...\n",
       "15040    hero school bus driver evacuates  kid before b...\n",
       "18654        strategy to help your child cope with divorce\n",
       "31702    woman in labor stop by polling place to vote e...\n",
       "31665    to our student after the confirmation of betsy...\n",
       "31884    preserving a generation goodness and decency d...\n",
       "12378                           fighting for real hope in \n",
       "46819                      finding a father for father day\n",
       "17271    cafeteria worker resigns over school district ...\n",
       "32568    mark zuckerberg say hell take two month of pat...\n",
       "12146                                               freeze\n",
       "18314    these are the best and worst city to raise a f...\n",
       "462                            dear target you complete me\n",
       "12273    yearold girl composes song based on hillary cl...\n",
       "18487    science ha maybe found a way to help colicky b...\n",
       "20440                               the passionate stepmom\n",
       "25440    i want gold star for all the thing i do for my...\n",
       "Name: headline, dtype: object"
      ]
     },
     "metadata": {},
     "output_type": "display_data"
    },
    {
     "name": "stdout",
     "output_type": "stream",
     "text": [
      "\n",
      "'BUSINESS' predicted as 'POLITICS' : 120 examples.\n"
     ]
    },
    {
     "data": {
      "text/plain": [
       "39118    exxon adviser resigns over oil giant targeted ...\n",
       "41603        layoff near at carrier factory saved by trump\n",
       "26940    the sec just made the case for divesting from ...\n",
       "17083    trump threatens bmw with border tax on car bui...\n",
       "1877     restricting immigration won’t make american in...\n",
       "6269              why janitor get noncompete agreement too\n",
       "28       for consumer problem sometimes the best advoca...\n",
       "10702    rat in the cellar the american food industry s...\n",
       "33183         winning ticket in  million powerball lottery\n",
       "985      well fargo account scandal prompt criminal inv...\n",
       "41395     freelance job anyone can do to make money on ...\n",
       "28418                             airbnb sue new york city\n",
       "29555    put your money where your mouth is vote with y...\n",
       "21152    elon musk tesla spacex join company opposing d...\n",
       "3481                         bitcoins big ethereum problem\n",
       "8834     usda spare poultry worker faster line speed bu...\n",
       "18612    trump’s usda could make hog workers’ job even ...\n",
       "24459     lesson money diarist learned after tracking t...\n",
       "5757     the antidiversity memo leaked out of google is...\n",
       "7388           american city losing the most job this year\n",
       "11271    new research show that were wired to take the ...\n",
       "6093      asian market take a tumble after u stock decline\n",
       "41270    everything you ever wanted to know about holid...\n",
       "10544    you probably dont know these consumer law  but...\n",
       "38753                  why the best leader have conviction\n",
       "22430    hawaii developer under fire for segregated poo...\n",
       "29186    bay area float sanctuary in transit policy to ...\n",
       "46793      which store will be closed on thanksgiving day \n",
       "7944     why tax collection scam are getting harder to ...\n",
       "20996     wall street bounce back in day of volatile trade\n",
       "                               ...                        \n",
       "5420     selfish donald trump versus selfless mother te...\n",
       "7286     gun stock take a huge hit after donald trump s...\n",
       "21191    tim cook sends memo to reassure apple employee...\n",
       "1514     remington file for chapter  bankruptcy amid mo...\n",
       "40710     secret to great meeting from silicon valley g...\n",
       "27896    well fargo ceo should resign over egregious fr...\n",
       "41759    donald trump ha no idea whether his company pr...\n",
       "41996    an unusual experiment with the truth trump twe...\n",
       "44994    elon musk predicts the cause of world war iii ...\n",
       "47831    net neutrality supporter to protest at verizon...\n",
       "43542                  this is not your typical sweatshirt\n",
       "34297      behavior that highlight your leadership ability\n",
       "49768    judge reject sumner redstone bid to end viacom...\n",
       "38145          secret to staying productive and in control\n",
       "7191          how to raise money when no angel will invest\n",
       "16693    dont panic that bacon shortage you keep hearin...\n",
       "36507    kb home cut ceo annual incentive payment in re...\n",
       "29420    how do you know you have a good consumer lawye...\n",
       "43998    how being an immigrant helped me become a bett...\n",
       "7273         donald trump muslim ban hit dollar slam stock\n",
       "9783     how investor pushed corporates to disclose cli...\n",
       "44167    well fargo scandal a setback to lobbying effor...\n",
       "15607    working while sick isn’t a hillary thing it’s ...\n",
       "38055    why successful people never bring smartphones ...\n",
       "37927    tim cook not backing down from protecting dreamer\n",
       "35614    mattress store to reopen a soon a possible aft...\n",
       "1049     theranos founder elizabeth holmes charged with...\n",
       "11502    dollar general to create  new job in texas a i...\n",
       "28182                          thing smart people wont say\n",
       "28704    neonazi site daily stormer retreat to the dark...\n",
       "Name: headline, Length: 120, dtype: object"
      ]
     },
     "metadata": {},
     "output_type": "display_data"
    },
    {
     "name": "stdout",
     "output_type": "stream",
     "text": [
      "\n",
      "'BLACK VOICES' predicted as 'POLITICS' : 139 examples.\n"
     ]
    },
    {
     "data": {
      "text/plain": [
       "34315            an open letter to the united state senate\n",
       "38037    judge dismisses discrimination lawsuit filed b...\n",
       "45415    hundred remember the life of terence crutcher ...\n",
       "787      the time trump slammed blackish for being a ra...\n",
       "9052     maxine water isnt running for anything except ...\n",
       "16090    jesse williams say voter fraud is a myth it bu...\n",
       "27650    cal poly president say frat member in blackfac...\n",
       "4964     florida teacher keep job after telling student...\n",
       "8471     chance the rapper clarifies that he doe not su...\n",
       "39370    republican are your friend who borrows money t...\n",
       "22688             to kneel or stand a prisoner perspective\n",
       "14954    here jackie robinson letter to orphan boy who ...\n",
       "20159    jackie robinson day is april   here a story ab...\n",
       "11609    muhammad ali son launched a religious justice ...\n",
       "39222    naacp president call on donald trump to apolog...\n",
       "15478    kareem abduljabbar what it mean to be black du...\n",
       "48250    tribe prepares to keep up pipeline protest thr...\n",
       "12727    killer mike apologizes for interview nra misus...\n",
       "38075    cleveland police union push back on brown prot...\n",
       "38759    the public school system is rigged against poo...\n",
       "18741    presidentelect donald trump hard stance on imm...\n",
       "21232    missouri gop lawmaker urge lynching for vandal...\n",
       "15416    sen kamala harris tell hbcu grad to speak trut...\n",
       "385      theyre finally going to close rikers island am...\n",
       "7282     memo suggests fbi secretly monitored black lif...\n",
       "36464    federal employee leaf noose on black coworkers...\n",
       "41149    these  mannequin challenge will get you throug...\n",
       "46839    gabrielle union on the metoo movement the floo...\n",
       "9634     two brooklyn street named for proslavery confe...\n",
       "4293                                we understand struggle\n",
       "                               ...                        \n",
       "10813    donald trump reportedly approves race summit w...\n",
       "8391     judge overturn conviction of innocent man sent...\n",
       "26772    new orleans mayor death threat wont stop u fro...\n",
       "29894    i live here too a message to the republican party\n",
       "45248    new jersey lead the nation in reducing it pris...\n",
       "6980               blaming black voter turnout in virginia\n",
       "48046    st louis police chant whose street our street ...\n",
       "43748    trump is infected with racism and testimonial ...\n",
       "25789    patriot player visit trump white house thanks ...\n",
       "17495    mlks daughter is disgusted by trump assassinat...\n",
       "4075     hillary clinton tap pusha t for voter registra...\n",
       "37443    officer involved in el cajon shooting had been...\n",
       "26066    there they go again making excuse for the paddock\n",
       "27172    you better believe it issa rae is now the new ...\n",
       "23865      robert e lee wa the richard spencer of his time\n",
       "16607    if virginia surprise you you havent been payin...\n",
       "34047     petitioner say betsy devos ha no place at hbc...\n",
       "24237    time stopped when martin luther king jr wa sla...\n",
       "22834                                 revolutionary musing\n",
       "16472    boston mayoral election hinge on race and fair...\n",
       "9959                           her name wa charleena lyles\n",
       "33942    only a just america will be a truly great america\n",
       "25816                 the affordability of white privilege\n",
       "46034    memphis theater right in dumping gone with the...\n",
       "49671    baltimore rededicates former confederate memor...\n",
       "8015                         experiencing microaggressions\n",
       "34825    student get suspended for sitting during pledg...\n",
       "34462    how we learned are learning transformative jus...\n",
       "9263     rep maxine water drag the hell out of trump sa...\n",
       "36060     voter suppression is the problem not voter fraud\n",
       "Name: headline, Length: 139, dtype: object"
      ]
     },
     "metadata": {},
     "output_type": "display_data"
    },
    {
     "name": "stdout",
     "output_type": "stream",
     "text": [
      "\n",
      "'CRIME' predicted as 'POLITICS' : 68 examples.\n"
     ]
    },
    {
     "data": {
      "text/plain": [
       "19883    suspect in murder of student blaze bernstein c...\n",
       "21388    arkansas plan to execute  convicted killer on ...\n",
       "47529     great dane rescued in new hampshire in worst ...\n",
       "25744    hacker blamed for setting off  dallas emergenc...\n",
       "12530    man’s attempt at using google to rob a bank ba...\n",
       "24047    prisoner take down fellow inmate during viciou...\n",
       "18318                       alabama executes torrey mcnabb\n",
       "37666      fbi reportedly investigating clinton foundation\n",
       "36404    what we know and dont know about stephen paddo...\n",
       "10698     white supremacist in texas indicted in meth k...\n",
       "46496    hostage taker reportedly blame trump for priso...\n",
       "37318    cosbys legal team secures imported jury blame ...\n",
       "43820    texas halt execution of nontriggerman over que...\n",
       "30802    alert florida student may have stopped a mass ...\n",
       "4408     nc governor declares state of emergency amid v...\n",
       "34799    driver detained at white house after alleged c...\n",
       "35248    u polygamist busted in mexico following death ...\n",
       "4752     temp worker charged in meat cleaver attack on ...\n",
       "4236      detainee suspected of using underground tunne...\n",
       "45538    ice lawyer charged with trying to defraud immi...\n",
       "28890    parkland couldve been worse vega couldve been ...\n",
       "34224    ohio state attacker may have been inspired by ...\n",
       "49467    official havent found evidence linking florida...\n",
       "11949    arkansas court allows execution drug hour ahea...\n",
       "14894    hate crime charged in facebiting attack after ...\n",
       "28970    wait till you see how this brooklyn jewelry st...\n",
       "8073     florida dope haul seized heroin packet bear do...\n",
       "3281     new york metropolitan opera cancel show after ...\n",
       "45194     bystander reportedly shot just an hour after ...\n",
       "30873    unarmed hotel security guard who found la vega...\n",
       "                               ...                        \n",
       "13462    death sentence decline in u a public attitude ...\n",
       "10722    fbi affidavit detail exsheriff david clarkes i...\n",
       "24240    montana judge targeted for impeachment for day...\n",
       "39908    yearold girl disappears in north carolina spar...\n",
       "18569    hero in waffle house shooting is raising fund ...\n",
       "4493     why school are flooded with threat after mass ...\n",
       "33050    an open letter to the american correctional as...\n",
       "22880    ohio death row inmate receives pillow to help ...\n",
       "47592    dylann roof mentally competent to stand trial ...\n",
       "41891    man arrested over threat to cnn  fake news im ...\n",
       "43268    another mass shooting and more prayer america ...\n",
       "35072    vatican arrest it own diplomat after child por...\n",
       "26661    the killing of two good samaritan in portland ...\n",
       "34980    police struggle to find possible motif for aus...\n",
       "12830      what don diva magazine mean to the incarcerated\n",
       "26463    charlotte installs curfew and protester dy aft...\n",
       "47880    manhattan da swept harvey weinstein sexual har...\n",
       "5055     video show parkland deputy never entered schoo...\n",
       "35960    charlottesville rally organizer jason kessler ...\n",
       "31429    gunman execute exgang member month after obama...\n",
       "8038     muslim advocacy group urge compassion and unit...\n",
       "1720     trial over walter scott killing by south carol...\n",
       "10831    coroner reclassifies a man suspicious death af...\n",
       "6666     fed investigate after woman tell huffpost she ...\n",
       "34229    ohio officer ray tensing trial judge declares ...\n",
       "15604    fbi hunt spelling bee bandit who hand over rob...\n",
       "19427    watch hero cop narrow rescue of man jumping fr...\n",
       "44758    psychopathic predator caught on mainland after...\n",
       "28540    sheriff dakota access construction equipment s...\n",
       "24044    report criticizes private mississippi prison a...\n",
       "Name: headline, Length: 68, dtype: object"
      ]
     },
     "metadata": {},
     "output_type": "display_data"
    },
    {
     "name": "stdout",
     "output_type": "stream",
     "text": [
      "\n",
      "'IMPACT' predicted as 'POLITICS' : 56 examples.\n"
     ]
    },
    {
     "data": {
      "text/plain": [
       "17447    chicago resident get to decide how city fund a...\n",
       "33740     breaking the cycle of generational incarceration\n",
       "19923                                             antilent\n",
       "3689     summertime when the livin’ is hard for hungry ...\n",
       "12004    refugee use scrap to build house that remind t...\n",
       "17321    the choice bus us prisoner perspective to disc...\n",
       "15692      why we cant give in to fear in the age of trump\n",
       "47093    veteran are fighting antiimmigrant hate with n...\n",
       "4119     navigating welfare reform poverty is tricky bu...\n",
       "38248            tweet that show love can be a radical act\n",
       "2495      moving beyond trump — rebuilding our civiliza...\n",
       "45280    our compassion is being challenged a west virg...\n",
       "11803     visionary idea hatched in the middle of the j...\n",
       "46592    social anxiety doesn’t get the attention it de...\n",
       "21207        uniting generation to make community stronger\n",
       "8682     eastern kentucky struggle with water symbolize...\n",
       "683      how welfare work requirement can deepen and pr...\n",
       "9592     what to do if you want to be charitable but mo...\n",
       "14669     small act to resist intolerance in trump’s am...\n",
       "6308     moving unicef ad show how history is repeating...\n",
       "40718          it time to take president trump at his word\n",
       "14700                                  no time for despair\n",
       "5315     how a warlord’s legacy ha thwarted relief for ...\n",
       "43368    kenyan activist demand protection for woman af...\n",
       "7648     this immigrant teach sewing skill to empower r...\n",
       "8156     why i distribute overdose reversal kit in ashe...\n",
       "43547    how to make sure your donation go the furthest...\n",
       "26826                ambassador nikki haley trip to africa\n",
       "47751         marching for equality and justice in january\n",
       "1936     foster care v adoption where equality for one ...\n",
       "31457                                    malala mesmerizes\n",
       "46583                            nice try hurricane harvey\n",
       "49558    working with millennials and generation zers t...\n",
       "8336     the gop tax plan – this is what domination eco...\n",
       "14483              these are the top  most generous u city\n",
       "48860                doe chasing your dream scare you good\n",
       "37146          va loan program may be letting veteran down\n",
       "9524     resist trump with these mother day card for mu...\n",
       "22943    trump’s proposed afterschool cut could lead to...\n",
       "40096    senior hunger hit historic high a trump threat...\n",
       "26584    farmworkers call out wendy’s for failure to ac...\n",
       "19010            stocking stuffer for ecoconscious shopper\n",
       "19891    they were rooting for u and we won  overcoming...\n",
       "27053    this guy running for president and want to giv...\n",
       "35597    union face the fight of their life to protect ...\n",
       "47951     way to help refugee without leaving your comp...\n",
       "22534    the surprising story of republican town going ...\n",
       "12128    charlottesville is returning to normal  and th...\n",
       "811      kūpuna caregiver assistance legislator could p...\n",
       "3852     tearjerker holiday ad reminds u pet aren’t jus...\n",
       "49095    reflection on dr samuel dubois cook a great te...\n",
       "18302    this lawyer work pro bono to help undocumented...\n",
       "23639    these town are trying out a basicincome scheme...\n",
       "37583      a hurricane is never an excuse to mock the poor\n",
       "9983     imagining justice in baltimore listening to ea...\n",
       "19935    this group is bringing tampon and pad to evacu...\n",
       "Name: headline, dtype: object"
      ]
     },
     "metadata": {},
     "output_type": "display_data"
    },
    {
     "name": "stdout",
     "output_type": "stream",
     "text": [
      "\n",
      "'STYLE' predicted as 'POLITICS' : 35 examples.\n"
     ]
    },
    {
     "data": {
      "text/plain": [
       "16223     diesel troll trump border wall with new campaign\n",
       "49899    nordstrom copresident business impact of trump...\n",
       "20234    the most talkedabout suit at the espys sure wa...\n",
       "14961    a jewelry brand just threw the best shade at i...\n",
       "13140    miss north dakota cara mund is crowned state f...\n",
       "16710    why i canceled my order from ll bean the toxic...\n",
       "26033    all the rnc swag that will probably end up in ...\n",
       "27474    self magazine end it print run on a bodypositi...\n",
       "26209    become a member of the trump family with these...\n",
       "46672    twitter wa distracted by trump super long neck...\n",
       "5348        resistance purchase that also support the aclu\n",
       "24385                thing that always go on sale in april\n",
       "826      student dress code violation cleavage and exce...\n",
       "23053    malia obama arrived at harvard and oh man kid ...\n",
       "32755    this petition for macys to drop ivanka trump i...\n",
       "12068    huffpost did an office clothing swap and you c...\n",
       "2903     here are national lipstick day deal that dont ...\n",
       "24141                            whats happening to retail\n",
       "27603    miss puerto rico stephanie del valle crowned m...\n",
       "36690    ivanka trump nordstrom sale reportedly dropped...\n",
       "26198    the royal family is ready for your awkward off...\n",
       "13181    hillary clinton date night involved applause a...\n",
       "6838     look like ivanka trump just realized her polit...\n",
       "30747    obama report for jury duty looking sharper tha...\n",
       "25363    it hard to pick faves from victoria beckhams t...\n",
       "3631     here what actually happens to the money in wis...\n",
       "3319     kellyanne conway is wearing a  coat studded wi...\n",
       "47145    ll bean ceo offer to help worker affected by t...\n",
       "10925    ashley graham nabs her second vogue cover in  ...\n",
       "32964    hope hick new white house communication direct...\n",
       "26909       of the best store to shop in st louis missouri\n",
       "38528    photographic evidence prof bill clinton wa suc...\n",
       "27423    badpicturemonday is the hashtag we all should ...\n",
       "23729            trump model might be running out of model\n",
       "7439     here how meghan markle get her signature hairs...\n",
       "Name: headline, dtype: object"
      ]
     },
     "metadata": {},
     "output_type": "display_data"
    },
    {
     "name": "stdout",
     "output_type": "stream",
     "text": [
      "\n",
      "'WOMEN' predicted as 'POLITICS' : 146 examples.\n"
     ]
    },
    {
     "data": {
      "text/plain": [
       "24457    how deceptive crisis pregnancy center undermin...\n",
       "30995    watch yearold sophie cruz give one of the best...\n",
       "48840    yale drop white supremacist name from college ...\n",
       "14587                                         whywemarched\n",
       "6755     antiabortion governor ironically tweet about t...\n",
       "24008    read the empowering letter michelle obama sent...\n",
       "4326      driving while white reflection on bias and right\n",
       "32438    are you a gamer who the victim of a harassment...\n",
       "46142    trump is deeply sexist but misogyny is not a r...\n",
       "26454    elizabeth warren might get her very own action...\n",
       "38141       trump is our presidentelect it time for action\n",
       "29313    meet the planned parenthood organizer who lobb...\n",
       "37626                      and the wall came tumbling down\n",
       "379      thousand of woman plan to strike during inaugu...\n",
       "11006    the hyde amendment continues to punish our cou...\n",
       "40396    donald trump could learn a lot from reebok’s v...\n",
       "24782    please someone make donald trump stop talking ...\n",
       "503                  fort wayne is a city of contradiction\n",
       "10259    woman keep school running but theyre not in ch...\n",
       "38761    clinton campaign produce further proof of trum...\n",
       "32931    r kelly say the time up campaign against him i...\n",
       "36084    michigan police department apologizes to nassa...\n",
       "36752            sexual harassment is everywhere every day\n",
       "16071                          me too  and i let it happen\n",
       "40523                     nevertheless persistence pay off\n",
       "14056    when i realized that my me toos were too many ...\n",
       "5723      why i’ll never understand why you didn’t want me\n",
       "18687    one tweet sum up the absurd double standard cl...\n",
       "735      how ivanka trump can truly empower woman who work\n",
       "1801     after  year navy get it first woman seal appli...\n",
       "                               ...                        \n",
       "7457     defense lawyer who said woman are especially g...\n",
       "25472    brock turner’s mugshot is featured in a crimin...\n",
       "13623    judge temporarily block texas controversial fe...\n",
       "33929    federal judge temporarily block texas law bann...\n",
       "8397     penelope cruz tried to teach ellen spanish and...\n",
       "37355    roy moore accuser say alabama is about to make...\n",
       "5897     here what a day without a woman striker had to...\n",
       "13832    another gop lawmaker got caught in a sex scand...\n",
       "24095    democratic party leader will continue to welco...\n",
       "7020     how antiabortion law negatively affect woman h...\n",
       "8035                            before the end of the year\n",
       "23303    maxine water to woman convention trump is most...\n",
       "33174              gift to keep on hand for surprise guest\n",
       "24537       fight the patriarchy with this ladybrewed beer\n",
       "33451    trump confuses two female finnish journalist d...\n",
       "14844    if donald trump can skip intelligence briefing...\n",
       "13233    yes san juan mayor carmen yulín cruzs nasty sh...\n",
       "39791    state senator compared planned parenthood to a...\n",
       "10854    a pharmacy advertised a ‘man tax’ and men’s ri...\n",
       "44695     powerful tweet about sally yates’ refusal to ...\n",
       "12066    uk train company answer sexism complaint with ...\n",
       "31765    jimmy choos tone deaf ad go viral for all the ...\n",
       "38751    protester nationwide stand in solidarity with ...\n",
       "16919                     my biological clock is defective\n",
       "6573                                           lock him up\n",
       "21981               why i no longer dream of having it all\n",
       "46579    watch halseys powerful speech at the  woman march\n",
       "26958    widow of kansa hate crime victim tell immigran...\n",
       "11434    meet the woman who call mike penny every day t...\n",
       "19030    the only type of muslim woman acceptable for m...\n",
       "Name: headline, Length: 146, dtype: object"
      ]
     },
     "metadata": {},
     "output_type": "display_data"
    },
    {
     "name": "stdout",
     "output_type": "stream",
     "text": [
      "\n",
      "'RELIGION' predicted as 'POLITICS' : 78 examples.\n"
     ]
    },
    {
     "data": {
      "text/plain": [
       "9527                                     our great god gun\n",
       "36406    attention politician god created and welcome u...\n",
       "44722                 sorry mr trump this is not about you\n",
       "47423        trump should not encourage politics in church\n",
       "49846    christian twitter is calling out the hypocrisy...\n",
       "30033    more than brick and mortar and country club house\n",
       "13980    tech employee promise never to help trump buil...\n",
       "36009    saudi arabia take extra precaution for hajj a ...\n",
       "37799    campaign raise thousand to support family of m...\n",
       "39475                                remembering a prophet\n",
       "47972    montana synagogue request police protection af...\n",
       "14105    how this former extremist embraced the real me...\n",
       "45651                            are you too materialistic\n",
       "23819    evangelical pastor reveals why he quit trump a...\n",
       "25324    donald trump proposed muslim ban ha not aged w...\n",
       "8867     america need an antisemitism monitor at the st...\n",
       "11777              i say allahu akbar i am not a terrorist\n",
       "44527                     hillary hymn the evil we deplore\n",
       "794      progressive christian need to take a stand aga...\n",
       "41588    why i embraced my judaism abroad instead of co...\n",
       "18338    knowledge of jewish tradition can fight antise...\n",
       "29460    ken bone and td jakes pray there an end to ele...\n",
       "22017    christian must be discerning to avoid the dang...\n",
       "15459    guilty of good grammar youre right and your ri...\n",
       "15152    interfaith leader pledge to stand by american ...\n",
       "26050        trump expose hypocrisy in his religious voter\n",
       "14344    confronting whitesupremacy with revolutionarylove\n",
       "33476    this holocaust survivor finally got a bar mitzvah\n",
       "36595    why some hindu are angry about reza aslans cnn...\n",
       "28711        the “christian state” capture the white house\n",
       "                               ...                        \n",
       "37020    what jesus might say if he tweeted like donald...\n",
       "29064    ice violates first amendment right of  faith l...\n",
       "38199    a troubling number of white christian actually...\n",
       "42260    pagan worship site prove spirituality doesnt n...\n",
       "16801    obama call discrimination against muslim affro...\n",
       "28013    a antisemitic act rise so should our leader re...\n",
       "8134     sharing ramadan iftar with oklahoma elected of...\n",
       "20110    trump alienates yet another key group of gop v...\n",
       "3144     what a film about holocaust denial can teach u...\n",
       "17794                      way the gop fails to be prolife\n",
       "3122                        the language of the ten plague\n",
       "44098    robert e lee descendant leaf church after deno...\n",
       "19270    religious leader group are appalled by trump i...\n",
       "24041    pope francis will wait and see before forming ...\n",
       "48113    tatiana navka wife of putin aide spark outrage...\n",
       "1346     im a pastor and donald trump america scare the...\n",
       "18399    a gospel of white supremacy is not the gospel ...\n",
       "37026    the bible ha no place in modern american socie...\n",
       "6271     steve bannon undermining pope francis what a s...\n",
       "26290    faith leader fight back against trump attack o...\n",
       "29340    bostonarea church list mass shooting behind it...\n",
       "8805     get ye to the polling place voting a civic sac...\n",
       "4580     how one houston synagogue is facing yom kippur...\n",
       "6316     america secular community just won a significa...\n",
       "42244    swastika go trump spraypainted at beastie boy ...\n",
       "41469         the ironic end of american religious liberty\n",
       "27683    those who turn the dreamer away are the true s...\n",
       "26323                               incompetent or a crook\n",
       "43429    suspect charged in vandalism of jewish communi...\n",
       "14264                        muslim of america chapter one\n",
       "Name: headline, Length: 78, dtype: object"
      ]
     },
     "metadata": {},
     "output_type": "display_data"
    },
    {
     "name": "stdout",
     "output_type": "stream",
     "text": [
      "\n",
      "'TRAVEL' predicted as 'POLITICS' : 30 examples.\n"
     ]
    },
    {
     "data": {
      "text/plain": [
       "22159     secret weapon we use to score cheap plane ticket\n",
       "4567     get out of my store what to do when youre deni...\n",
       "27232                    the best way to use leftover rice\n",
       "9197     introvert listen up this private cabin is how ...\n",
       "17833    the surprising reason the fcc chairman doesnt ...\n",
       "24770    odessa texas boast resource often associated w...\n",
       "21995    the last of manhattan gilded age mansion is on...\n",
       "23742    here what hawaiian airline is doing to help fi...\n",
       "8207     what happened when i went on a staycation with...\n",
       "695       trip to take from new york city on a long wee...\n",
       "49909     way to catch the solar eclipse if you havent ...\n",
       "9846     los angeles v san francisco which city rule th...\n",
       "29801    pippa middleton is honeymooning on barack obam...\n",
       "25134                                  u city to watch in \n",
       "44926    how arrestor bed stopped mike pences plane fro...\n",
       "42992                       the case for taking a gap year\n",
       "29268    emirate airline cut flight due to trump travel...\n",
       "29540               the immorality of trump new travel ban\n",
       "49972                                  the new puerto rico\n",
       "27482    airbus drivingflying pod concept ha u dreaming...\n",
       "13984         let regulate frequent flier program here why\n",
       "4877     goodbye racist passenger cheer a unruly man ge...\n",
       "24589                        waiting for the end in alaska\n",
       "17082    this is how long it take to ride to every nyc ...\n",
       "35521    these are the  coolest neighborhood in america...\n",
       "24840    need to clear your head try one of these perfe...\n",
       "14986    american airline is bringing back the perk you...\n",
       "25954     of the bestdesigned marijuana shop across ame...\n",
       "7045     trump policy may cost the u  billion and thats...\n",
       "28274                 enchanting ice rink around the world\n",
       "Name: headline, dtype: object"
      ]
     },
     "metadata": {},
     "output_type": "display_data"
    },
    {
     "name": "stdout",
     "output_type": "stream",
     "text": [
      "\n",
      "'SCIENCE' predicted as 'SPORTS' : 2 examples.\n"
     ]
    },
    {
     "data": {
      "text/plain": [
       "35768    world atmospheric co spiked to a record last y...\n",
       "41179               why a giant green lake turned bloodred\n",
       "Name: headline, dtype: object"
      ]
     },
     "metadata": {},
     "output_type": "display_data"
    },
    {
     "name": "stdout",
     "output_type": "stream",
     "text": [
      "\n",
      "'POLITICS' predicted as 'SPORTS' : 17 examples.\n"
     ]
    },
    {
     "data": {
      "text/plain": [
       "48243    oppose the nfl protest you probably also would...\n",
       "5689     the history of the united state look so cool i...\n",
       "28478    turkish nba player detained in romania say his...\n",
       "18322    patriot owner hope trump will retrieve super b...\n",
       "25538    monday morning email tom brady delivers super ...\n",
       "43111        airbnb just suffered a major loss in new york\n",
       "35296    the military banned waterboarding trainee beca...\n",
       "47569    some nfl player continue anthem protest despit...\n",
       "15193    humayun khan army comrade remember him a a sel...\n",
       "45918    lebron james tweet brutal response to trump st...\n",
       "38234    donald trump jr attack olympian adam rippon on...\n",
       "12923    ivanka trump face backlash over olympic closin...\n",
       "25427    obama cub world series win is the greatest thi...\n",
       "40635    hedge fund bet bilked kentuckian out of their ...\n",
       "11748    there’s a reason powerful american love to att...\n",
       "34751         how state are gambling on sport betting case\n",
       "25244    spur coach gregg popovich rip game show president\n",
       "Name: headline, dtype: object"
      ]
     },
     "metadata": {},
     "output_type": "display_data"
    },
    {
     "name": "stdout",
     "output_type": "stream",
     "text": [
      "\n",
      "'ARTS' predicted as 'SPORTS' : 2 examples.\n"
     ]
    },
    {
     "data": {
      "text/plain": [
       "14641    simone bile is a superhero in this perfect oly...\n",
       "24823    incredibly detailed timelapse video show the f...\n",
       "Name: headline, dtype: object"
      ]
     },
     "metadata": {},
     "output_type": "display_data"
    },
    {
     "name": "stdout",
     "output_type": "stream",
     "text": [
      "\n",
      "'QUEER VOICES' predicted as 'SPORTS' : 5 examples.\n"
     ]
    },
    {
     "data": {
      "text/plain": [
       "27880    nhl athlete offer the worst nonapology for a s...\n",
       "42849    the first u boxer to fight a a woman and then ...\n",
       "20809       are microaggressions on the rise in pittsburgh\n",
       "41936    university cheerleader find solace in sport af...\n",
       "22611    not just a victim nba legend’s son provides ne...\n",
       "Name: headline, dtype: object"
      ]
     },
     "metadata": {},
     "output_type": "display_data"
    },
    {
     "name": "stdout",
     "output_type": "stream",
     "text": [
      "\n",
      "'MEDIA' predicted as 'SPORTS' : 2 examples.\n"
     ]
    },
    {
     "data": {
      "text/plain": [
       "32448    katie couric is skating on thin ice with dutch...\n",
       "47245    why i call on time magazine to name kaepernick...\n",
       "Name: headline, dtype: object"
      ]
     },
     "metadata": {},
     "output_type": "display_data"
    },
    {
     "name": "stdout",
     "output_type": "stream",
     "text": [
      "\n",
      "'HEALTHY LIVING' predicted as 'SPORTS' : 8 examples.\n"
     ]
    },
    {
     "data": {
      "text/plain": [
       "47415         the science behind michael phelps’ game face\n",
       "41943    young football player brain change after one s...\n",
       "5692                      three tip for your best marathon\n",
       "30721    this pic prof simone bile is a mere mortal aft...\n",
       "40011    is michael phelps and ryan lochte’s rivalry a ...\n",
       "27075    concussion in youth sport separating fact from...\n",
       "25734               my olympic journey sick in south korea\n",
       "19668                         the olympic hangover is real\n",
       "Name: headline, dtype: object"
      ]
     },
     "metadata": {},
     "output_type": "display_data"
    },
    {
     "name": "stdout",
     "output_type": "stream",
     "text": [
      "\n",
      "'COMEDY' predicted as 'SPORTS' : 12 examples.\n"
     ]
    },
    {
     "data": {
      "text/plain": [
       "9896      year ago bill murray called a full cub game a...\n",
       "16391    the new ‘amazon nick lachey’ translates sport ...\n",
       "37652    bad lip reading of trashtalkers floyd mayweath...\n",
       "18678    here evidence floyd mayweather and conor mcgre...\n",
       "47754    the opposition make a few change to proposed m...\n",
       "35434    nick jonas want to find forever home for these...\n",
       "11264    so ron burgundy and anchorman pal watched cub ...\n",
       "24264    this is the consequence of overinflated footba...\n",
       "6137     if you must run out onto the ice during hockey...\n",
       "13054    jimmy kimmels skating or sneezing game should ...\n",
       "21854    usain bolt run ring around james corden in oly...\n",
       "9090     your sunday is open again because these puppy ...\n",
       "Name: headline, dtype: object"
      ]
     },
     "metadata": {},
     "output_type": "display_data"
    },
    {
     "name": "stdout",
     "output_type": "stream",
     "text": [
      "\n",
      "'EDUCATION' predicted as 'SPORTS' : 3 examples.\n"
     ]
    },
    {
     "data": {
      "text/plain": [
       "39623    kaepernick sport politics the anthem the pledg...\n",
       "34951              when ice come calling in the ivy league\n",
       "12494              a slush fund at mr jefferson university\n",
       "Name: headline, dtype: object"
      ]
     },
     "metadata": {},
     "output_type": "display_data"
    },
    {
     "name": "stdout",
     "output_type": "stream",
     "text": [
      "\n",
      "'ENTERTAINMENT' predicted as 'SPORTS' : 27 examples.\n"
     ]
    },
    {
     "data": {
      "text/plain": [
       "38541    gisele bündchen hold up tom brady like it no b...\n",
       "32575    meek mill open er nba playoff game immediately...\n",
       "48926    three billboard outside cleveland ohio want le...\n",
       "2379     mile teller doing ok after bronco flip over in...\n",
       "24011    move aside matthew mcconaughey is the most int...\n",
       "15493    u figure skating team make history with record...\n",
       "48647    jane fonda bust out one shady comeback for lil...\n",
       "37461    lady antebellum flub national anthem before nh...\n",
       "14024    will michael b jordan and lupita nyongo please...\n",
       "45022    world of dance crown hiphop duo le twin winner...\n",
       "22544    lando calrissian’s millennium falcon is so swa...\n",
       "3359     kpop fan lost their mind during the winter oly...\n",
       "23648    fan are freaking out about all the kpop at the...\n",
       "28125    nfl denies report that lady gaga cant talk pol...\n",
       "14643    cheryl burke say metoo show solidarity with ol...\n",
       "18084    will ferrell interrupt roger federer interview...\n",
       "3725     watch a saint player with al record a sweet vi...\n",
       "32989    claire foy receives backpay after parity scand...\n",
       "43510    billy bush got hit with a golf ball and then p...\n",
       "45728    the pitch perfect  lady are squadgoals at the ...\n",
       "17866    someone gave shaun white gold medal run the su...\n",
       "2518     dirty dancing wa a safeabortion champion wrapp...\n",
       "25339    richard simmons is perfectly fine lapd say aft...\n",
       "16439    lebron james and james corden are winning team...\n",
       "49556    riverdale star kj apa crash car after falling ...\n",
       "27520    people are joking that the patriot will win su...\n",
       "47703    jimmy fallon rip on ryan lochte and michael ph...\n",
       "Name: headline, dtype: object"
      ]
     },
     "metadata": {},
     "output_type": "display_data"
    },
    {
     "name": "stdout",
     "output_type": "stream",
     "text": [
      "\n",
      "'WORLDPOST' predicted as 'SPORTS' : 10 examples.\n"
     ]
    },
    {
     "data": {
      "text/plain": [
       "31819    these are the athlete north korea is sending t...\n",
       "38103         erdogans about face confuses regional player\n",
       "23953    the world’s largest lottery ha just drawn it w...\n",
       "24688    prince charles voted next commonwealth leader ...\n",
       "2427     soccer star george weah win liberian president...\n",
       "34434    russia olympic team barred from  winter game f...\n",
       "45035    nbc apologizes for commentator japan remark at...\n",
       "35749    russian olympic doping whistleblower fear puti...\n",
       "12427    meet the syrian athlete who dream of olympic g...\n",
       "28815                        global series political sport\n",
       "Name: headline, dtype: object"
      ]
     },
     "metadata": {},
     "output_type": "display_data"
    },
    {
     "name": "stdout",
     "output_type": "stream",
     "text": [
      "\n",
      "'PARENTS' predicted as 'SPORTS' : 4 examples.\n"
     ]
    },
    {
     "data": {
      "text/plain": [
       "24932    of course michael and boomer phelps are doing ...\n",
       "5540           keeping thing in perspective in youth sport\n",
       "2007     boy  make basketball free throw from a balcony...\n",
       "31792             fighting the trump effect in youth sport\n",
       "Name: headline, dtype: object"
      ]
     },
     "metadata": {},
     "output_type": "display_data"
    },
    {
     "name": "stdout",
     "output_type": "stream",
     "text": [
      "\n",
      "'BLACK VOICES' predicted as 'SPORTS' : 22 examples.\n"
     ]
    },
    {
     "data": {
      "text/plain": [
       "10906    arian foster nfl player invest  in yearolds le...\n",
       "8944     sikh marathon runner honor colin kaepernick du...\n",
       "30246    houston rocket player james harden pledge  mil...\n",
       "7880     nfl player call out hypocrisy of christian who...\n",
       "48610    serena williams response to racist comment doe...\n",
       "41776    new nike ad with lebron james serena williams ...\n",
       "18496    colin kaepernick call high school team diein p...\n",
       "33823    here why abc shelved blackish episode on nfl a...\n",
       "23226    serena williams dance for the sheer joy of it ...\n",
       "1340     lebron james hit back at laura ingraham over s...\n",
       "47991    one in seven nfl player protested yesterday le...\n",
       "31357    a ‘house party’ remake is in the work with leb...\n",
       "17212    hundred declare their support for colin kaeper...\n",
       "18691    colin kaepernick invokes jackie robinson i can...\n",
       "5286     jesse jackson nfl owner have colluded to stop ...\n",
       "22018    lebron james explains why trump attack on the ...\n",
       "22962    racist break in vandalize nfl player home with...\n",
       "39494    first black woman on u olympic longtrack skati...\n",
       "123      trump call for nfl to suspend marshawn lynch n...\n",
       "35937    colin kaepernick want to join diddys quest for...\n",
       "41656    opposing nba team unite to wear shirt honoring...\n",
       "4027                      kaepernick is right to takeaknee\n",
       "Name: headline, dtype: object"
      ]
     },
     "metadata": {},
     "output_type": "display_data"
    },
    {
     "name": "stdout",
     "output_type": "stream",
     "text": [
      "\n",
      "'CRIME' predicted as 'SPORTS' : 6 examples.\n"
     ]
    },
    {
     "data": {
      "text/plain": [
       "27828    exvanderbilt football player found guilty in g...\n",
       "40119    glee star naya rivera charged with domestic ba...\n",
       "46132    two chicago brother on parole charged in murde...\n",
       "32936    gunman attempt to rob pokemon go player end in...\n",
       "16369    ebay pull offensive coffee mug showing skeleta...\n",
       "5890     cub fan recovering from school beating get sup...\n",
       "Name: headline, dtype: object"
      ]
     },
     "metadata": {},
     "output_type": "display_data"
    },
    {
     "name": "stdout",
     "output_type": "stream",
     "text": [
      "\n",
      "'IMPACT' predicted as 'SPORTS' : 7 examples.\n"
     ]
    },
    {
     "data": {
      "text/plain": [
       "36970    syrian olympic swimmer shuts down antirefugee ...\n",
       "15734    excuse me  how manner are becoming a rare a vi...\n",
       "27438    the world seems to only care about refugee whe...\n",
       "28735    tokyo might make medal for  olympics out of ol...\n",
       "15767          from ball turret gunner to guerilla fighter\n",
       "46437    houston – you are the change our world need to...\n",
       "3156     the tiny soccer club fighting for survival aga...\n",
       "Name: headline, dtype: object"
      ]
     },
     "metadata": {},
     "output_type": "display_data"
    },
    {
     "name": "stdout",
     "output_type": "stream",
     "text": [
      "\n",
      "'STYLE' predicted as 'SPORTS' : 6 examples.\n"
     ]
    },
    {
     "data": {
      "text/plain": [
       "2008     gisele bundchen win gold medal in walking in a...\n",
       "22045    johnny weir flaunt some medalworthy outfit at ...\n",
       "43448    beauty legend bobbi brown on why you should pr...\n",
       "18429    there a reason u open tennis player looked so ...\n",
       "22866     essential you need to start running outdoors ...\n",
       "33957    suspended tom brady promotes the do nothing li...\n",
       "Name: headline, dtype: object"
      ]
     },
     "metadata": {},
     "output_type": "display_data"
    },
    {
     "name": "stdout",
     "output_type": "stream",
     "text": [
      "\n",
      "'WOMEN' predicted as 'SPORTS' : 8 examples.\n"
     ]
    },
    {
     "data": {
      "text/plain": [
       "7110               sexism at the olympics guilty a charged\n",
       "25645    olympic fencer ibtihaj muhammad just got her v...\n",
       "39264    lindsey vonn deserves gold for this twitter tr...\n",
       "2221     simone bile serena williams and more look fier...\n",
       "15170    aly raisman call out usa gymnastics for poorly...\n",
       "31994    olympic basketball coach ha flawless response ...\n",
       "12312         aly raisman this is bigger than larry nassar\n",
       "29719    ryan lochte pleasantly surprised woman have pr...\n",
       "Name: headline, dtype: object"
      ]
     },
     "metadata": {},
     "output_type": "display_data"
    },
    {
     "name": "stdout",
     "output_type": "stream",
     "text": [
      "\n",
      "'RELIGION' predicted as 'SPORTS' : 2 examples.\n"
     ]
    },
    {
     "data": {
      "text/plain": [
       "5943     these teen boxer show u all the real meaning o...\n",
       "23079    what happened when the olympic committee faile...\n",
       "Name: headline, dtype: object"
      ]
     },
     "metadata": {},
     "output_type": "display_data"
    },
    {
     "name": "stdout",
     "output_type": "stream",
     "text": [
      "\n",
      "'POLITICS' predicted as 'ARTS' : 7 examples.\n"
     ]
    },
    {
     "data": {
      "text/plain": [
       "9638     tim kaine belief bob dylan absolutely deserved...\n",
       "20124           reagan library celebrates year anniversary\n",
       "31934                                   the master builder\n",
       "42621    chelsea clinton paint portrait of hillary a a ...\n",
       "36801    people have serious question about this dictio...\n",
       "32146    jim carreys latest painting slam kent state go...\n",
       "16549      haunting halloween nightmare for left and right\n",
       "Name: headline, dtype: object"
      ]
     },
     "metadata": {},
     "output_type": "display_data"
    },
    {
     "name": "stdout",
     "output_type": "stream",
     "text": [
      "\n",
      "'QUEER VOICES' predicted as 'ARTS' : 2 examples.\n"
     ]
    },
    {
     "data": {
      "text/plain": [
       "29021                           it get better simon curtis\n",
       "32512    this mexican artist is challenging sexuality a...\n",
       "Name: headline, dtype: object"
      ]
     },
     "metadata": {},
     "output_type": "display_data"
    },
    {
     "name": "stdout",
     "output_type": "stream",
     "text": [
      "\n",
      "'HEALTHY LIVING' predicted as 'ARTS' : 6 examples.\n"
     ]
    },
    {
     "data": {
      "text/plain": [
       "39481    artist creates eyeopening illustration about h...\n",
       "29436    how this old tshirt improved my life over  yea...\n",
       "48950           the unselfish art of prioritizing yourself\n",
       "27167    zayn malik get candid on why he chose to talk ...\n",
       "45344    get cliterate the art and science of owning yo...\n",
       "46998    time management master your time master your life\n",
       "Name: headline, dtype: object"
      ]
     },
     "metadata": {},
     "output_type": "display_data"
    },
    {
     "name": "stdout",
     "output_type": "stream",
     "text": [
      "\n",
      "'COMEDY' predicted as 'ARTS' : 5 examples.\n"
     ]
    },
    {
     "data": {
      "text/plain": [
       "42791    it the horrifying tale of the drunk girl who w...\n",
       "2668     rl stine release goosebump title his publisher...\n",
       "11345              jk simmons once sang telegram in a tutu\n",
       "43436    this supercut of trump saying baby make u hate...\n",
       "46464    trump an american musical is like a train wrec...\n",
       "Name: headline, dtype: object"
      ]
     },
     "metadata": {},
     "output_type": "display_data"
    },
    {
     "name": "stdout",
     "output_type": "stream",
     "text": [
      "\n",
      "'ENTERTAINMENT' predicted as 'ARTS' : 18 examples.\n"
     ]
    },
    {
     "data": {
      "text/plain": [
       "20625    elisabeth moss thanks margaret atwood in stirr...\n",
       "48508    maybe ridley scott should’ve read this memoir ...\n",
       "18006    ‘community’ creator dan harmon apologizes to w...\n",
       "14407    christina aguilera fan berate her on twitter f...\n",
       "38874    gene simmons’ message to wannabe rocker ‘get a...\n",
       "20774    merriamwebster ha six simple word for those se...\n",
       "35497    this missy elliott lyric from  shake the internet\n",
       "1417     silence directed by martin scorsese from the b...\n",
       "25950    trading space brings high stake back to home i...\n",
       "38497            more archie comic tv show are in the work\n",
       "2861     dolly parton’s imagination library give out  m...\n",
       "15333    nick offerman eloquently sum up what it mean t...\n",
       "12037    watch keith urbans incredible tribute to the a...\n",
       "38719    prince william present jk rowling with royal c...\n",
       "3876                         year old and raising all hell\n",
       "43546    a tribe called quest to play first nyc show si...\n",
       "34862    writer justin sayres im gorgeous inside is a r...\n",
       "11525    north west cant even take a bath without kanye...\n",
       "Name: headline, dtype: object"
      ]
     },
     "metadata": {},
     "output_type": "display_data"
    },
    {
     "name": "stdout",
     "output_type": "stream",
     "text": [
      "\n",
      "'WORLDPOST' predicted as 'ARTS' : 9 examples.\n"
     ]
    },
    {
     "data": {
      "text/plain": [
       "16924    honoring honor jeanrené van der plaetsen’s mov...\n",
       "6144     lebanese activist protest stone age rape law w...\n",
       "14747    saudi arabian artist fight to make her country...\n",
       "3151                 the internet wont let armenia go away\n",
       "35782    south sudanese woman are making moonshine to s...\n",
       "34881    you need to check out these mindblowing scotti...\n",
       "2471     artist share illustration to condemn violence ...\n",
       "6578     owner of paris bistro devastated by  attack re...\n",
       "7614     this may be the last photo post about the last...\n",
       "Name: headline, dtype: object"
      ]
     },
     "metadata": {},
     "output_type": "display_data"
    },
    {
     "name": "stdout",
     "output_type": "stream",
     "text": [
      "\n",
      "'PARENTS' predicted as 'ARTS' : 3 examples.\n"
     ]
    },
    {
     "data": {
      "text/plain": [
       "5161                      musing after a day at the museum\n",
       "28823    turkish airline crew help deliver baby girl at...\n",
       "26538        no it’s not ok for my two year old to be rude\n",
       "Name: headline, dtype: object"
      ]
     },
     "metadata": {},
     "output_type": "display_data"
    },
    {
     "name": "stdout",
     "output_type": "stream",
     "text": [
      "\n",
      "'BUSINESS' predicted as 'ARTS' : 2 examples.\n"
     ]
    },
    {
     "data": {
      "text/plain": [
       "25494    american richard thaler win nobel economics prize\n",
       "44263    read this before calling your bos a nasty moth...\n",
       "Name: headline, dtype: object"
      ]
     },
     "metadata": {},
     "output_type": "display_data"
    },
    {
     "name": "stdout",
     "output_type": "stream",
     "text": [
      "\n",
      "'BLACK VOICES' predicted as 'ARTS' : 9 examples.\n"
     ]
    },
    {
     "data": {
      "text/plain": [
       "1721     poet and activist keorapetse kgositsile who ce...\n",
       "22279    ava duvernay on trump america art will be our ...\n",
       "48945    word search about racism spike after charlotte...\n",
       "8574               inside broadway with deborah joy winans\n",
       "19522    there finally a museum devoted to telling the ...\n",
       "21150    a tribe called quest’s phife dawg will have a ...\n",
       "16745           nick cannon explores love in new docushort\n",
       "33746    a contemporary artist is helping princeton con...\n",
       "14417    the weeknd say racial politics are very hard t...\n",
       "Name: headline, dtype: object"
      ]
     },
     "metadata": {},
     "output_type": "display_data"
    },
    {
     "name": "stdout",
     "output_type": "stream",
     "text": [
      "\n",
      "'IMPACT' predicted as 'ARTS' : 4 examples.\n"
     ]
    },
    {
     "data": {
      "text/plain": [
       "4687     stunning photo show face of poverty that are r...\n",
       "26890    let talk about the difference between intensit...\n",
       "21294    margaret atwood ha some fix for a crisis thats...\n",
       "27984    these portrait shine a light on the homeless f...\n",
       "Name: headline, dtype: object"
      ]
     },
     "metadata": {},
     "output_type": "display_data"
    },
    {
     "name": "stdout",
     "output_type": "stream",
     "text": [
      "\n",
      "'STYLE' predicted as 'ARTS' : 5 examples.\n"
     ]
    },
    {
     "data": {
      "text/plain": [
       "48119       how to wash all your secretly disgusting scarf\n",
       "49996    this is what happens when you search pumpkin s...\n",
       "3906     youll want to get inked after seeing this tatt...\n",
       "23103      fashionable backpack observed on the street ...\n",
       "2763     pimple nail art deeply disturbing or oddly sat...\n",
       "Name: headline, dtype: object"
      ]
     },
     "metadata": {},
     "output_type": "display_data"
    },
    {
     "name": "stdout",
     "output_type": "stream",
     "text": [
      "\n",
      "'WOMEN' predicted as 'ARTS' : 8 examples.\n"
     ]
    },
    {
     "data": {
      "text/plain": [
       "13379       a brief history of the anxiety of being female\n",
       "25752    danielle brook to her teenage self your stretc...\n",
       "12319     trailblazer on what history book will say abo...\n",
       "3085     why kid across the u are writing book about fe...\n",
       "28060    johnnie walker release jane walker whisky to c...\n",
       "24105    merriamwebster troll kellyanne conway with def...\n",
       "33605    the handmaid tale is unequivocally a story by ...\n",
       "14886    now a company is using the handmaid tale to se...\n",
       "Name: headline, dtype: object"
      ]
     },
     "metadata": {},
     "output_type": "display_data"
    },
    {
     "name": "stdout",
     "output_type": "stream",
     "text": [
      "\n",
      "'RELIGION' predicted as 'ARTS' : 2 examples.\n"
     ]
    },
    {
     "data": {
      "text/plain": [
       "7817                          our father who art in heaven\n",
       "39501    jewish artist turn swastika vandalism into som...\n",
       "Name: headline, dtype: object"
      ]
     },
     "metadata": {},
     "output_type": "display_data"
    },
    {
     "name": "stdout",
     "output_type": "stream",
     "text": [
      "\n",
      "'POLITICS' predicted as 'QUEER VOICES' : 36 examples.\n"
     ]
    },
    {
     "data": {
      "text/plain": [
       "47709    yep im bigoted against the basket of deplorabl...\n",
       "19828    new york lawmaker penny bill would ban abusive...\n",
       "30586    alabama chief justice to face trial for barrin...\n",
       "22027                            a poem for the transition\n",
       "49454    a close vote and a big win in congress for tra...\n",
       "41371    religious freedom law protects business owner ...\n",
       "14585    the nordic country lead the world on lgbtq equ...\n",
       "28396    eleven state to drop suit over transgender bat...\n",
       "35139     pentagon delay transgender recruitment by  month\n",
       "43171    the person overseeing domestic issue for trump...\n",
       "1136     settlement proposed in north carolina transgen...\n",
       "25424    chelsea manning begin hunger strike i need hel...\n",
       "1331     senator antilgbtq dig spark a tutu revolution ...\n",
       "36212    trump islamophobia and the toxic delusion of w...\n",
       "26927                                  i come from athlete\n",
       "12501    chelsea manning responds to donald trump tweet...\n",
       "4014     exclusive new report offer proof of u hate cri...\n",
       "8059     doctor will provide free surgery for trans mil...\n",
       "37167    the give and take of christmas and the case fo...\n",
       "46495    chelsea manning sentenced to solitary confinem...\n",
       "19629    federal court side with transgender teen gavin...\n",
       "38802    a gay marriage opponent just ousted a gop incu...\n",
       "3821     ‘rbg’ doc show how lasting political change of...\n",
       "27693    harvard rejection of chelsea manning and miche...\n",
       "8539     donald trump is exploiting lgbt people to perp...\n",
       "16618    devos finally agrees federal dollar shouldnt f...\n",
       "19106    hillary clinton hit trump administration for a...\n",
       "22709    trump outrageous proclamation about transgende...\n",
       "29134    kamala harris we cant have any pride when our ...\n",
       "37450    bill and tim and hillary and baracks excellent...\n",
       "38559          u pay tribute to  victim  year after attack\n",
       "13391    milo may not be going to cpac but gay conserva...\n",
       "18075    a a physician here why i stand in solidarity w...\n",
       "1627     mitch mcconnell tap antilgbtq bigot for religi...\n",
       "43428    justice kennedy grill baker in colorado samese...\n",
       "33268    house to vote this week on first package of ha...\n",
       "Name: headline, dtype: object"
      ]
     },
     "metadata": {},
     "output_type": "display_data"
    },
    {
     "name": "stdout",
     "output_type": "stream",
     "text": [
      "\n",
      "'SPORTS' predicted as 'QUEER VOICES' : 7 examples.\n"
     ]
    },
    {
     "data": {
      "text/plain": [
       "22294             sling of queen degrom latest mets injury\n",
       "38780    here how the married american figure skater ce...\n",
       "13517    how the spur kept james harden and kawhi leona...\n",
       "20656    sonia sotomayor dress up in support of yankee ...\n",
       "10659    missy franklin get a heartfelt homecoming afte...\n",
       "36399    exmlb prospect cut by team after video of him ...\n",
       "34286    olympian gu kenworthy burn ivanka trump tf is ...\n",
       "Name: headline, dtype: object"
      ]
     },
     "metadata": {},
     "output_type": "display_data"
    },
    {
     "name": "stdout",
     "output_type": "stream",
     "text": [
      "\n",
      "'ARTS' predicted as 'QUEER VOICES' : 9 examples.\n"
     ]
    },
    {
     "data": {
      "text/plain": [
       "4665     christopher walkens floating head currently ha...\n",
       "25438    margaret atwoods advice for young feminist be ...\n",
       "1765     finally a web series that navigates the horror...\n",
       "38941    everything is exhausting right now and merriam...\n",
       "28450    should we value friend love more than romantic...\n",
       "5996     actor jeff hiller talk “bright color and bold ...\n",
       "26668    download these illustration to protest discrim...\n",
       "25487    hear janet mock read a passage about selling a...\n",
       "17222     year on primo levi if this is a man is still ...\n",
       "Name: headline, dtype: object"
      ]
     },
     "metadata": {},
     "output_type": "display_data"
    },
    {
     "name": "stdout",
     "output_type": "stream",
     "text": [
      "\n",
      "'HEALTHY LIVING' predicted as 'QUEER VOICES' : 14 examples.\n"
     ]
    },
    {
     "data": {
      "text/plain": [
       "5526     weve long excused the sexually abusive behavio...\n",
       "34341    people are sharing their most cringeworthy aim...\n",
       "49312    there’s no such thing a ‘wine drunk’ or ‘tequi...\n",
       "32222         what happens when you put  people dna online\n",
       "18933    how to the bone glamorizes interpersonal conne...\n",
       "20267    few transgender teen opt for fertility preserv...\n",
       "17667    drug overdoses are killing a lot more people t...\n",
       "44621    this doctor want to transform transgender care...\n",
       "25091                  thing to say or do for the bereaved\n",
       "15994    the new gop health care bill would be devastat...\n",
       "3913              can we stop pretending love is beautiful\n",
       "3001      state just sued to keep discriminating agains...\n",
       "22649                 my story of surviving  year with hiv\n",
       "1002     this eating disorder awareness campaign boycot...\n",
       "Name: headline, dtype: object"
      ]
     },
     "metadata": {},
     "output_type": "display_data"
    },
    {
     "name": "stdout",
     "output_type": "stream",
     "text": [
      "\n",
      "'COMEDY' predicted as 'QUEER VOICES' : 7 examples.\n"
     ]
    },
    {
     "data": {
      "text/plain": [
       "20898    this guy get the cool guy haircut just in time...\n",
       "20581    kevin spacey competes with gordon ramsay at cu...\n",
       "7441     bundo boom the gay bunny book is absolutely cr...\n",
       "15340       these guy play a mean beat it with beer bottle\n",
       "37642      honestly samesex wedding cake just taste better\n",
       "16790    andy cohen donald trump is a season  ‘real hou...\n",
       "25034    this is exactly how donald trump would sing ‘a...\n",
       "Name: headline, dtype: object"
      ]
     },
     "metadata": {},
     "output_type": "display_data"
    },
    {
     "name": "stdout",
     "output_type": "stream",
     "text": [
      "\n",
      "'ENTERTAINMENT' predicted as 'QUEER VOICES' : 16 examples.\n"
     ]
    },
    {
     "data": {
      "text/plain": [
       "47153    meet one of the key attorney who fought for ma...\n",
       "2349     antilgbtq malaysian censor bend slightly to al...\n",
       "23979    ryan murphy defends american crime story again...\n",
       "37953           zayn malik is now bald and still beautiful\n",
       "43129    how the star of cmts new series sun record rev...\n",
       "48295    the unsolved tupac and notorious big murder to...\n",
       "26586    queer “baby steps” two wannabe dad one taiwane...\n",
       "5910     kevin spacey reportedly investigated by uk pol...\n",
       "8184     castro legacy on hbo  patria o muerte cuba fat...\n",
       "7009     lauren jauregui dish on fifth harmony trump an...\n",
       "7448      drag queen ada vox eliminated from american idol\n",
       "26069    a candid conversation with brian dunkleman the...\n",
       "26892    a poignant sgt pepperstyle tribute to the star...\n",
       "40069    pharrells singing partner caught on tape in ho...\n",
       "408      frank sinatra once told donald trump to go fk ...\n",
       "2967     expert explain why boyfriend rule for college ...\n",
       "Name: headline, dtype: object"
      ]
     },
     "metadata": {},
     "output_type": "display_data"
    },
    {
     "name": "stdout",
     "output_type": "stream",
     "text": [
      "\n",
      "'WORLDPOST' predicted as 'QUEER VOICES' : 14 examples.\n"
     ]
    },
    {
     "data": {
      "text/plain": [
       "26445        we thought gender wa only for educated people\n",
       "30777    u navy say some human remains found inside dam...\n",
       "27128    julian assanges extradition plan unclear after...\n",
       "519      over  year ago nazi victimized this community ...\n",
       "45974    a historic moment to end aid how we will do it...\n",
       "7360     australian survey say yes to samesex marriage ...\n",
       "6303     german lawmaker vote to legalize samesex marriage\n",
       "22452    caning of gay men in aceh not necessarily the ...\n",
       "36237    the great reaction against ethnic and gender i...\n",
       "32273    trans pacific partnership to forge ahead witho...\n",
       "39427    australian senate pass samesex marriage bill i...\n",
       "28221    winter olympics organizer confirm cyber attack...\n",
       "26510    how microfinance reduces gender inequality in ...\n",
       "6910     justin trudeaus pride sock have a notsohidden ...\n",
       "Name: headline, dtype: object"
      ]
     },
     "metadata": {},
     "output_type": "display_data"
    },
    {
     "name": "stdout",
     "output_type": "stream",
     "text": [
      "\n",
      "'PARENTS' predicted as 'QUEER VOICES' : 6 examples.\n"
     ]
    },
    {
     "data": {
      "text/plain": [
       "41818     inspirational and heartwarming read for stepp...\n",
       "23383    dad celebrates win after church add changing t...\n",
       "29083                            tip for backtoschool prep\n",
       "47468    we are all mariah careys son dancing to all i ...\n",
       "46970    this queen sugar scene challenge the idea boy ...\n",
       "25521    john legend on raising kid in a world filled w...\n",
       "Name: headline, dtype: object"
      ]
     },
     "metadata": {},
     "output_type": "display_data"
    },
    {
     "name": "stdout",
     "output_type": "stream",
     "text": [
      "\n",
      "'BUSINESS' predicted as 'QUEER VOICES' : 4 examples.\n"
     ]
    },
    {
     "data": {
      "text/plain": [
       "15358    target claim it wont start christmas early the...\n",
       "19959    the store a a showroom having your cake and ea...\n",
       "39170       thing you should never say during an interview\n",
       "45242    gender equality and the invisible problem in t...\n",
       "Name: headline, dtype: object"
      ]
     },
     "metadata": {},
     "output_type": "display_data"
    },
    {
     "name": "stdout",
     "output_type": "stream",
     "text": [
      "\n",
      "'BLACK VOICES' predicted as 'QUEER VOICES' : 7 examples.\n"
     ]
    },
    {
     "data": {
      "text/plain": [
       "16147    questlove lends his musical expertise to help ...\n",
       "47538    father kingdom take a look inside a forgotten ...\n",
       "25410    kobe bryant aim to inspire youth with animated...\n",
       "5938     this doll aim to empower kid with albinism and...\n",
       "40340    eating disorder are for skinny white girl and ...\n",
       "9619     a global inspiration ‘queen of katwe’ brings w...\n",
       "10865    lena waithes comedy centered on a queer black ...\n",
       "Name: headline, dtype: object"
      ]
     },
     "metadata": {},
     "output_type": "display_data"
    },
    {
     "name": "stdout",
     "output_type": "stream",
     "text": [
      "\n",
      "'CRIME' predicted as 'QUEER VOICES' : 8 examples.\n"
     ]
    },
    {
     "data": {
      "text/plain": [
       "154      child samesex couple identified in horrific up...\n",
       "11251     arrested in connection with shooting death of...\n",
       "13518    fugitive caretaker allegedly steal wwii vetera...\n",
       "39254    california killer is first u inmate to have st...\n",
       "9602     her husband killed  people in orlando now shes...\n",
       "14863     call shed light on what happened during orlan...\n",
       "14507    newsweek abc  report expose abuse torture of g...\n",
       "25863    orlando release pulse nightclub shooter call w...\n",
       "Name: headline, dtype: object"
      ]
     },
     "metadata": {},
     "output_type": "display_data"
    },
    {
     "name": "stdout",
     "output_type": "stream",
     "text": [
      "\n",
      "'IMPACT' predicted as 'QUEER VOICES' : 10 examples.\n"
     ]
    },
    {
     "data": {
      "text/plain": [
       "34618                            catastrophe and community\n",
       "48864    i just purged  percent of my closet why do i f...\n",
       "39386    why reforming the juvenile justice system is a...\n",
       "10388    pride in mental health an interview with lgbt ...\n",
       "17578    one world trade center spire glow in color of ...\n",
       "4429        to eradicate poverty eliminate gender inequity\n",
       "1899     how to help family of jacob wetterling boy who...\n",
       "8231     everyday i will move forward but i will never ...\n",
       "14868    building a movement amidst a broken system bla...\n",
       "36123    moving forward for child in california and nat...\n",
       "Name: headline, dtype: object"
      ]
     },
     "metadata": {},
     "output_type": "display_data"
    },
    {
     "name": "stdout",
     "output_type": "stream",
     "text": [
      "\n",
      "'STYLE' predicted as 'QUEER VOICES' : 3 examples.\n"
     ]
    },
    {
     "data": {
      "text/plain": [
       "2123                             george michael  s fashion\n",
       "32130    the best shopping in detroit is filled with de...\n",
       "17934    gant x future iconic retailer partner with des...\n",
       "Name: headline, dtype: object"
      ]
     },
     "metadata": {},
     "output_type": "display_data"
    },
    {
     "name": "stdout",
     "output_type": "stream",
     "text": [
      "\n",
      "'WOMEN' predicted as 'QUEER VOICES' : 10 examples.\n"
     ]
    },
    {
     "data": {
      "text/plain": [
       "23971    my husband is selfish forgetful and brash and ...\n",
       "16416    family can drive gender equality but only if w...\n",
       "35583    watch jill soloway give an insanely powerful s...\n",
       "15411    dear gop stop making trans bathroom law about ...\n",
       "5911      step to combat gender disparity in the workplace\n",
       "47225    tackling the future ceo game plan to end gende...\n",
       "34840    meet the first hijabi woman to grace the cover...\n",
       "28490    comaternity and reciprocal ivf empowering lesb...\n",
       "32730    princeton club is forcing partygoer to read ab...\n",
       "10494    stephen hawking teach pier morgan a valuable l...\n",
       "Name: headline, dtype: object"
      ]
     },
     "metadata": {},
     "output_type": "display_data"
    },
    {
     "name": "stdout",
     "output_type": "stream",
     "text": [
      "\n",
      "'RELIGION' predicted as 'QUEER VOICES' : 7 examples.\n"
     ]
    },
    {
     "data": {
      "text/plain": [
       "40220    lesbian pastor forced to resign over methodist...\n",
       "6593     gay man say pope francis told him ‘god made yo...\n",
       "43267    fighting for our son in a culture that seek to...\n",
       "38375    new series on the secret life of muslim aim to...\n",
       "11320    new york time responds to backlash from mormon...\n",
       "9421     i’m an evangelical and i support a transgender...\n",
       "5188     pilgrimage of mercy in new york to support lgb...\n",
       "Name: headline, dtype: object"
      ]
     },
     "metadata": {},
     "output_type": "display_data"
    },
    {
     "name": "stdout",
     "output_type": "stream",
     "text": [
      "\n",
      "'TRAVEL' predicted as 'QUEER VOICES' : 2 examples.\n"
     ]
    },
    {
     "data": {
      "text/plain": [
       "25761    how landmark around the world got all dressed ...\n",
       "36834    love is in the air qantas pilot pop the questi...\n",
       "Name: headline, dtype: object"
      ]
     },
     "metadata": {},
     "output_type": "display_data"
    },
    {
     "name": "stdout",
     "output_type": "stream",
     "text": [
      "\n",
      "'SCIENCE' predicted as 'MEDIA' : 2 examples.\n"
     ]
    },
    {
     "data": {
      "text/plain": [
       "18852    weather channel destroys breitbart over b clim...\n",
       "5583     this tv meteorologist ha absolutely had it wit...\n",
       "Name: headline, dtype: object"
      ]
     },
     "metadata": {},
     "output_type": "display_data"
    },
    {
     "name": "stdout",
     "output_type": "stream",
     "text": [
      "\n",
      "'POLITICS' predicted as 'MEDIA' : 59 examples.\n"
     ]
    },
    {
     "data": {
      "text/plain": [
       "37774    fox news sean hannity ha our full support foll...\n",
       "20794    new yorker cover prof the election ha made new...\n",
       "20890              trump newest lawyer implodes on live tv\n",
       "22317                    sarah palin sue the new york time\n",
       "6061     harvey weinsteins audio is the horrifying sequ...\n",
       "49294    cnns jake tapper fling refugee contradiction a...\n",
       "25103            mtv news staff announces plan to unionize\n",
       "11790    a psychotherapist reacts to today political an...\n",
       "41052    twitter reacts after trump retweets photo of h...\n",
       "16427    new york time editorial donald trump bragged a...\n",
       "35563    fox cant believe people would question an elec...\n",
       "40988              cable news ha a terrible sexism problem\n",
       "84       phoenix newspaper tear into former sheriff joe...\n",
       "39310    sean hannity defends real estate empire aided ...\n",
       "34522                why am i yelling at cnns poppy harlow\n",
       "32032    trump tweet fox news story citing unnamed sour...\n",
       "34683    trump ally roger stone suspended from twitter ...\n",
       "2574     the vietnam protestor and the kneeling athlete...\n",
       "38192    jake tapper who love to bash general donald trump\n",
       "16731                          in praise of the free press\n",
       "14629    fox stand by dnc murder conspiracy theory even...\n",
       "3439     trump hud official lynne patton under fire aft...\n",
       "23301    cuomo want wealthy to sponsor subway de blasio...\n",
       "36241    this mashup of people on fox news advising tru...\n",
       "34483    so mooch for that anthony scaramuccis gamechan...\n",
       "42446    sean hannity appears to bash cnn nbc while sha...\n",
       "25201    journalist alleges roger ailes harassed her in...\n",
       "38087         cable news network are trump greatest sucker\n",
       "28078    lying to the press is nothing new for the pres...\n",
       "2487     why bill oreillys fall from grace is particula...\n",
       "16926    fox news host argues against border wall using...\n",
       "44591    neonazi site daily stormer praise trump charlo...\n",
       "22168    settlement free tomi lahren from glenn beck ne...\n",
       "46812       fox news love wikileaks except when it doesn’t\n",
       "14899    josh earnest want the new york time to give ob...\n",
       "36866    white liberal celebrating tomi lahren’s daily ...\n",
       "25382    nyt reporter hit back at trump say she know wh...\n",
       "12479    poisoning the well the view of sinclair broadc...\n",
       "10799    cnns erin burnett report donald trump kissed h...\n",
       "19957    how the religious right pioneered propaganda a...\n",
       "20932    minnesota woman blamed for al frankens fall ha...\n",
       "47563        worker unionize at socialist magazine jacobin\n",
       "18803    creation of trump tv show the importance of ma...\n",
       "22215    fox news host jesse watters finally get in tro...\n",
       "36859    robocall impersonating washington post reporte...\n",
       "40496    ann coulter reject rescheduling offer from uc ...\n",
       "9215     dan rather slam journalist who hailed donald t...\n",
       "48966    newspaper run photo of alec baldwin instead of...\n",
       "1770             day since news of an impeachable scandal \n",
       "30514             trump’s  technique to control the medium\n",
       "49052    bill de blasio named a new school chancellor t...\n",
       "43018    fox  friend say journalism matter is antitrump...\n",
       "26685    gop lawmaker matt gaetz slam haiti ‘sheet meta...\n",
       "20347    fox news host say lindsey vonn is unamerican f...\n",
       "47327    sean hannity defends withholding link to trump...\n",
       "44888    donald trump jr tell sean hannity that the dow...\n",
       "21631        vox medium employee announce plan to unionize\n",
       "47498    trump defends conservative medium company afte...\n",
       "33381    van jones talk to donald trump supporter in at...\n",
       "Name: headline, dtype: object"
      ]
     },
     "metadata": {},
     "output_type": "display_data"
    },
    {
     "name": "stdout",
     "output_type": "stream",
     "text": [
      "\n",
      "'SPORTS' predicted as 'MEDIA' : 6 examples.\n"
     ]
    },
    {
     "data": {
      "text/plain": [
       "3598     these jam from the slam dunk contest are even ...\n",
       "47610    cbs reporter spark uproar by mistakenly claimi...\n",
       "33392    rush limbaugh defends harvard soccer team sexu...\n",
       "12159    columnist call out marshawn lynch to explain n...\n",
       "16344    radio host defends fk tweet at yearold nun and...\n",
       "836      george w bush just videobombed a reporter at a...\n",
       "Name: headline, dtype: object"
      ]
     },
     "metadata": {},
     "output_type": "display_data"
    },
    {
     "name": "stdout",
     "output_type": "stream",
     "text": [
      "\n",
      "'ARTS' predicted as 'MEDIA' : 2 examples.\n"
     ]
    },
    {
     "data": {
      "text/plain": [
       "40894    protrump troll target megyn kelly’s new book o...\n",
       "10945    the prospect ny launch with limited edition by...\n",
       "Name: headline, dtype: object"
      ]
     },
     "metadata": {},
     "output_type": "display_data"
    },
    {
     "name": "stdout",
     "output_type": "stream",
     "text": [
      "\n",
      "'QUEER VOICES' predicted as 'MEDIA' : 6 examples.\n"
     ]
    },
    {
     "data": {
      "text/plain": [
       "7229                awesome psa shuts down antitrans bigot\n",
       "14880    lindsay lohan say past relationship with woman...\n",
       "18765    johnny weir isnt here for tonya harding medium...\n",
       "25945    right wing medium blast manning sentence news ...\n",
       "35567    laura ingraham once sent a student reporter to...\n",
       "38515    anderson cooper and longtime boyfriend benjami...\n",
       "Name: headline, dtype: object"
      ]
     },
     "metadata": {},
     "output_type": "display_data"
    },
    {
     "name": "stdout",
     "output_type": "stream",
     "text": [
      "\n",
      "'HEALTHY LIVING' predicted as 'MEDIA' : 2 examples.\n"
     ]
    },
    {
     "data": {
      "text/plain": [
       "44712    a gym just banned cable news because people ke...\n",
       "38488    can std be transmitted through swimming pool a...\n",
       "Name: headline, dtype: object"
      ]
     },
     "metadata": {},
     "output_type": "display_data"
    },
    {
     "name": "stdout",
     "output_type": "stream",
     "text": [
      "\n",
      "'COMEDY' predicted as 'MEDIA' : 5 examples.\n"
     ]
    },
    {
     "data": {
      "text/plain": [
       "31589    cnn troll the white house by sending sketch ar...\n",
       "17807    the question we all have about nintendos new m...\n",
       "38916    daily show tease trump and fox news over eclip...\n",
       "11872    local news anchor report fake good news to dis...\n",
       "49088    on the daily show god rip bill oreilly on pers...\n",
       "Name: headline, dtype: object"
      ]
     },
     "metadata": {},
     "output_type": "display_data"
    },
    {
     "name": "stdout",
     "output_type": "stream",
     "text": [
      "\n",
      "'ENTERTAINMENT' predicted as 'MEDIA' : 16 examples.\n"
     ]
    },
    {
     "data": {
      "text/plain": [
       "29026    jackie chan say rush hour  in the work though ...\n",
       "6723     charlize theron to play megyn kelly in film ab...\n",
       "21341    geoffrey rush step down from australian film a...\n",
       "729      powerful new york time ad about metoo set to a...\n",
       "49423             youtube is getting into the live tv game\n",
       "44676    restaurateur david chang is launching a new cu...\n",
       "18465    mark wahlberg force journalist to reenact spic...\n",
       "32322    fox news mull over whether wonder woman is ame...\n",
       "26893    dax shepard want to be progressive while writi...\n",
       "15705    teen son of radio host delilah dy of suicide a...\n",
       "43927    jane fonda ha no time for megyn kelly question...\n",
       "8992     anderson cooper tell conan haiti is among the ...\n",
       "9443     nature documentary might offer relief from anx...\n",
       "42335      glenn beck offer bill oreilly a job at theblaze\n",
       "14000    misty copeland and the rock oppose under armou...\n",
       "36934    people hope ann curry is basking in the glow o...\n",
       "Name: headline, dtype: object"
      ]
     },
     "metadata": {},
     "output_type": "display_data"
    },
    {
     "name": "stdout",
     "output_type": "stream",
     "text": [
      "\n",
      "'ENVIRONMENT' predicted as 'MEDIA' : 3 examples.\n"
     ]
    },
    {
     "data": {
      "text/plain": [
       "28164    new report show ca govt may be covering up hea...\n",
       "38639    bill nye slam cnn for putting climate change s...\n",
       "44728    the no paper challenge what if we wrapped gift...\n",
       "Name: headline, dtype: object"
      ]
     },
     "metadata": {},
     "output_type": "display_data"
    },
    {
     "name": "stdout",
     "output_type": "stream",
     "text": [
      "\n",
      "'BLACK VOICES' predicted as 'MEDIA' : 2 examples.\n"
     ]
    },
    {
     "data": {
      "text/plain": [
       "28725    no chris cuomo being called fake news is not e...\n",
       "42026    nyt bestselling author mychal denzel smith exp...\n",
       "Name: headline, dtype: object"
      ]
     },
     "metadata": {},
     "output_type": "display_data"
    },
    {
     "name": "stdout",
     "output_type": "stream",
     "text": [
      "\n",
      "'WOMEN' predicted as 'MEDIA' : 10 examples.\n"
     ]
    },
    {
     "data": {
      "text/plain": [
       "46754    radio station blasted for babe bracket that ra...\n",
       "42564    fox sport host desperate for controversy go on...\n",
       "36871    male radio host demand pay cut for one selfles...\n",
       "48375    bill o’reilly meet pope francis the same day f...\n",
       "1635     tucker carlson taking megyn kelly job is the p...\n",
       "18088    martha raddatz wa the mvp of that horrifying d...\n",
       "39341    sexual assault survivor gather outside fox new...\n",
       "32107    how many woman doe it take to change a cable n...\n",
       "22236    the hollywood reporter cover story on cnn does...\n",
       "39901    woman will take down men like trump o’reilly a...\n",
       "Name: headline, dtype: object"
      ]
     },
     "metadata": {},
     "output_type": "display_data"
    },
    {
     "name": "stdout",
     "output_type": "stream",
     "text": [
      "\n",
      "'SCIENCE' predicted as 'HEALTHY LIVING' : 10 examples.\n"
     ]
    },
    {
     "data": {
      "text/plain": [
       "17731     a chat with information scientist pedro marijuán\n",
       "15681    pesticide put wild bee at risk food safety wat...\n",
       "29932    exercise changed this neuroscientist’s life an...\n",
       "27288    the only thing better than a double rainbow is...\n",
       "23503    scientist take big step toward being able to r...\n",
       "47104                             big loss for science in \n",
       "41816    twitter help confirm xshaped bulge at center o...\n",
       "7552     these personality trait could put you at risk ...\n",
       "18176                        what actually cause body odor\n",
       "43357      we need scientific integrity in cannabis policy\n",
       "Name: headline, dtype: object"
      ]
     },
     "metadata": {},
     "output_type": "display_data"
    },
    {
     "name": "stdout",
     "output_type": "stream",
     "text": [
      "\n",
      "'POLITICS' predicted as 'HEALTHY LIVING' : 60 examples.\n"
     ]
    },
    {
     "data": {
      "text/plain": [
       "24003    congress is about to pas a bill that show dc a...\n",
       "9100                     young vulnerable and slapped down\n",
       "29357    we must thwart the rising oligarchy in the uni...\n",
       "44633    trump fear of being poisoned reportedly fuel h...\n",
       "27778    huckabee joke about lifeshattering zika virus ...\n",
       "6561     craigslists sex work ad saved  woman life a bi...\n",
       "33286          desensitization work slowly but effectively\n",
       "28387          yes bookmobile are still a thing we checked\n",
       "8143     mylan offer discount on epipen after clinton c...\n",
       "28055                                the body slam politic\n",
       "353      want to stop fighting about politics ask these...\n",
       "37557                    trumpland and the heroin epidemic\n",
       "28624              my preexisting condition wasnt a choice\n",
       "24930                  study cannabis may reduce crack use\n",
       "33390       a bold step to control prescription drug price\n",
       "28336        why hispanic are leaving some southern county\n",
       "1883     louisville rocked by  overdose call in just  hour\n",
       "23829          saving amazing young grace and her medicaid\n",
       "41228    for addicted doctor confidential treatment tha...\n",
       "22727    if you love high deductible then youll love th...\n",
       "8097     a medicaid work requirement would be bad polic...\n",
       "24842         it’s high time we research medical marijuana\n",
       "5899     we dont know yet if soda tax will make u healt...\n",
       "27675                  senate health bill called antirural\n",
       "38822    flaw in how we evaluate leader from kahnemans ...\n",
       "2907                        im a nonvoter and im not sorry\n",
       "35667    hundred of health group plead with trump to lo...\n",
       "43500           four reason well survive the trumpocalypse\n",
       "39577    health official warns zika could spread across...\n",
       "43583    the zika vaccine the miracle of governmentfund...\n",
       "11599    me too i think when sexual harassment feel all...\n",
       "2973     how telemarketers sold false hope to strugglin...\n",
       "19294    the ahca discriminates against me and other yo...\n",
       "3131     doctor speak out against the better care recon...\n",
       "37760    home care provider deserve the option to work ...\n",
       "35425    pharma mogul raymond sackler whose drug spawne...\n",
       "25613                     mental health and nuclear weapon\n",
       "19546    during domestic violence awareness month a com...\n",
       "40960    people tell their tragic story to try to slow ...\n",
       "25559        average american just got a huge income boost\n",
       "33937                                  continent of secret\n",
       "33175    the heroin and opioid crisis is gridlocked by ...\n",
       "1925                         saving medicaid  an urgent so\n",
       "20330    we need the internet now more than ever but ti...\n",
       "15589    chicago area official demand accountability fo...\n",
       "6895     study identifies more than  fracking spill ove...\n",
       "22894                   safeguarding the future of science\n",
       "28004        why it’s hard to crack down on drowsy driving\n",
       "20038    supporting california manufacturing is key to ...\n",
       "22661    disturbing report make compelling case for dec...\n",
       "15560           new app map overdose epidemic in real time\n",
       "2158     how washington should deal with a china which ...\n",
       "24965    when is difference a big pain in the neck when...\n",
       "45190     school meal can save a life and change the world\n",
       "48835    happy birthday medicaid from the million who l...\n",
       "44215    head of cdc step down after purchasing tobacco...\n",
       "46596            with opioid crisis a surge in hepatitis c\n",
       "5192     massachusetts is offering a model for how doct...\n",
       "16042    the successful hospital cyber attack that hurt...\n",
       "13799              outsourcing injustice forever and a day\n",
       "Name: headline, dtype: object"
      ]
     },
     "metadata": {},
     "output_type": "display_data"
    },
    {
     "name": "stdout",
     "output_type": "stream",
     "text": [
      "\n",
      "'SPORTS' predicted as 'HEALTHY LIVING' : 5 examples.\n"
     ]
    },
    {
     "data": {
      "text/plain": [
       "11388    charles barkley announces he will attend fat f...\n",
       "35642    here maybe the definitive way to pronounce pye...\n",
       "24548    exnfl tight end konrad reuland dy of brain ane...\n",
       "16621    belgian suspect dirty water for laser sailor i...\n",
       "36940          espns holly rowe say her cancer ha returned\n",
       "Name: headline, dtype: object"
      ]
     },
     "metadata": {},
     "output_type": "display_data"
    },
    {
     "name": "stdout",
     "output_type": "stream",
     "text": [
      "\n",
      "'ARTS' predicted as 'HEALTHY LIVING' : 8 examples.\n"
     ]
    },
    {
     "data": {
      "text/plain": [
       "2084     this poem about the darkness of depression get...\n",
       "29273                 dina brodsky the secret life of tree\n",
       "48363    there’s a reason why indie bookstore are thriving\n",
       "24389    grammarfixing app is the ultimate mic drop for...\n",
       "26655     dating lesson learned from the everquotable d...\n",
       "2807     this is rei kawakubo the designer breaking dow...\n",
       "22914    life lesson learned while bringing art to hosp...\n",
       "12624    the profound reason we should all read interna...\n",
       "Name: headline, dtype: object"
      ]
     },
     "metadata": {},
     "output_type": "display_data"
    },
    {
     "name": "stdout",
     "output_type": "stream",
     "text": [
      "\n",
      "'QUEER VOICES' predicted as 'HEALTHY LIVING' : 14 examples.\n"
     ]
    },
    {
     "data": {
      "text/plain": [
       "8320                      living through attempted suicide\n",
       "43806     you are no le of a man for having been assaulted\n",
       "32892              where you live may add to why you smoke\n",
       "25980    doctor resort to nonsensical reasoning to just...\n",
       "12452    yes outing nazi is absolutely the right thing ...\n",
       "20626    lost orgasm reward if found the year i couldnt...\n",
       "10614    calling trans kid by their chosen name lower r...\n",
       "12880       blood map and fear this week lgbtwellness news\n",
       "25398    tampon and death threat tackling transphobia a...\n",
       "4076     ask bear i had sex with someone i shouldnt hav...\n",
       "4803     why publicly discussing my hivpositive status ...\n",
       "46280                     how to have an open relationship\n",
       "48486    new combo hiv medication approved by fda promp...\n",
       "47186               how coming out may help prevent cancer\n",
       "Name: headline, dtype: object"
      ]
     },
     "metadata": {},
     "output_type": "display_data"
    },
    {
     "name": "stdout",
     "output_type": "stream",
     "text": [
      "\n",
      "'MEDIA' predicted as 'HEALTHY LIVING' : 2 examples.\n"
     ]
    },
    {
     "data": {
      "text/plain": [
       "38646    sean hannitys pee pee tape discussion go compl...\n",
       "39675    onion begs gianforte to beat it bad staff beca...\n",
       "Name: headline, dtype: object"
      ]
     },
     "metadata": {},
     "output_type": "display_data"
    },
    {
     "name": "stdout",
     "output_type": "stream",
     "text": [
      "\n",
      "'COMEDY' predicted as 'HEALTHY LIVING' : 11 examples.\n"
     ]
    },
    {
     "data": {
      "text/plain": [
       "4127     here how a therapy session with your period wo...\n",
       "28509    check out the hilarious device that let racist...\n",
       "30124              dating duhs  way to tell if he into you\n",
       "46146    this is what happens when you try to pas off t...\n",
       "15646          top  thing a living person want to tell you\n",
       "4843     if their name is not in your phone yet you may...\n",
       "5065             top new year resolushuns the people guide\n",
       "232      how do you sleep at night while cutting meal o...\n",
       "36550    this comedian make a solid case for why gatora...\n",
       "5831     comedian show how easy it is to get a medical ...\n",
       "41172    how to stay healthy when the affordable care a...\n",
       "Name: headline, dtype: object"
      ]
     },
     "metadata": {},
     "output_type": "display_data"
    },
    {
     "name": "stdout",
     "output_type": "stream",
     "text": [
      "\n",
      "'EDUCATION' predicted as 'HEALTHY LIVING' : 4 examples.\n"
     ]
    },
    {
     "data": {
      "text/plain": [
       "46930    how recent grad can avoid the most common entr...\n",
       "5116     the simple way a growing number of state are h...\n",
       "47278       tip for talking history to your kindergartener\n",
       "19321                                 what common core won\n",
       "Name: headline, dtype: object"
      ]
     },
     "metadata": {},
     "output_type": "display_data"
    },
    {
     "name": "stdout",
     "output_type": "stream",
     "text": [
      "\n",
      "'ENTERTAINMENT' predicted as 'HEALTHY LIVING' : 30 examples.\n"
     ]
    },
    {
     "data": {
      "text/plain": [
       "1399                 from the ash live in your living room\n",
       "12359    gregg sulkin compare workout to  get appropria...\n",
       "47573    the insidious ugliness of m night shyamalans s...\n",
       "27265    angry grammys viewer have no patience for lord...\n",
       "20904    amanda seyfried and thomas sadoski did the who...\n",
       "7030               sophie from the holiday is all grown up\n",
       "38682    catt sadler say she quit e news because male c...\n",
       "37869              dnce confirms they dont use autocorrect\n",
       "9897     rachael leigh cook remixes that famous brain o...\n",
       "20883    soothe yourself in this long haul we call life...\n",
       "23160    priyanka chopra rushed to hospital after falli...\n",
       "48847    lili reinhart recall coworker who tried to for...\n",
       "21269     valuable lesson i learned attempting to make ...\n",
       "14179    thandie newton i wasnt hot enough to join time...\n",
       "45016    zayn malik acoustic version of i dont wanna li...\n",
       "36760    zosia mamet begin her postgirls career with an...\n",
       "42802    how kate winslet and leo dicaprio used titanic...\n",
       "37310    eddie redmayne say it ok to be a hufflepuff in...\n",
       "937      woman break into drake’s home help herself to ...\n",
       "17223          in the future your thought may become tweet\n",
       "26165    career suicide a one man one act comedic journ...\n",
       "15421            cordcutting option to help save you money\n",
       "11232    the magic school bus fly inside trump body to ...\n",
       "25006    kesha explains why the holiday are so draining...\n",
       "9388     björk will make fun of you if you ask for her ...\n",
       "47848    ludacris explains why the new fear factor is l...\n",
       "46993           boyz ii men on the secret to their success\n",
       "33047          timothée chalamet is the heartthrob we need\n",
       "32391    wayne coyne want more futuristic drug that we ...\n",
       "27927    dolly parton’s cmas speech is another reason w...\n",
       "Name: headline, dtype: object"
      ]
     },
     "metadata": {},
     "output_type": "display_data"
    },
    {
     "name": "stdout",
     "output_type": "stream",
     "text": [
      "\n",
      "'ENVIRONMENT' predicted as 'HEALTHY LIVING' : 5 examples.\n"
     ]
    },
    {
     "data": {
      "text/plain": [
       "24514    controversy question surround california’s lis...\n",
       "23719    californian are conserving le water but the dr...\n",
       "918      will new scientific breakthrough pave the way ...\n",
       "43589     time running water wa no match for this crazy...\n",
       "28178                    safe tap water take a lot of work\n",
       "Name: headline, dtype: object"
      ]
     },
     "metadata": {},
     "output_type": "display_data"
    },
    {
     "name": "stdout",
     "output_type": "stream",
     "text": [
      "\n",
      "'WORLDPOST' predicted as 'HEALTHY LIVING' : 18 examples.\n"
     ]
    },
    {
     "data": {
      "text/plain": [
       "49446    how best to prepare for epidemic strengthen pr...\n",
       "20036                 qatar need to change it way and fast\n",
       "35331    bird flu learning lesson from traditional huma...\n",
       "16959    nafta renegotiation exercise in protectionism ...\n",
       "39112    france ban free soda refill in latest effort t...\n",
       "15702    yellow fever outbreak in brazil ha ended with ...\n",
       "18787     lesson weve learned from aid that can be appl...\n",
       "48340                      the u military’s drug of choice\n",
       "39917     expert to read on the desperate health crisis...\n",
       "17284             dead from unexplained illness in liberia\n",
       "11416    fitness app strava published heat map detail a...\n",
       "12505    kayaker face life ban after spiking rival drin...\n",
       "28076    here what a christmas party is like in one of ...\n",
       "26846    body of missing us fitzgerald sailor found in ...\n",
       "41060    the strength of somali mean grief for mogadish...\n",
       "499      four million in damascus without safe drinking...\n",
       "10637     million reward offered in new no find no fee ...\n",
       "49910          bill gate wont save you from the next ebola\n",
       "Name: headline, dtype: object"
      ]
     },
     "metadata": {},
     "output_type": "display_data"
    },
    {
     "name": "stdout",
     "output_type": "stream",
     "text": [
      "\n",
      "'PARENTS' predicted as 'HEALTHY LIVING' : 29 examples.\n"
     ]
    },
    {
     "data": {
      "text/plain": [
       "7346     why i’ll never complain about turning another ...\n",
       "5893     boy call  to ask deputy over for family thanks...\n",
       "46512                        and mile to go before i sleep\n",
       "33712               the thing i forgot an ode to mom brain\n",
       "45800     the scientific case for reading to your monthold\n",
       "11987    sorry i wa in the way but the thing is i have ...\n",
       "48879              dear doctor you got down syndrome wrong\n",
       "47770    mommy and the beast growing up under the linge...\n",
       "28696          the  healthiest fast food menu item for kid\n",
       "5404     dear millennials and the people who raised the...\n",
       "2912     this little boy watching motorbike is what pur...\n",
       "5446      eleven life lesson i learned from my grandfather\n",
       "11811    why im worried an inhospitable present for peo...\n",
       "39393            no my baby doesnt sleep through the night\n",
       "47041                           how my mother saved summer\n",
       "3622     what parent can learn from teen vogue sex advi...\n",
       "40055      people are loving this yearolds shoetying trick\n",
       "34109    vaccine are crucial and safe so why are parent...\n",
       "31946             i quit cosleeping and it changed my life\n",
       "21823                 saying goodbye a miscarriage journey\n",
       "14085      there no place like a safe home for the holiday\n",
       "8723     let them eat peanut  do you really understand ...\n",
       "27945                   expert way to stop sibling rivalry\n",
       "44345    the  most important scientific study for paren...\n",
       "18686    mental health and childbirth do what feel righ...\n",
       "47040          real tale from my sleepdeprived mommy brain\n",
       "42267    huggies partner with nicu nurse to create diap...\n",
       "30239     childrens swimsuit recalled due to choking ha...\n",
       "1606     frozen condom for postchildbirth pain are a thing\n",
       "Name: headline, dtype: object"
      ]
     },
     "metadata": {},
     "output_type": "display_data"
    },
    {
     "name": "stdout",
     "output_type": "stream",
     "text": [
      "\n",
      "'BUSINESS' predicted as 'HEALTHY LIVING' : 21 examples.\n"
     ]
    },
    {
     "data": {
      "text/plain": [
       "43028    sabra recall hummus product over listeria conc...\n",
       "3737                         remote work can work for tech\n",
       "17960    epipen maker mylan to pay  million for shifty ...\n",
       "38618         the  worst mistake you can ever make at work\n",
       "4176                           an african answer to growth\n",
       "12234    google this best way to handle a hostile cowor...\n",
       "41705                  surprising habit of powerful people\n",
       "40373       what happens after you crack the glass ceiling\n",
       "24414                habit of people who make thing happen\n",
       "13643    chipotle reopening restaurant linked to custom...\n",
       "11026         way to get people to take you more seriously\n",
       "14113     the one thing more valuable than money or health\n",
       "13336    stress literally shrink your brain  way to rev...\n",
       "45255         the  worst mistake you can ever make at work\n",
       "26648             hating your job might be making you sick\n",
       "9769                    navigating emotional labor at work\n",
       "48106               success tip for firsttime entrepreneur\n",
       "44253     way to test for cultural fit at your next int...\n",
       "15229       way to check reference to avoid toxic employee\n",
       "29624         way to get people to take you more seriously\n",
       "31427    boxing day survival guide for people with bad ...\n",
       "Name: headline, dtype: object"
      ]
     },
     "metadata": {},
     "output_type": "display_data"
    },
    {
     "name": "stdout",
     "output_type": "stream",
     "text": [
      "\n",
      "'BLACK VOICES' predicted as 'HEALTHY LIVING' : 9 examples.\n"
     ]
    },
    {
     "data": {
      "text/plain": [
       "47545    here are some answer to frequently asked quest...\n",
       "12301                           diet support aka diet ally\n",
       "15174    reframing microagressions the visible tip of t...\n",
       "10960           africanamericans can smoke out lung cancer\n",
       "1792     here a first look at sorry to bother you starr...\n",
       "46246    the notorious bigs family talk managing his li...\n",
       "1316     childish gambinos this is america hit no  spot...\n",
       "17320    how this woman is helping to bring health care...\n",
       "45959    newsflash there nothing funny about mental ill...\n",
       "Name: headline, dtype: object"
      ]
     },
     "metadata": {},
     "output_type": "display_data"
    },
    {
     "name": "stdout",
     "output_type": "stream",
     "text": [
      "\n",
      "'CRIME' predicted as 'HEALTHY LIVING' : 6 examples.\n"
     ]
    },
    {
     "data": {
      "text/plain": [
       "20871    if you’re on the internet talking about a shoo...\n",
       "34892    no jail time for fertility doctor who used his...\n",
       "36726    someone tied a hedgehog to a tree with a makes...\n",
       "18191    tracy sinyee tam identified a doctor gunned do...\n",
       "40774    loud noise mistaken for gunfire cause panic at...\n",
       "23005    arrest made after missing teen body found deca...\n",
       "Name: headline, dtype: object"
      ]
     },
     "metadata": {},
     "output_type": "display_data"
    },
    {
     "name": "stdout",
     "output_type": "stream",
     "text": [
      "\n",
      "'IMPACT' predicted as 'HEALTHY LIVING' : 22 examples.\n"
     ]
    },
    {
     "data": {
      "text/plain": [
       "33753     the world is complex  thats why we need all of u\n",
       "6257     more than  raised in  day for teen tortured on...\n",
       "41413    watch what life is like with the disfiguring d...\n",
       "49680    here how to avoid wasting absurd amount of foo...\n",
       "15656    with it way of life at risk this remote oyster...\n",
       "48063    delaying breastfeeding at birth increase risk ...\n",
       "4555                  a photo campaign to end period shame\n",
       "194                          a new year a time to recommit\n",
       "23491                                 where zika came from\n",
       "23597    growing population need le waste not more food...\n",
       "38574    angola drc launch massive vaccine campaign to ...\n",
       "29603    science say relationship fail when these four ...\n",
       "6498     the one thing youre not doing to seriously red...\n",
       "12896               yes these cow actually milk themselves\n",
       "12822                tip to ensure a peaceful thanksgiving\n",
       "21782      a california burn here how to make a difference\n",
       "13303    global gag rule expansion will harm global hea...\n",
       "39505    how human are laying out the welcome mat for m...\n",
       "19400    in the rush toward a cashless society the poor...\n",
       "48547                         a view from the “other side”\n",
       "6472     youre going to use that selfcheckout machine w...\n",
       "49214    how to volunteer over the holiday  and into th...\n",
       "Name: headline, dtype: object"
      ]
     },
     "metadata": {},
     "output_type": "display_data"
    },
    {
     "name": "stdout",
     "output_type": "stream",
     "text": [
      "\n",
      "'STYLE' predicted as 'HEALTHY LIVING' : 8 examples.\n"
     ]
    },
    {
     "data": {
      "text/plain": [
       "6582            secret of a professional present purchaser\n",
       "37397    this sweater is perfect for anyone who is done...\n",
       "13621    so thats why a ball drop in time square on new...\n",
       "32630    sorry internet but men have been wearing choke...\n",
       "14378    scientist think theyve found the cause for gra...\n",
       "10342    rafael nadal justifies why his short have been...\n",
       "3438      outrageously easy way to repurpose an entire ...\n",
       "1239     sharon schweitzer’s  holiday tipping guide  ch...\n",
       "Name: headline, dtype: object"
      ]
     },
     "metadata": {},
     "output_type": "display_data"
    },
    {
     "name": "stdout",
     "output_type": "stream",
     "text": [
      "\n",
      "'WOMEN' predicted as 'HEALTHY LIVING' : 27 examples.\n"
     ]
    },
    {
     "data": {
      "text/plain": [
       "36272          running saved me from postpartum depression\n",
       "33342    proabortion video “what do these object have i...\n",
       "47032                    i refuse to be ashamed of my body\n",
       "4034      simple way to fight the patriarchy from your ...\n",
       "10181    love your former self even if she doesnt make ...\n",
       "22624    you call u malcontent and dissident like it a ...\n",
       "12855                            no thank you i dont drink\n",
       "23499    to honor vera rubins life learn about  groundb...\n",
       "47615                      important thing ive learned by \n",
       "17920           why i’m not flaunting my curve this summer\n",
       "34844     reason why the dating system is broken and ho...\n",
       "5591     the patriarchal stigma of period and how blood...\n",
       "47965    if you really want to limit abortion protect f...\n",
       "26741                         thing to give a st about in \n",
       "9382     body and soul when faced with breast cancer wh...\n",
       "33983     beautifully honest carrie fisher quote every ...\n",
       "24375    word that help and word that don’t help a grie...\n",
       "23400    is your cell phone more exciting than your par...\n",
       "27819                                dear body let make up\n",
       "30528    it time to end the birth control cause miscarr...\n",
       "34143     how one yoga teacher made peace with feeling fat\n",
       "2552     simple book help adult men answer pressing que...\n",
       "26252          i care for everyone but im nobody caretaker\n",
       "6006                  breast cancer if tomorrow never come\n",
       "27081                    losing weight is not antifeminist\n",
       "38714                habit professional woman should break\n",
       "35994    chrissy teigens openness about depression empo...\n",
       "Name: headline, dtype: object"
      ]
     },
     "metadata": {},
     "output_type": "display_data"
    },
    {
     "name": "stdout",
     "output_type": "stream",
     "text": [
      "\n",
      "'RELIGION' predicted as 'HEALTHY LIVING' : 7 examples.\n"
     ]
    },
    {
     "data": {
      "text/plain": [
       "5593                                  a period and a comma\n",
       "37561                    doing better at intersectionality\n",
       "25390    student rejoice after brigham young university...\n",
       "23935         new study show antisemitism soared last year\n",
       "15711                                our response to grief\n",
       "41849              in case of emergency revolutionary love\n",
       "31997                                  ritual for new year\n",
       "Name: headline, dtype: object"
      ]
     },
     "metadata": {},
     "output_type": "display_data"
    },
    {
     "name": "stdout",
     "output_type": "stream",
     "text": [
      "\n",
      "'TRAVEL' predicted as 'HEALTHY LIVING' : 10 examples.\n"
     ]
    },
    {
     "data": {
      "text/plain": [
       "36283    where to see the milky way before light pollut...\n",
       "48956    olympic thrill and a few chill on a summer pug...\n",
       "18854                           wanderlust isnt a medicine\n",
       "33873                 how to give your pasta a second life\n",
       "37662       why you should go on a holiday for the holiday\n",
       "17766    the pilgrim and the patient the santiago de co...\n",
       "49655           magnificent cave you can actually sleep in\n",
       "2582                       the best way to use stale bread\n",
       "47473        simple tip to maintain health while traveling\n",
       "30004                thing you should know about port vila\n",
       "Name: headline, dtype: object"
      ]
     },
     "metadata": {},
     "output_type": "display_data"
    },
    {
     "name": "stdout",
     "output_type": "stream",
     "text": [
      "\n",
      "'SCIENCE' predicted as 'COMEDY' : 2 examples.\n"
     ]
    },
    {
     "data": {
      "text/plain": [
       "6464                         how i became the npr math guy\n",
       "22185    terrifying clip show why you should never run ...\n",
       "Name: headline, dtype: object"
      ]
     },
     "metadata": {},
     "output_type": "display_data"
    },
    {
     "name": "stdout",
     "output_type": "stream",
     "text": [
      "\n",
      "'POLITICS' predicted as 'COMEDY' : 32 examples.\n"
     ]
    },
    {
     "data": {
      "text/plain": [
       "33343    sweetie u cray celebs politician react on twit...\n",
       "36318    daily show and rosie odonnell reveal donald tr...\n",
       "27108    seth meyers ha low expectation for the next pr...\n",
       "35651    larry kudlow is the perfect embodiment of repu...\n",
       "18657     donald trump open up about his late brother fred\n",
       "1694     samantha bee donald trump hate black and brown...\n",
       "31409    trump on fox savage leaker schiff who ha proba...\n",
       "41980    prize of christmas breakfast with donald trump...\n",
       "43465    jimmy kimmel shred donald trump jr for perpetu...\n",
       "46173                       trump victory dance on a grave\n",
       "105      donald trump is handling the transition exactl...\n",
       "15309    hillary clinton think alec baldwin is perfect ...\n",
       "19376    sen elizabeth warren tell trevor noah why she ...\n",
       "37577    if youre looking for misinformation go to sara...\n",
       "18197    a member of the farright proud boy menaced a t...\n",
       "5442     bill maher donald trump is capable of ordering...\n",
       "1448     a top trump official just flunked the jimmy ki...\n",
       "12928    bill clinton zing trump administration at alec...\n",
       "25857    bill maher im so sick of thought and prayer af...\n",
       "44344                               maybe were the bad guy\n",
       "39869    the ivy league ha an unexpected friend in dona...\n",
       "2236     these are the dumbest most useless thing twitt...\n",
       "29088    stephen colbert get serious time to tell donot...\n",
       "44864    seth meyers recall the correspondent dinner wh...\n",
       "46414           here are just a few epic stock photo fails\n",
       "36037    seth meyers dissects trump white house ‘misogy...\n",
       "22838    samantha bee call out racist warmongering homo...\n",
       "36555    trevor noah spell out why donald trump wouldnt...\n",
       "27419    arrested development narrator hilariously fact...\n",
       "38300    comedian michelle wolf will headline the white...\n",
       "45585    samantha bee round up comedian for the ultimat...\n",
       "23251           roy moore try fails to heckle jimmy kimmel\n",
       "Name: headline, dtype: object"
      ]
     },
     "metadata": {},
     "output_type": "display_data"
    },
    {
     "name": "stdout",
     "output_type": "stream",
     "text": [
      "\n",
      "'SPORTS' predicted as 'COMEDY' : 4 examples.\n"
     ]
    },
    {
     "data": {
      "text/plain": [
       "6119     kaeptain america this is what a patriot look like\n",
       "48612    floyd mayweather retires with perfect  record ...\n",
       "41748    softball pitcher turn assassin in this game of...\n",
       "23931    james cordens sister hilariously overtake a bu...\n",
       "Name: headline, dtype: object"
      ]
     },
     "metadata": {},
     "output_type": "display_data"
    },
    {
     "name": "stdout",
     "output_type": "stream",
     "text": [
      "\n",
      "'ARTS' predicted as 'COMEDY' : 8 examples.\n"
     ]
    },
    {
     "data": {
      "text/plain": [
       "5816     of course there’s an a cappella rudolphthemed ...\n",
       "21738    bill gate want you to read trevor noah’s memoi...\n",
       "45087    stephen colbert is turning one of his popular ...\n",
       "20418    the most underrated part of youre the worst is...\n",
       "14180           tonight we could have a new chess champion\n",
       "40389    ice cube is cowriting starring in a genrecross...\n",
       "28481    when booting dead white guy off reading list i...\n",
       "20161    why i want to fk donald trump reflects the ver...\n",
       "Name: headline, dtype: object"
      ]
     },
     "metadata": {},
     "output_type": "display_data"
    },
    {
     "name": "stdout",
     "output_type": "stream",
     "text": [
      "\n",
      "'QUEER VOICES' predicted as 'COMEDY' : 2 examples.\n"
     ]
    },
    {
     "data": {
      "text/plain": [
       "37763    james corden sends  copy of philadelphia to do...\n",
       "35980    john oliver endorses rupaul for president in t...\n",
       "Name: headline, dtype: object"
      ]
     },
     "metadata": {},
     "output_type": "display_data"
    },
    {
     "name": "stdout",
     "output_type": "stream",
     "text": [
      "\n",
      "'MEDIA' predicted as 'COMEDY' : 4 examples.\n"
     ]
    },
    {
     "data": {
      "text/plain": [
       "48273               why i will not be your facebook friend\n",
       "29544         stephen colbert is thankful for donald trump\n",
       "37018    joe scarborough tell stephen colbert why his s...\n",
       "11201    twitter user school infowars editor over claim...\n",
       "Name: headline, dtype: object"
      ]
     },
     "metadata": {},
     "output_type": "display_data"
    },
    {
     "name": "stdout",
     "output_type": "stream",
     "text": [
      "\n",
      "'HEALTHY LIVING' predicted as 'COMEDY' : 6 examples.\n"
     ]
    },
    {
     "data": {
      "text/plain": [
       "7026     this spin class make you feel like youre soari...\n",
       "17554    a traumatic experience can reshape your microb...\n",
       "47352    twitter is a window into what people think abo...\n",
       "25518     quote card for people who hate inspirational ...\n",
       "48293    this man turned his cringeworthy sunburn into ...\n",
       "20563     comic about life in your late s that tell it ...\n",
       "Name: headline, dtype: object"
      ]
     },
     "metadata": {},
     "output_type": "display_data"
    },
    {
     "name": "stdout",
     "output_type": "stream",
     "text": [
      "\n",
      "'ENTERTAINMENT' predicted as 'COMEDY' : 84 examples.\n"
     ]
    },
    {
     "data": {
      "text/plain": [
       "39723    seth meyers address that time jimmy fallon rub...\n",
       "42117    james corden reveals the worst part of the roy...\n",
       "19604    this video of cameron dallas and james corden ...\n",
       "46342    stephen colbert say trump ha cornered the mark...\n",
       "26560    james corden know how to make donald trump fac...\n",
       "33068    dave chappelle reprises chappelles show charac...\n",
       "28108    here a look at the delightful disneypixar shor...\n",
       "32861    melissa mccarthy is oh so pretty a sean spicer...\n",
       "43906    stephen colbert zing oliver stone for fawning ...\n",
       "15635    tiffany haddish ha dating tip for guy and none...\n",
       "12444     way weve depicted alien on film  year after r...\n",
       "13314    samantha bee perfectly state the problem with ...\n",
       "48654    seth meyers want donald trump to consider him ...\n",
       "4061     jimmy fallons tribute to his late mother will ...\n",
       "17268    kellyanne conway morphed into pennywise on snl...\n",
       "36621    the space jam soundtrack to be released on vin...\n",
       "43902    benedict cumberbatch doe a dramatic reading of...\n",
       "38203    alec baldwin and jimmy fallon just did competi...\n",
       "13868    seth meyers rip trump team for making u questi...\n",
       "14188    new stephen colbert sketch ha donald trump fle...\n",
       "30487    dave chappelle is coming to saturday night liv...\n",
       "21985    a member of trump cabinet told alec baldwin hi...\n",
       "45391    alec baldwin teaching a kid how to do his trum...\n",
       "21431    if people acted like they do on dating apps th...\n",
       "40851    james cordens late late show is going to londo...\n",
       "30118    denis leary and james corden perform new i hat...\n",
       "22123    jimmy fallon and paul mccartney join alist cho...\n",
       "11668    comedy central imago the sound engineer for a ...\n",
       "8715     steve bannon swears he doesnt care about those...\n",
       "39157    the no  question in westworld finally ha an an...\n",
       "                               ...                        \n",
       "22856    james corden highlight a disturbing trend in t...\n",
       "19493    donald trump give sean spicer his final kiss o...\n",
       "24286    conan and elijah wood completely trash final f...\n",
       "9509       get hyped melissa mccarthy is going to host snl\n",
       "15109    the great ben  jerry ice cream war between jim...\n",
       "17529    jenna fischer wore a towel on jimmy kimmel aft...\n",
       "42684        blackhogwarts magically take twitter by storm\n",
       "39514    british kid provide the most adorable takedown...\n",
       "5108     stephen colbert lead degree tour of his studio...\n",
       "36322    sean penn light up cigarette during interview ...\n",
       "48973    conan visit haiti to get a history lesson and ...\n",
       "18588    snl star have the perfect comeback to trump an...\n",
       "21848    writer union defends stephen colbert in light ...\n",
       "37156    matthew mcconaughey go full mcconaughey while ...\n",
       "45118    stephen colbert explains why donald trump woul...\n",
       "30800                 here your guide to surviving fall tv\n",
       "42493    samantha bee team discovers apologizing for tr...\n",
       "3849     conan obrien put his creep on for clueless gam...\n",
       "29986    spike tv is off the air so it twitter went off...\n",
       "33066    samantha bee get candid about dealing with twi...\n",
       "10796    alec baldwin seems worried he normalizing dona...\n",
       "48408    conan obriens show will shorten to le structur...\n",
       "47968    seinfeld joked trump wa a supervillain in unea...\n",
       "7968     the dave chappelle special are finally out nex...\n",
       "37403    kevin hart and conan o’brien carbo load and th...\n",
       "48854    john oliver rip american medium for coverage o...\n",
       "30439    sophia bush call out oblivious man on plane fo...\n",
       "16199    arnold schwarzenegger hit back at trump with s...\n",
       "40356    tom cruise hilariously recreates his film role...\n",
       "42175    stephen colbert drop the mic on trump list of ...\n",
       "Name: headline, Length: 84, dtype: object"
      ]
     },
     "metadata": {},
     "output_type": "display_data"
    },
    {
     "name": "stdout",
     "output_type": "stream",
     "text": [
      "\n",
      "'WORLDPOST' predicted as 'COMEDY' : 5 examples.\n"
     ]
    },
    {
     "data": {
      "text/plain": [
       "46060    dozen die in siberia after drinking bath oil t...\n",
       "36979                 hear the siren from behind the fence\n",
       "21571    jo cox husband tweet parliament attacker will ...\n",
       "6181     a long list of celebrity just joined the fight...\n",
       "36348    mike medavoy movie are not like manufacturing ...\n",
       "Name: headline, dtype: object"
      ]
     },
     "metadata": {},
     "output_type": "display_data"
    },
    {
     "name": "stdout",
     "output_type": "stream",
     "text": [
      "\n",
      "'PARENTS' predicted as 'COMEDY' : 11 examples.\n"
     ]
    },
    {
     "data": {
      "text/plain": [
       "34008     these were the trendiest baby name in the late s\n",
       "5423     my kneejerk reaction to this meme made me no b...\n",
       "41016            jimmy fallon announces new childrens book\n",
       "38665    jimmy kimmels health care chat with kid is fun...\n",
       "42309            time seth meyers got real about parenting\n",
       "14968    momtobe includes late husband in heartbreaking...\n",
       "10624    trump on a stump is jimmy kimmels terrifying a...\n",
       "9493                     nanny interviewing is like dating\n",
       "4566                let’s be honest… none of u are perfect\n",
       "31381    the only backtocollege source you need probabl...\n",
       "31371    jimmy kimmel hilariously stop by sesame street...\n",
       "Name: headline, dtype: object"
      ]
     },
     "metadata": {},
     "output_type": "display_data"
    },
    {
     "name": "stdout",
     "output_type": "stream",
     "text": [
      "\n",
      "'BLACK VOICES' predicted as 'COMEDY' : 3 examples.\n"
     ]
    },
    {
     "data": {
      "text/plain": [
       "34181    dont be shocked bill maher ha a history of big...\n",
       "20948    john lewis crowdsurfs on the late show and it ...\n",
       "16213    dave chappelle isnt laughing in town hall on p...\n",
       "Name: headline, dtype: object"
      ]
     },
     "metadata": {},
     "output_type": "display_data"
    },
    {
     "name": "stdout",
     "output_type": "stream",
     "text": [
      "\n",
      "'IMPACT' predicted as 'COMEDY' : 2 examples.\n"
     ]
    },
    {
     "data": {
      "text/plain": [
       "10411    this hummus ha a secret ingredient supermarket...\n",
       "11595           after the flood when too early is too late\n",
       "Name: headline, dtype: object"
      ]
     },
     "metadata": {},
     "output_type": "display_data"
    },
    {
     "name": "stdout",
     "output_type": "stream",
     "text": [
      "\n",
      "'STYLE' predicted as 'COMEDY' : 5 examples.\n"
     ]
    },
    {
     "data": {
      "text/plain": [
       "34933    youre going to want everything in the new dr s...\n",
       "28270    james corden roast david beckham for matching ...\n",
       "32588    the loophole that might allow people to crash ...\n",
       "2270      time twitter totally understood the plight of...\n",
       "41954                         musthave shoe for the office\n",
       "Name: headline, dtype: object"
      ]
     },
     "metadata": {},
     "output_type": "display_data"
    },
    {
     "name": "stdout",
     "output_type": "stream",
     "text": [
      "\n",
      "'WOMEN' predicted as 'COMEDY' : 7 examples.\n"
     ]
    },
    {
     "data": {
      "text/plain": [
       "49942     hilariously perfect gift for your funny galen...\n",
       "37204    samantha bee go full schoolhouse rock with vid...\n",
       "7519               how one late paycheck messed up my life\n",
       "42453    samantha bee delivers blistering takedown of f...\n",
       "24676    genius made a mustwatch ‘formation’ parody abo...\n",
       "5297                                        hear them roar\n",
       "21650    twitter point out how dumb it is to be mad abo...\n",
       "Name: headline, dtype: object"
      ]
     },
     "metadata": {},
     "output_type": "display_data"
    },
    {
     "name": "stdout",
     "output_type": "stream",
     "text": [
      "\n",
      "'RELIGION' predicted as 'COMEDY' : 5 examples.\n"
     ]
    },
    {
     "data": {
      "text/plain": [
       "4936     how to stop the unfortunately not fake news fr...\n",
       "588      s holiday ad will make you feel all warm and f...\n",
       "30009    stephen colbert asks god whether he really gav...\n",
       "20278                  sign you’re reading the bible wrong\n",
       "11480                         god wonderful sense of humor\n",
       "Name: headline, dtype: object"
      ]
     },
     "metadata": {},
     "output_type": "display_data"
    },
    {
     "name": "stdout",
     "output_type": "stream",
     "text": [
      "\n",
      "'TRAVEL' predicted as 'COMEDY' : 2 examples.\n"
     ]
    },
    {
     "data": {
      "text/plain": [
       "9869     united ban many popular dog and cat breed from...\n",
       "10308    this austrian cafe charge extra for people to ...\n",
       "Name: headline, dtype: object"
      ]
     },
     "metadata": {},
     "output_type": "display_data"
    },
    {
     "name": "stdout",
     "output_type": "stream",
     "text": [
      "\n",
      "'POLITICS' predicted as 'EDUCATION' : 14 examples.\n"
     ]
    },
    {
     "data": {
      "text/plain": [
       "33733     school in louisiana told by district that ath...\n",
       "3686     eligible but got nothing hundred of thousand o...\n",
       "15831    everything you know about higher education is ...\n",
       "47601    ivanka trump promotes hidden figure a her dad ...\n",
       "40794    the u department of education website need ser...\n",
       "8453     united state high school graduation rate reach...\n",
       "32997    child need home not charter school or standard...\n",
       "25633    judge in brock turner sexual assault case star...\n",
       "778                  reflection on newtown five year later\n",
       "4165     what should really bother you about the rockvi...\n",
       "31306    how trump education department could actually ...\n",
       "25498    a small town kkk hood a burning cross and a sc...\n",
       "39995     protecting studentathletes from heat head injury\n",
       "11974    forprofit college baron in vega have they hit ...\n",
       "Name: headline, dtype: object"
      ]
     },
     "metadata": {},
     "output_type": "display_data"
    },
    {
     "name": "stdout",
     "output_type": "stream",
     "text": [
      "\n",
      "'QUEER VOICES' predicted as 'EDUCATION' : 3 examples.\n"
     ]
    },
    {
     "data": {
      "text/plain": [
       "17421    teacher say school reprimanded him after his h...\n",
       "8543     a school district that’s starting gender diver...\n",
       "8276     why heteronormativity is harmful  proactive st...\n",
       "Name: headline, dtype: object"
      ]
     },
     "metadata": {},
     "output_type": "display_data"
    },
    {
     "name": "stdout",
     "output_type": "stream",
     "text": [
      "\n",
      "'HEALTHY LIVING' predicted as 'EDUCATION' : 3 examples.\n"
     ]
    },
    {
     "data": {
      "text/plain": [
       "34501            cultivating a beard is a lifestyle choice\n",
       "10769                   why virus thrive on college campus\n",
       "37870    drugresistant bacteria often lurk in children’...\n",
       "Name: headline, dtype: object"
      ]
     },
     "metadata": {},
     "output_type": "display_data"
    },
    {
     "name": "stdout",
     "output_type": "stream",
     "text": [
      "\n",
      "'WORLDPOST' predicted as 'EDUCATION' : 3 examples.\n"
     ]
    },
    {
     "data": {
      "text/plain": [
       "42315                 song and dance for leprosy education\n",
       "20141    you can donate your eclipse glass to school ou...\n",
       "37979    desperate search launched for  seaman on capsi...\n",
       "Name: headline, dtype: object"
      ]
     },
     "metadata": {},
     "output_type": "display_data"
    },
    {
     "name": "stdout",
     "output_type": "stream",
     "text": [
      "\n",
      "'PARENTS' predicted as 'EDUCATION' : 6 examples.\n"
     ]
    },
    {
     "data": {
      "text/plain": [
       "41842    back to school the top five thing teacher wish...\n",
       "43123    gummy bear send  chicagoarea high school stude...\n",
       "36051     story that prove good teacher might actually ...\n",
       "43454    firstgrader answer teacher lighthearted riddle...\n",
       "5438               tip and travail of doing a college tour\n",
       "28600    my wish for my son a he get ready to graduate ...\n",
       "Name: headline, dtype: object"
      ]
     },
     "metadata": {},
     "output_type": "display_data"
    },
    {
     "name": "stdout",
     "output_type": "stream",
     "text": [
      "\n",
      "'BUSINESS' predicted as 'EDUCATION' : 2 examples.\n"
     ]
    },
    {
     "data": {
      "text/plain": [
       "21172    wyoming’s future must  and will  depend on inn...\n",
       "16289                             old school is new school\n",
       "Name: headline, dtype: object"
      ]
     },
     "metadata": {},
     "output_type": "display_data"
    },
    {
     "name": "stdout",
     "output_type": "stream",
     "text": [
      "\n",
      "'BLACK VOICES' predicted as 'EDUCATION' : 4 examples.\n"
     ]
    },
    {
     "data": {
      "text/plain": [
       "22391    this school network is recruiting it own gradu...\n",
       "46992    the case for holistic education in the wake of...\n",
       "20070    teen accepted into  college chooses full ride ...\n",
       "8631     this college student martinthemed campaign vid...\n",
       "Name: headline, dtype: object"
      ]
     },
     "metadata": {},
     "output_type": "display_data"
    },
    {
     "name": "stdout",
     "output_type": "stream",
     "text": [
      "\n",
      "'CRIME' predicted as 'EDUCATION' : 3 examples.\n"
     ]
    },
    {
     "data": {
      "text/plain": [
       "25798    when a shooting threat wa made at my child school\n",
       "43670      college student killed while playing pokemon go\n",
       "38597    college student dy after choking during pancak...\n",
       "Name: headline, dtype: object"
      ]
     },
     "metadata": {},
     "output_type": "display_data"
    },
    {
     "name": "stdout",
     "output_type": "stream",
     "text": [
      "\n",
      "'SCIENCE' predicted as 'ENTERTAINMENT' : 4 examples.\n"
     ]
    },
    {
     "data": {
      "text/plain": [
       "47280     nobel prize in physic awarded to david thoule...\n",
       "36390    penguin find their moment in the spotlight wit...\n",
       "22235    scientist celebrity share emotional tribute to...\n",
       "37094    now we know how lucy died  million year ago maybe\n",
       "Name: headline, dtype: object"
      ]
     },
     "metadata": {},
     "output_type": "display_data"
    },
    {
     "name": "stdout",
     "output_type": "stream",
     "text": [
      "\n",
      "'POLITICS' predicted as 'ENTERTAINMENT' : 94 examples.\n"
     ]
    },
    {
     "data": {
      "text/plain": [
       "43682    revamped schoolhouse rock reveals the ugly tru...\n",
       "21625    the weird little village in ireland that absol...\n",
       "38847    aclu sue new orleans for censoring grab them b...\n",
       "38982    the nauseating hypocrisy surrounding the kathy...\n",
       "23419    steve scalises twitter account post touching f...\n",
       "1668     rbg documentary trailer is here and even more ...\n",
       "12744          why people are still protesting in st louis\n",
       "3769     anthony weiner reportedly caught in yet anothe...\n",
       "5488     u block young syrian white helmet cinematograp...\n",
       "46637    the one that got away jonesboro survivor — and...\n",
       "28383    weekend update host wonder if youd trust hilla...\n",
       "49570          no we arent all praising gen kelly new role\n",
       "12905    celebrity take to the street social medium for...\n",
       "31577    sarah palin say mccains regret about her are a...\n",
       "19866    seattle mayor ed murray drop reelection bid am...\n",
       "13103    i’m not sure this dan scavinohatch act thing i...\n",
       "44988    phil murphy cruise to victory in new jersey gu...\n",
       "46219    hillary clinton joke about what shell be for h...\n",
       "37062    george takei destroyed trump on twitter during...\n",
       "3601           kenneth bone make these debate photo better\n",
       "8415                                    mirror on the wall\n",
       "40787        there is now weed named after monica lewinsky\n",
       "44500    pittsburgh steelers stay off field during anth...\n",
       "39453    jake tapper pull the plug on stephen miller tr...\n",
       "49220                                      the era of wall\n",
       "25801    stop comparing emailgate to watergate say man ...\n",
       "32076    gayle king say oprah is intrigued by the idea ...\n",
       "15710    freakishly warm february could ring in earlies...\n",
       "9791            technology ha disrupted the leak tradition\n",
       "47506         lesson from this year open enrollment season\n",
       "                               ...                        \n",
       "36985                               not ready to make nice\n",
       "7955          houston is bouncing back thanks to it people\n",
       "20837    twitter user mock donald trump whiny tweet abo...\n",
       "23919    donald trump will produce upcoming celebrity a...\n",
       "28580         people are loving obamas new summer playlist\n",
       "24330    retired police chief say he wa unlawfully deta...\n",
       "28552    pittsburgh back thanks to people who pulled th...\n",
       "19297    terrible roguefirstladyhand twitter account in...\n",
       "24282    a mississippi feminist response to chris mcdaniel\n",
       "21357    roseanne tout latest rightwing conspiracy theo...\n",
       "44950                                   kelly in mooch out\n",
       "43157    child clamor for egg handout like the taker th...\n",
       "38522    hope hick reportedly admits to lying and now p...\n",
       "4372     lena dunham tina brown reportedly warned clint...\n",
       "3751     make no excuse for kathy griffin  or president...\n",
       "35480    devin nuneslinked winery faced suit over alleg...\n",
       "4455     the death of the queen is going to be so much ...\n",
       "10458    phil murphy and kim guadagno to face off in ne...\n",
       "35307                                 mit should do better\n",
       "27562                             a happy song for houston\n",
       "44393                my friend are dead but i’m still here\n",
       "3273     this video nail how horrifying the weight of s...\n",
       "7105     for stoneman douglas alum witnessing tragedy f...\n",
       "39628    on donald trump and white leftist who want to ...\n",
       "6150     the real american horror story is political ca...\n",
       "948                how christopher columbus ruined my life\n",
       "7773     accused sexual harasser blake farenthold want ...\n",
       "27613    clinton leaf  ceremony early after feeling ove...\n",
       "45825    mark hamill is back a trump the joker reading ...\n",
       "17458    it isnt even that difficult to hack voting equ...\n",
       "Name: headline, Length: 94, dtype: object"
      ]
     },
     "metadata": {},
     "output_type": "display_data"
    },
    {
     "name": "stdout",
     "output_type": "stream",
     "text": [
      "\n",
      "'SPORTS' predicted as 'ENTERTAINMENT' : 33 examples.\n"
     ]
    },
    {
     "data": {
      "text/plain": [
       "4949     who shot the gamewinning shot v uconn dak pres...\n",
       "42624                   my cartoon diary of the super bowl\n",
       "14501    tim tebow homer in minor league season debut m...\n",
       "8400     colin kaepernicks jersey is now the nfls bests...\n",
       "3668     u olympic committee ignored sexual abuse compl...\n",
       "28037    russell westbrook’s reaction to an angry fan f...\n",
       "17051    national anthem singer say she wa pulled becau...\n",
       "3535     noah syndergaard just sent a trumpbashing twee...\n",
       "39706    u bobsled team pay tribute to late gold medali...\n",
       "28671    viking pulled off a lastsecond win over saint ...\n",
       "14569    james harrison ha fierce reaction to being cle...\n",
       "30376    brad stevens is the last person to blame for t...\n",
       "32164    philadelphia using grease to keep eagle fan fr...\n",
       "7432     rob gronkowski doesnt flinch at mention of ret...\n",
       "416      skier epic fall lead to  flip and  incredible ...\n",
       "6945     watch maria sharapova feel all the feel after ...\n",
       "31879    aaron rodgers finally break his silence on bac...\n",
       "10423              arnold palmer legendary golfer dead at \n",
       "39896                       gbks preespy award gift lounge\n",
       "31498    kurt angle in royal rumble seth rollins tease ...\n",
       "45792    look like oj simpson will be a free man very v...\n",
       "4221     james corden and stephen curry are a fierce ca...\n",
       "3302     derek jeter reportedly ready to make a lifecha...\n",
       "13779    coach tell hurt ufc fighter to continue after ...\n",
       "12620            watch oj simpson parole hearing live here\n",
       "2811     twitter really couldnt handle mayweathers figh...\n",
       "17684    onearmed bmx rider us genius technique to perf...\n",
       "38893    john cena wrestlemania  match revealed vince m...\n",
       "4395     brandi chastain totally agrees her hall of fam...\n",
       "13066    taxi driver call john elway the greatest quart...\n",
       "42976     gregg popovich apparently left a  tip on a  bill\n",
       "10282    cristiano ronaldo reportedly score another bab...\n",
       "35498    michigan football fan have beef with ruth chri...\n",
       "Name: headline, dtype: object"
      ]
     },
     "metadata": {},
     "output_type": "display_data"
    },
    {
     "name": "stdout",
     "output_type": "stream",
     "text": [
      "\n",
      "'ARTS' predicted as 'ENTERTAINMENT' : 66 examples.\n"
     ]
    },
    {
     "data": {
      "text/plain": [
       "23947     this famous harry potter tree is getting surgery\n",
       "22946    linmanuel miranda is too busy planning his osc...\n",
       "47671    marvel’s new shehulk reminds u that anger can ...\n",
       "34324    so you want to talk about ghost in the shell t...\n",
       "7891             pop art pioneer james rosenquist dead at \n",
       "45180    i am not your negro trailer show the lasting p...\n",
       "28469    man behind discovery channel belief the future...\n",
       "23967                stop trying to make movie great again\n",
       "8163     vito acconci radical performance art icon dead...\n",
       "10894    cynthia erivo just slayed a beyoncé song for h...\n",
       "21229    bob dylan finally gave his required nobel priz...\n",
       "5950     some really talented people hung out last nigh...\n",
       "1833     lordess and savior bjork celebrates winter sol...\n",
       "43164    early wedding photo had no touching no smile n...\n",
       "41890    f scott fitzgerald longlost short story savage...\n",
       "28458    bachelorette rachel contestant bios by the number\n",
       "34795         new podcasts to refresh your summer playlist\n",
       "28773    robert james waller bridge of madison county a...\n",
       "654      mysterious jk rowling tweet ha fantastic beast...\n",
       "47557    handmaid tale showrunner is already talking ab...\n",
       "47931    bookstore troll pier morgan tweet entirety of ...\n",
       "32599    weird people are protesting an art performance...\n",
       "9239     the best comment from milo yiannopoulos editor...\n",
       "32502    summer school così fan tutte at the mostly moz...\n",
       "23284    melissa joan hart explains it all about being ...\n",
       "40298    hulus the handmaid tale add joseph fiennes wil...\n",
       "6692     hamilton star brandon victor dixon say cast ha...\n",
       "23831    colin kaepernicks jersey hang in the same muse...\n",
       "46369    carrie fisher book were wiped out by demand so...\n",
       "32532    snoop dogg painted a masterpiece just for mart...\n",
       "                               ...                        \n",
       "21265    mudbound ha more to say about whiteness in ame...\n",
       "20430    george rr martin say winter is coming after do...\n",
       "32209    the handmaid’s tale is already locked in for a...\n",
       "47523    you can soon buy ticket to the mean girl music...\n",
       "45460    meet the woman director revolutionizing horror...\n",
       "21660        michael bond paddington bear creator dead at \n",
       "47762    steven van zandt say hamilton actor bullied mi...\n",
       "21204    it galentines day so linmanuel miranda made a ...\n",
       "39296    white tear is the horror story la la land shou...\n",
       "44048    hayao miyazaki is coming out of retirement to ...\n",
       "39231    the full handmaid’s tale trailer is a dystopia...\n",
       "27346       about that naked dude who crashed the met gala\n",
       "18688    the girl on the train is gripping even if you ...\n",
       "14146    the fabergé egg of green design james chudas a...\n",
       "44670    tina fey confirms that unlike fetch the mean g...\n",
       "5948     star war fan should be very excited about this...\n",
       "43805    eve ensler want to topple the patriarchy with ...\n",
       "26295    linmanuel miranda freestyle about life most an...\n",
       "6970                            podcasts are the new xanax\n",
       "30287    kevin spacey is here to save the st annual ton...\n",
       "15574    game of throne actress natalie dormer join cel...\n",
       "21377    great science fiction isn’t just about fact it...\n",
       "19276    harry potter play ha magical recordbreaking tu...\n",
       "11115    the world war iiera woman who broke up the dis...\n",
       "26448                           the innocent a film review\n",
       "37545                          even scarier than real life\n",
       "39688    bolshoi brings a wild ballet once banned by st...\n",
       "22876    nycs guggenheim museum under fire for show wit...\n",
       "24434    michael moore is taking his criticism of trump...\n",
       "16980      whats really going on inside your favorite song\n",
       "Name: headline, Length: 66, dtype: object"
      ]
     },
     "metadata": {},
     "output_type": "display_data"
    },
    {
     "name": "stdout",
     "output_type": "stream",
     "text": [
      "\n",
      "'QUEER VOICES' predicted as 'ENTERTAINMENT' : 88 examples.\n"
     ]
    },
    {
     "data": {
      "text/plain": [
       "34464               andrea gibson is happy to make you cry\n",
       "3066     these gayby star reunited for a new series tha...\n",
       "31575    michael friedman cocreator of ‘bloody bloody a...\n",
       "30085    love win in singer dyllan murray heartfelt new...\n",
       "6599     wnba star elena delle donne publicly come out ...\n",
       "20919    how calum scott turned his painful coming out ...\n",
       "29341    the indoor boy are on the out in this week exp...\n",
       "48893    adam lambert say his gender fluid album cover ...\n",
       "27835    being looked at v being seen a look at transpa...\n",
       "14025    from liz smith to kevin spacey how the hollywo...\n",
       "23268                             and he came unto himself\n",
       "29585    genderqueer vine star jeffrey marsh offer advi...\n",
       "31973    prince  knight put a gayinclusive twist on tra...\n",
       "3211     mtv change vma moonman award to genderneutral ...\n",
       "35831    drag icon charles busch sings a muppets classi...\n",
       "49605    rick mccarthy talk provincetown international ...\n",
       "16838              michael and richard gym daddy literally\n",
       "14912    transparent writer suggests series refocus awa...\n",
       "12922     jeffrey tambor insists he hasnt left transparent\n",
       "25079    shake shack celebrates the return of will  gra...\n",
       "11430    skateboarder brian anderson explains his chall...\n",
       "91       ellen degeneres wipe away tear a obama lauds h...\n",
       "9794     uncle meg talk about transitioning while recor...\n",
       "1416     actor max crumm want his new play to open mind...\n",
       "16786    here the hocus pocus tribute you didnt know yo...\n",
       "49754    alan cumming will play first openly gay lead c...\n",
       "32546    jesse tyler ferguson came out after getting ca...\n",
       "34707    dove powerful short film skewer stereotype abo...\n",
       "31486    the powerful way logo tv is censoring itself o...\n",
       "7070     jayz i cried because i wa so happy for my mom ...\n",
       "                               ...                        \n",
       "25937    a brother and sister fall for the same guy in ...\n",
       "15732     tom hank want the new splash to have a gay twist\n",
       "49560    chile a fantastic woman just made transgender ...\n",
       "34637    teen wolf star colton haynes marries jeff leat...\n",
       "34898        billie jean king made history  year ago today\n",
       "32011    younger star nico tortorella dating woman is h...\n",
       "28307    janelle monáe coming out a pansexual sends wor...\n",
       "38660    oscar nominee elisabeth shue battle of the sex...\n",
       "39245    kelly clarkson felt suppressed say top country...\n",
       "5622     princess diary star heather matarazzo is engag...\n",
       "19210            here why student find sex ed le than sexy\n",
       "25537    george takei we want to see the full diversity...\n",
       "27662    the time i came out to my grandmother and she ...\n",
       "46827                                      thank you ellen\n",
       "40896    ricky martin is flattered by gu kenworthys soc...\n",
       "130      katy perry say shed rewrite i kissed a girl if...\n",
       "29161    drew droege a chloë sevigny is here to terrify...\n",
       "46517    russell tovey announces his engagement to boyf...\n",
       "30937    tom daley and dustin lance black have a great ...\n",
       "39003    choreographer reality tv star glenn douglas pa...\n",
       "9341     a gay dream is about to come true tina fey to ...\n",
       "17256    cmbyn director say aid to be very relevant in ...\n",
       "25157    lady gaga troye sivan have an important messag...\n",
       "37549    kevin mchale i think there wa zero surprise wh...\n",
       "17218    meet the yearold drag queen who star in miley ...\n",
       "13245    this may be the most unusual george michael tr...\n",
       "46195    sam smith say his real housewife tagline would...\n",
       "25962    colton haynes and jeff leatham reportedly spli...\n",
       "37960    how you can be on the next season of logo find...\n",
       "33222    masked singer fhb defies label say it take a l...\n",
       "Name: headline, Length: 88, dtype: object"
      ]
     },
     "metadata": {},
     "output_type": "display_data"
    },
    {
     "name": "stdout",
     "output_type": "stream",
     "text": [
      "\n",
      "'MEDIA' predicted as 'ENTERTAINMENT' : 31 examples.\n"
     ]
    },
    {
     "data": {
      "text/plain": [
       "25041    christiane amanpour heading up new pb show rep...\n",
       "17802    chris hedge and robert scheer ass the merit of...\n",
       "35830    tv journalist say harvey weinstein masturbated...\n",
       "24420    report amy schumer join political candidate bo...\n",
       "14530    katie couric and others sued for defamation ov...\n",
       "39989    multiple woman accuse veteran journalist mark ...\n",
       "33984        ronan farrow will develop documentary for hbo\n",
       "27705          ti the season for the best news blooper of \n",
       "10653    mandalay bay security guard to appear on ‘elle...\n",
       "20789    hell freeze over glenn beck say electing hilla...\n",
       "31406    apparently frightened milo skedaddle after mer...\n",
       "36294    dont believe these fake news story about the a...\n",
       "29067                   my story ted and sexual harassment\n",
       "26197    wapos jason rezaian return to journalism  year...\n",
       "22828    carl kasell iconic newscaster whose voice defi...\n",
       "42305    charlie rose accused of sexually harassing and...\n",
       "35888     woman accuse tom brokaw of sexual harassment ...\n",
       "29759               gwen ifill pb newshour coanchor dy at \n",
       "35000    how many time can wolf blitzer avoid saying sh...\n",
       "29248    the new yorker severs tie with ryan lizza over...\n",
       "49965    getty mixed up mark zuckerbergs executive assi...\n",
       "36435    should we be concerned that culture creator ar...\n",
       "20266    harvey weinstein express ‘regret’ move to sue ...\n",
       "45084           comedian ramble about louis cks accusation\n",
       "28357    shep smith tease trump for saying he doesnt ha...\n",
       "19520    chris wallace just brought u the closest thing...\n",
       "29257    bbc mix up two asian woman during cringeworthy...\n",
       "32198    guardian ben jacob will donate his broken glas...\n",
       "37529    sarah pillsbury on the intersection of hollywo...\n",
       "16271    time latest cover nail how we all feel about t...\n",
       "3070     oops denver post print photo of wrong ballpark...\n",
       "Name: headline, dtype: object"
      ]
     },
     "metadata": {},
     "output_type": "display_data"
    },
    {
     "name": "stdout",
     "output_type": "stream",
     "text": [
      "\n",
      "'HEALTHY LIVING' predicted as 'ENTERTAINMENT' : 36 examples.\n"
     ]
    },
    {
     "data": {
      "text/plain": [
       "12542                   i am the girl with the prozac past\n",
       "2567              why saying no is sometimes the best gift\n",
       "17938    stop comparing your life to beautifullyfiltere...\n",
       "47963                            dear netflix please chill\n",
       "48785    did your ex text you this christmas there a na...\n",
       "44790                              my millennial manifesto\n",
       "16532    robin williams widow writes a devastating acco...\n",
       "48258                       i wa ghosted by my best friend\n",
       "48575             learning to live with ulcerative colitis\n",
       "47836    you wont believe how many calorie are in this ...\n",
       "20550    crispr will never be good enough to improve pe...\n",
       "32182    henry heimlich developer of antichoking maneuv...\n",
       "43385    prince harry reveals how counseling helped him...\n",
       "1696     cellulite saturday is our favorite new instagr...\n",
       "35755    what harry potter can teach you about producti...\n",
       "21564    how to win big in life starting from where you...\n",
       "43663    a an eating disorder therapist im worried afte...\n",
       "41209    this pregnant muay thai fighter is still kicki...\n",
       "49448                  the top  workout song for december \n",
       "46455               to those who are suffering this season\n",
       "38193    the health reason you might want to enjoy pot ...\n",
       "17950    why kim kardashian west want you to become a b...\n",
       "23232                                stroke of unkind fate\n",
       "22359    the reason you feel just a little lonely all t...\n",
       "47662    the science behind why celebrity like ryan loc...\n",
       "35984    a controversial experiment upends the conventi...\n",
       "19834    kin by mania the bond i feel with other bipola...\n",
       "31035    most woman who freeze their egg never end up u...\n",
       "23469            how do we explain unexplained infertility\n",
       "13024                the fidget spinner explains the world\n",
       "3893      way logan paul could have actually raised sui...\n",
       "25952    reclaiming my time gospel song is now a suicid...\n",
       "24848    macklemores new music video ha the best star h...\n",
       "40690          dear hollywood smoking deserves an r rating\n",
       "41618    the time piece about open marriage doesnt repr...\n",
       "22129    your favorite chocolate bar are about to get s...\n",
       "Name: headline, dtype: object"
      ]
     },
     "metadata": {},
     "output_type": "display_data"
    },
    {
     "name": "stdout",
     "output_type": "stream",
     "text": [
      "\n",
      "'COMEDY' predicted as 'ENTERTAINMENT' : 103 examples.\n"
     ]
    },
    {
     "data": {
      "text/plain": [
       "16537    shush for a second and watch these librarian r...\n",
       "5924     snl skewer dude who thought up doomed kendall ...\n",
       "16872    you have no idea what the life of a physical c...\n",
       "22755    james corden honor diverse and brilliant londo...\n",
       "28337    the late show shoot facebooks upcoming dating ...\n",
       "14563    this ted talk on diarrhea is the crappiest thi...\n",
       "36742    the people in this commercial are super real a...\n",
       "5372     donald trump is winning at being the butt of l...\n",
       "40538    the musical nerd of twitter took the stage for...\n",
       "48297    saturday night live troll the stiff boring dem...\n",
       "3977     comedian release song to find her own rachel m...\n",
       "44912    alec baldwin it tough to impersonate the great...\n",
       "21783    snl doe it best to catch up on a summer of tru...\n",
       "34753    spiderman is a super creepy stalker in this re...\n",
       "22194    aww welcome the newest member of the family ou...\n",
       "34506    watch james corden get smashed in the face by ...\n",
       "48000    snl spoof oscar flame hollywood sex harassment...\n",
       "37688    tennis star novak djokovic fire ball at james ...\n",
       "15061    watch melissa mccarthy and jennifer aniston br...\n",
       "39608    someone created a romcom trailer about dating ...\n",
       "16279    you might have missed this harsh snl dis of ea...\n",
       "37033    bad lip reading of stranger thing is freakin h...\n",
       "28831    jimmy fallon treat sienna miller and anthony b...\n",
       "46784    kate beckinsale delight in arranging fruit int...\n",
       "22717    the latest entry from the comedy wildlife phot...\n",
       "49304    jon stewart pull together epic ‘daily show’ re...\n",
       "27447       here your obligatory dog fail video of the day\n",
       "11410    rebel wilson sings the google translate versio...\n",
       "44310    amy schumer go fullon girl raunch on saturday ...\n",
       "42227    kristen wiig is a comedy goddess in this delet...\n",
       "                               ...                        \n",
       "41467    the bachelor season would be way shorter if th...\n",
       "49919    snls cathy anne tell the south what they can r...\n",
       "47658    rachel maddows trump tax report prof a comedy ...\n",
       "18125    donald trump get a forrest gump makeover in bi...\n",
       "12666    bill hader is absomoochly perfect a anthony sc...\n",
       "10973               watch this bunny play jenga like a bos\n",
       "24607      james corden and terry crew get ready to rumble\n",
       "33346    chris kattan fly high playing harrison ford a ...\n",
       "16542    the bob cesca show podcast comedian jen kirkma...\n",
       "45450    latenight tv host skewer trump for shithole co...\n",
       "12311     tweet youll get if youve ever been driven cra...\n",
       "30991    if romantic comedy were real movie ending woul...\n",
       "29521    someone recut ‘la la land’ a a david lynch mov...\n",
       "5217     robert de niro go full ‘taxi driver’ on people...\n",
       "41463    jimmy kimmel reveals what really went down dur...\n",
       "26840    jane fonda celebrity must still speak out agai...\n",
       "3928     people got some stuff off their chest with con...\n",
       "16141    louis ck go all white privilege in saturday ni...\n",
       "4325     liam neeson is the sinister santa claus of you...\n",
       "13866    aziz ansari pissed about accepting british awa...\n",
       "14813    judd apatow ha the best reason for missing the...\n",
       "45942    the conversational rip cord is the quickest wa...\n",
       "5496     shaq attack the mic in epic lip sync battle wi...\n",
       "38315    conans stranger thing  intro is a little too i...\n",
       "251      proof that sean spicer treat the press like ro...\n",
       "27926    here’s how that pier scene in ‘la la land’ sho...\n",
       "2534     these dj made a song by collaborating with a r...\n",
       "33531    amazing super bowl fact for a country setting ...\n",
       "8966     what the extra in never been kissed should hav...\n",
       "43382    billy west read donald trump quote in the voic...\n",
       "Name: headline, Length: 103, dtype: object"
      ]
     },
     "metadata": {},
     "output_type": "display_data"
    },
    {
     "name": "stdout",
     "output_type": "stream",
     "text": [
      "\n",
      "'EDUCATION' predicted as 'ENTERTAINMENT' : 3 examples.\n"
     ]
    },
    {
     "data": {
      "text/plain": [
       "48629             c’mon matt damon you’re better than this\n",
       "15841    i am an eagle scout i would join girl scout if...\n",
       "40386    peter cunningham’s education post chaperoned b...\n",
       "Name: headline, dtype: object"
      ]
     },
     "metadata": {},
     "output_type": "display_data"
    },
    {
     "name": "stdout",
     "output_type": "stream",
     "text": [
      "\n",
      "'ENVIRONMENT' predicted as 'ENTERTAINMENT' : 9 examples.\n"
     ]
    },
    {
     "data": {
      "text/plain": [
       "13171    more animal abuse claim emerge against boater ...\n",
       "25268    the utility knew exxon knew shell knew they al...\n",
       "30869    how we discovered the vampire bat that have le...\n",
       "32101                      what if summer came to westeros\n",
       "3071     u surf champ kelly slater call for shark cull ...\n",
       "13653    deer at santa journey exhibit in ireland picke...\n",
       "18726             hurricane nicole wreaks havoc on bermuda\n",
       "3664     climber fall from cathedral spire marking thir...\n",
       "24247    what to give your very good dog this holiday s...\n",
       "Name: headline, dtype: object"
      ]
     },
     "metadata": {},
     "output_type": "display_data"
    },
    {
     "name": "stdout",
     "output_type": "stream",
     "text": [
      "\n",
      "'WORLDPOST' predicted as 'ENTERTAINMENT' : 31 examples.\n"
     ]
    },
    {
     "data": {
      "text/plain": [
       "21100    winnie madikizelamandela antiapartheid campaig...\n",
       "7230     emma morano last known person born during the ...\n",
       "40810      film that stood out at the venice film festival\n",
       "27805    brazilian cop are killing more people than eve...\n",
       "2132     gambian return to their homeland with hope of ...\n",
       "45338    picture this shaggy is performing at the queen...\n",
       "15533    who say liberia taking precaution after myster...\n",
       "45828     swedish music festival cancelled after sexual...\n",
       "16795    ‘devastating’ video show jokhang temple ‘heart...\n",
       "29326    at least five dead in shooting at mexico music...\n",
       "25564               the beginning of the era of disruption\n",
       "48810    finland is starting a national experiment to t...\n",
       "38985    pop star lorde drop planned israeli concert af...\n",
       "4445         over  dead in congo a cholera epidemic spread\n",
       "7031     manchester man they want u to turn on our neig...\n",
       "44088    iranian hacker charged with stealing hbo game ...\n",
       "32702          italian soccer captain davide astori dy at \n",
       "39104    fatima’s fate an escape bid that ended in tragedy\n",
       "45128    bbc crew filming mount etna among several inju...\n",
       "46702                     perilous journey to reach safety\n",
       "12467      in besieged homs blood becomes a rare commodity\n",
       "2324     judge crush effort to appeal oscar pistorius l...\n",
       "10291    at least  dead a typhoon damrey sweep into vie...\n",
       "48949    germany confronts rising antisemitism after ra...\n",
       "9621     woman fight back after assault at music festiv...\n",
       "33748                         do more than make some noise\n",
       "39286    hate crime soar in manchester following attack...\n",
       "20724    riz ahmed mindy kaling aziz ansari and others ...\n",
       "26027    why the new hollywood will never live up to ol...\n",
       "9511     bae secretly sold mass surveillance technology...\n",
       "577      queen elizabeth express deep sorrow in wake of...\n",
       "Name: headline, dtype: object"
      ]
     },
     "metadata": {},
     "output_type": "display_data"
    },
    {
     "name": "stdout",
     "output_type": "stream",
     "text": [
      "\n",
      "'PARENTS' predicted as 'ENTERTAINMENT' : 53 examples.\n"
     ]
    },
    {
     "data": {
      "text/plain": [
       "32712    little sheep go rogue at nativity scene spark ...\n",
       "47427    firefighter surprise girl who lost her beloved...\n",
       "13457    adam levine announces he and behati prinsloo a...\n",
       "19534    toddler make amazing face on frozen ride at di...\n",
       "23592    little boy coco birthday song for late sister ...\n",
       "49124    yearold sings her heart out to a beauty and th...\n",
       "48314       hey middle school see ya wouldnt want to be ya\n",
       "14918    the internet ha collective chill over this tee...\n",
       "22472    babywearing dad teach son dance move set to mi...\n",
       "35131    yearold boy stuns idina menzel with showstoppi...\n",
       "6214     kate beckinsale shuts down the idea that paren...\n",
       "24051              the horror of hipster preschool hunting\n",
       "20648    kristen bell reveals the toughest part of moth...\n",
       "31263    girl creative costume incorporates her love fo...\n",
       "18616    this yearold adores chris pratt so much she to...\n",
       "42388    parent are sharing their saddest breakfast in ...\n",
       "4431     the internet cant get enough of this optimisti...\n",
       "25973    the one way jessica biel doesnt want her son t...\n",
       "27144              what to expect when you arent expecting\n",
       "11284    helicopter drop  easter egg out of the sky for...\n",
       "43867    how to handle momshamers according to kristen ...\n",
       "6318                  how to handle your child first crush\n",
       "42986    brad paisley reveals sex of couple unborn baby...\n",
       "25147    newest sesame street character help explain bl...\n",
       "27597    watch this girl emotional reaction to learning...\n",
       "47218    queen guardsman melt heart by making boy birth...\n",
       "45378    laurie tisch on the invaluable lesson shes lea...\n",
       "47199    preschooler pay tribute to pop culture with da...\n",
       "4701     dave grohls daughter rocked the drum at a foo ...\n",
       "8127     get excited good night story for rebel girl is...\n",
       "33563    a harvard professor on the profound life lesso...\n",
       "37841    watch ed sheeran dedicate a song to a baby nam...\n",
       "12920     this boy’s star war costume is out of this world\n",
       "11708    ed sheeran surprise yearold fan who spends mos...\n",
       "35958    couple to adopt  foster sibling who were split...\n",
       "40317    twin dominate superhero day dress a rbg and sa...\n",
       "19046    very extra yearold outshines prek class in moa...\n",
       "22253                       the picture youll want to have\n",
       "26582    fantastic beast star eddie redmayne will soon ...\n",
       "14488    girl who lost teddy bear during fort lauderdal...\n",
       "10946    amber rose and wiz khalifa just offered an awe...\n",
       "16563               please set a place for me at the table\n",
       "17835    anna faris and chris pratts son is already a n...\n",
       "39712       apparently pokemon go is influencing baby name\n",
       "3062     girl singing lullaby to her newly adopted pupp...\n",
       "4678     adam scott cant get his kid to watch park and ...\n",
       "17579    walking dead actress slam breastfeeding shamer...\n",
       "36543    star war franchise tweet some  interesting bab...\n",
       "10990    these lullaby version of beyoncé song are comi...\n",
       "4496     these social medium apps are causing trouble i...\n",
       "28788    a i watch my daughter grow into the woman shel...\n",
       "20207    try not to cry watching this inspiring teacher...\n",
       "8632      awesome parenting moment from blake lively an...\n",
       "Name: headline, dtype: object"
      ]
     },
     "metadata": {},
     "output_type": "display_data"
    },
    {
     "name": "stdout",
     "output_type": "stream",
     "text": [
      "\n",
      "'BUSINESS' predicted as 'ENTERTAINMENT' : 15 examples.\n"
     ]
    },
    {
     "data": {
      "text/plain": [
       "49038    powerball ticket sold with all winning number ...\n",
       "38245                 ua  on being a randomly picked asian\n",
       "7829     digital video is killing tv six reason thats c...\n",
       "30132                 why i reached out to russell simmons\n",
       "46314    apple hit with lawsuit after admitting it inte...\n",
       "1275      in review top tip from the best entrepreneur ...\n",
       "39413    carpool karaoke will now play on apple music f...\n",
       "20348    interview blockchain warp speed with ethereums...\n",
       "8167             cv is reportedly in talk to acquire aetna\n",
       "9472     twofactor authentication an interview with pau...\n",
       "48225    facebook hire thousand to review post after ra...\n",
       "49771      is instagram story the nail in snapchats coffin\n",
       "24176    “i’m sorrythe two tragically forgotten word in...\n",
       "22138    what they wont tell you about your free credit...\n",
       "31749    a strange story of customer disservice from co...\n",
       "Name: headline, dtype: object"
      ]
     },
     "metadata": {},
     "output_type": "display_data"
    },
    {
     "name": "stdout",
     "output_type": "stream",
     "text": [
      "\n",
      "'BLACK VOICES' predicted as 'ENTERTAINMENT' : 94 examples.\n"
     ]
    },
    {
     "data": {
      "text/plain": [
       "25747    denzel washington not the actor accused of cho...\n",
       "43079    thandie newton cannes dress is a celebration o...\n",
       "36541    tracy morgan on overcoming his fear for first ...\n",
       "11771    cardi b may be one of the few people who can a...\n",
       "32129    sza admits she wa mad a hell after grammy shutout\n",
       "24833    kenan and kel reunite with all that castmates ...\n",
       "29953    what curtis mayfields s music can teach u abou...\n",
       "39560    harvey survivor criticizes medium for lack of ...\n",
       "19271    moonlight director still hasnt gotten over las...\n",
       "14486      hiphop pioneer reggie combat jack ossé dead at \n",
       "41077    tiffany haddish say an anonymous actress bit b...\n",
       "23273    empire star bryshere gray transforms into tayl...\n",
       "41672    the absence of frozones wife in incredibles  i...\n",
       "1959     young dolph give  to baristas fired for playin...\n",
       "31177                 beyoncé spotlight  blackhistorymonth\n",
       "9685     why flint  filmmaker rejected  million to main...\n",
       "34915    janet jackson becomes first black woman to rec...\n",
       "6253     this is how tiffany haddish scored a selfie wi...\n",
       "16600    jemele hill return to espn after controversial...\n",
       "6763     rapper common bash nra during oscar performanc...\n",
       "20720    black panther is breaking an insane number of ...\n",
       "10748    celebrity remember dick gregory a comedic mast...\n",
       "12148    new film company raise  million to bring diver...\n",
       "41502    beyoncé’s lemonade made me sour but jay z’s  s...\n",
       "35815    oprah call for day when no one ha to say me to...\n",
       "44070    mill case cast ugly glare on the racially bias...\n",
       "18220      hilariously unscripted throwback beyoncé moment\n",
       "33684    filmmaker ava duvernay’s oscarnominated docume...\n",
       "23551    blackish actress marsai martin to star in new ...\n",
       "13380          cardi b former manager sue her for  million\n",
       "                               ...                        \n",
       "18364    solange rocked her first snl performance like ...\n",
       "6409     from moonlight to fence movie award season bur...\n",
       "31511    twitter erupts with bow wow challenge after ca...\n",
       "36735    ‘shape shifter’ condola rashad on third tony a...\n",
       "3040     ‘blackish’ creator accused of stealing show id...\n",
       "3491     slick rick praise the firstever global hiphop day\n",
       "21986    what david cross doesn’t get about racist joke...\n",
       "7149     a meek mill docuseries executive produced by j...\n",
       "571      kellogg’s is redesigning  corn pop box so they...\n",
       "41565    ‘the daily show roy wood jr shuts down debate ...\n",
       "30976    rachel lindsay responds perfectly to ‘bachelor...\n",
       "22529    spike lee get major love for blackkklansman at...\n",
       "44908    netflix order shes gotta have it spike lee ser...\n",
       "43304    simone bile show off her boyfriend in sweet in...\n",
       "29156    the royal of black panther brought wakanda sty...\n",
       "46000    ryan coogler praise ava duvernay for making th...\n",
       "959      jordan peele is first black director to win os...\n",
       "31766    drink champ podcast coming to diddy’s revolt t...\n",
       "41416          thing you didnt know about michael b jordan\n",
       "15439    taraji p henson want to play a marvel superher...\n",
       "45634    familial tension are thick in the queen sugar ...\n",
       "16559    birth of a nation star make a case for the fil...\n",
       "17910    cop who tackled james blake is now suing him f...\n",
       "43858    jemele hill chris berman never left any racial...\n",
       "34267    issa rae hilariously responds to rumor she tur...\n",
       "22526    michael bennett inspired by chance the rapper ...\n",
       "33646    rapper schoolboy q don pink girl power hoodie ...\n",
       "3681     daily show correspondent call moonlight oscar ...\n",
       "15504    solange and beyonce join elite group of siblin...\n",
       "15595    deleted black panther scene show daniel kaluuy...\n",
       "Name: headline, Length: 94, dtype: object"
      ]
     },
     "metadata": {},
     "output_type": "display_data"
    },
    {
     "name": "stdout",
     "output_type": "stream",
     "text": [
      "\n",
      "'CRIME' predicted as 'ENTERTAINMENT' : 11 examples.\n"
     ]
    },
    {
     "data": {
      "text/plain": [
       "21063    hero firefighter rescue yearold girl after she...\n",
       "25176    tech consultant arrested for murder after wife...\n",
       "4182     no evidence of shooting at houston ben taub ho...\n",
       "22762                              how to convict a rapist\n",
       "1995     steven avery subject of making a murderer ha a...\n",
       "2481     former manson family member leslie van houten ...\n",
       "32257    man confronts nj officer searching van apparen...\n",
       "16342    video show man who sexually assaulted yearold ...\n",
       "47588    oscar pistorius treated in hospital for wrist ...\n",
       "34331    nypd release  transcript footage of saheed vas...\n",
       "33770    sylvester stallone denies sexually assaulting ...\n",
       "Name: headline, dtype: object"
      ]
     },
     "metadata": {},
     "output_type": "display_data"
    },
    {
     "name": "stdout",
     "output_type": "stream",
     "text": [
      "\n",
      "'IMPACT' predicted as 'ENTERTAINMENT' : 10 examples.\n"
     ]
    },
    {
     "data": {
      "text/plain": [
       "24310    this angelina jolie criticism might be the mos...\n",
       "33855      hollywood meet the sustainable development goal\n",
       "1737     tweet hilariously turn asian stereotype on it ...\n",
       "591      richard wolff say capitalism drive inequality ...\n",
       "39685                           every picture tell a story\n",
       "44744    austin is stepping up it fight against gentrif...\n",
       "24400                                     rose to remember\n",
       "48446    fan turn the table on john cena with emotional...\n",
       "10202    marcellus williams is living proof that social...\n",
       "27493                              after all it only a dog\n",
       "Name: headline, dtype: object"
      ]
     },
     "metadata": {},
     "output_type": "display_data"
    },
    {
     "name": "stdout",
     "output_type": "stream",
     "text": [
      "\n",
      "'STYLE' predicted as 'ENTERTAINMENT' : 53 examples.\n"
     ]
    },
    {
     "data": {
      "text/plain": [
       "20094    the blonde buzzcut that celebrity just cant ge...\n",
       "33702    there is a choir that dress up and sings like ...\n",
       "38805        this is what the golden globe looked like in \n",
       "11679    paris jackson just made a major career move an...\n",
       "46222    kim kardashian used orchid to promote her new ...\n",
       "22093    unlike other celebs bella hadid wear her fanny...\n",
       "15673    someone named chanel west coast looked just li...\n",
       "29962    jennifer lopez steal the starstudded show in a...\n",
       "27254          laverne cox ruled the  emmy afterparty look\n",
       "37610    here what brad goreski want to see these oscar...\n",
       "45703    gigi hadid rock gray lipstick like it no big deal\n",
       "35807    a peek inside this year academy award gifting ...\n",
       "42101    prince harry reacts hilariously to dj who slip...\n",
       "3633     see the original sketch for these best costume...\n",
       "49324        ring in  with these new year eve dress under \n",
       "20874    gigi hadid almost totally wiped out in her cou...\n",
       "43305    kristen stewart mullet with frosted tip is qui...\n",
       "28987    rihanna is a triple threat on  different cover...\n",
       "12173    these sparkly geode lip are about to rock your...\n",
       "33284     carrie underwood style through the year in photo\n",
       "10996    kanye west doesnt want you to see yeezy season...\n",
       "6361      lorde dressed like a moth on saturday night live\n",
       "12835    john legend say chrissy teigen look like a god...\n",
       "28835    lauren hutton cover vogue italia timeless issu...\n",
       "23830             how the date for thanksgiving wa decided\n",
       "46764    kylie jenner new puma campaign might actually ...\n",
       "11732    a  weed grinder necklace is here just in time ...\n",
       "34072    it sky blue ralph lauren for melania trump ina...\n",
       "11427    jennifer lopez knock red carpet gown out of th...\n",
       "21939    blue aclu ribbon are the star best accessory a...\n",
       "49357     tweet that make perfect sense to anyone with ...\n",
       "15666     these state beauty law are stranger than fiction\n",
       "8775     jared leto think there room for a new type of ...\n",
       "6185     so that’s why we look so different in selfies ...\n",
       "2103     gwyneth paltrows goop is selling literal vampi...\n",
       "43782    the brilliantly easy way to fix clumpy nail po...\n",
       "19120    why the sexy melania halloween costume is espe...\n",
       "46936    kendall jenner step out in london wearing  gol...\n",
       "152      all the look worth seeing from the  american m...\n",
       "22316                    justin trudeaus sock are on point\n",
       "39273    yes khloe kardashian still ha horrible body co...\n",
       "42934    the harvey weinstein scandal could take down a...\n",
       "17207     how to get your engagement ring properly insured\n",
       "33985    kim kardashian is trying to bring scrunchies back\n",
       "48970    jenna marble gift internet with the ultimate  ...\n",
       "12573    reese witherspoon and her lookalike daughter h...\n",
       "10959    rachel mcadams top a bevy of bestdressed star ...\n",
       "49496    lena dunham debut a drastic new haircut with t...\n",
       "24288    beyoncé dressed like the queen she is at the g...\n",
       "10377    little boy ha hilarious response to meeting wi...\n",
       "30934    katy perry ha a postbreakup platinum blonde pi...\n",
       "6012     how to get rachel lindsay pound bachelorette f...\n",
       "23141    martha stewart is selling jean on qvc and they...\n",
       "Name: headline, dtype: object"
      ]
     },
     "metadata": {},
     "output_type": "display_data"
    },
    {
     "name": "stdout",
     "output_type": "stream",
     "text": [
      "\n",
      "'WOMEN' predicted as 'ENTERTAINMENT' : 72 examples.\n"
     ]
    },
    {
     "data": {
      "text/plain": [
       "17844    emma watson open up about sexual harassment sh...\n",
       "31485    metoo creator will push button to drop new yea...\n",
       "47048                           an open letter to louis ck\n",
       "43535    rachel bloom made a hilarious video about the ...\n",
       "34878    relationship advice from your favorite ’s thro...\n",
       "35229    you mightve missed the feminist message behind...\n",
       "47668           single bell single bell single all the way\n",
       "42109    on ‘the bachelor’ ambition is still an ‘obstac...\n",
       "39763    why being called ‘a wanderer’ is a total compl...\n",
       "30989    the bold type creator on tackling sexual assau...\n",
       "3114     the pay gap get a hilarious musical twist in m...\n",
       "22117    gabby douglas says dressing provocatively enti...\n",
       "1066     did you join the woman march you just won an a...\n",
       "25959    james toback sexually harassed me when i profi...\n",
       "20341    it will take more than metoo to get our experi...\n",
       "43539    portlandia debut new mra anthem because life i...\n",
       "24728                              wonder woman save u all\n",
       "10039    a little boy wa murdered but this columnist de...\n",
       "35243    woman slam twitter for hypocritical oscar ad a...\n",
       "44925    the insecure masculinity behind rob kardashian...\n",
       "18721                              im  and im sending nude\n",
       "42907    on bachelor in paradise ashley is all of u but...\n",
       "4904     emily blunt doesn’t care if her girl on the tr...\n",
       "26530        harvey weinstein is despicable what about bob\n",
       "22011    preacher speaks up about the misogyny shes fac...\n",
       "21308    here’s what you should know about the  activis...\n",
       "45606      why being sexy ha nothing to do with appearance\n",
       "9559     this weightlifting actress dgaf what you think...\n",
       "26240    legendary french actress catherine deneuve dec...\n",
       "35805    catchy schoolhouse rock parody reminds u that ...\n",
       "                               ...                        \n",
       "6585     kesha urge those battling an eating disorder t...\n",
       "26044                           real life or just for like\n",
       "13917    im not a killjoy for hating dave chappelles ra...\n",
       "47827    grown men upset by movie theater offering wome...\n",
       "43654                            metoo ha made me speak up\n",
       "5012     walmart didnt feature any woman filmmaker for ...\n",
       "45202    watch a group of total stranger perform a gorg...\n",
       "38785    harvey weinstein and the danger of performativ...\n",
       "30633    to infinity and beyond woman leader in science...\n",
       "7027        malala confirms shes going to oxford this fall\n",
       "22455    the worst thing about seeing me too all over s...\n",
       "6452     ashleigh banfield responds on air to insulting...\n",
       "23416    inside amy schumer writer go on lengthy victim...\n",
       "15530              harvey weinstein and the abuse of power\n",
       "21709    lynda carter the original wonder woman share h...\n",
       "6765     wonder woman partnered with think thin in tone...\n",
       "4098     imdb adopts british film festival frating to h...\n",
       "25383    former disney exec launch social network for girl\n",
       "1307     a tv series about the metoo movement is coming...\n",
       "42790    yearold explains to principal why shes joining...\n",
       "15284    bill cosby publicist invokes emmett till in ca...\n",
       "3393     even the bachelor cant hide from female solida...\n",
       "7929     new ani difranco song is a battle cry for repr...\n",
       "36142    read amber tamblyns searing open letter to jam...\n",
       "24161    samantha bee take aim at criticallyacclaimed p...\n",
       "37830    am i the only woman who doesnt watch gilmore girl\n",
       "42504          harvey weinstein and the end of open secret\n",
       "36899      where do we go from here on carrie fisher death\n",
       "39558               carrie fisher would probably hate this\n",
       "30738    what female leader can learn from the game of ...\n",
       "Name: headline, Length: 72, dtype: object"
      ]
     },
     "metadata": {},
     "output_type": "display_data"
    },
    {
     "name": "stdout",
     "output_type": "stream",
     "text": [
      "\n",
      "'RELIGION' predicted as 'ENTERTAINMENT' : 11 examples.\n"
     ]
    },
    {
     "data": {
      "text/plain": [
       "46537    why this orthodox jewish indie rock band only ...\n",
       "38969        debbie reynolds carrie fisher mortality and u\n",
       "36006     thing to know about lughnasadh this month pag...\n",
       "45246                evolution weekend  now more than ever\n",
       "32519    hey benham brother maybe the message on the wi...\n",
       "19305    hbo is about to premiere a series about an att...\n",
       "26329                              coming out a an atheist\n",
       "33594    tony robbins reject guru label in new documentary\n",
       "14480    pope admits he made serious error in handling ...\n",
       "32298    vatican recall u diplomat over possible child ...\n",
       "32284        thing you probably didnt know about christmas\n",
       "Name: headline, dtype: object"
      ]
     },
     "metadata": {},
     "output_type": "display_data"
    },
    {
     "name": "stdout",
     "output_type": "stream",
     "text": [
      "\n",
      "'TRAVEL' predicted as 'ENTERTAINMENT' : 8 examples.\n"
     ]
    },
    {
     "data": {
      "text/plain": [
       "24757     surprising thing that are banned from disney ...\n",
       "12714    cheap weekend getaway where you can see peak f...\n",
       "27343    a you enjoy your vacation think about taking a...\n",
       "5953     disney reveals when you can finally visit the ...\n",
       "34963    why people like to stay in place where celebri...\n",
       "15827    how i got rich in my career and life by traveling\n",
       "24374         london spot every harry potter fan ha to see\n",
       "5957     this rideable suitcase ha got to be the greate...\n",
       "Name: headline, dtype: object"
      ]
     },
     "metadata": {},
     "output_type": "display_data"
    },
    {
     "name": "stdout",
     "output_type": "stream",
     "text": [
      "\n",
      "'SCIENCE' predicted as 'ENVIRONMENT' : 6 examples.\n"
     ]
    },
    {
     "data": {
      "text/plain": [
       "14403    already threatened polar bear face food shorta...\n",
       "28628    think weather forecast are bad try forecasting...\n",
       "33408    our economy depends on earth observation and s...\n",
       "4287     rare photo capture sprite gravity wave over hu...\n",
       "6184     europe oldest living inhabitant is looking pre...\n",
       "24386    get used to noreaster — arctic warming may mea...\n",
       "Name: headline, dtype: object"
      ]
     },
     "metadata": {},
     "output_type": "display_data"
    },
    {
     "name": "stdout",
     "output_type": "stream",
     "text": [
      "\n",
      "'POLITICS' predicted as 'ENVIRONMENT' : 25 examples.\n"
     ]
    },
    {
     "data": {
      "text/plain": [
       "24202           climate change is turning antarctica green\n",
       "25318                           california getting it done\n",
       "27442    why dockless bike may spell the end of the old...\n",
       "46849    will devos turn over policy to earth most enti...\n",
       "3860     u protects giant piece of atlantic ocean to sa...\n",
       "32754    it not just wine country california wildfire h...\n",
       "19663    hyping u missile defense capability could have...\n",
       "18478    appalachian have lost more than coal weve lost...\n",
       "29886                         a blowhard when it snow hard\n",
       "28816    coal baron subsidize coal ‘to make sure grandm...\n",
       "19649    can state environmental agency fill in for a f...\n",
       "30915                     when power corrupts poetry clean\n",
       "38611                               because climate change\n",
       "27540    fdr called them concentration camp why termino...\n",
       "27302       building a sustainable ‘highway of the future’\n",
       "10364    this small city is setting aside  acre for bee...\n",
       "8791     deadly louisiana flood overwhelm emergency res...\n",
       "34589    houston chemical plant fire highlight danger o...\n",
       "32790    federal ban on methadone van seen a barrier to...\n",
       "10877    a star psychiatrist swerve from nuclear armage...\n",
       "43601    el niño may be over for now but recordbreaking...\n",
       "39116    the storm that crushed puerto rico isnt gettin...\n",
       "43891    small bomb detonates on military k route in ne...\n",
       "20333    california take an unprecedented stand against...\n",
       "31155                                       holy hurricane\n",
       "Name: headline, dtype: object"
      ]
     },
     "metadata": {},
     "output_type": "display_data"
    },
    {
     "name": "stdout",
     "output_type": "stream",
     "text": [
      "\n",
      "'SPORTS' predicted as 'ENVIRONMENT' : 2 examples.\n"
     ]
    },
    {
     "data": {
      "text/plain": [
       "45978    miami heat dwyane wade pay surprise visit to p...\n",
       "26800    miami marlin pitcher jose fernandez killed in ...\n",
       "Name: headline, dtype: object"
      ]
     },
     "metadata": {},
     "output_type": "display_data"
    },
    {
     "name": "stdout",
     "output_type": "stream",
     "text": [
      "\n",
      "'QUEER VOICES' predicted as 'ENVIRONMENT' : 3 examples.\n"
     ]
    },
    {
     "data": {
      "text/plain": [
       "36696         pose pick up where paris is burning left off\n",
       "9066     call me by your name quenches our thirst for c...\n",
       "2930     evil sodomite now being blamed for hurricane m...\n",
       "Name: headline, dtype: object"
      ]
     },
     "metadata": {},
     "output_type": "display_data"
    },
    {
     "name": "stdout",
     "output_type": "stream",
     "text": [
      "\n",
      "'HEALTHY LIVING' predicted as 'ENVIRONMENT' : 5 examples.\n"
     ]
    },
    {
     "data": {
      "text/plain": [
       "27908    whale study suggests menopause may exist so gr...\n",
       "20721    nearly dying made me realize how i wanted to l...\n",
       "40490                elon musk just launched a new startup\n",
       "32757    how to stop beating yourself up about what you...\n",
       "10083    turn out faking a smile might not make you hap...\n",
       "Name: headline, dtype: object"
      ]
     },
     "metadata": {},
     "output_type": "display_data"
    },
    {
     "name": "stdout",
     "output_type": "stream",
     "text": [
      "\n",
      "'COMEDY' predicted as 'ENVIRONMENT' : 4 examples.\n"
     ]
    },
    {
     "data": {
      "text/plain": [
       "34129    alternativefacts are spreading like wildfire o...\n",
       "28519    comedian bill burr ha a creative solution to e...\n",
       "216      kobe bryant used to slam basketball but now he...\n",
       "32177    this dog is adorably scared of a windshield wiper\n",
       "Name: headline, dtype: object"
      ]
     },
     "metadata": {},
     "output_type": "display_data"
    },
    {
     "name": "stdout",
     "output_type": "stream",
     "text": [
      "\n",
      "'ENTERTAINMENT' predicted as 'ENVIRONMENT' : 3 examples.\n"
     ]
    },
    {
     "data": {
      "text/plain": [
       "49867      the power of standup comedy in a changing world\n",
       "45153                       the eagle sue hotel california\n",
       "38167    from the ash is a gripping new documentary on ...\n",
       "Name: headline, dtype: object"
      ]
     },
     "metadata": {},
     "output_type": "display_data"
    },
    {
     "name": "stdout",
     "output_type": "stream",
     "text": [
      "\n",
      "'WORLDPOST' predicted as 'ENVIRONMENT' : 15 examples.\n"
     ]
    },
    {
     "data": {
      "text/plain": [
       "32266    answering some burning question about arctic w...\n",
       "15050     aunt v the world oldest person dy in jamaica at \n",
       "35338    teenage pro surfer reportedly killed catching ...\n",
       "42149    inside the criminal network ravaging cambodia’...\n",
       "18017    this is how the world’s poor are pioneering th...\n",
       "49966     yearold japanese man is world oldest living male\n",
       "24321    iceland to become the first country to mandate...\n",
       "44092    how the gas industry can help fight climate ch...\n",
       "24629    animal missing after fire break out at london’...\n",
       "35946    ravaged by climate change the great barrier re...\n",
       "4532     rohingyas are suffering on a catastrophic scal...\n",
       "4557     nasa put a laser focus on the melting arctic o...\n",
       "13404    hurricane nicole strengthens into dangerous ca...\n",
       "7342     more question than answer after  lion poached ...\n",
       "44152    starving animal in mosul zoo receive first foo...\n",
       "Name: headline, dtype: object"
      ]
     },
     "metadata": {},
     "output_type": "display_data"
    },
    {
     "name": "stdout",
     "output_type": "stream",
     "text": [
      "\n",
      "'PARENTS' predicted as 'ENVIRONMENT' : 2 examples.\n"
     ]
    },
    {
     "data": {
      "text/plain": [
       "21757    the bomb cyclone transformed the east coast in...\n",
       "20241    texas policeman receives touching note from da...\n",
       "Name: headline, dtype: object"
      ]
     },
     "metadata": {},
     "output_type": "display_data"
    },
    {
     "name": "stdout",
     "output_type": "stream",
     "text": [
      "\n",
      "'BUSINESS' predicted as 'ENVIRONMENT' : 3 examples.\n"
     ]
    },
    {
     "data": {
      "text/plain": [
       "3985          trapped inside the monster energy frat house\n",
       "20591            predicting the u economy with postit note\n",
       "47380    scam alert in a hyperactive hurricane season t...\n",
       "Name: headline, dtype: object"
      ]
     },
     "metadata": {},
     "output_type": "display_data"
    },
    {
     "name": "stdout",
     "output_type": "stream",
     "text": [
      "\n",
      "'CRIME' predicted as 'ENVIRONMENT' : 3 examples.\n"
     ]
    },
    {
     "data": {
      "text/plain": [
       "43221    deadly tornado rip through texas a flood threa...\n",
       "18750    psa dont be a jerk clean the snow off your dam...\n",
       "31508    more than  dog rescued from cramped filthy cag...\n",
       "Name: headline, dtype: object"
      ]
     },
     "metadata": {},
     "output_type": "display_data"
    },
    {
     "name": "stdout",
     "output_type": "stream",
     "text": [
      "\n",
      "'IMPACT' predicted as 'ENVIRONMENT' : 13 examples.\n"
     ]
    },
    {
     "data": {
      "text/plain": [
       "10632     year after superstorm sandy new york still vu...\n",
       "7801     houston businessman turn his furniture store i...\n",
       "29961    california wildfire evacuee just want to go ho...\n",
       "10899        here how to help the victim of hurricane irma\n",
       "28705    cause for hope ocean inspiration from the worl...\n",
       "21641    air pollution exposed why you might be breathi...\n",
       "2384     these storm are just crazy craft beer brewer f...\n",
       "27440               how to not make wave with your h waste\n",
       "41863    the clean energy transition will transform our...\n",
       "35090                how to help victim of louisiana flood\n",
       "48501        when one of my classmate called me ‘rain man’\n",
       "14976                 big environmental story to watch in \n",
       "27946    saving energy is a simple a making this change...\n",
       "Name: headline, dtype: object"
      ]
     },
     "metadata": {},
     "output_type": "display_data"
    },
    {
     "name": "stdout",
     "output_type": "stream",
     "text": [
      "\n",
      "'STYLE' predicted as 'ENVIRONMENT' : 2 examples.\n"
     ]
    },
    {
     "data": {
      "text/plain": [
       "1594    reformation just launched a line of sustainabl...\n",
       "79        rihannas gucci sock are jawdroppingly expensive\n",
       "Name: headline, dtype: object"
      ]
     },
     "metadata": {},
     "output_type": "display_data"
    },
    {
     "name": "stdout",
     "output_type": "stream",
     "text": [
      "\n",
      "'TRAVEL' predicted as 'ENVIRONMENT' : 7 examples.\n"
     ]
    },
    {
     "data": {
      "text/plain": [
       "21211      skiing in summer only at this california resort\n",
       "14622          eclipse  how a tiny town brace for blackout\n",
       "45888    super bloom transform california desert into c...\n",
       "34498    bouncing around colorado spring in the dead of...\n",
       "17929     luxurious spa around the world to melt your w...\n",
       "34234    discovering the secret of oregon coast with th...\n",
       "1444     tanzania geodesic dome suite are the ultimate ...\n",
       "Name: headline, dtype: object"
      ]
     },
     "metadata": {},
     "output_type": "display_data"
    },
    {
     "name": "stdout",
     "output_type": "stream",
     "text": [
      "\n",
      "'SCIENCE' predicted as 'WORLDPOST' : 5 examples.\n"
     ]
    },
    {
     "data": {
      "text/plain": [
       "19272    elon musk spacex launch explosion is most diff...\n",
       "44874    a world turn more slowly we face earthquake bo...\n",
       "20965    australia join the hunt for alien with a huge ...\n",
       "9606     two people with rare disorder offer clue to hu...\n",
       "14329    u climate scientist flee for france to ‘make o...\n",
       "Name: headline, dtype: object"
      ]
     },
     "metadata": {},
     "output_type": "display_data"
    },
    {
     "name": "stdout",
     "output_type": "stream",
     "text": [
      "\n",
      "'POLITICS' predicted as 'WORLDPOST' : 168 examples.\n"
     ]
    },
    {
     "data": {
      "text/plain": [
       "42460    trump boasted about helping  american return f...\n",
       "36238    the forgotten history of american of indigenou...\n",
       "20114    how we should be thinking about russia role in...\n",
       "17259    missing the forest lying about the tree politi...\n",
       "15182                                 nato expiration date\n",
       "41472         i interacted with a russian troll on twitter\n",
       "6999     why ‘cloud seeding’ is increasingly attractive...\n",
       "21718                  on sex power and our own complicity\n",
       "41383    trump rented office space to iranian bank late...\n",
       "18709    donald trump hotel tied to criminal investigat...\n",
       "1973     mark cuban slam u plan to give chinese billion...\n",
       "47882          it  do you know where your bomb are falling\n",
       "30684    how sweden feminist foreign minister is dealin...\n",
       "14540    trump mourns victim of nice attack after slamm...\n",
       "11229    how castro drove jfk antimedia bias and press ...\n",
       "22895    the election of a socalled moderate president ...\n",
       "1259     greyhound is choosing to let border patrol dem...\n",
       "36723    saudi king arrest multiple prince and boost cr...\n",
       "27523    they fled iraq for america now they cope with ...\n",
       "5166     the deadliest form of tuberculosis is snowball...\n",
       "23022    chemical weapon almost certainly killed jewish...\n",
       "26216    egypt regime ha held an american student for f...\n",
       "5233     aarp to withdraw from controversial conservati...\n",
       "1943            morality race and chemical weapon in syria\n",
       "45579    north korea is a bad actor but not a state spo...\n",
       "30327    kremlin say putin will order appropriate respo...\n",
       "45733    mayor in canada defends ‘creepy’ bathroom wall...\n",
       "35627    u navy antienvironmental broadside hit the gul...\n",
       "30557       congress’ urgent unfinished business for child\n",
       "1946                      the prolife party is out to kill\n",
       "                               ...                        \n",
       "46497    trump order help for chinese phonemaker after ...\n",
       "21790    afghanistan the gateway drug for three adminis...\n",
       "33913    u take step towards embrace of gulf plan to de...\n",
       "18142    trade restriction to redistribute income are r...\n",
       "2067     syrian say trump airstrike against assad didn’...\n",
       "10891          here what it like to lobby for refugee life\n",
       "355                                                victory\n",
       "48550             u china formally join paris climate pact\n",
       "44166    what american can learn from the uk and turkey...\n",
       "20815        is iran’s ballistic missile use trump’s fault\n",
       "24518      how we’re forecasting the presidential election\n",
       "20892    is iran baiting the u into deeper syrian quick...\n",
       "3182     why it took  year for my grandpa to have his g...\n",
       "37380                          how putin could strike back\n",
       "28834       netanyahu should not attend trump inauguration\n",
       "16820    the un security council need to remember why c...\n",
       "25605                                     mosul on my mind\n",
       "18980    here are all the date you should mark on your ...\n",
       "449      twitter critic mercilessly mock trump for canc...\n",
       "49153    a hardfought victory to restore tribal land fa...\n",
       "12445    disability advocate arrested at rob portmans c...\n",
       "16028                    washington weakening hand in iran\n",
       "36265    lawmaker seek investigation of al jazeera amid...\n",
       "15345    iraqi interpreter for u army detained at jfk a...\n",
       "16930    mr netanyahu go to moscow  high stake are on t...\n",
       "30639                   migrant caravan reach the u border\n",
       "6817     ban spark panic among refugee awaiting urgent ...\n",
       "30185                     the demolition of u global power\n",
       "6709     cutting the gordian knot of north korea nuclea...\n",
       "39647    is this the man the world want solving middle ...\n",
       "Name: headline, Length: 168, dtype: object"
      ]
     },
     "metadata": {},
     "output_type": "display_data"
    },
    {
     "name": "stdout",
     "output_type": "stream",
     "text": [
      "\n",
      "'SPORTS' predicted as 'WORLDPOST' : 18 examples.\n"
     ]
    },
    {
     "data": {
      "text/plain": [
       "27330    here the hollywoodworthy rio gymnastics story ...\n",
       "3735     japan babe ruth hit st mlb homer  day after hi...\n",
       "9861     germany and canada tie for gold in twoman bobs...\n",
       "3822     tissue please career minor leaguer learns he n...\n",
       "27711    patriot running back had ‘unprecedented’ degre...\n",
       "2251     michael mcqueary penn state whistleblower in s...\n",
       "38029    the meldonium ban is more about russia reputat...\n",
       "14261    brazilian police arrest olympics official for ...\n",
       "30228    disappointed north korean say he is not a hero...\n",
       "9000                     fc barcelona    manchester united\n",
       "39150    usmnt call for respect ahead of world cup qual...\n",
       "1958     cleveland indian to abandon racist chief wahoo...\n",
       "27976    exsoccer official hit with  million lawsuit ov...\n",
       "30507    chinese diver pop the question in olympically ...\n",
       "8568     kobe bryant say you know who he supporting for...\n",
       "49420    south korea tout idea of cohosting  asian wint...\n",
       "1057     this brazilian gymnast is wowing the hometown ...\n",
       "31580    explosive report say usa swimming covered up h...\n",
       "Name: headline, dtype: object"
      ]
     },
     "metadata": {},
     "output_type": "display_data"
    },
    {
     "name": "stdout",
     "output_type": "stream",
     "text": [
      "\n",
      "'ARTS' predicted as 'WORLDPOST' : 11 examples.\n"
     ]
    },
    {
     "data": {
      "text/plain": [
       "19412    a museum in germany is asking designer to give...\n",
       "41256    poignant new artwork show little boy peering o...\n",
       "21970    banksy unveils brexitinspired mural showing di...\n",
       "48154    this dutch yearold epitomizes the future of am...\n",
       "32666    sleaterkinney just made bowie rebel rebel the ...\n",
       "19767    in inge moraths photograph womanhood is beauti...\n",
       "14900    mysterious carving of a woman face emerges dur...\n",
       "6537     yearold refugee who tweeted during aleppo sieg...\n",
       "11104    banksy pull free uk election print offer amid ...\n",
       "38109    new yorkers dismayed at election result can se...\n",
       "43113    seven year ago a mexican artist turned the usm...\n",
       "Name: headline, dtype: object"
      ]
     },
     "metadata": {},
     "output_type": "display_data"
    },
    {
     "name": "stdout",
     "output_type": "stream",
     "text": [
      "\n",
      "'QUEER VOICES' predicted as 'WORLDPOST' : 17 examples.\n"
     ]
    },
    {
     "data": {
      "text/plain": [
       "23427    greece pass law making it easier for citizen t...\n",
       "19195    ontario canada just issued it first nonbinary ...\n",
       "18805    australia prime minister defends religious lib...\n",
       "20166    do unto others a blueprint for religious leade...\n",
       "47481    pastor warns hurricane will hit city that don’...\n",
       "2419     the politics of accessibility love work  survi...\n",
       "38791    model isi king talk her transition homelessnes...\n",
       "44602                                         no ally here\n",
       "37931    britain most lgbtqfriendly employer might surp...\n",
       "49620    sex worker explain the struggle of running an ...\n",
       "39776    here what we can learn from tracey africa norm...\n",
       "12420                      around the world in tinder date\n",
       "7477     russian retail store display sign reading no e...\n",
       "17768    these dad traded in a london flat for a farmho...\n",
       "8702     london terror witness vow to drink and flirt w...\n",
       "22352    i tricked the greek church into letting me bap...\n",
       "23294    angela merkel call on putin to protect gay men...\n",
       "Name: headline, dtype: object"
      ]
     },
     "metadata": {},
     "output_type": "display_data"
    },
    {
     "name": "stdout",
     "output_type": "stream",
     "text": [
      "\n",
      "'MEDIA' predicted as 'WORLDPOST' : 12 examples.\n"
     ]
    },
    {
     "data": {
      "text/plain": [
       "4006     a british magazine just summed up the u electi...\n",
       "9198     russia vote to enact restriction on foreign me...\n",
       "47289    australian columnist gush over trump then hit ...\n",
       "21862      despite demise newsonenow needed more than ever\n",
       "14614    what the  medium covering hurricane irma doesn...\n",
       "47323    huffpost appoints aman sethi a india editorinc...\n",
       "39433    murdoch twentyfirst century fox bid  billion f...\n",
       "40558    in iraq military blogger gave an unprecedented...\n",
       "5966         to the moon alice  why we stopped going there\n",
       "1216     st century fox office in london raided by euro...\n",
       "47574    sean hannitys attack on journalist sink to new...\n",
       "7451     australian broadcaster apologizes for asking a...\n",
       "Name: headline, dtype: object"
      ]
     },
     "metadata": {},
     "output_type": "display_data"
    },
    {
     "name": "stdout",
     "output_type": "stream",
     "text": [
      "\n",
      "'HEALTHY LIVING' predicted as 'WORLDPOST' : 35 examples.\n"
     ]
    },
    {
     "data": {
      "text/plain": [
       "45772    pharmacist choice to cut corner killed  people...\n",
       "18207          the hope and fear of waiting for ivf result\n",
       "17741              how to move forward from a painful past\n",
       "35485              measles death are down around the world\n",
       "36271    one story of glioblastoma living with sorrow a...\n",
       "11705    trump blocked global abortion fund so the dutc...\n",
       "31912    brexit could make it harder for british people...\n",
       "42261    yemen cholera epidemic hit  confounding expect...\n",
       "49938                               time to save the world\n",
       "39554       pediatrician say codeine is not safe for child\n",
       "47859    how a panic attack on a plane forced me to fin...\n",
       "37517    psychiatrist call for special clinic to prescr...\n",
       "22456     weighted blanket that wont weigh down your wa...\n",
       "37248    pot use in pregnancy is going up here what we ...\n",
       "21448    new canada law give legal immunity to people w...\n",
       "8848     more than a half million people struck by chol...\n",
       "29193        who see high risk from kenya cholera outbreak\n",
       "4832     when word kill the national domestic violence ...\n",
       "48343    how air pollution get into the bloodstream and...\n",
       "31346    molecular trace on your iphone screen reveal a...\n",
       "40431    health and climate change an urgent need for a...\n",
       "38762      earthquake literally broke heart in new zealand\n",
       "27605    american surgeon poorly prepared for humanitar...\n",
       "26757    global summit take aim at the ultimate mystery...\n",
       "1301      thing you should and should not say when some...\n",
       "20481          cholera death toll in yemen reach at least \n",
       "12423    how ai robot hunt new drug for crippling nerve...\n",
       "26605                            on losing my first friend\n",
       "48924    u asks drug maker endo to withdraw opioid amid...\n",
       "9836     predicting the future for african living with ...\n",
       "26485     thanksgiving main dish that arent traditional...\n",
       "28113    researcher discover intriguing link between ma...\n",
       "32507    sperm count falling sharply in developed world...\n",
       "16174    pandemic alert how lesson from china can help ...\n",
       "4199     yellow fever ha become a looming threat for br...\n",
       "Name: headline, dtype: object"
      ]
     },
     "metadata": {},
     "output_type": "display_data"
    },
    {
     "name": "stdout",
     "output_type": "stream",
     "text": [
      "\n",
      "'COMEDY' predicted as 'WORLDPOST' : 8 examples.\n"
     ]
    },
    {
     "data": {
      "text/plain": [
       "5976     matthew perry once beat up canadian prime mini...\n",
       "17199    how to wash a goddamn dish for the entitled pi...\n",
       "30225    trumpahorrormovie scare the living daylight ou...\n",
       "30300    twitter took a muchneeded break from the world...\n",
       "26759     creative place to hide the afikoman this pass...\n",
       "16306    british chap guide to making a hit song is off...\n",
       "35021             turkey who literally cant even right now\n",
       "42212    the wonderful world wed live in if the whole i...\n",
       "Name: headline, dtype: object"
      ]
     },
     "metadata": {},
     "output_type": "display_data"
    },
    {
     "name": "stdout",
     "output_type": "stream",
     "text": [
      "\n",
      "'EDUCATION' predicted as 'WORLDPOST' : 3 examples.\n"
     ]
    },
    {
     "data": {
      "text/plain": [
       "16907                         a feminist meet fidel castro\n",
       "23377    the global search for education the millennial...\n",
       "11332                    around the world in  day october \n",
       "Name: headline, dtype: object"
      ]
     },
     "metadata": {},
     "output_type": "display_data"
    },
    {
     "name": "stdout",
     "output_type": "stream",
     "text": [
      "\n",
      "'ENTERTAINMENT' predicted as 'WORLDPOST' : 33 examples.\n"
     ]
    },
    {
     "data": {
      "text/plain": [
       "36574    prince died of an ‘exceedingly high’ amount of...\n",
       "38332    what newly revealed interrogation tape reveal ...\n",
       "49863    adele call on theresa may to do more to invest...\n",
       "44105    sting to perform at paris venue closed by dead...\n",
       "19492    fire and fury might be coming soon to a screen...\n",
       "43582    broadway star ruthie ann mile injured yearold ...\n",
       "49631    mel b throw water at simon cowell exit after h...\n",
       "49205    philippine embassy protest ‘madam secretary’ e...\n",
       "35957    justin trudeau challenge matthew perry to a re...\n",
       "518      john legend take over public piano for impromp...\n",
       "24796    corinne olympios say alcohol medication caused...\n",
       "32464    oscarnominated iranian director asghar farhadi...\n",
       "49167    major network are becoming more inclusive of a...\n",
       "44060    internet pit pooh against paddington and the r...\n",
       "12985    command and control an interview with filmmake...\n",
       "45737    marvel introduces their first official chinese...\n",
       "28435    arnold schwarzenegger casually photobombs tour...\n",
       "29218    canada celebrates  and mourns  a rocker the tr...\n",
       "29158    french president move to strip harvey weinstei...\n",
       "47949    paul weller is looking for a kind revolution i...\n",
       "7368     indivisible at london film fest italian cinema...\n",
       "11366    jonbenét ramsey’s brother open up  year after ...\n",
       "29743    these are photo of jessica chastain looking fi...\n",
       "20116    country singer troy gentry dy in helicopter cr...\n",
       "18321    woman claim mom’s abuse made brother ‘snap’ an...\n",
       "32866    kim cattralls missing brother found dead at hi...\n",
       "12941    red chair wedding the voice bloodbath semifina...\n",
       "18538    the b are still ready to party and be taken se...\n",
       "25451    shia labeouf arrested for disorderly conduct p...\n",
       "48614    natalie portman back out of israel award over ...\n",
       "3738                  bill cosbys daughter ensa dy at age \n",
       "10660    the holiday event season start now at a venue ...\n",
       "25464    lamar odom to document his road to recovery in...\n",
       "Name: headline, dtype: object"
      ]
     },
     "metadata": {},
     "output_type": "display_data"
    },
    {
     "name": "stdout",
     "output_type": "stream",
     "text": [
      "\n",
      "'ENVIRONMENT' predicted as 'WORLDPOST' : 34 examples.\n"
     ]
    },
    {
     "data": {
      "text/plain": [
       "24647    super typhoon wipe out nearly every home in th...\n",
       "29469    hundred of iceberg have clogged shipping route...\n",
       "46303    u southeast bracing for powerful hurricane mat...\n",
       "23630    viral tiger drone video reveals a grim reality...\n",
       "48952    can paris exit make  election a referendum on ...\n",
       "14335    two swedish economist foresaw the backlash aga...\n",
       "22786    while hurricane batter the south the west is o...\n",
       "16270      rising tide and the world’s next refugee crisis\n",
       "9288            china largest freshwater lake is shrinking\n",
       "4861     a woman is on trial in canada for giving water...\n",
       "34007                 hong kong make massive ivory seizure\n",
       "18352    the world agreed to tackle climate change but ...\n",
       "19048    time is running out a great barrier reef hit b...\n",
       "6730         fighting for child in a climatechanging world\n",
       "37069    un paris deal won’t be ‘enough’ to stave off w...\n",
       "23475    china’s fight against desertification should n...\n",
       "21552               hidden danger of the coral reef crisis\n",
       "37191    someone illegally shot a rare white wolf at ye...\n",
       "41409    arkansas town is dropping live turkey from pla...\n",
       "43733    new photo show hurricane matthew path of destr...\n",
       "9424     weve hit yet another frightening milestone for...\n",
       "49520    sea lion attack shut popular swimming spot in ...\n",
       "12294    arctic doomsday seed vault get doused by clima...\n",
       "8972     official prepare for the worst in oroville dam...\n",
       "44630    resident near texas chemical plant evacuated o...\n",
       "14397    dolphin dy at the hand of photoseeking mob on ...\n",
       "22257               is a healthy environment a human right\n",
       "1617     powerful earthquake rock underwater diver in t...\n",
       "19978    prince charles coauthor popular science book o...\n",
       "9808     in rare move china criticizes trump plan to ex...\n",
       "16451    broadcast news abandon climate change coverage...\n",
       "37170    the faa cant stop people from throwing live tu...\n",
       "29006                montreal is ending it ban on pit bull\n",
       "38755    hurricane matthew weakens off u coast after ra...\n",
       "Name: headline, dtype: object"
      ]
     },
     "metadata": {},
     "output_type": "display_data"
    },
    {
     "name": "stdout",
     "output_type": "stream",
     "text": [
      "\n",
      "'PARENTS' predicted as 'WORLDPOST' : 6 examples.\n"
     ]
    },
    {
     "data": {
      "text/plain": [
       "3437      million u woman lack easy access to infertili...\n",
       "5544                  cuomos weird and cynical israel trip\n",
       "10406                        how to manage a defiant child\n",
       "3217       target turned it shopping cart into mario karts\n",
       "19273    learning from a complex communication experime...\n",
       "38716    radio flyer year anniversary ad is jampacked w...\n",
       "Name: headline, dtype: object"
      ]
     },
     "metadata": {},
     "output_type": "display_data"
    },
    {
     "name": "stdout",
     "output_type": "stream",
     "text": [
      "\n",
      "'BUSINESS' predicted as 'WORLDPOST' : 8 examples.\n"
     ]
    },
    {
     "data": {
      "text/plain": [
       "47694    the ultimate roundup for hundred of black frid...\n",
       "31794    u launch auto import probe china vow to defend...\n",
       "13516    reporter writes glowing article about elon mus...\n",
       "23711    wikileaks revealed massive political corruptio...\n",
       "44556    job requiring chinese so you want to work in c...\n",
       "5255     creating a gateway for innovation and commerce...\n",
       "1213     of course british black friday is incredibly p...\n",
       "19116    uber lyft ban farright journalist following is...\n",
       "Name: headline, dtype: object"
      ]
     },
     "metadata": {},
     "output_type": "display_data"
    },
    {
     "name": "stdout",
     "output_type": "stream",
     "text": [
      "\n",
      "'BLACK VOICES' predicted as 'WORLDPOST' : 13 examples.\n"
     ]
    },
    {
     "data": {
      "text/plain": [
       "43225    billionaire to sponsor education of  girl free...\n",
       "37936                                 no you never hit her\n",
       "33546    how we can organize the south to save the country\n",
       "20603    vic mensa share how his clash with police move...\n",
       "36447    german broadcaster criticized for racist cover...\n",
       "42588    missing kkk leader found shot dead near river ...\n",
       "9154     blm protest at london airport call out environ...\n",
       "19308    south africa anc face worst election loss sinc...\n",
       "30711    the whiteness break — focusing on ourselves so...\n",
       "35510    it all connected looking back at selma stonewa...\n",
       "250       rare postcard written by malcolm x could be y...\n",
       "1503     s wrath antiblack violence stolen land and poi...\n",
       "21149    teenage musician killed in austin bombing admi...\n",
       "Name: headline, dtype: object"
      ]
     },
     "metadata": {},
     "output_type": "display_data"
    },
    {
     "name": "stdout",
     "output_type": "stream",
     "text": [
      "\n",
      "'CRIME' predicted as 'WORLDPOST' : 27 examples.\n"
     ]
    },
    {
     "data": {
      "text/plain": [
       "29079    firefighter battle major building fire in oakl...\n",
       "34052    isi claim responsibility for attack at ohio st...\n",
       "24507    muslim veteran who served in iraq find terrori...\n",
       "46339    man pleads guilty to murder of indian man afte...\n",
       "30258    homeowner fire arrow into fleeing burglar buttock\n",
       "702      girl hospitalized after getting boiling water ...\n",
       "10652     killed after truck fly off san diego bridge o...\n",
       "39848    caught on video world grinchiest vandal try to...\n",
       "7112     dozen injured in long island rail road derailment\n",
       "41229    student killed herself after university mishan...\n",
       "23575    fyre festival founder face prison after pleadi...\n",
       "10164    couple face cruelty charge for living in plywo...\n",
       "21093    no freedom for making a murderer brendan dasse...\n",
       "23021            two baltimore murder break hour ceasefire\n",
       "41238              cocaine worth  million wash up on beach\n",
       "5726      killed in what may be australia worst mass sh...\n",
       "7631     albuquerque police officer killed our son and ...\n",
       "36036    this isn’t pakistan bitch video capture driver...\n",
       "15647             u charge iranian for global cyber attack\n",
       "25540    up to  robber storm bart train in flash mob ho...\n",
       "44120    video capture moment gunman open fire at istan...\n",
       "39903    phoenix woman killed herself in back of police...\n",
       "10457    exnfl player antonio armstrong and wife killed...\n",
       "22983             chelsea bomber ahmad rahimi found guilty\n",
       "35234    twin dy after fall from escalator in world tra...\n",
       "46348    shark kill teen surfing with family off wester...\n",
       "7491     passenger disarms knife attacker on london bus...\n",
       "Name: headline, dtype: object"
      ]
     },
     "metadata": {},
     "output_type": "display_data"
    },
    {
     "name": "stdout",
     "output_type": "stream",
     "text": [
      "\n",
      "'IMPACT' predicted as 'WORLDPOST' : 23 examples.\n"
     ]
    },
    {
     "data": {
      "text/plain": [
       "29529    healing the gaping open wound an urgent call f...\n",
       "9135     when the air in your home is more polluted tha...\n",
       "4706     machine dont always steal our job increasingly...\n",
       "32765    here what i learned when i took a refugee fami...\n",
       "35230        this trendy cafe train refugee to become cook\n",
       "23410               communication for climatesmart farming\n",
       "3646      piece of wisdom from desmond tutu to inspire ...\n",
       "39251    the dangerous belief that extreme technology w...\n",
       "25550    why do million of the world’s most vulnerable ...\n",
       "49142    norway arctic oil lawsuit offer hope for a new...\n",
       "25753    german city to trial ambitious free public tra...\n",
       "44250    protest in colombia and south africa reveal li...\n",
       "31144    why and how to get involved on international d...\n",
       "9840     can we prevent the urbanization boom from beco...\n",
       "27393    unbelted rider in the back could kill someone ...\n",
       "19015    volunteer make up more than half of first resp...\n",
       "16323    this halloween don’t be that person with the f...\n",
       "6425                      exit your safe space immediately\n",
       "46834    electricity is the gift that can keep on givin...\n",
       "12307           hero who need your help amid aleppo crisis\n",
       "19516    another syrian refugee is about to make histor...\n",
       "27696                      looking ahead to world aid day \n",
       "49472    they fled war at home now they’re fighting dea...\n",
       "Name: headline, dtype: object"
      ]
     },
     "metadata": {},
     "output_type": "display_data"
    },
    {
     "name": "stdout",
     "output_type": "stream",
     "text": [
      "\n",
      "'STYLE' predicted as 'WORLDPOST' : 7 examples.\n"
     ]
    },
    {
     "data": {
      "text/plain": [
       "12699    even north west time out are hilariously luxur...\n",
       "31011    this trick for cleaning sneaker get mindblowin...\n",
       "28855                 store to hit up on free shipping day\n",
       "33221    france bean cobains new modeling gig is so not...\n",
       "47455    under new french law retouched photo of model ...\n",
       "27853    miss france iris mittenaere win miss universe ...\n",
       "13176    queen elizabeth say wearing a crown ha one sig...\n",
       "Name: headline, dtype: object"
      ]
     },
     "metadata": {},
     "output_type": "display_data"
    },
    {
     "name": "stdout",
     "output_type": "stream",
     "text": [
      "\n",
      "'WOMEN' predicted as 'WORLDPOST' : 18 examples.\n"
     ]
    },
    {
     "data": {
      "text/plain": [
       "3645                  the story of a north korean defector\n",
       "44655    saudi woman may soon be behind the wheel but s...\n",
       "29619    vesna vulovic survivor of midair plane explosi...\n",
       "45502    wearing a hijab isn’t the way you should show ...\n",
       "4209     moroccan tv air beauty tutorial on how to hide...\n",
       "26076        why i called the police on my street harasser\n",
       "32408    living in a small town didnt stop these people...\n",
       "22206    muslimwomensday take off on twitter amid celeb...\n",
       "13294    the french government is proposing a bill to p...\n",
       "16235    un chief warns that woman right are under atta...\n",
       "48980    s biggest victory and failure in the effort to...\n",
       "15189                  south korea join the metoo movement\n",
       "19927    muslim woman forced to remove hijab for mugsho...\n",
       "5303     the next big mobilization from woman march wil...\n",
       "9432                     in defense of letting yourself go\n",
       "43038    china first androgynous boy band is breaking d...\n",
       "46756    abigail breslin had a powerful response to com...\n",
       "27006     from the granddaughter of a north korean refugee\n",
       "Name: headline, dtype: object"
      ]
     },
     "metadata": {},
     "output_type": "display_data"
    },
    {
     "name": "stdout",
     "output_type": "stream",
     "text": [
      "\n",
      "'RELIGION' predicted as 'WORLDPOST' : 24 examples.\n"
     ]
    },
    {
     "data": {
      "text/plain": [
       "31755    pope lead thousand in praying the rosary for i...\n",
       "6680     ally form human chain around muslim praying du...\n",
       "29099     why a a christian leader i am choosing to resist\n",
       "9269     why some muslim leader are relieved eid wont f...\n",
       "29504    pope urge youth in poland to welcome refugee w...\n",
       "48708    reflecting on religious freedom this independe...\n",
       "6964                       reject the refugee reject jesus\n",
       "14216    myanmar is picking up the piece after earthqua...\n",
       "9554     muslim writer school troll who told him to tak...\n",
       "10290    an absurdly large number of australian say the...\n",
       "19791    for conservative christian is engagement a one...\n",
       "31503    why robert jeffress is wrong about roman  and ...\n",
       "31679    aging holocaust survivor lead to urgency in st...\n",
       "31013    megachurch pastor abruptly retires after alleg...\n",
       "11266     colorful photo that show the joy of holi in i...\n",
       "37342    muslim woman cant play professional basketball...\n",
       "36988    while you were asleep new year day morning mus...\n",
       "27742    pope francis world religious leader make impas...\n",
       "33727    only the hardest of heart could ignore these s...\n",
       "28659         to my muslimamerican friend about that hijab\n",
       "4235     dalai lama hint at rebirth a a woman outside c...\n",
       "44051                           immigrating to a new world\n",
       "30030    manchester bomber wa motivated to commit terro...\n",
       "24013    after child marched for their life pope franci...\n",
       "Name: headline, dtype: object"
      ]
     },
     "metadata": {},
     "output_type": "display_data"
    },
    {
     "name": "stdout",
     "output_type": "stream",
     "text": [
      "\n",
      "'TRAVEL' predicted as 'WORLDPOST' : 17 examples.\n"
     ]
    },
    {
     "data": {
      "text/plain": [
       "28166    jetblue could soon let you scan your face to b...\n",
       "30879                 incredible fact about the philippine\n",
       "21487    paris is installing sparkling water fountain a...\n",
       "9411     tripadvisor apologizes for removing rape claim...\n",
       "1977                       twilight of the lunatic express\n",
       "44649    airline codesharing is evil and must be destro...\n",
       "19194    one of europe’s least visited country also hap...\n",
       "37548    turbulence injures at least  on china eastern ...\n",
       "23188                     what wa life like in castro cuba\n",
       "35890     photo that will inspire you to get off the co...\n",
       "23143    guy moonwalk through  european landmark becaus...\n",
       "42707    a truly greek tragedy the loss of a young amer...\n",
       "43492          how living in mexico for a year inspired me\n",
       "7982          manchester the best city you’re not visiting\n",
       "48503    country with the highest life expectancy in th...\n",
       "16914    the  prettiest and most photogenic spot in the...\n",
       "1508     aristocratic chic historical and fashionable  ...\n",
       "Name: headline, dtype: object"
      ]
     },
     "metadata": {},
     "output_type": "display_data"
    },
    {
     "name": "stdout",
     "output_type": "stream",
     "text": [
      "\n",
      "'SCIENCE' predicted as 'PARENTS' : 2 examples.\n"
     ]
    },
    {
     "data": {
      "text/plain": [
       "8154      the best astronomy photo of  are simply stellar\n",
       "2257    kid adorable observation about the world may h...\n",
       "Name: headline, dtype: object"
      ]
     },
     "metadata": {},
     "output_type": "display_data"
    },
    {
     "name": "stdout",
     "output_type": "stream",
     "text": [
      "\n",
      "'POLITICS' predicted as 'PARENTS' : 20 examples.\n"
     ]
    },
    {
     "data": {
      "text/plain": [
       "4727     steam your kid favorite video game app ha a bi...\n",
       "30070    the idea that legalizing pot will drive kid to...\n",
       "44446                       my birthday is a day of infamy\n",
       "22343    my yearold son’s life depends on good health c...\n",
       "27056    how dog lover sparked law that could save kid ...\n",
       "6583     military family legally adopted daughter could...\n",
       "36651                 sam nunberg im not having a meltdown\n",
       "10373     even kid know equality for everyone is important\n",
       "24585    parent really dont want their kid looking up t...\n",
       "32187      why i want my daughter to know about janet reno\n",
       "16414    nobody know how many kid get caught with gun i...\n",
       "1272     a definitive guide to the best tim kaine dad j...\n",
       "32863    landmark turn blue for world autism awareness day\n",
       "45435    ana fate rested with an asylum officer who had...\n",
       "1640                         where have all the child gone\n",
       "11544    a mom spotted barack obama in an airport and h...\n",
       "19941             a mother day gift to help working family\n",
       "44129    one little girl beat the deadliest form of tub...\n",
       "42615    indianamericans are called ‘model minorities’ ...\n",
       "35503                                     the child of war\n",
       "Name: headline, dtype: object"
      ]
     },
     "metadata": {},
     "output_type": "display_data"
    },
    {
     "name": "stdout",
     "output_type": "stream",
     "text": [
      "\n",
      "'SPORTS' predicted as 'PARENTS' : 5 examples.\n"
     ]
    },
    {
     "data": {
      "text/plain": [
       "6048     dont expect the warrior rocky stretch to defin...\n",
       "49020        bryce harper tell kid no participation trophy\n",
       "10008    british football child molestation scandal one...\n",
       "24370    watch a youth team vote to forfeit it season i...\n",
       "23150    these hilarious quip about the olympics nail e...\n",
       "Name: headline, dtype: object"
      ]
     },
     "metadata": {},
     "output_type": "display_data"
    },
    {
     "name": "stdout",
     "output_type": "stream",
     "text": [
      "\n",
      "'ARTS' predicted as 'PARENTS' : 9 examples.\n"
     ]
    },
    {
     "data": {
      "text/plain": [
       "11521    mark twain wrote this neverbeforepublished fai...\n",
       "8330                     dear internet it time to savepepe\n",
       "31868    timelapse photo show how the twin tower define...\n",
       "24296    relive your college year with this thoughtful ...\n",
       "37449    this dance inspired by moonlight is almost a g...\n",
       "13079    sharon jones classic christmas cover is now an...\n",
       "29741     reason to encourage your kid to read banned book\n",
       "6654              how jane the virgin get motherhood right\n",
       "17146    for  year this feminist ceramicist ha told sto...\n",
       "Name: headline, dtype: object"
      ]
     },
     "metadata": {},
     "output_type": "display_data"
    },
    {
     "name": "stdout",
     "output_type": "stream",
     "text": [
      "\n",
      "'QUEER VOICES' predicted as 'PARENTS' : 21 examples.\n"
     ]
    },
    {
     "data": {
      "text/plain": [
       "25970    how these mom overcame challenge in their jour...\n",
       "40433               pediatrician say antilgbt law hurt kid\n",
       "16224    on letting loose and being free at adult summe...\n",
       "20750    this couple grapple with the possibility of be...\n",
       "11208    these two dad share the meant to be story of t...\n",
       "6541     one million mom is going totally ballistic ove...\n",
       "13526    donovan and eric two mexican dad open up about...\n",
       "41021    the awesome reason these mom are purposely bui...\n",
       "698      here an invaluable way to talk to kid about th...\n",
       "13961               straightland a family emigration story\n",
       "17004    here’s a great way to talk to kid about safety...\n",
       "9138           rainbow kid dont quit were fighting for you\n",
       "45258                         they tell me im a queerspawn\n",
       "43377    this boy dream of being a princess inspired an...\n",
       "40956    my son wear heel one mom story of raising a ge...\n",
       "8452     adorable video for kid show that activism is l...\n",
       "31373                   a special gift from my grandmother\n",
       "11706    zach wahls who defended his  mom in viral vide...\n",
       "37543               persistence made perfect for these mom\n",
       "4853               mom the btchiest bully of social medium\n",
       "33044    one million mom is furious that scholastic is ...\n",
       "Name: headline, dtype: object"
      ]
     },
     "metadata": {},
     "output_type": "display_data"
    },
    {
     "name": "stdout",
     "output_type": "stream",
     "text": [
      "\n",
      "'HEALTHY LIVING' predicted as 'PARENTS' : 37 examples.\n"
     ]
    },
    {
     "data": {
      "text/plain": [
       "26312    the powerful question every parent need to ask...\n",
       "38615    mom i got my attitude from you and that’s not ...\n",
       "35100        how autism impact my life in way you cant see\n",
       "28096    smart kid are more likely to experiment with p...\n",
       "42383                   a dear santa letter from a grownup\n",
       "19455            summer activity to keep you busy outdoors\n",
       "18315    skin and sun important tip on protecting kid a...\n",
       "11928     thing you should never say to someone with au...\n",
       "37689    how do we protect our child with autism from r...\n",
       "40693       mother’s day a time for reflection and healing\n",
       "12308    what ive learned from counseling couple throug...\n",
       "35398    first u baby born after uterus transplantation...\n",
       "27211            way to support a friend after miscarriage\n",
       "30179    what chrissy teigen can teach u about postpart...\n",
       "5739       i won’t let anxiety stop me from becoming a mom\n",
       "38388            what it really like to have a miscarriage\n",
       "4637     here are some scary thing that can happen to y...\n",
       "14846    love is more than skin deep what my daughter t...\n",
       "8002             study find older dad may have geekier son\n",
       "505      more than  pound of beef pork and veal recalle...\n",
       "33158                    why we are a foster parent family\n",
       "43216       why it important to meet kid on their own term\n",
       "34516    real loved and wanted processing an early misc...\n",
       "15453    will global warming influence woman risk for p...\n",
       "45438    flu vaccine protects a pregnant woman her unbo...\n",
       "2020     what we know about the link between fever duri...\n",
       "8892         family loses third son to the heroin epidemic\n",
       "1797     postpartum depression what i wish i had known ...\n",
       "1728                 habit of highly successful foster kid\n",
       "33589     way to be present for someone who ha lost the...\n",
       "29901     hilarious and honest card that sum up life wi...\n",
       "1376     the importance of revamping the guideline for ...\n",
       "4033      miscarriage is usually beyond a mother’s control\n",
       "7575       how my autism is restoring my faith in humanity\n",
       "2819     what i wish people understood about fidget toy...\n",
       "14376    to the woman who said she wouldn’t date me bec...\n",
       "49770    new artificial pancreas could seriously improv...\n",
       "Name: headline, dtype: object"
      ]
     },
     "metadata": {},
     "output_type": "display_data"
    },
    {
     "name": "stdout",
     "output_type": "stream",
     "text": [
      "\n",
      "'COMEDY' predicted as 'PARENTS' : 8 examples.\n"
     ]
    },
    {
     "data": {
      "text/plain": [
       "20868    big bird beastie boy mashup tell you how to ge...\n",
       "40329    dad pushing son tricycle with a leaf blower is...\n",
       "46343    hilarious haunted house photo are the funniest...\n",
       "8621     these tweet will guarantee you start off  on t...\n",
       "11008    these dadquotes once again prove dad is the fu...\n",
       "1194     when youre working from mar a lago and your ki...\n",
       "15903    ifmomwrotecandyhearts is the sweet and sassy v...\n",
       "10755    this guy really hate adult who steal foul ball...\n",
       "Name: headline, dtype: object"
      ]
     },
     "metadata": {},
     "output_type": "display_data"
    },
    {
     "name": "stdout",
     "output_type": "stream",
     "text": [
      "\n",
      "'EDUCATION' predicted as 'PARENTS' : 8 examples.\n"
     ]
    },
    {
     "data": {
      "text/plain": [
       "43922    president trump in the eye of kid parent and t...\n",
       "15609    teaching the greek and critical thinking  part...\n",
       "18742                            why i went to summer camp\n",
       "21161    the evergreen state college implosion are ther...\n",
       "34460    i dont use my parent a a piggy bank and neithe...\n",
       "17760    circle up teaching socialemotional skill year ...\n",
       "28210      of the best prime day deal for your college kid\n",
       "38629    inspired by skid row educator opening charter ...\n",
       "Name: headline, dtype: object"
      ]
     },
     "metadata": {},
     "output_type": "display_data"
    },
    {
     "name": "stdout",
     "output_type": "stream",
     "text": [
      "\n",
      "'ENTERTAINMENT' predicted as 'PARENTS' : 55 examples.\n"
     ]
    },
    {
     "data": {
      "text/plain": [
       "30014    ellen degeneres give classic children’s book h...\n",
       "30695    chadwick boseman reacts to viral video of kid ...\n",
       "19933    america ferrera announces pregnancy in cutest ...\n",
       "45018            everybody from the hill is having kid now\n",
       "48529    billie lourd pay tribute to mom carrie fisher ...\n",
       "44407    celebrity honor their mom on mother day with s...\n",
       "17126    teen mom ogs catelynn lowell head to treatment...\n",
       "33477    hilary swank and brother goof on wine taster i...\n",
       "13398    parent of yearold who died in prison we found ...\n",
       "47534    the late biggie small wa a saint of the street...\n",
       "39739    dwayne johnson get his adorable daughter to sa...\n",
       "38760    jon snow is an adorable goof in emilia clarkes...\n",
       "48881    chris hemsworths wife elsa pataky post sweet p...\n",
       "14371    this viral photo of nicolas cage perfectly enc...\n",
       "46214    shonda rhimes get in formation with stellar be...\n",
       "3042     alec baldwin school joe piscopo on what to tel...\n",
       "6088     little mix adjusts lyric to make kid choice pe...\n",
       "45021    netflix is raising price on all but it most ba...\n",
       "3440     to daniel radcliffes parent please dont read t...\n",
       "43309    brown entertainer are having a moment and it’s...\n",
       "21475    a phone dying ha never been this heartbreaking...\n",
       "42597    yes ashanti is still here and ready for you to...\n",
       "8048     watch diddy surprise his daughter with the bes...\n",
       "1229     how mae whitman navigated and conquered child ...\n",
       "8060     william h macy ha ultimate dad moment dancing ...\n",
       "38213    cookie monster finally tell u how to get to se...\n",
       "3663     halle berry wash down pregnancy rumor with ste...\n",
       "14191    jimmy kimmel share sweet photo of his healthy ...\n",
       "26829    how a mom’s behavior might be alienating her t...\n",
       "45811    broadway star ruthie ann mile out of icu after...\n",
       "19804    what life is like for heroinaddicted grandma w...\n",
       "45384    yes jewel realizes that ann coulter burn is no...\n",
       "5437     brady bunch kid post heartwarming tribute to f...\n",
       "18762      vanna white touching heart one letter at a time\n",
       "10293    this despacito heavy metal remix is impossible...\n",
       "32595    kid golfer with one arm show off his drive on ...\n",
       "19387    yearold say she’s desperate to stop the hittin...\n",
       "25403    bad mom star think there’s too much pressure t...\n",
       "21325       here what no trouser day looked like in london\n",
       "42027    father emotional letter to ariana grande go vi...\n",
       "36420    sir mixalots baby got back get a stomping coun...\n",
       "33831    budding bard amanda seyfried announced her pre...\n",
       "4416     here the friend opening sequence recreated wit...\n",
       "5619     niall horan googled st patrick day and found a...\n",
       "28480    james corden and jason derulo take dance lesso...\n",
       "39294    man track down longlost daughter on social med...\n",
       "3488     pink announces second pregnancy with adorable ...\n",
       "47606    catelynn lowell of teen mom og head home after...\n",
       "17395    neil patrick harris asks are these kid meeting...\n",
       "7755     how cocoon central dance team made dancing wit...\n",
       "33683    here why a grown man walked off set after losi...\n",
       "20616    jaime king yearold son hit with broken glass i...\n",
       "1580     sza already won the grammys with her mom and g...\n",
       "46207    doctor who doe new york in this year christmas...\n",
       "21310    florence henderson famed mom of the brady bunc...\n",
       "Name: headline, dtype: object"
      ]
     },
     "metadata": {},
     "output_type": "display_data"
    },
    {
     "name": "stdout",
     "output_type": "stream",
     "text": [
      "\n",
      "'ENVIRONMENT' predicted as 'PARENTS' : 2 examples.\n"
     ]
    },
    {
     "data": {
      "text/plain": [
       "33203                   pet loss helping child say goodbye\n",
       "25667    sea lion dragging kid into the water is a good...\n",
       "Name: headline, dtype: object"
      ]
     },
     "metadata": {},
     "output_type": "display_data"
    },
    {
     "name": "stdout",
     "output_type": "stream",
     "text": [
      "\n",
      "'WORLDPOST' predicted as 'PARENTS' : 11 examples.\n"
     ]
    },
    {
     "data": {
      "text/plain": [
       "8863     happy mother’s day mom are they bombing nearby...\n",
       "9423     a mother’s loss in the coalition’s battle for ...\n",
       "12360    she stopped her own child marriage now shes do...\n",
       "12520    ecuador’s school food is bad for kid — and the...\n",
       "44130    cultural inequity  teen pregnancy in latin ame...\n",
       "23731    watch pentagon video of the moment the mother ...\n",
       "10555    these  photo show santa spreading joy around t...\n",
       "2789     for senegal’s jailed minor and street kid fenc...\n",
       "15528    watch what this yearold girl doe when robber e...\n",
       "17812    how the new royal baby affect the succession t...\n",
       "33810    anne frank halloween costume spark internet co...\n",
       "Name: headline, dtype: object"
      ]
     },
     "metadata": {},
     "output_type": "display_data"
    },
    {
     "name": "stdout",
     "output_type": "stream",
     "text": [
      "\n",
      "'BUSINESS' predicted as 'PARENTS' : 3 examples.\n"
     ]
    },
    {
     "data": {
      "text/plain": [
       "14973     interview question you should always be prepa...\n",
       "14282          secret selfmade millionaire teach their kid\n",
       "45794                  advanced advertising reality v hype\n",
       "Name: headline, dtype: object"
      ]
     },
     "metadata": {},
     "output_type": "display_data"
    },
    {
     "name": "stdout",
     "output_type": "stream",
     "text": [
      "\n",
      "'BLACK VOICES' predicted as 'PARENTS' : 16 examples.\n"
     ]
    },
    {
     "data": {
      "text/plain": [
       "4775              the top  reason black parent are magical\n",
       "38261    american girl doll brings in the new year with...\n",
       "36161    robert godwins family our dad would want u to ...\n",
       "16886    this yearold ha provided free barber school co...\n",
       "15111    in the tradition of our ancestor this mother’s...\n",
       "31377                                             hey mama\n",
       "47579    why africanamerican father should add vaccinat...\n",
       "13357    yearold started a baking company to buy his mo...\n",
       "2878     little girl awestruck by michelle obamas portr...\n",
       "39568                         a child advocate’s beatitude\n",
       "49831    notorious bigs mom is making a documentary abo...\n",
       "45861    willow and jaden smith talk crazy sibling dyna...\n",
       "36780    this kid letter to his teacher for lying about...\n",
       "21822    yearold suffered  gunshot wound in her grandma...\n",
       "37059    ohio mom want teacher fired for telling her so...\n",
       "22517                          three easy gratitude lesson\n",
       "Name: headline, dtype: object"
      ]
     },
     "metadata": {},
     "output_type": "display_data"
    },
    {
     "name": "stdout",
     "output_type": "stream",
     "text": [
      "\n",
      "'CRIME' predicted as 'PARENTS' : 9 examples.\n"
     ]
    },
    {
     "data": {
      "text/plain": [
       "12559    navy hospital staffer removed after sharing di...\n",
       "29670    meth found in child halloween candy prompt war...\n",
       "30201    child casket containing human organ found on p...\n",
       "49276    pregnant woman robbed while having labor contr...\n",
       "11155    mom accused of injecting feces into canceraffl...\n",
       "17429    burglar burst through ymca ceiling steal toy m...\n",
       "39542    pregnant mother of twin vanishes while running...\n",
       "13838     call from parkland shooting reveal terror of ...\n",
       "17391    mom want justice for boy who killed himself af...\n",
       "Name: headline, dtype: object"
      ]
     },
     "metadata": {},
     "output_type": "display_data"
    },
    {
     "name": "stdout",
     "output_type": "stream",
     "text": [
      "\n",
      "'IMPACT' predicted as 'PARENTS' : 13 examples.\n"
     ]
    },
    {
     "data": {
      "text/plain": [
       "5944     why mom demand action will participate in day ...\n",
       "40042        family planning in war zone make aid feminist\n",
       "33803    inside the impossible mission to rescue  kid d...\n",
       "16656    brother who lost parent in tsunami are now sup...\n",
       "8222     celebrate adopt a shelter dog month by finding...\n",
       "48099             christmas tip your mom would be proud of\n",
       "29866    why this father feed his son freakish fruit an...\n",
       "21534    the innovative way kenya is helping prevent mo...\n",
       "24806    child miss out the most on school in these  co...\n",
       "45286               what if you couldnt protect your child\n",
       "37706    new boy muppet on afghanistan sesame street is...\n",
       "24079    kenya’s debilitating drought   child in dire n...\n",
       "8486     helicopter crew pluck mom and kid from boat ca...\n",
       "Name: headline, dtype: object"
      ]
     },
     "metadata": {},
     "output_type": "display_data"
    },
    {
     "name": "stdout",
     "output_type": "stream",
     "text": [
      "\n",
      "'STYLE' predicted as 'PARENTS' : 8 examples.\n"
     ]
    },
    {
     "data": {
      "text/plain": [
       "29507    fishnet are back baby and here’s how to wear t...\n",
       "49189    this story about winona ryder getting beat up ...\n",
       "32249    this powerful new nike ad redefines what girl ...\n",
       "45142    yes this is alexander skarsgårds actual new ha...\n",
       "30443     halloween costume idea for people who wear glass\n",
       "20236    these pic of cindy crawford daughter kaia gerb...\n",
       "44588    why i regret plucking my unibrow to get modeli...\n",
       "19179       duchess of cambridge pregnant with third child\n",
       "Name: headline, dtype: object"
      ]
     },
     "metadata": {},
     "output_type": "display_data"
    },
    {
     "name": "stdout",
     "output_type": "stream",
     "text": [
      "\n",
      "'WOMEN' predicted as 'PARENTS' : 18 examples.\n"
     ]
    },
    {
     "data": {
      "text/plain": [
       "39004    larry nassar’s victim get their day in court ‘...\n",
       "35334    banning elected mom from breastfeeding is on t...\n",
       "44573        halloween costume that make u want to ban men\n",
       "36956      why i stopped feeling pressured to have kid now\n",
       "13932     thing to do before your daughter start her pe...\n",
       "15437                 learning about love at grandma table\n",
       "8177     the evolution of the feminist label according ...\n",
       "22967    having an nba star dad didnt shield me from tr...\n",
       "4131           to the momma without a baby this mother day\n",
       "18371    every single lady can relate to this christmas...\n",
       "21736    why we discriminate against woman athlete and ...\n",
       "14012    mother don’t need greeting card and chocolate—...\n",
       "210            a good news story about imperfect pregnancy\n",
       "13083    i’m not the cooperative target youd like me to...\n",
       "41124                  unique gift for mom this mother day\n",
       "22511    adorable girl sum up why we need more landmark...\n",
       "22886                     an open letter to my best friend\n",
       "4828     most mom work but more of them arent joining t...\n",
       "Name: headline, dtype: object"
      ]
     },
     "metadata": {},
     "output_type": "display_data"
    },
    {
     "name": "stdout",
     "output_type": "stream",
     "text": [
      "\n",
      "'RELIGION' predicted as 'PARENTS' : 2 examples.\n"
     ]
    },
    {
     "data": {
      "text/plain": [
       "1976     archbishop find evil lurking  in the girl scout\n",
       "33262                            raising a special child\n",
       "Name: headline, dtype: object"
      ]
     },
     "metadata": {},
     "output_type": "display_data"
    },
    {
     "name": "stdout",
     "output_type": "stream",
     "text": [
      "\n",
      "'TRAVEL' predicted as 'PARENTS' : 3 examples.\n"
     ]
    },
    {
     "data": {
      "text/plain": [
       "38154    photographer capture lapland northern light in...\n",
       "39839      the magical arabia of our childhood imagination\n",
       "38509    this adorable dog ha a very important hospital...\n",
       "Name: headline, dtype: object"
      ]
     },
     "metadata": {},
     "output_type": "display_data"
    },
    {
     "name": "stdout",
     "output_type": "stream",
     "text": [
      "\n",
      "'POLITICS' predicted as 'BUSINESS' : 12 examples.\n"
     ]
    },
    {
     "data": {
      "text/plain": [
       "41460           the next financial crisis  not if but when\n",
       "26414      google former antidiversity employee ha no case\n",
       "43739    fcc chair ajit pai joke in video about being a...\n",
       "32399    climate change could threaten up to  billion r...\n",
       "4649     shakespeare and sexting reconsidering penalty ...\n",
       "7349               uber fight to put driver safety at risk\n",
       "26025    today the last day to file a claim over the ne...\n",
       "19844    u job growth rebound sharply unemployment rate...\n",
       "24259     u job growth rise briskly wage continue to climb\n",
       "29169      some of amazon’s suitor have been burned before\n",
       "30429                               preparing for doomsday\n",
       "22175    trump reportedly called german very bad vowed ...\n",
       "Name: headline, dtype: object"
      ]
     },
     "metadata": {},
     "output_type": "display_data"
    },
    {
     "name": "stdout",
     "output_type": "stream",
     "text": [
      "\n",
      "'ARTS' predicted as 'BUSINESS' : 3 examples.\n"
     ]
    },
    {
     "data": {
      "text/plain": [
       "24658     tip for a successful boudoir photoshoot  and ...\n",
       "38796    how a yearold bookstore got into the business ...\n",
       "10707         this yearold’s poem break apart the wage gap\n",
       "Name: headline, dtype: object"
      ]
     },
     "metadata": {},
     "output_type": "display_data"
    },
    {
     "name": "stdout",
     "output_type": "stream",
     "text": [
      "\n",
      "'QUEER VOICES' predicted as 'BUSINESS' : 3 examples.\n"
     ]
    },
    {
     "data": {
      "text/plain": [
       "6819         starbucks speak softly and do the right thing\n",
       "6175                        building your emotional muscle\n",
       "46975    texas couple claim a kiss got them booted from...\n",
       "Name: headline, dtype: object"
      ]
     },
     "metadata": {},
     "output_type": "display_data"
    },
    {
     "name": "stdout",
     "output_type": "stream",
     "text": [
      "\n",
      "'MEDIA' predicted as 'BUSINESS' : 5 examples.\n"
     ]
    },
    {
     "data": {
      "text/plain": [
       "18773    in wyoming a newly unionized newsroom say corp...\n",
       "21845    npr ceo jarl mohn take medical leave of absenc...\n",
       "17400     vice employee accused of sexual harassment pl...\n",
       "13454    ny time abruptly fire it new nazibefriending e...\n",
       "18723    it time for the medium to wake up and do it fk...\n",
       "Name: headline, dtype: object"
      ]
     },
     "metadata": {},
     "output_type": "display_data"
    },
    {
     "name": "stdout",
     "output_type": "stream",
     "text": [
      "\n",
      "'HEALTHY LIVING' predicted as 'BUSINESS' : 5 examples.\n"
     ]
    },
    {
     "data": {
      "text/plain": [
       "48426     expertbacked productivity tip to help nail yo...\n",
       "32430     reason getting in shape is easier than you think\n",
       "38933    personal growth the challenge and value of fin...\n",
       "44839    these sciencebacked tip will help you demolish...\n",
       "40507    how to stay updated on the news without losing...\n",
       "Name: headline, dtype: object"
      ]
     },
     "metadata": {},
     "output_type": "display_data"
    },
    {
     "name": "stdout",
     "output_type": "stream",
     "text": [
      "\n",
      "'EDUCATION' predicted as 'BUSINESS' : 3 examples.\n"
     ]
    },
    {
     "data": {
      "text/plain": [
       "6022                         do test score measure success\n",
       "5909     how to dress your resume for the job you want ...\n",
       "36941    arkansas resident jim and alice walton pony up...\n",
       "Name: headline, dtype: object"
      ]
     },
     "metadata": {},
     "output_type": "display_data"
    },
    {
     "name": "stdout",
     "output_type": "stream",
     "text": [
      "\n",
      "'ENTERTAINMENT' predicted as 'BUSINESS' : 7 examples.\n"
     ]
    },
    {
     "data": {
      "text/plain": [
       "40136    rundmc founder sue amazon walmart for  million...\n",
       "42038    here how the legally blonde bend and snap came...\n",
       "30855    joshua radin unveils insomniainspired lullaby ...\n",
       "15496    male manager encourages rockette dancer to tol...\n",
       "23280    there nothing ironic about alanis morissettes ...\n",
       "32401    harrison ford face no penalty after close call...\n",
       "15022        apple is devoting  billion to original series\n",
       "Name: headline, dtype: object"
      ]
     },
     "metadata": {},
     "output_type": "display_data"
    },
    {
     "name": "stdout",
     "output_type": "stream",
     "text": [
      "\n",
      "'ENVIRONMENT' predicted as 'BUSINESS' : 3 examples.\n"
     ]
    },
    {
     "data": {
      "text/plain": [
       "5610     giraffe face silent extinction a worldwide pop...\n",
       "46896    will fossil fuel and conventional car be obsol...\n",
       "27303    pittsburgh bike culture must be preserved amid...\n",
       "Name: headline, dtype: object"
      ]
     },
     "metadata": {},
     "output_type": "display_data"
    },
    {
     "name": "stdout",
     "output_type": "stream",
     "text": [
      "\n",
      "'WORLDPOST' predicted as 'BUSINESS' : 4 examples.\n"
     ]
    },
    {
     "data": {
      "text/plain": [
       "11339           floor collapse at indonesia stock exchange\n",
       "9899     how the  jew left in kolkata are using food to...\n",
       "16760    oil tanker carrying over  gallon of diesel hij...\n",
       "24515        nova scotia plan to sell weed in liquor store\n",
       "Name: headline, dtype: object"
      ]
     },
     "metadata": {},
     "output_type": "display_data"
    },
    {
     "name": "stdout",
     "output_type": "stream",
     "text": [
      "\n",
      "'PARENTS' predicted as 'BUSINESS' : 9 examples.\n"
     ]
    },
    {
     "data": {
      "text/plain": [
       "2396                           window of opportunity part \n",
       "9945     buying google home or amazon echo this year he...\n",
       "23859                                    fatherhood denied\n",
       "4540                           window of opportunity part \n",
       "4732                                graco recall  car seat\n",
       "24362    here are the  popular toy everyone wanted on b...\n",
       "21344    what really go into creating those holiday hot...\n",
       "3635     how to make this the best holiday season money...\n",
       "49459    amazon could refund more than  million worth o...\n",
       "Name: headline, dtype: object"
      ]
     },
     "metadata": {},
     "output_type": "display_data"
    },
    {
     "name": "stdout",
     "output_type": "stream",
     "text": [
      "\n",
      "'BLACK VOICES' predicted as 'BUSINESS' : 6 examples.\n"
     ]
    },
    {
     "data": {
      "text/plain": [
       "19705          financial literacy lesson from jayzs  album\n",
       "14476     gift from blackowned business your loved one ...\n",
       "23987    chelsea handler id rather stevie wonder drive ...\n",
       "7756      uber need to do better when it come to diversity\n",
       "7506         thing willie dynamite taught u about business\n",
       "24012          keanu tiger bruce and salma how we see race\n",
       "Name: headline, dtype: object"
      ]
     },
     "metadata": {},
     "output_type": "display_data"
    },
    {
     "name": "stdout",
     "output_type": "stream",
     "text": [
      "\n",
      "'CRIME' predicted as 'BUSINESS' : 3 examples.\n"
     ]
    },
    {
     "data": {
      "text/plain": [
       "7701     uber face criminal probe over software used to...\n",
       "5179     foulmouthed state prosecutor berates threatens...\n",
       "39812    hooded thief swarm san francisco apple store s...\n",
       "Name: headline, dtype: object"
      ]
     },
     "metadata": {},
     "output_type": "display_data"
    },
    {
     "name": "stdout",
     "output_type": "stream",
     "text": [
      "\n",
      "'IMPACT' predicted as 'BUSINESS' : 5 examples.\n"
     ]
    },
    {
     "data": {
      "text/plain": [
       "38995    walmart canada apologizes after it wa caught t...\n",
       "46864    the billionaire bonanza  thing you need to kno...\n",
       "49615    this ceo took a pay cut to give employee  a ye...\n",
       "34359    this successful management consultant quit her...\n",
       "31284    miami airport worker demand fair wage and heal...\n",
       "Name: headline, dtype: object"
      ]
     },
     "metadata": {},
     "output_type": "display_data"
    },
    {
     "name": "stdout",
     "output_type": "stream",
     "text": [
      "\n",
      "'STYLE' predicted as 'BUSINESS' : 7 examples.\n"
     ]
    },
    {
     "data": {
      "text/plain": [
       "36776    amazon is under fire for sale of offensive pro...\n",
       "34775    this beloved s backpack brand is back and were...\n",
       "1992                             why people really buy fur\n",
       "39926    missed black friday these  sale are still a go...\n",
       "27959     thing were obsessed with this week besides pr...\n",
       "2322     amazon sell a robot that judge how you look a ...\n",
       "47636    justice league appears to make costume sexier ...\n",
       "Name: headline, dtype: object"
      ]
     },
     "metadata": {},
     "output_type": "display_data"
    },
    {
     "name": "stdout",
     "output_type": "stream",
     "text": [
      "\n",
      "'WOMEN' predicted as 'BUSINESS' : 3 examples.\n"
     ]
    },
    {
     "data": {
      "text/plain": [
       "41513                                     silent no longer\n",
       "7406     woman leader of the resistance share  differen...\n",
       "26189                         is silicon valley sexist yes\n",
       "Name: headline, dtype: object"
      ]
     },
     "metadata": {},
     "output_type": "display_data"
    },
    {
     "name": "stdout",
     "output_type": "stream",
     "text": [
      "\n",
      "'TRAVEL' predicted as 'BUSINESS' : 3 examples.\n"
     ]
    },
    {
     "data": {
      "text/plain": [
       "14943    video show carnival cruise liner destroy marin...\n",
       "2393     finnish chain build game of thronesthemed hote...\n",
       "23222    people are shunning black friday so they can o...\n",
       "Name: headline, dtype: object"
      ]
     },
     "metadata": {},
     "output_type": "display_data"
    },
    {
     "name": "stdout",
     "output_type": "stream",
     "text": [
      "\n",
      "'SCIENCE' predicted as 'BLACK VOICES' : 3 examples.\n"
     ]
    },
    {
     "data": {
      "text/plain": [
       "10821    there one letter in the alphabet that almost n...\n",
       "48354    all the mathematical method i learned in my un...\n",
       "24718           were going to take a photo of a black hole\n",
       "Name: headline, dtype: object"
      ]
     },
     "metadata": {},
     "output_type": "display_data"
    },
    {
     "name": "stdout",
     "output_type": "stream",
     "text": [
      "\n",
      "'POLITICS' predicted as 'BLACK VOICES' : 64 examples.\n"
     ]
    },
    {
     "data": {
      "text/plain": [
       "34421    air force veteran i feel deeply honored when n...\n",
       "33366                           im proud to be an alarmist\n",
       "45279                          a year later  whats changed\n",
       "31563    bill oreillys brilliant plan for winning minor...\n",
       "31532    it time to stop calling black protester unpatr...\n",
       "27812    it past time white people wake up to the reali...\n",
       "8785     sandra blands family got a settlement but the ...\n",
       "32414             new orleans to have it first woman mayor\n",
       "7958     steve king defends his white nationalism tweet...\n",
       "36125    new jersey police shot injured unarmed black m...\n",
       "23076                        can cop fill the ambition gap\n",
       "18160    father of parkland victim creates powerful mur...\n",
       "27290    sutherland spring church shooting how you can ...\n",
       "15991     wa a violent year for police but there still ...\n",
       "17509    michelle obama wont stop encouraging kid to pu...\n",
       "25454                    remembering nuremberg  year later\n",
       "39950    donald likens himself to andrew jackson a pres...\n",
       "37269    black mississippi church burned and vandalized...\n",
       "19784    why make issue film in a politically rigid cli...\n",
       "22348    john lewis to atlanta we cannot afford to be s...\n",
       "17186    local racist clear up any confusion about the ...\n",
       "4432     protester stage third day of demonstration in ...\n",
       "19231              trump strategic attack on black athlete\n",
       "41349               white people need to realize this is u\n",
       "48105                america struggle with racial morality\n",
       "30898    steph curry chance the rapper join barack obam...\n",
       "691      a cop killed an unarmed civilian and is actual...\n",
       "39182       the new colossus of today is white nationalism\n",
       "19327           dear white people we dont need your saving\n",
       "41326    black politician are fighting a ‘stand your gr...\n",
       "                               ...                        \n",
       "436                          we should be meaner to racist\n",
       "34352    michelle obama dropped in on some student and ...\n",
       "8470     steve bannon slated to speak at black entrepre...\n",
       "7887     clarence thomas question legality of letting c...\n",
       "457                                   blue tide in alabama\n",
       "28351    omarosa manigault newman say she wa shunned at...\n",
       "38554    betsy devos accused of whitewashing the histor...\n",
       "45493    the iowa nice culture creates complacency towa...\n",
       "7151     defiant a ever water protector vow to continue...\n",
       "8509                 playing a symphony on that white skin\n",
       "3110     the naacp ha a plan to overhaul the nation cha...\n",
       "22444    black woman face devastating loss if obamacare...\n",
       "14777    the unbearable whiteness of trumpistan illumin...\n",
       "11384    new video show how terrifying the election sta...\n",
       "21132    new york to pay  million to settle police kill...\n",
       "46935    the daughter of a man born a slave just opened...\n",
       "31446    the power that be and the execution of ledell lee\n",
       "9856     bad job and no welfare give rise to a new type...\n",
       "24458                                        demand demand\n",
       "5874     mississippi school are uncomfortable discussin...\n",
       "46574    cop and educator agree arming teacher is a ter...\n",
       "32234    former rnc chair fire back at claim he wa only...\n",
       "48494    at least a few black churchgoer liked donald t...\n",
       "30106    obama even a child would know slavery wasnt go...\n",
       "6664     in both rich and poor school black student fac...\n",
       "7185     alone show how jail continues a long tradition...\n",
       "22269    michelle obama who do you want a your children...\n",
       "2606     cop already patrol these student school it doe...\n",
       "41398                       one year later  lesson learned\n",
       "43540    in this florida district black student are pun...\n",
       "Name: headline, Length: 64, dtype: object"
      ]
     },
     "metadata": {},
     "output_type": "display_data"
    },
    {
     "name": "stdout",
     "output_type": "stream",
     "text": [
      "\n",
      "'SPORTS' predicted as 'BLACK VOICES' : 9 examples.\n"
     ]
    },
    {
     "data": {
      "text/plain": [
       "3161     kareem abduljabbar call colin kaepernick highl...\n",
       "18389    columbia suspends men wrestling team over raci...\n",
       "26564    becca longo make history by earning college fo...\n",
       "31287    colin kaepernick receives amnesty internationa...\n",
       "7685     colin kaepernick on death threat killing me wo...\n",
       "1304     donald trump is even taking credit for colin k...\n",
       "38809    marshawn lynch showed up on game day wearing e...\n",
       "12953    oriole player score a standing ovation at fenw...\n",
       "46635    colin kaepernick pledge  million to underserve...\n",
       "Name: headline, dtype: object"
      ]
     },
     "metadata": {},
     "output_type": "display_data"
    },
    {
     "name": "stdout",
     "output_type": "stream",
     "text": [
      "\n",
      "'ARTS' predicted as 'BLACK VOICES' : 14 examples.\n"
     ]
    },
    {
     "data": {
      "text/plain": [
       "16150    hidden figure author to write two new book on ...\n",
       "33904    john lewis’ book will be donated to school in ...\n",
       "36088    theater community receives death threat follow...\n",
       "45784    spike lee shes gotta have it show is black art...\n",
       "44094    dreamlike photo capture the vanishing landscap...\n",
       "36777     year a slave actress storm reid is your new s...\n",
       "38837    portia munson talk color and empowerment at fr...\n",
       "10840    yearold kindly alert museum to mislabeled dino...\n",
       "22781     another hero departed monument man bernard taper\n",
       "5997     new childrens book by stephen king will haunt ...\n",
       "8468     aweinspiring image pay tribute to canada radic...\n",
       "18764    chinese museum remove photo series comparing b...\n",
       "8979     even when announcing her pregnancy beyoncé giv...\n",
       "13878    powerful spoken word performance commemorates ...\n",
       "Name: headline, dtype: object"
      ]
     },
     "metadata": {},
     "output_type": "display_data"
    },
    {
     "name": "stdout",
     "output_type": "stream",
     "text": [
      "\n",
      "'QUEER VOICES' predicted as 'BLACK VOICES' : 10 examples.\n"
     ]
    },
    {
     "data": {
      "text/plain": [
       "49752               here’s why nonbinary student need ally\n",
       "9009     stand by your dying man leslie jordan relives ...\n",
       "40646       how ‘moonlight’ look out for the humanity in u\n",
       "6038     dear white people let talk about combating racism\n",
       "23255    boy scout allegedly booted from store because ...\n",
       "8526     the lack of support of black transgender peopl...\n",
       "28325    former miss america deidre down gunn marries g...\n",
       "3007     turning barbershop into safe space for gay bla...\n",
       "5646     boomer bank on why we shouldnt say no black no...\n",
       "8260            for every little chiron black of moonlight\n",
       "Name: headline, dtype: object"
      ]
     },
     "metadata": {},
     "output_type": "display_data"
    },
    {
     "name": "stdout",
     "output_type": "stream",
     "text": [
      "\n",
      "'MEDIA' predicted as 'BLACK VOICES' : 8 examples.\n"
     ]
    },
    {
     "data": {
      "text/plain": [
       "10666                 filmmaker look at the myth of racism\n",
       "44085    bill oreilly allegedly called woman he wa hara...\n",
       "33336    watch gwen ifill call out fellow journalist fo...\n",
       "46167    fox news host compare charlottesville white su...\n",
       "12842    gothamist to rise from the dead thanks to anon...\n",
       "41361      medium euphemism for racist are stupidly tinged\n",
       "40276    riot charge dropped against amy goodman for co...\n",
       "32632                  the challenge to restore our sanity\n",
       "Name: headline, dtype: object"
      ]
     },
     "metadata": {},
     "output_type": "display_data"
    },
    {
     "name": "stdout",
     "output_type": "stream",
     "text": [
      "\n",
      "'HEALTHY LIVING' predicted as 'BLACK VOICES' : 13 examples.\n"
     ]
    },
    {
     "data": {
      "text/plain": [
       "26900    my experience with vicodin taught me that any ...\n",
       "18049     gorgeous photo that capture the complicated b...\n",
       "40509                    the importance of first responder\n",
       "39319    jay dickey complicated legacy is a lesson for ...\n",
       "34586    danielle laporte’s white hot truth soothes sel...\n",
       "1007     study say you feel more attractive when you we...\n",
       "18926    african american woman don’t need a break we n...\n",
       "48085    to stop police shooting we need to move beyond...\n",
       "12994    your health care information is insecure  and ...\n",
       "5193                 meningitis rare but potentially fatal\n",
       "22417    how to feel happy when it pitch black out morn...\n",
       "27202    mcdonalds stop using antibiotic chicken faster...\n",
       "1730     african american who suffer discrimination may...\n",
       "Name: headline, dtype: object"
      ]
     },
     "metadata": {},
     "output_type": "display_data"
    },
    {
     "name": "stdout",
     "output_type": "stream",
     "text": [
      "\n",
      "'COMEDY' predicted as 'BLACK VOICES' : 9 examples.\n"
     ]
    },
    {
     "data": {
      "text/plain": [
       "18950    omni is a new app that will do everything for ...\n",
       "23395    chelsea handler categorizes america racist in ...\n",
       "45785    a white humorist reflects on the impact and im...\n",
       "7915     get off your as and vote or lewis black will d...\n",
       "9795             rapper hilariously show men it ok  u  cry\n",
       "29244    bill maher donald trump love to pick fight wit...\n",
       "23121    michael che dismisses kanye west entire slaver...\n",
       "7743                   fake good news is helping u forget \n",
       "40280       bill burr hate black friday and you should too\n",
       "Name: headline, dtype: object"
      ]
     },
     "metadata": {},
     "output_type": "display_data"
    },
    {
     "name": "stdout",
     "output_type": "stream",
     "text": [
      "\n",
      "'EDUCATION' predicted as 'BLACK VOICES' : 3 examples.\n"
     ]
    },
    {
     "data": {
      "text/plain": [
       "26385    beyoncé announces  in scholarship for hbcu stu...\n",
       "2171          three black heroine thought on race relation\n",
       "37872    roll out and roll up the lausds civil right ip...\n",
       "Name: headline, dtype: object"
      ]
     },
     "metadata": {},
     "output_type": "display_data"
    },
    {
     "name": "stdout",
     "output_type": "stream",
     "text": [
      "\n",
      "'ENTERTAINMENT' predicted as 'BLACK VOICES' : 56 examples.\n"
     ]
    },
    {
     "data": {
      "text/plain": [
       "4516     stevie wonder say farewell to michelle obama w...\n",
       "13192    a fake facebook ad killed off william shatner ...\n",
       "17830    luke cage turned into family matter will make ...\n",
       "17095    tiffany haddish recall the time a man died fol...\n",
       "45635    janelle monáe drop new video celebrating bisex...\n",
       "28255    jordan peele to produce lorena bobbitt docuser...\n",
       "37239    black panther star michael b jordan want his k...\n",
       "30924    gal gadot surprise college student with first ...\n",
       "15057    moonlight the people behind the tender surpris...\n",
       "29863    hbo ha no plan to fire bill maher after onair ...\n",
       "13065    sandra bullock donates  million to hurricane h...\n",
       "578      solange point out how grammys fail black artis...\n",
       "10155    oprah just taught everyone how to respond to t...\n",
       "4212     watch taraji p henson octavia spencer  janelle...\n",
       "7318     meet huffpost entertainment new throwback stic...\n",
       "12583    people are rattled by how much this nigerian m...\n",
       "13084    harry connick jr hope new orleans is a model o...\n",
       "47832    michelle obama give masterchef junior challeng...\n",
       "23518    innovative teen take michael b jordan cardboar...\n",
       "101      taraji p henson ha cutest dog ive ever seen ji...\n",
       "2655     st vincent will direct film adaptation of dori...\n",
       "44064    unreal will bring a female suitor to everlasti...\n",
       "2331     jonah hill brother jordan feldstein dy suddenl...\n",
       "30484    black sabbath announce their end after nearly ...\n",
       "32012             atlanta rapper shawty lo dy in car crash\n",
       "41755    amandla stenberg is here for nuanced portrayal...\n",
       "48100    see what daya doe in the second after that ora...\n",
       "33328    jordan peele buzzfeed create fake news video t...\n",
       "34676    interview tika sumpter and parker sawyer talk ...\n",
       "27710    taraji p henson proud mary movie irks songwrit...\n",
       "25277    this man used netflix to propose and now were ...\n",
       "4123     the one reason viola davis would get melania t...\n",
       "7796     terry crew say the man he accused of assault ‘...\n",
       "12784    jay z is making a movie and docuseries based o...\n",
       "47702    timothée chalamets youth and charm make john m...\n",
       "2388     famous white man reportedly discovers hollywoo...\n",
       "8085     black panther is already being hailed a one of...\n",
       "26506    zendaya call out store clerk for refusing to h...\n",
       "34120    los angeles da wont prosecute agent who allege...\n",
       "37967    annette bening honored at new york stage  film...\n",
       "464      sterling k brown think ‘black panther’ can ins...\n",
       "25154    proof viola davis daughter definitely love bey...\n",
       "2164     game of throne star end sarcasm defense for co...\n",
       "33990    let gwendoline christie school you on represen...\n",
       "27558    do not come for michael b jordan for living wi...\n",
       "6847     dylan obrien seen for first time since sufferi...\n",
       "10165    jayzs black ‘friends’ remake is a powerful com...\n",
       "34819    theater play fifty shade freed instead of blac...\n",
       "47270    eminem rip systemic racism and white privilege...\n",
       "900      temple university rescinds bill cosbys honorar...\n",
       "47643    film fest moderator booed for asking michelle ...\n",
       "38114            moonlight sweep  independent spirit award\n",
       "26160    needed an educational institute to extend dick...\n",
       "16987    jayz reminds everyone that protesting ha ‘st t...\n",
       "40687    altright group take aim at black panther ryan ...\n",
       "22055    daily show eviscerates trump black and white v...\n",
       "Name: headline, dtype: object"
      ]
     },
     "metadata": {},
     "output_type": "display_data"
    },
    {
     "name": "stdout",
     "output_type": "stream",
     "text": [
      "\n",
      "'ENVIRONMENT' predicted as 'BLACK VOICES' : 2 examples.\n"
     ]
    },
    {
     "data": {
      "text/plain": [
       "46898    california beachgoers to tackle surfer gang bu...\n",
       "7117     dc museum of african american history is the c...\n",
       "Name: headline, dtype: object"
      ]
     },
     "metadata": {},
     "output_type": "display_data"
    },
    {
     "name": "stdout",
     "output_type": "stream",
     "text": [
      "\n",
      "'WORLDPOST' predicted as 'BLACK VOICES' : 4 examples.\n"
     ]
    },
    {
     "data": {
      "text/plain": [
       "24366    why the chinahollywood relationship is complic...\n",
       "2299     catholic and protestant mark th anniversary of...\n",
       "21116               chile’s troubling move against privacy\n",
       "3226     malala yousafzai nearly died for girls’ educat...\n",
       "Name: headline, dtype: object"
      ]
     },
     "metadata": {},
     "output_type": "display_data"
    },
    {
     "name": "stdout",
     "output_type": "stream",
     "text": [
      "\n",
      "'PARENTS' predicted as 'BLACK VOICES' : 9 examples.\n"
     ]
    },
    {
     "data": {
      "text/plain": [
       "22421     baby name inspired by black star who are maki...\n",
       "3383     mom receives honorary degree after helping qua...\n",
       "41218    brooklyn black santa explains why christmas jo...\n",
       "45273     childrens book that teach the unique importan...\n",
       "22521    these adorable atlanta childrens hospital pati...\n",
       "45309                           what my csection taught me\n",
       "12203    sterling k brown kid arent that impressed with...\n",
       "34688    sesame street share rad vintage clip to celebr...\n",
       "22648    serena williams writes about the reality many ...\n",
       "Name: headline, dtype: object"
      ]
     },
     "metadata": {},
     "output_type": "display_data"
    },
    {
     "name": "stdout",
     "output_type": "stream",
     "text": [
      "\n",
      "'BUSINESS' predicted as 'BLACK VOICES' : 3 examples.\n"
     ]
    },
    {
     "data": {
      "text/plain": [
       "19763    former versace store clerk sue over secret bla...\n",
       "7520                     why wont frontier fix my landline\n",
       "16056    walmart ditch bulletproof black life matter ts...\n",
       "Name: headline, dtype: object"
      ]
     },
     "metadata": {},
     "output_type": "display_data"
    },
    {
     "name": "stdout",
     "output_type": "stream",
     "text": [
      "\n",
      "'CRIME' predicted as 'BLACK VOICES' : 14 examples.\n"
     ]
    },
    {
     "data": {
      "text/plain": [
       "45313    a college security officer said he wa shot by ...\n",
       "42602    unarmed black man killed in mindboggling unjus...\n",
       "13978    cop fired for allegedly giving fecal sandwich ...\n",
       "9968     police eye exhusband in annechristine johnson ...\n",
       "26371    former manson family member patricia krenwinke...\n",
       "40537    grand jury indicts atlanta officer for murder ...\n",
       "11882    ikea pleads with teen prankster stop sleeping ...\n",
       "41730    retirement community resident allegedly tested...\n",
       "28676    it wa an execution wife of man killed by arizo...\n",
       "14664    mother watch a her son  others gunned down in ...\n",
       "30067    protest erupt after video show offduty lapd co...\n",
       "45758       portion of atlanta highway collapse after fire\n",
       "18669    a sorrowful farewell to baton rouge officer ma...\n",
       "13359    drunk and racist man curse out yearold a he bo...\n",
       "Name: headline, dtype: object"
      ]
     },
     "metadata": {},
     "output_type": "display_data"
    },
    {
     "name": "stdout",
     "output_type": "stream",
     "text": [
      "\n",
      "'IMPACT' predicted as 'BLACK VOICES' : 5 examples.\n"
     ]
    },
    {
     "data": {
      "text/plain": [
       "17916    chain store are taking over u city it doesnt h...\n",
       "7298     we all need a break from consumption thats why...\n",
       "10136                     the hourglass of white paralysis\n",
       "6805     what ive learned from jay smith about frosty t...\n",
       "44050    nearly  of country at risk of using slave in s...\n",
       "Name: headline, dtype: object"
      ]
     },
     "metadata": {},
     "output_type": "display_data"
    },
    {
     "name": "stdout",
     "output_type": "stream",
     "text": [
      "\n",
      "'STYLE' predicted as 'BLACK VOICES' : 6 examples.\n"
     ]
    },
    {
     "data": {
      "text/plain": [
       "31260    root beer hair is the most flattering brunette...\n",
       "34082    model casting called for no black no ethnic a ...\n",
       "7864     viola davis celebrated her oscar win in sneake...\n",
       "39610    karlie kloss know exactly how to pair a purple...\n",
       "6418     impressive black friday beauty deal on bobbi b...\n",
       "10858                   chic little black dress for under \n",
       "Name: headline, dtype: object"
      ]
     },
     "metadata": {},
     "output_type": "display_data"
    },
    {
     "name": "stdout",
     "output_type": "stream",
     "text": [
      "\n",
      "'WOMEN' predicted as 'BLACK VOICES' : 8 examples.\n"
     ]
    },
    {
     "data": {
      "text/plain": [
       "39834            why i’m struggling to accept my body hair\n",
       "34695                            there are no innocent men\n",
       "9458     viola davis on the lifelong impact sexual viol...\n",
       "44777    death of trailblazing black female judge is su...\n",
       "37407    black panther cast made sandra bullock cry a a...\n",
       "4468     this isn’t a pay ‘gap’ it’s a freaking black hole\n",
       "47475    watch day without a woman organizer celebrate ...\n",
       "45921    what i understood about a fatherdaughter relat...\n",
       "Name: headline, dtype: object"
      ]
     },
     "metadata": {},
     "output_type": "display_data"
    },
    {
     "name": "stdout",
     "output_type": "stream",
     "text": [
      "\n",
      "'RELIGION' predicted as 'BLACK VOICES' : 6 examples.\n"
     ]
    },
    {
     "data": {
      "text/plain": [
       "40230                                 racism and the other\n",
       "22911    pharrells adidas holi sneaker collection spark...\n",
       "33994    christianrun childrens center reject atheist g...\n",
       "29995    the troubling persistence of the hatred of bla...\n",
       "8730     dozen of evangelical leader petition texas to ...\n",
       "35209    from syria to los angeles a muslim teen coming...\n",
       "Name: headline, dtype: object"
      ]
     },
     "metadata": {},
     "output_type": "display_data"
    },
    {
     "name": "stdout",
     "output_type": "stream",
     "text": [
      "\n",
      "'POLITICS' predicted as 'CRIME' : 32 examples.\n"
     ]
    },
    {
     "data": {
      "text/plain": [
       "40278                     cop get help to cope with trauma\n",
       "33483    north dakota bill would protect driver who acc...\n",
       "41059    yearold man accused of plotting mass shooting ...\n",
       "12147         injection site provide safe spot to shoot up\n",
       "46449    donation pour in for hot dog vendor after vira...\n",
       "18117    governor accused of blackmail allegedly slappe...\n",
       "32208     officer arrested and charged in vicious beati...\n",
       "31736    volkswagen emission scandal could cause  more ...\n",
       "2330          using special nail to save roof — and dollar\n",
       "12805    this wisconsin bill would let toddler hunt wit...\n",
       "17262    rick santorum blame absent dad and broken home...\n",
       "7503     family of man killed by offduty cop in july pr...\n",
       "25519    in  week  report of men threatening to shoot m...\n",
       "516      asian most likely to be charged for espionage ...\n",
       "26106    jury acquits mexican man in  san francisco sho...\n",
       "32593    the first baltimore police officer charged in ...\n",
       "5083     cop who tried to keep driver from filming reig...\n",
       "45033    militarized cop at tiny georgia neonazi rally ...\n",
       "7168     portland murder suspect call stabbings patriot...\n",
       "48038    deputy suspended over leaked airport shooting ...\n",
       "48898    it turn out legal weed in colorado hasnt led t...\n",
       "44375    it matter that the alleged golden state killer...\n",
       "23139     child frolic on cranky man lawn without incident\n",
       "32462    employee sue chipotle claiming it failed to pa...\n",
       "5269     man arrested inside trump hotel in dc after po...\n",
       "7667     graphic video show louisiana officer open fire...\n",
       "14472    man found guilty of firstdegree murder in deat...\n",
       "44973    superheroes gather to mourn yearold boy killed...\n",
       "281      these are the people wounded in the alexandria...\n",
       "9046      cop disciplined a oakland completes sex scand...\n",
       "19523    swastika found in georgetown university reside...\n",
       "3811     boy fatally injured in school shooting will ha...\n",
       "Name: headline, dtype: object"
      ]
     },
     "metadata": {},
     "output_type": "display_data"
    },
    {
     "name": "stdout",
     "output_type": "stream",
     "text": [
      "\n",
      "'SPORTS' predicted as 'CRIME' : 6 examples.\n"
     ]
    },
    {
     "data": {
      "text/plain": [
       "27129    nfls todd heap run over daughter in deadly acc...\n",
       "2953     venus williams entered intersection legally mo...\n",
       "40759    watch a high school freshman sink an incredibl...\n",
       "32138                 yearold man set cycling world record\n",
       "16744         tiger wood arrested in florida on duo charge\n",
       "7849     san diego charger are reportedly moving to los...\n",
       "Name: headline, dtype: object"
      ]
     },
     "metadata": {},
     "output_type": "display_data"
    },
    {
     "name": "stdout",
     "output_type": "stream",
     "text": [
      "\n",
      "'ARTS' predicted as 'CRIME' : 2 examples.\n"
     ]
    },
    {
     "data": {
      "text/plain": [
       "34028    painting sold by jewish couple to escape nazi ...\n",
       "4029     sylvia plath alleged abuse by ted hughes in un...\n",
       "Name: headline, dtype: object"
      ]
     },
     "metadata": {},
     "output_type": "display_data"
    },
    {
     "name": "stdout",
     "output_type": "stream",
     "text": [
      "\n",
      "'QUEER VOICES' predicted as 'CRIME' : 3 examples.\n"
     ]
    },
    {
     "data": {
      "text/plain": [
       "45494           inside a fetish kennel in upstate new york\n",
       "37338    uber driver allegedly called this man a faggot...\n",
       "30211    man arrested after filling lube dispenser with...\n",
       "Name: headline, dtype: object"
      ]
     },
     "metadata": {},
     "output_type": "display_data"
    },
    {
     "name": "stdout",
     "output_type": "stream",
     "text": [
      "\n",
      "'MEDIA' predicted as 'CRIME' : 2 examples.\n"
     ]
    },
    {
     "data": {
      "text/plain": [
       "32720    tronc sold the los angeles time to billionaire...\n",
       "47544    reporter lead rescuer to truck driver trapped ...\n",
       "Name: headline, dtype: object"
      ]
     },
     "metadata": {},
     "output_type": "display_data"
    },
    {
     "name": "stdout",
     "output_type": "stream",
     "text": [
      "\n",
      "'HEALTHY LIVING' predicted as 'CRIME' : 3 examples.\n"
     ]
    },
    {
     "data": {
      "text/plain": [
       "17035    opioid commission just issued first report wha...\n",
       "32833    your christmas tree may be filled with a many ...\n",
       "11781    what to do if you feel traumatized by the la v...\n",
       "Name: headline, dtype: object"
      ]
     },
     "metadata": {},
     "output_type": "display_data"
    },
    {
     "name": "stdout",
     "output_type": "stream",
     "text": [
      "\n",
      "'ENTERTAINMENT' predicted as 'CRIME' : 10 examples.\n"
     ]
    },
    {
     "data": {
      "text/plain": [
       "42517    heather locklear arrested for alleged domestic...\n",
       "48342    quentin tarantino once said yearold raped by r...\n",
       "40609    tom cruise jump out of a plane at  foot for ne...\n",
       "45833    florida georgia line say working with the back...\n",
       "19215    police search chris brown home after woman cla...\n",
       "7212     that time great british baking show judge mary...\n",
       "22372    an episode of nbcs chicago pd offended an enti...\n",
       "33140    watch tom hardy sing yes sing about a serial k...\n",
       "37904    eva amurri martino say night nurse dropped her...\n",
       "31952     thing you didnt know about henry portrait of ...\n",
       "Name: headline, dtype: object"
      ]
     },
     "metadata": {},
     "output_type": "display_data"
    },
    {
     "name": "stdout",
     "output_type": "stream",
     "text": [
      "\n",
      "'ENVIRONMENT' predicted as 'CRIME' : 2 examples.\n"
     ]
    },
    {
     "data": {
      "text/plain": [
       "32013    some rich people put antibird spike on tree to...\n",
       "22809    receding floodwaters reveal extent of houston ...\n",
       "Name: headline, dtype: object"
      ]
     },
     "metadata": {},
     "output_type": "display_data"
    },
    {
     "name": "stdout",
     "output_type": "stream",
     "text": [
      "\n",
      "'WORLDPOST' predicted as 'CRIME' : 20 examples.\n"
     ]
    },
    {
     "data": {
      "text/plain": [
       "47037     dead  injured a multiple explosion rock japan...\n",
       "4782     belgium arrest man driving at high speed down ...\n",
       "46840    finnish police say attacker targeted woman in ...\n",
       "26583    gunman in zurich mosque shooting is dead polic...\n",
       "28521    meningitis suspected in unexplained cluster of...\n",
       "49377    police source man arrested for plan to attack ...\n",
       "16777    dotard’ v rocketman the nuclear standoff that ...\n",
       "44090    newly discovered photo suggests amelia earhart...\n",
       "46955    toronto van attack suspect facebook post prais...\n",
       "8560     suspect arrested in killing of yearold zainab ...\n",
       "49525     men detonate bomb inside indian restaurant ne...\n",
       "4565     truck driver playing pokemon go kill pedestria...\n",
       "38910    at least  dead after plane crash while landing...\n",
       "14802     woman shot dead outside finnish restaurant in...\n",
       "20227    fiery bus crash leaf multiple people dead in g...\n",
       "9128     tehran police say woman will no longer be arre...\n",
       "26710    deadly police helicopter crash in rio after da...\n",
       "36441    one dead several injured in knife attack in ha...\n",
       "10746    at least  dead in stabbing in finnish city of ...\n",
       "9033      month later rio cop are supposedly closing in...\n",
       "Name: headline, dtype: object"
      ]
     },
     "metadata": {},
     "output_type": "display_data"
    },
    {
     "name": "stdout",
     "output_type": "stream",
     "text": [
      "\n",
      "'PARENTS' predicted as 'CRIME' : 2 examples.\n"
     ]
    },
    {
     "data": {
      "text/plain": [
       "11919    this awesome yearold girl designed a prostheti...\n",
       "25413    my house smell like foot and the dog ate my go...\n",
       "Name: headline, dtype: object"
      ]
     },
     "metadata": {},
     "output_type": "display_data"
    },
    {
     "name": "stdout",
     "output_type": "stream",
     "text": [
      "\n",
      "'BUSINESS' predicted as 'CRIME' : 3 examples.\n"
     ]
    },
    {
     "data": {
      "text/plain": [
       "12053                         are all millennials murderer\n",
       "44256    volkswagen pleads guilty in u court in diesel ...\n",
       "7235      joshua tree evading the jaw of los angeles greed\n",
       "Name: headline, dtype: object"
      ]
     },
     "metadata": {},
     "output_type": "display_data"
    },
    {
     "name": "stdout",
     "output_type": "stream",
     "text": [
      "\n",
      "'BLACK VOICES' predicted as 'CRIME' : 8 examples.\n"
     ]
    },
    {
     "data": {
      "text/plain": [
       "7789     chicago cop charged with  new count in laquan ...\n",
       "20442    mississippi teen face murder charge for yearol...\n",
       "20362    hannibal buress arrested for disorderly intoxi...\n",
       "13998    wrongfully convicted man is rehired by the whi...\n",
       "23186    grand jury indicts two former cop caught on tr...\n",
       "26434    teen used dying breath to identify man who all...\n",
       "18423    man filmed his shooting death by sheriff deput...\n",
       "34416    police chief resigns after tv report link him ...\n",
       "Name: headline, dtype: object"
      ]
     },
     "metadata": {},
     "output_type": "display_data"
    },
    {
     "name": "stdout",
     "output_type": "stream",
     "text": [
      "\n",
      "'STYLE' predicted as 'CRIME' : 2 examples.\n"
     ]
    },
    {
     "data": {
      "text/plain": [
       "21436    an american beauty brand just released a line ...\n",
       "36091    let bask in the glory of these photo of queen ...\n",
       "Name: headline, dtype: object"
      ]
     },
     "metadata": {},
     "output_type": "display_data"
    },
    {
     "name": "stdout",
     "output_type": "stream",
     "text": [
      "\n",
      "'WOMEN' predicted as 'CRIME' : 5 examples.\n"
     ]
    },
    {
     "data": {
      "text/plain": [
       "44501    cosby accuser lili bernard leaf courtroom in t...\n",
       "14089    larry nassar victim to receive  million in mic...\n",
       "16048    the cosby hung jury capture our cultural ambiv...\n",
       "21740    former yale student found not guilty in rare c...\n",
       "7781     meet colonel wafa sharqawi among the first wom...\n",
       "Name: headline, dtype: object"
      ]
     },
     "metadata": {},
     "output_type": "display_data"
    },
    {
     "name": "stdout",
     "output_type": "stream",
     "text": [
      "\n",
      "'RELIGION' predicted as 'CRIME' : 2 examples.\n"
     ]
    },
    {
     "data": {
      "text/plain": [
       "6796    the nypd finally allows sikh officer to wear t...\n",
       "5942    california mosque hit by possible hate crime d...\n",
       "Name: headline, dtype: object"
      ]
     },
     "metadata": {},
     "output_type": "display_data"
    },
    {
     "name": "stdout",
     "output_type": "stream",
     "text": [
      "\n",
      "'POLITICS' predicted as 'IMPACT' : 10 examples.\n"
     ]
    },
    {
     "data": {
      "text/plain": [
       "36243    american are divided on the best way to keep t...\n",
       "33353    it time for congress to join the fight against...\n",
       "1166                             citibank dirty once again\n",
       "30374                meal on wheel is working for everyone\n",
       "43732    port arthur volunteer press on amid hurricane ...\n",
       "46254    juli briskman ha at least  reason to be thankf...\n",
       "35653    gabby giffords walk on stage without assistanc...\n",
       "11000    why this adoptee will flipthescript during nat...\n",
       "40056    ive received death threat for my palestinian r...\n",
       "5178     half of hurricane harvey victim say fema appli...\n",
       "Name: headline, dtype: object"
      ]
     },
     "metadata": {},
     "output_type": "display_data"
    },
    {
     "name": "stdout",
     "output_type": "stream",
     "text": [
      "\n",
      "'ARTS' predicted as 'IMPACT' : 2 examples.\n"
     ]
    },
    {
     "data": {
      "text/plain": [
       "16487    let emma watson year in book inspire your  rea...\n",
       "27780    illustrator depict the everyday item giving ho...\n",
       "Name: headline, dtype: object"
      ]
     },
     "metadata": {},
     "output_type": "display_data"
    },
    {
     "name": "stdout",
     "output_type": "stream",
     "text": [
      "\n",
      "'HEALTHY LIVING' predicted as 'IMPACT' : 3 examples.\n"
     ]
    },
    {
     "data": {
      "text/plain": [
       "44927    this fatshaming meal planner company sends har...\n",
       "6478     how american baby behave differently from infa...\n",
       "47252          learning to say no and yes to heal our life\n",
       "Name: headline, dtype: object"
      ]
     },
     "metadata": {},
     "output_type": "display_data"
    },
    {
     "name": "stdout",
     "output_type": "stream",
     "text": [
      "\n",
      "'COMEDY' predicted as 'IMPACT' : 2 examples.\n"
     ]
    },
    {
     "data": {
      "text/plain": [
       "21358    billy bush to donate  million to woman charity\n",
       "40477    gawker may be dead but gawken is giving u life\n",
       "Name: headline, dtype: object"
      ]
     },
     "metadata": {},
     "output_type": "display_data"
    },
    {
     "name": "stdout",
     "output_type": "stream",
     "text": [
      "\n",
      "'ENTERTAINMENT' predicted as 'IMPACT' : 6 examples.\n"
     ]
    },
    {
     "data": {
      "text/plain": [
       "11830    zosia mamet ha one question when offered role ...\n",
       "49935                             a real phish nye miracle\n",
       "6643     keeganmichael key on what everyone get wrong a...\n",
       "1566     celebfilled hurricane harvey telethon expands ...\n",
       "28431                     charlie life on at chaplin world\n",
       "44952    kevin hart challenge famous friend to help vic...\n",
       "Name: headline, dtype: object"
      ]
     },
     "metadata": {},
     "output_type": "display_data"
    },
    {
     "name": "stdout",
     "output_type": "stream",
     "text": [
      "\n",
      "'ENVIRONMENT' predicted as 'IMPACT' : 2 examples.\n"
     ]
    },
    {
     "data": {
      "text/plain": [
       "9385    cooking fire at homeless camp sparked los ange...\n",
       "8047    the lesson of harvey and irma an animal’s best...\n",
       "Name: headline, dtype: object"
      ]
     },
     "metadata": {},
     "output_type": "display_data"
    },
    {
     "name": "stdout",
     "output_type": "stream",
     "text": [
      "\n",
      "'WORLDPOST' predicted as 'IMPACT' : 7 examples.\n"
     ]
    },
    {
     "data": {
      "text/plain": [
       "19326    even the bottom of the world deepest ocean tre...\n",
       "324      new plastic garbage patch found in the south p...\n",
       "33042    sahar speaks giving the woman of afghanistan a...\n",
       "8202     why we need a national hurricane memorial and ...\n",
       "8733     most american oblivious to extreme hunger cris...\n",
       "44082    italian coast guard officer save kitten from w...\n",
       "38811    how my refugee childhood made me determined to...\n",
       "Name: headline, dtype: object"
      ]
     },
     "metadata": {},
     "output_type": "display_data"
    },
    {
     "name": "stdout",
     "output_type": "stream",
     "text": [
      "\n",
      "'WOMEN' predicted as 'IMPACT' : 2 examples.\n"
     ]
    },
    {
     "data": {
      "text/plain": [
       "26495    this cheeky  letter from a suffragist is givin...\n",
       "29754    the ultimate roundup of hundred of holiday gif...\n",
       "Name: headline, dtype: object"
      ]
     },
     "metadata": {},
     "output_type": "display_data"
    },
    {
     "name": "stdout",
     "output_type": "stream",
     "text": [
      "\n",
      "'POLITICS' predicted as 'STYLE' : 6 examples.\n"
     ]
    },
    {
     "data": {
      "text/plain": [
       "45198                                the future look nasty\n",
       "26734                               style versus substance\n",
       "34066    judge order ivanka trump to give deposition in...\n",
       "22923                  trumpcare a wolf in wolf’s clothing\n",
       "34717                                  sacrifice gop style\n",
       "6226     onduty texas police officer wore protrump hat ...\n",
       "Name: headline, dtype: object"
      ]
     },
     "metadata": {},
     "output_type": "display_data"
    },
    {
     "name": "stdout",
     "output_type": "stream",
     "text": [
      "\n",
      "'SPORTS' predicted as 'STYLE' : 2 examples.\n"
     ]
    },
    {
     "data": {
      "text/plain": [
       "26929    the yankee and red sox brawl because thats how...\n",
       "19703    serena williams stroll by a park and challenge...\n",
       "Name: headline, dtype: object"
      ]
     },
     "metadata": {},
     "output_type": "display_data"
    },
    {
     "name": "stdout",
     "output_type": "stream",
     "text": [
      "\n",
      "'ARTS' predicted as 'STYLE' : 3 examples.\n"
     ]
    },
    {
     "data": {
      "text/plain": [
       "43475    video artist mary reid kelley on why the urge ...\n",
       "2502     solid gold lifesize darth vader mask on sale f...\n",
       "35798    this massive painting is best viewed from the ...\n",
       "Name: headline, dtype: object"
      ]
     },
     "metadata": {},
     "output_type": "display_data"
    },
    {
     "name": "stdout",
     "output_type": "stream",
     "text": [
      "\n",
      "'QUEER VOICES' predicted as 'STYLE' : 3 examples.\n"
     ]
    },
    {
     "data": {
      "text/plain": [
       "18647                    aim and the beauty of aimlessness\n",
       "38636    chita rivera promise strength style and surpri...\n",
       "47946              the beauty and splendor of being a slut\n",
       "Name: headline, dtype: object"
      ]
     },
     "metadata": {},
     "output_type": "display_data"
    },
    {
     "name": "stdout",
     "output_type": "stream",
     "text": [
      "\n",
      "'HEALTHY LIVING' predicted as 'STYLE' : 5 examples.\n"
     ]
    },
    {
     "data": {
      "text/plain": [
       "11631       living in the moment the beauty of uncertainty\n",
       "3564                  dream eye dreaming a a way of seeing\n",
       "49440    exactly what those word on your beauty product...\n",
       "6673     these fake beauty ad have a secret mental heal...\n",
       "36528    watch prince harry and rihanna get tested for ...\n",
       "Name: headline, dtype: object"
      ]
     },
     "metadata": {},
     "output_type": "display_data"
    },
    {
     "name": "stdout",
     "output_type": "stream",
     "text": [
      "\n",
      "'COMEDY' predicted as 'STYLE' : 4 examples.\n"
     ]
    },
    {
     "data": {
      "text/plain": [
       "25531    this is the perfect depiction of a fist bump h...\n",
       "3100     um no one talking about the trumpthemed produc...\n",
       "10128    back hair shaved into james cordens image is a...\n",
       "49269    the internet definitely isnt buying this  anti...\n",
       "Name: headline, dtype: object"
      ]
     },
     "metadata": {},
     "output_type": "display_data"
    },
    {
     "name": "stdout",
     "output_type": "stream",
     "text": [
      "\n",
      "'ENTERTAINMENT' predicted as 'STYLE' : 19 examples.\n"
     ]
    },
    {
     "data": {
      "text/plain": [
       "26376    mark ruffalo accidentally streamed thor ragnar...\n",
       "42697        grace vanderwaal celebrated turning  in style\n",
       "2079     katy perry show her support for hillary clinto...\n",
       "18675    what about pink the rock princess is still def...\n",
       "34500    ashton kutcher and mila kunis matching olympic...\n",
       "33482    celebs on instagram have a crucial holiday mes...\n",
       "12862    kelly marie tran wore gown from vietnamese des...\n",
       "49577    beyoncé channeled  of lil kims iconic outfit a...\n",
       "28150    hopper from stranger thing wore a holiday swea...\n",
       "15916    connie britton wore this sweater to the golden...\n",
       "17494    chinese model recovers gracefully after fallin...\n",
       "25653        kylie jenner just had to cut off all her hair\n",
       "20681    watch kate beckinsale and chloë sevigny gossip...\n",
       "32065    pink had a badass response to a troll who said...\n",
       "13138       this obit is a worthy tribute to princess leia\n",
       "44765    model janice dickinson to testify at bill cosb...\n",
       "38573    project runway winner dad so stoked he fall of...\n",
       "33553    watch rebel wilson reenact her pitch perfect a...\n",
       "31716                                   the last broadcast\n",
       "Name: headline, dtype: object"
      ]
     },
     "metadata": {},
     "output_type": "display_data"
    },
    {
     "name": "stdout",
     "output_type": "stream",
     "text": [
      "\n",
      "'PARENTS' predicted as 'STYLE' : 7 examples.\n"
     ]
    },
    {
     "data": {
      "text/plain": [
       "32508    what it like to go holiday shopping with a yea...\n",
       "3787     people are obsessed with this reallife baymax ...\n",
       "30811     cute and cool school supply to add to your sh...\n",
       "7694     serena williams love this baby book written by...\n",
       "8981     country singer give her loose mommy skin shout...\n",
       "4762     why im ok with looking like i just rolled out ...\n",
       "6586              why are we so obsessed with the placenta\n",
       "Name: headline, dtype: object"
      ]
     },
     "metadata": {},
     "output_type": "display_data"
    },
    {
     "name": "stdout",
     "output_type": "stream",
     "text": [
      "\n",
      "'BUSINESS' predicted as 'STYLE' : 3 examples.\n"
     ]
    },
    {
     "data": {
      "text/plain": [
       "13619              how cool syndrome is killing our career\n",
       "9389     pwc and the huffington post ask what’s your pu...\n",
       "22038            this is clearly the best perk of all time\n",
       "Name: headline, dtype: object"
      ]
     },
     "metadata": {},
     "output_type": "display_data"
    },
    {
     "name": "stdout",
     "output_type": "stream",
     "text": [
      "\n",
      "'BLACK VOICES' predicted as 'STYLE' : 2 examples.\n"
     ]
    },
    {
     "data": {
      "text/plain": [
       "23852      the hottest look from the  bet award red carpet\n",
       "28564    yearold to become one of the youngest conducto...\n",
       "Name: headline, dtype: object"
      ]
     },
     "metadata": {},
     "output_type": "display_data"
    },
    {
     "name": "stdout",
     "output_type": "stream",
     "text": [
      "\n",
      "'IMPACT' predicted as 'STYLE' : 2 examples.\n"
     ]
    },
    {
     "data": {
      "text/plain": [
       "17965                      why you should take the clothes\n",
       "15648    the urgency of rewriting a development model a...\n",
       "Name: headline, dtype: object"
      ]
     },
     "metadata": {},
     "output_type": "display_data"
    },
    {
     "name": "stdout",
     "output_type": "stream",
     "text": [
      "\n",
      "'WOMEN' predicted as 'STYLE' : 12 examples.\n"
     ]
    },
    {
     "data": {
      "text/plain": [
       "16941    these bros wore boob weight in solidarity with...\n",
       "35213    lola kirke wore a fk paul ryan pin on the gold...\n",
       "45164        maybe true beauty is in the eye of everything\n",
       "20305    woman body hair and clothing whats there to no...\n",
       "27184     woman take to cannes red carpet to protest in...\n",
       "17827    cornell student delivers thesis in underwear a...\n",
       "26124                   thing i would tell my yearold self\n",
       "16125    why walking down the beach in my bathing suit ...\n",
       "17858    dont use alicia key bare face to shame woman w...\n",
       "707      model gloriously slam man who tried to fatsham...\n",
       "3431     woman march organizer deliver powerful message...\n",
       "5821     kristen stewart ditch heel on cannes red carpe...\n",
       "Name: headline, dtype: object"
      ]
     },
     "metadata": {},
     "output_type": "display_data"
    },
    {
     "name": "stdout",
     "output_type": "stream",
     "text": [
      "\n",
      "'RELIGION' predicted as 'STYLE' : 2 examples.\n"
     ]
    },
    {
     "data": {
      "text/plain": [
       "1406          here a genius way to respond to antisemitism\n",
       "28028    global hijabista style from the afghan burqa t...\n",
       "Name: headline, dtype: object"
      ]
     },
     "metadata": {},
     "output_type": "display_data"
    },
    {
     "name": "stdout",
     "output_type": "stream",
     "text": [
      "\n",
      "'TRAVEL' predicted as 'STYLE' : 3 examples.\n"
     ]
    },
    {
     "data": {
      "text/plain": [
       "19484                                          slavic cool\n",
       "24107    pregnant serena williams is definitely living ...\n",
       "12906     place prince harry and meghan markle might ho...\n",
       "Name: headline, dtype: object"
      ]
     },
     "metadata": {},
     "output_type": "display_data"
    },
    {
     "name": "stdout",
     "output_type": "stream",
     "text": [
      "\n",
      "'POLITICS' predicted as 'WOMEN' : 55 examples.\n"
     ]
    },
    {
     "data": {
      "text/plain": [
       "27409    joe biden say trump comment about woman were s...\n",
       "28534    metoo in the statehouse at least  men are gone...\n",
       "17312    don jr it’s a beautiful day for a walk around ...\n",
       "28862    survivor of campus sexual violence and harassm...\n",
       "42873    woman in the u don’t live in a dystopian hells...\n",
       "30182    ending violence against woman start with whom ...\n",
       "13915    the good the bad and the ohsougly for woman an...\n",
       "26819             ending daca would be cruel and senseless\n",
       "35693                    many white woman marched now what\n",
       "12721    obama laid the groundwork for sexual assault s...\n",
       "19388     this is trump idea of bad temperament in a woman\n",
       "41605                 fearless girl meet righteous brother\n",
       "14185                         when male ally become abuser\n",
       "32327    i spent my th birthday on the island of woman ...\n",
       "49309    rape victim parent fight to keep her sexual hi...\n",
       "46603    when all the world’s a war and all the men and...\n",
       "39384    charged with rape he pleaded no contest to an ...\n",
       "23661    scientist are planning a march on washington a...\n",
       "32349    trump official blocked immigrant teen rape vic...\n",
       "5849     hillary clinton is the most sexually harassed ...\n",
       "28283                               an anchor baby america\n",
       "32242    a global policy move to expand digital right u...\n",
       "14592    people are getting tattoo to protect planned p...\n",
       "8226         fat cat tuesday a commemoration of ceo excess\n",
       "40914    antiabortion woman marcher head back to washin...\n",
       "11334    bill de blasio tell nypd to stop arresting peo...\n",
       "41359    there are woman march taking place on every co...\n",
       "36200    congresswoman say the way some woman dress is ...\n",
       "10469    utah force doctor to tell woman some abortion ...\n",
       "45781    elizabeth warren on workplace sexism bill orei...\n",
       "10626     time up men more than  woman file for house race\n",
       "34957      kamala harris a goodpaying job is a woman issue\n",
       "4513     devos i dont know whether sexual assault outnu...\n",
       "13194    the state department should stop tweeting abou...\n",
       "30019    woman step up to share their abortion story a ...\n",
       "47957    undocumented minor who suffered rape may be de...\n",
       "44935    don’t deride woman marcher — help them become ...\n",
       "38047             thinking clearly about sexual harassment\n",
       "1041     mississippi legislature pass nation strictest ...\n",
       "12480    he wa accused of attempted rape he became a pr...\n",
       "42185    trump sign larry nassarinspired sexual assault...\n",
       "43381    why the unpopular individual mandate is likely...\n",
       "23751                 feminist men we need you but be cool\n",
       "12750    kirsten gillibrand explains how more woman in ...\n",
       "40076    great moment in roomful of men legislating wom...\n",
       "34944    beyoncé on hillary clinton i want my daughter ...\n",
       "10391    these woman are marching because the man they ...\n",
       "8562                         a dying man gift of awareness\n",
       "41961             lesson from the march to guide u forward\n",
       "34334                                        thanks anyway\n",
       "6364      what it really mean to defund planned parenthood\n",
       "44366      the woman are coming for eric schneidermans job\n",
       "27127    an open letter to the new york time who told b...\n",
       "44316    the u department of education must not be allo...\n",
       "36608    planned parenthood reveals new detail on cecil...\n",
       "Name: headline, dtype: object"
      ]
     },
     "metadata": {},
     "output_type": "display_data"
    },
    {
     "name": "stdout",
     "output_type": "stream",
     "text": [
      "\n",
      "'SPORTS' predicted as 'WOMEN' : 9 examples.\n"
     ]
    },
    {
     "data": {
      "text/plain": [
       "30841     hope solo say u woman soccer team lost to coward\n",
       "7895     the espn body issue normalizes sexual objectif...\n",
       "37043    male survivor of larry nassar hope former gymn...\n",
       "5053     dont try to stop laura muir from taking her vi...\n",
       "21231    seahawks player hug ref after fumblereturn tou...\n",
       "43695    terry freis tweet about an asian winning the i...\n",
       "22701    msu student wear teal to show support for surv...\n",
       "34584    we all should give rhythmic gymnastics the res...\n",
       "10016    english soccer governing body launch child sex...\n",
       "Name: headline, dtype: object"
      ]
     },
     "metadata": {},
     "output_type": "display_data"
    },
    {
     "name": "stdout",
     "output_type": "stream",
     "text": [
      "\n",
      "'ARTS' predicted as 'WOMEN' : 9 examples.\n"
     ]
    },
    {
     "data": {
      "text/plain": [
       "10020    this woman climbed the highest mountain on eve...\n",
       "24475    woman dressed up a handmaid to defend reproduc...\n",
       "11823    nasty woman is the intersectional essay collec...\n",
       "6557     bookstore will hand out free copy of we should...\n",
       "40370     emma watson is hiding feminist book on the train\n",
       "41402    the problem with standardized test is exposed ...\n",
       "18563    read the fierce letter woman throughout histor...\n",
       "33453    jk rowling show two face of donald trump on in...\n",
       "40715    thanksfortyping show once again that woman do ...\n",
       "Name: headline, dtype: object"
      ]
     },
     "metadata": {},
     "output_type": "display_data"
    },
    {
     "name": "stdout",
     "output_type": "stream",
     "text": [
      "\n",
      "'QUEER VOICES' predicted as 'WOMEN' : 14 examples.\n"
     ]
    },
    {
     "data": {
      "text/plain": [
       "29771    aaron carter im going to be pursuing relations...\n",
       "45403    hot dude spoof mean girl in support of hillary...\n",
       "1446     powerful photo show that woman arent the only ...\n",
       "39193    why sweden just opened the first male rape cli...\n",
       "21375    this woman is out to prove butch is not a dirt...\n",
       "49223    here are some of the best sign from the equali...\n",
       "40510                                  what is a male body\n",
       "18291     on queerness sexual violence anthony rapp and me\n",
       "15936    alyson stoner open up about falling in love wi...\n",
       "27103    dear mark ruffalo timothy mcneil and matt bome...\n",
       "2442               we are proud — and we’re still marching\n",
       "8642     my internalized homophobia kept me from report...\n",
       "35369                                   the magic of sweat\n",
       "14414    when toxic masculinity get under the skin conf...\n",
       "Name: headline, dtype: object"
      ]
     },
     "metadata": {},
     "output_type": "display_data"
    },
    {
     "name": "stdout",
     "output_type": "stream",
     "text": [
      "\n",
      "'MEDIA' predicted as 'WOMEN' : 4 examples.\n"
     ]
    },
    {
     "data": {
      "text/plain": [
       "6826     transcript email show how tabloid reporter hel...\n",
       "2208     twitter is a more comfortable place for perpet...\n",
       "26645    prosecutor in larry nassar case thanks journal...\n",
       "28110    gretchen carlson want to spotlight comeback by...\n",
       "Name: headline, dtype: object"
      ]
     },
     "metadata": {},
     "output_type": "display_data"
    },
    {
     "name": "stdout",
     "output_type": "stream",
     "text": [
      "\n",
      "'HEALTHY LIVING' predicted as 'WOMEN' : 16 examples.\n"
     ]
    },
    {
     "data": {
      "text/plain": [
       "20531    panicking election day meditation flash mob ar...\n",
       "14062                  oral hpv affect more men than woman\n",
       "35171    what woman need to know about reproductive coe...\n",
       "19239    how men can help woman take control of their h...\n",
       "23123    people on twitter are sharing the dumbest thin...\n",
       "33455    cardiology nurse heart attack survivor ha mess...\n",
       "17020    new york to allow lateterm abortion for health...\n",
       "40310                                      fat bottom girl\n",
       "25965            even female doctor struggle for equal pay\n",
       "1741     how to avoid gaining weight on the campaign trail\n",
       "3325     a popular birth control ha been recalled after...\n",
       "47043    woman physician discrimination and burnout tim...\n",
       "43833    naked truth how i learned to stop worrying and...\n",
       "48787    model are sharing their experience with sexual...\n",
       "8849      way caffeine keep you from realizing your pot...\n",
       "2094               woman have always lived longer than men\n",
       "Name: headline, dtype: object"
      ]
     },
     "metadata": {},
     "output_type": "display_data"
    },
    {
     "name": "stdout",
     "output_type": "stream",
     "text": [
      "\n",
      "'COMEDY' predicted as 'WOMEN' : 8 examples.\n"
     ]
    },
    {
     "data": {
      "text/plain": [
       "27329    this  snl script is basically the blueprint fo...\n",
       "5538       postelection life advice leave the screen world\n",
       "15522    rapist recovery center parody take perfect aim...\n",
       "41739    if restaurant designed for stresseating were a...\n",
       "46129    an irish sketch group discovers st patrick day...\n",
       "13215    the ending to a christmas carol you were never...\n",
       "17629    samantha bee honor lady who persist with nasty...\n",
       "25321    if woman want those darn equal right they’ll h...\n",
       "Name: headline, dtype: object"
      ]
     },
     "metadata": {},
     "output_type": "display_data"
    },
    {
     "name": "stdout",
     "output_type": "stream",
     "text": [
      "\n",
      "'EDUCATION' predicted as 'WOMEN' : 3 examples.\n"
     ]
    },
    {
     "data": {
      "text/plain": [
       "9692     dear minnesota football player stop perpetuati...\n",
       "28766    georgia campus sexual assault survivor and adv...\n",
       "23908    data complicates student’s claim that columbia...\n",
       "Name: headline, dtype: object"
      ]
     },
     "metadata": {},
     "output_type": "display_data"
    },
    {
     "name": "stdout",
     "output_type": "stream",
     "text": [
      "\n",
      "'ENTERTAINMENT' predicted as 'WOMEN' : 29 examples.\n"
     ]
    },
    {
     "data": {
      "text/plain": [
       "19555              why the morality in wonder woman matter\n",
       "6863     quentin tarantino apologizes to polanski rape ...\n",
       "40986    marilyn manson bassist twiggy ramirez accused ...\n",
       "34057    here’s the feminist symbol you missed in beyon...\n",
       "37778    amber tamblyn pen mustread oped about trump on...\n",
       "39773    eliza dushku emboldens  more woman to speak ou...\n",
       "28406    wonder woman feminist icon or symbol of oppres...\n",
       "31451    emma watson doe sweetest thing for a reporter ...\n",
       "47932    onethird of weinstein company board resigns af...\n",
       "11446          why daenerys targaryen is an idol for woman\n",
       "29628    hayden panettiere on what it mean to play a po...\n",
       "21225    alec baldwin go off on sexist twitter rant aga...\n",
       "15251    why woman say she called poison control after ...\n",
       "42465    zac efron is looking fine a ever in these new ...\n",
       "11005    cara delevingne perfectly shuts down a very pe...\n",
       "6663     superheroes react to donald trump presidency i...\n",
       "43566     more woman could testify against bill cosby i...\n",
       "24774    viola davis to sexual assault survivor ‘you’re...\n",
       "32794                               dear  id like a refund\n",
       "36966     percent of hollywood woman say theyve been ha...\n",
       "18572    pharrells sideeye when jenna bush hager asked ...\n",
       "43731             th century woman is poignant and vibrant\n",
       "36764    brie larson to play first woman to run for pre...\n",
       "35691    abortion a seen on tv is even more significant...\n",
       "32800    marilyn manson to part way with bassist twiggy...\n",
       "41982    keira knightley is sick of female character ge...\n",
       "65       lapd launch sexual assault investigation again...\n",
       "23344    female comedian from last comic standing sued ...\n",
       "2638     pier morgan complained about people talking po...\n",
       "Name: headline, dtype: object"
      ]
     },
     "metadata": {},
     "output_type": "display_data"
    },
    {
     "name": "stdout",
     "output_type": "stream",
     "text": [
      "\n",
      "'WORLDPOST' predicted as 'WOMEN' : 11 examples.\n"
     ]
    },
    {
     "data": {
      "text/plain": [
       "23687           could paternity leave help woman earn more\n",
       "22323    mother around the world are dying  let hashtag...\n",
       "42814    lipstick under my burkha when real woman take ...\n",
       "10685    im so sorry when indian advertisement turn aro...\n",
       "1568     stop seeing refugee a a problem and start seei...\n",
       "19464    jordan first selfdefense academy for woman wan...\n",
       "4865     impoverished harassed and alone kashmir’s forg...\n",
       "7588     i learned to stop giving cultural ignorance a pas\n",
       "43062    kenyan clan elder are profiting off female gen...\n",
       "30259    ibm’s new artificial neuron a big step toward ...\n",
       "13311    half the city is burning hamburg rocked by vio...\n",
       "Name: headline, dtype: object"
      ]
     },
     "metadata": {},
     "output_type": "display_data"
    },
    {
     "name": "stdout",
     "output_type": "stream",
     "text": [
      "\n",
      "'PARENTS' predicted as 'WOMEN' : 8 examples.\n"
     ]
    },
    {
     "data": {
      "text/plain": [
       "29170    nasty woman pump on the way to planned parenthood\n",
       "48959            thing never to say to a stayathome mother\n",
       "8339     how you gave birth doesnt define your strength...\n",
       "10687       what is up with the backlash against fit woman\n",
       "14442    this is the face of a woman who just got a big...\n",
       "41710                               i am a male babysitter\n",
       "48727        mom beware the gender pay gap hit you hardest\n",
       "3260             i went to a funeral and i never went home\n",
       "Name: headline, dtype: object"
      ]
     },
     "metadata": {},
     "output_type": "display_data"
    },
    {
     "name": "stdout",
     "output_type": "stream",
     "text": [
      "\n",
      "'BUSINESS' predicted as 'WOMEN' : 2 examples.\n"
     ]
    },
    {
     "data": {
      "text/plain": [
       "5070     sheryl sandberg warns of metoo backlash agains...\n",
       "42067    facebook didn’t seem to care i wa being sexual...\n",
       "Name: headline, dtype: object"
      ]
     },
     "metadata": {},
     "output_type": "display_data"
    },
    {
     "name": "stdout",
     "output_type": "stream",
     "text": [
      "\n",
      "'BLACK VOICES' predicted as 'WOMEN' : 12 examples.\n"
     ]
    },
    {
     "data": {
      "text/plain": [
       "29959    pharrell women’s contribution to history wa al...\n",
       "319      dmx’s cover of ‘rudolph the rednosed reindeer’...\n",
       "49995                                         why we march\n",
       "15056    spelman rape victim say school president faile...\n",
       "7292     estelle team up with planned parenthood for po...\n",
       "14708    ti take a jab at floyd mayweathers all life ma...\n",
       "32911            america need men to step up or step aside\n",
       "10615    missy elliott cover elle share her fearless ap...\n",
       "39178     valuable lesson to help woman of color thrive...\n",
       "32979    janelle monáe maxwell among performer at woman...\n",
       "43875    tlc chilli responds to backlash clarifies all ...\n",
       "13825    this body of mine a lifetime of complicated bo...\n",
       "Name: headline, dtype: object"
      ]
     },
     "metadata": {},
     "output_type": "display_data"
    },
    {
     "name": "stdout",
     "output_type": "stream",
     "text": [
      "\n",
      "'IMPACT' predicted as 'WOMEN' : 9 examples.\n"
     ]
    },
    {
     "data": {
      "text/plain": [
       "46857             four woman one lifechanging intervention\n",
       "44547    domestic abuse survivor give young victim the ...\n",
       "845      not one woman le protesting femicide in buenos...\n",
       "11660    investing in women’s reproductive health the v...\n",
       "12995    music video about vagina reminds men they dont...\n",
       "15993            defunding planned parenthood catastrophic\n",
       "26979    to the domestic violence survivor i work with ...\n",
       "37476    workplace automation is happening and woman wi...\n",
       "1456     where to donate to help sexual assault survivo...\n",
       "Name: headline, dtype: object"
      ]
     },
     "metadata": {},
     "output_type": "display_data"
    },
    {
     "name": "stdout",
     "output_type": "stream",
     "text": [
      "\n",
      "'STYLE' predicted as 'WOMEN' : 8 examples.\n"
     ]
    },
    {
     "data": {
      "text/plain": [
       "44814    these gorgeous tony award look deserve a stand...\n",
       "48752    i let my nana dress me and ive never gotten so...\n",
       "25661                 the woman of girl have changed a lot\n",
       "45747     valentine day gift for him that arent ridicul...\n",
       "25112         this woman gave cellulite a perfect nickname\n",
       "20749    shopping for plussize formalwear is about to b...\n",
       "13519         of the best body positive fashion moment in \n",
       "29899    the reason zayn malik shaved his head is actua...\n",
       "Name: headline, dtype: object"
      ]
     },
     "metadata": {},
     "output_type": "display_data"
    },
    {
     "name": "stdout",
     "output_type": "stream",
     "text": [
      "\n",
      "'RELIGION' predicted as 'WOMEN' : 2 examples.\n"
     ]
    },
    {
     "data": {
      "text/plain": [
       "38123    joel osteen tell harvey survivor not to have a...\n",
       "49187    southern baptist leader resigns over morally i...\n",
       "Name: headline, dtype: object"
      ]
     },
     "metadata": {},
     "output_type": "display_data"
    },
    {
     "name": "stdout",
     "output_type": "stream",
     "text": [
      "\n",
      "'POLITICS' predicted as 'RELIGION' : 21 examples.\n"
     ]
    },
    {
     "data": {
      "text/plain": [
       "1433                          searching for public courage\n",
       "11563                          christianity hijacked brand\n",
       "2924     bishop michael curry join christian march to w...\n",
       "13647    mormon petition to stop tabernacle choir from ...\n",
       "44057    in the heart of clinton country her base faith...\n",
       "34085    too many christian pastor are silent on charlo...\n",
       "3590     pope confidante pen blistering critique of ste...\n",
       "42292    somebody set fire to another mosque in america...\n",
       "4841     i lost faith in godbut im now pursuing faith i...\n",
       "22610    muslim may become america’s secondlargest reli...\n",
       "24234                  weve got to talk about christianity\n",
       "44522    nashville mayor megan barry resigns after plea...\n",
       "8858     michele bachmann just got an actual sign from ...\n",
       "43849    register me first website offer an antidote to...\n",
       "34802    how the khan became a weeklong story an explai...\n",
       "19430    penny tell room full of christian in dc their ...\n",
       "12776    listen to this catholic priest poke hole in tr...\n",
       "36239    this sikh american overcame hate to become new...\n",
       "32134    pope francis dont build anything on native lan...\n",
       "18035    religious leader condemn hateful trumpinspired...\n",
       "39238    jesuit priest debunks the war on christmas in ...\n",
       "Name: headline, dtype: object"
      ]
     },
     "metadata": {},
     "output_type": "display_data"
    },
    {
     "name": "stdout",
     "output_type": "stream",
     "text": [
      "\n",
      "'ARTS' predicted as 'RELIGION' : 2 examples.\n"
     ]
    },
    {
     "data": {
      "text/plain": [
       "11726    these muslim jewish and christian artist use m...\n",
       "28204    mary gaitskill on rape culture and her new ess...\n",
       "Name: headline, dtype: object"
      ]
     },
     "metadata": {},
     "output_type": "display_data"
    },
    {
     "name": "stdout",
     "output_type": "stream",
     "text": [
      "\n",
      "'MEDIA' predicted as 'RELIGION' : 2 examples.\n"
     ]
    },
    {
     "data": {
      "text/plain": [
       "44995        los angeles  a personal reflection\n",
       "46773    are christian easy prey for propaganda\n",
       "Name: headline, dtype: object"
      ]
     },
     "metadata": {},
     "output_type": "display_data"
    },
    {
     "name": "stdout",
     "output_type": "stream",
     "text": [
      "\n",
      "'HEALTHY LIVING' predicted as 'RELIGION' : 2 examples.\n"
     ]
    },
    {
     "data": {
      "text/plain": [
       "14959    offering syrinx along with prayer church help ...\n",
       "19449                       how to narrate your life story\n",
       "Name: headline, dtype: object"
      ]
     },
     "metadata": {},
     "output_type": "display_data"
    },
    {
     "name": "stdout",
     "output_type": "stream",
     "text": [
      "\n",
      "'COMEDY' predicted as 'RELIGION' : 3 examples.\n"
     ]
    },
    {
     "data": {
      "text/plain": [
       "13134                  being the pope isnt always a breeze\n",
       "11918    the pope rapping meme is back and better than ...\n",
       "198      what mark zuckerberg and pope francis talked a...\n",
       "Name: headline, dtype: object"
      ]
     },
     "metadata": {},
     "output_type": "display_data"
    },
    {
     "name": "stdout",
     "output_type": "stream",
     "text": [
      "\n",
      "'ENTERTAINMENT' predicted as 'RELIGION' : 3 examples.\n"
     ]
    },
    {
     "data": {
      "text/plain": [
       "15372          nick cannon stuck in hospital for christmas\n",
       "40036    hannibal buress mic cut after joking about cat...\n",
       "49023    leah remini say hardworking scientologists mus...\n",
       "Name: headline, dtype: object"
      ]
     },
     "metadata": {},
     "output_type": "display_data"
    },
    {
     "name": "stdout",
     "output_type": "stream",
     "text": [
      "\n",
      "'WORLDPOST' predicted as 'RELIGION' : 6 examples.\n"
     ]
    },
    {
     "data": {
      "text/plain": [
       "40140    pope francis us christmas message to call for ...\n",
       "16466    greenpeace shine message for trump on vatican ...\n",
       "44009    sikh canadian politician brilliantly foil raci...\n",
       "43462    unanswered question about russia erode faith i...\n",
       "8783     benghazi attack organizer acquitted of most se...\n",
       "32624    after pope encourages giving money to homeless...\n",
       "Name: headline, dtype: object"
      ]
     },
     "metadata": {},
     "output_type": "display_data"
    },
    {
     "name": "stdout",
     "output_type": "stream",
     "text": [
      "\n",
      "'BLACK VOICES' predicted as 'RELIGION' : 3 examples.\n"
     ]
    },
    {
     "data": {
      "text/plain": [
       "23311    sikh journalist tie his turban in honor of tim...\n",
       "17065                    the silence is deafening…speak up\n",
       "14547                      i will resist a new year prayer\n",
       "Name: headline, dtype: object"
      ]
     },
     "metadata": {},
     "output_type": "display_data"
    },
    {
     "name": "stdout",
     "output_type": "stream",
     "text": [
      "\n",
      "'CRIME' predicted as 'RELIGION' : 2 examples.\n"
     ]
    },
    {
     "data": {
      "text/plain": [
       "15025    imam and friend gunned down after prayer in ne...\n",
       "3795     sikh man recovering after gunshot wa allegedly...\n",
       "Name: headline, dtype: object"
      ]
     },
     "metadata": {},
     "output_type": "display_data"
    },
    {
     "name": "stdout",
     "output_type": "stream",
     "text": [
      "\n",
      "'IMPACT' predicted as 'RELIGION' : 3 examples.\n"
     ]
    },
    {
     "data": {
      "text/plain": [
       "36258          in the face of tragedy this is what sikh do\n",
       "42440                                   home for christmas\n",
       "2476     america clergy the overlooked champion in the ...\n",
       "Name: headline, dtype: object"
      ]
     },
     "metadata": {},
     "output_type": "display_data"
    },
    {
     "name": "stdout",
     "output_type": "stream",
     "text": [
      "\n",
      "'WOMEN' predicted as 'RELIGION' : 6 examples.\n"
     ]
    },
    {
     "data": {
      "text/plain": [
       "39084    i’ve learned how to piss people off — and you ...\n",
       "21829       decent christian and the politics of the right\n",
       "3863                           i hereby quit your religion\n",
       "15341     sister march planned for day after trump inau...\n",
       "42218    vatican magazine urge church to stop using nun...\n",
       "33811    these painfully hilarious comic capture life a...\n",
       "Name: headline, dtype: object"
      ]
     },
     "metadata": {},
     "output_type": "display_data"
    },
    {
     "name": "stdout",
     "output_type": "stream",
     "text": [
      "\n",
      "'POLITICS' predicted as 'TRAVEL' : 11 examples.\n"
     ]
    },
    {
     "data": {
      "text/plain": [
       "29712    sean spicer call video of passenger being drag...\n",
       "34360    girl guide of canada halt travel to u over bor...\n",
       "9038          while most small town languish some flourish\n",
       "18829    this is what it wa like to go to the airport b...\n",
       "18067    these travel poster depict a dystopian future ...\n",
       "38561                       do u hotel need metal detector\n",
       "38220    scott pruitt cancel israel trip amid backlash ...\n",
       "40322    holocaust museum asserts that neonazism ha no ...\n",
       "27208    sebastian gorka reportedly carry a pistol and ...\n",
       "2648     tiny town small state bet on bitcoin even a so...\n",
       "1432                                        remove him now\n",
       "Name: headline, dtype: object"
      ]
     },
     "metadata": {},
     "output_type": "display_data"
    },
    {
     "name": "stdout",
     "output_type": "stream",
     "text": [
      "\n",
      "'SPORTS' predicted as 'TRAVEL' : 3 examples.\n"
     ]
    },
    {
     "data": {
      "text/plain": [
       "25406    flaviu cernescu ride a unicycle at the top of ...\n",
       "45718    flight attendant told eagle fan to tone it dow...\n",
       "11942    karlanthony town carves his own path a the hum...\n",
       "Name: headline, dtype: object"
      ]
     },
     "metadata": {},
     "output_type": "display_data"
    },
    {
     "name": "stdout",
     "output_type": "stream",
     "text": [
      "\n",
      "'ARTS' predicted as 'TRAVEL' : 5 examples.\n"
     ]
    },
    {
     "data": {
      "text/plain": [
       "37492             of the most fly photo taken by drone in \n",
       "47525    echo of world war ii  and a loud explosion or ...\n",
       "28407    this guy digital art look so real people want ...\n",
       "1180                  the best technology for the new year\n",
       "8429     this  squarefoot flower carpet is the ultimate...\n",
       "Name: headline, dtype: object"
      ]
     },
     "metadata": {},
     "output_type": "display_data"
    },
    {
     "name": "stdout",
     "output_type": "stream",
     "text": [
      "\n",
      "'QUEER VOICES' predicted as 'TRAVEL' : 4 examples.\n"
     ]
    },
    {
     "data": {
      "text/plain": [
       "36219                the place beyond the fire island pine\n",
       "43497    it look like love may be in the air for the in...\n",
       "19885                    correcting our collective mistake\n",
       "10306    the progay reason this jefferson airplane star...\n",
       "Name: headline, dtype: object"
      ]
     },
     "metadata": {},
     "output_type": "display_data"
    },
    {
     "name": "stdout",
     "output_type": "stream",
     "text": [
      "\n",
      "'HEALTHY LIVING' predicted as 'TRAVEL' : 9 examples.\n"
     ]
    },
    {
     "data": {
      "text/plain": [
       "19139                                      a lesson on joy\n",
       "32047                 travel tip for those with disability\n",
       "27876    how to maintain real life friendship in a digi...\n",
       "44288      digital dopamine when delightful becomes a drug\n",
       "28827       malaria is on the rise among american traveler\n",
       "34926                                  traveling with ptsd\n",
       "17434            new map track germ travel around hospital\n",
       "32169    cdc remove zika travel warning from northern p...\n",
       "9744     top  tip on traveling with a lifethreatening f...\n",
       "Name: headline, dtype: object"
      ]
     },
     "metadata": {},
     "output_type": "display_data"
    },
    {
     "name": "stdout",
     "output_type": "stream",
     "text": [
      "\n",
      "'ENTERTAINMENT' predicted as 'TRAVEL' : 4 examples.\n"
     ]
    },
    {
     "data": {
      "text/plain": [
       "36261    nicole byer found the most disgusting thing in...\n",
       "37365    u sued for allegedly stealing the fly from bri...\n",
       "17137    miranda lambert assistant always pack a bag of...\n",
       "33530    nick lachey fondly remembers traveling america...\n",
       "Name: headline, dtype: object"
      ]
     },
     "metadata": {},
     "output_type": "display_data"
    },
    {
     "name": "stdout",
     "output_type": "stream",
     "text": [
      "\n",
      "'WORLDPOST' predicted as 'TRAVEL' : 4 examples.\n"
     ]
    },
    {
     "data": {
      "text/plain": [
       "10487    congolese youth look to chart a new path in th...\n",
       "569               why multihazard early warning make sense\n",
       "32908    bts prof kpops power with spot on time magazin...\n",
       "35416    leftist friend gather a castro funeral cortege...\n",
       "Name: headline, dtype: object"
      ]
     },
     "metadata": {},
     "output_type": "display_data"
    },
    {
     "name": "stdout",
     "output_type": "stream",
     "text": [
      "\n",
      "'PARENTS' predicted as 'TRAVEL' : 4 examples.\n"
     ]
    },
    {
     "data": {
      "text/plain": [
       "14493    watch these adult try to do fourth grade homew...\n",
       "30550    chiropractor car seat carrier hack may just ch...\n",
       "16686                       the four type of summer camper\n",
       "14178                          when flying is not a luxury\n",
       "Name: headline, dtype: object"
      ]
     },
     "metadata": {},
     "output_type": "display_data"
    },
    {
     "name": "stdout",
     "output_type": "stream",
     "text": [
      "\n",
      "'BUSINESS' predicted as 'TRAVEL' : 3 examples.\n"
     ]
    },
    {
     "data": {
      "text/plain": [
       "49980    this bill could make travel review more trustw...\n",
       "39000      betcha didnt know travel insurance covered that\n",
       "26853    the joy of being wrong when a subordinate disa...\n",
       "Name: headline, dtype: object"
      ]
     },
     "metadata": {},
     "output_type": "display_data"
    },
    {
     "name": "stdout",
     "output_type": "stream",
     "text": [
      "\n",
      "'BLACK VOICES' predicted as 'TRAVEL' : 3 examples.\n"
     ]
    },
    {
     "data": {
      "text/plain": [
       "45664    exdeputy at spring valley high school wont fac...\n",
       "3832                      being natural is not appropriate\n",
       "40226                  how new edition avoided heart break\n",
       "Name: headline, dtype: object"
      ]
     },
     "metadata": {},
     "output_type": "display_data"
    },
    {
     "name": "stdout",
     "output_type": "stream",
     "text": [
      "\n",
      "'CRIME' predicted as 'TRAVEL' : 2 examples.\n"
     ]
    },
    {
     "data": {
      "text/plain": [
       "46856    alleged airplane smoker threatens to kill ever...\n",
       "11270    nobody know exactly how many people are gettin...\n",
       "Name: headline, dtype: object"
      ]
     },
     "metadata": {},
     "output_type": "display_data"
    },
    {
     "name": "stdout",
     "output_type": "stream",
     "text": [
      "\n",
      "'IMPACT' predicted as 'TRAVEL' : 2 examples.\n"
     ]
    },
    {
     "data": {
      "text/plain": [
       "41486    youll get a discount at these hotel if you don...\n",
       "48405    modern slavery and tourism when vacation and h...\n",
       "Name: headline, dtype: object"
      ]
     },
     "metadata": {},
     "output_type": "display_data"
    },
    {
     "name": "stdout",
     "output_type": "stream",
     "text": [
      "\n",
      "'STYLE' predicted as 'TRAVEL' : 6 examples.\n"
     ]
    },
    {
     "data": {
      "text/plain": [
       "20388    why is it so satisfying to watch people remove...\n",
       "35652    naomi campbell wear a onelegged jumpsuit to co...\n",
       "45594    these major u store are the best place to shop...\n",
       "39536                      the best chunky heel for spring\n",
       "28648                 way to wear patent leather this fall\n",
       "22419       misty copeland is estée lauder new modern muse\n",
       "Name: headline, dtype: object"
      ]
     },
     "metadata": {},
     "output_type": "display_data"
    },
    {
     "name": "stdout",
     "output_type": "stream",
     "text": [
      "\n",
      "'WOMEN' predicted as 'TRAVEL' : 2 examples.\n"
     ]
    },
    {
     "data": {
      "text/plain": [
       "3528                     reason to date a girl who travel\n",
       "43212    i am not a prostitute i’m a female solo traveler\n",
       "Name: headline, dtype: object"
      ]
     },
     "metadata": {},
     "output_type": "display_data"
    },
    {
     "name": "stdout",
     "output_type": "stream",
     "text": [
      "\n"
     ]
    }
   ],
   "source": [
    "# Studying failing scenarios\n",
    "from IPython.display import display\n",
    "\n",
    "for predicted in category_id_df_headline.category_id:\n",
    "    for actual in category_id_df_headline.category_id:\n",
    "        if predicted != actual and conf_mat[actual, predicted] >= 2:\n",
    "            print(\"'{}' predicted as '{}' : {} examples.\".format(id_to_category_headline[actual], id_to_category_headline[predicted], conf_mat[actual, predicted]))\n",
    "            display(df_headline.loc[indices_test[(y_test == actual) & (y_pred == predicted)]]['headline'])\n",
    "            print('')"
   ]
  },
  {
   "cell_type": "code",
   "execution_count": 166,
   "metadata": {},
   "outputs": [
    {
     "data": {
      "text/plain": [
       "LinearSVC(C=0.7, class_weight=None, dual=True, fit_intercept=True,\n",
       "          intercept_scaling=1, loss='squared_hinge', max_iter=1000,\n",
       "          multi_class='ovr', penalty='l2', random_state=None, tol=0.0001,\n",
       "          verbose=0)"
      ]
     },
     "execution_count": 166,
     "metadata": {},
     "output_type": "execute_result"
    }
   ],
   "source": [
    "## use all data\n",
    "model.fit(features, labels)"
   ]
  },
  {
   "cell_type": "code",
   "execution_count": 21,
   "metadata": {},
   "outputs": [
    {
     "name": "stdout",
     "output_type": "stream",
     "text": [
      "# 'ARTS':\n",
      "  . Top unigrams:\n",
      "       . art\n",
      "       . artist\n",
      "       . portrait\n",
      "  . Top bigrams:\n",
      "       . just day\n",
      "       . short film\n",
      "       . woman say\n",
      "# 'BLACK VOICES':\n",
      "  . Top unigrams:\n",
      "       . black\n",
      "       . racially\n",
      "       . castile\n",
      "  . Top bigrams:\n",
      "       . got real\n",
      "       . nba star\n",
      "       . monday morning\n",
      "# 'BUSINESS':\n",
      "  . Top unigrams:\n",
      "       . uber\n",
      "       . automaker\n",
      "       . company\n",
      "  . Top bigrams:\n",
      "       . judge said\n",
      "       . new administration\n",
      "       . authority say\n",
      "# 'COMEDY':\n",
      "  . Top unigrams:\n",
      "       . sketch\n",
      "       . introducing\n",
      "       . noah\n",
      "  . Top bigrams:\n",
      "       . late host\n",
      "       . week tonight\n",
      "       . daily host\n",
      "# 'CRIME':\n",
      "  . Top unigrams:\n",
      "       . gunman\n",
      "       . suspect\n",
      "       . arthur\n",
      "  . Top bigrams:\n",
      "       . girl wa\n",
      "       . witness said\n",
      "       . wa seen\n",
      "# 'EDUCATION':\n",
      "  . Top unigrams:\n",
      "       . education\n",
      "       . college\n",
      "       . student\n",
      "  . Top bigrams:\n",
      "       . charter school\n",
      "       . school district\n",
      "       . signed law\n",
      "# 'ENTERTAINMENT':\n",
      "  . Top unigrams:\n",
      "       . actor\n",
      "       . spotify\n",
      "       . singer\n",
      "  . Top bigrams:\n",
      "       . wa dead\n",
      "       . told huffpost\n",
      "       . late late\n",
      "# 'ENVIRONMENT':\n",
      "  . Top unigrams:\n",
      "       . evacuation\n",
      "       . wildfire\n",
      "       . hurricane\n",
      "  . Top bigrams:\n",
      "       . like wa\n",
      "       . national monument\n",
      "       . million people\n",
      "# 'HEALTHY LIVING':\n",
      "  . Top unigrams:\n",
      "       . health\n",
      "       . flu\n",
      "       . obesity\n",
      "  . Top bigrams:\n",
      "       . new research\n",
      "       . appeared quietrevcom\n",
      "       . article appeared\n",
      "# 'IMPACT':\n",
      "  . Top unigrams:\n",
      "       . homeless\n",
      "       . rain\n",
      "       . shelter\n",
      "  . Top bigrams:\n",
      "       . family member\n",
      "       . want change\n",
      "       . group people\n",
      "# 'MEDIA':\n",
      "  . Top unigrams:\n",
      "       . anchor\n",
      "       . tabloid\n",
      "       . journalist\n",
      "  . Top bigrams:\n",
      "       . news host\n",
      "       . msnbc host\n",
      "       . did hold\n",
      "# 'PARENTS':\n",
      "  . Top unigrams:\n",
      "       . parenting\n",
      "       . kid\n",
      "       . mom\n",
      "  . Top bigrams:\n",
      "       . wa inspired\n",
      "       . just said\n",
      "       . public school\n",
      "# 'POLITICS':\n",
      "  . Top unigrams:\n",
      "       . sen\n",
      "       . democrat\n",
      "       . rep\n",
      "  . Top bigrams:\n",
      "       . ready challenge\n",
      "       . national security\n",
      "       . health care\n",
      "# 'QUEER VOICES':\n",
      "  . Top unigrams:\n",
      "       . trans\n",
      "       . lgbt\n",
      "       . gay\n",
      "  . Top bigrams:\n",
      "       . week talked\n",
      "       . marriage equality\n",
      "       . drag race\n",
      "# 'RELIGION':\n",
      "  . Top unigrams:\n",
      "       . vatican\n",
      "       . bishop\n",
      "       . prayer\n",
      "  . Top bigrams:\n",
      "       . care act\n",
      "       . wa published\n",
      "       . red state\n",
      "# 'SCIENCE':\n",
      "  . Top unigrams:\n",
      "       . located\n",
      "       . nasa\n",
      "       . rocket\n",
      "  . Top bigrams:\n",
      "       . wa right\n",
      "       . just dont\n",
      "       . people think\n",
      "# 'SPORTS':\n",
      "  . Top unigrams:\n",
      "       . athlete\n",
      "       . doping\n",
      "       . league\n",
      "  . Top bigrams:\n",
      "       . colin kaepernick\n",
      "       . make history\n",
      "       . wa driving\n",
      "# 'STYLE':\n",
      "  . Top unigrams:\n",
      "       . wardrobe\n",
      "       . wine\n",
      "       . dress\n",
      "  . Top bigrams:\n",
      "       . past week\n",
      "       . night wa\n",
      "       . best way\n",
      "# 'TRAVEL':\n",
      "  . Top unigrams:\n",
      "       . traveler\n",
      "       . travel\n",
      "       . getaway\n",
      "  . Top bigrams:\n",
      "       . past decade\n",
      "       . said twitter\n",
      "       . wa injured\n",
      "# 'WOMEN':\n",
      "  . Top unigrams:\n",
      "       . woman\n",
      "       . antiabortion\n",
      "       . reproductive\n",
      "  . Top bigrams:\n",
      "       . planned parenthood\n",
      "       . assault survivor\n",
      "       . woman don\n",
      "# 'WORLDPOST':\n",
      "  . Top unigrams:\n",
      "       . myanmar\n",
      "       . pyongyang\n",
      "       . mosul\n",
      "  . Top bigrams:\n",
      "       . islamic state\n",
      "       . executive director\n",
      "       . people dead\n"
     ]
    }
   ],
   "source": [
    "from sklearn.feature_selection import chi2\n",
    "\n",
    "N = 3\n",
    "for Category, category_id in sorted(category_to_id_shd.items()):\n",
    "    indices = np.argsort(model.coef_[category_id])   # This time using the model co-eficients / weights\n",
    "    feature_names = np.array(tfidf.get_feature_names())[indices]\n",
    "    unigrams = [v for v in reversed(feature_names) if len(v.split(' ')) == 1][:N]\n",
    "    bigrams = [v for v in reversed(feature_names) if len(v.split(' ')) == 2][:N]\n",
    "    print(\"# '{}':\".format(Category))\n",
    "    print(\"  . Top unigrams:\\n       . {}\".format('\\n       . '.join(unigrams)))\n",
    "    print(\"  . Top bigrams:\\n       . {}\".format('\\n       . '.join(bigrams)))"
   ]
  }
 ],
 "metadata": {
  "kernelspec": {
   "display_name": "Python 3",
   "language": "python",
   "name": "python3"
  },
  "language_info": {
   "codemirror_mode": {
    "name": "ipython",
    "version": 3
   },
   "file_extension": ".py",
   "mimetype": "text/x-python",
   "name": "python",
   "nbconvert_exporter": "python",
   "pygments_lexer": "ipython3",
   "version": "3.7.3"
  }
 },
 "nbformat": 4,
 "nbformat_minor": 2
}
