{
 "cells": [
  {
   "cell_type": "code",
   "execution_count": null,
   "metadata": {},
   "outputs": [],
   "source": [
    "## training classifier , using topic modelling as features \n",
    "## gensim "
   ]
  },
  {
   "cell_type": "code",
   "execution_count": 1,
   "metadata": {},
   "outputs": [],
   "source": [
    "import re\n",
    "import numpy as np\n",
    "import pandas as pd\n",
    "from pprint import pprint\n",
    "\n",
    "# Gensim\n",
    "import gensim\n",
    "import gensim.corpora as corpora\n",
    "from gensim.utils import simple_preprocess\n",
    "from gensim.models import CoherenceModel\n",
    "\n",
    "# spacy for lemmatization\n",
    "import spacy\n",
    "\n",
    "# Plotting tools\n",
    "import pyLDAvis\n",
    "import pyLDAvis.gensim  # don't skip this\n",
    "import matplotlib.pyplot as plt\n",
    "%matplotlib inline"
   ]
  },
  {
   "cell_type": "code",
   "execution_count": 2,
   "metadata": {},
   "outputs": [],
   "source": [
    "import json\n",
    "import pandas as pd\n",
    "import json\n",
    "\n"
   ]
  },
  {
   "cell_type": "code",
   "execution_count": 3,
   "metadata": {
    "collapsed": true
   },
   "outputs": [
    {
     "name": "stderr",
     "output_type": "stream",
     "text": [
      "C:\\Users\\Lora\\Anaconda3\\lib\\site-packages\\nltk\\decorators.py:68: DeprecationWarning: `formatargspec` is deprecated since Python 3.5. Use `signature` and the `Signature` object directly\n",
      "  regargs, varargs, varkwargs, defaults, formatvalue=lambda value: \"\"\n",
      "C:\\Users\\Lora\\Anaconda3\\lib\\site-packages\\nltk\\lm\\counter.py:15: DeprecationWarning: Using or importing the ABCs from 'collections' instead of from 'collections.abc' is deprecated, and in 3.8 it will stop working\n",
      "  from collections import Sequence, defaultdict\n"
     ]
    }
   ],
   "source": [
    "# NLTK Stop words\n",
    "from nltk.corpus import stopwords\n",
    "stop_words = set(stopwords.words('english'))"
   ]
  },
  {
   "cell_type": "code",
   "execution_count": 21,
   "metadata": {},
   "outputs": [],
   "source": [
    "## getting headlines and short_desc together to build a LDA model and then try predicting both \n",
    "json_file=r\"C:\\Users\\Lora\\Desktop\\TxMM\\Project\\news-category-dataset\\News_Category_Dataset_v2.json\"\n",
    "\n",
    "## investigate data \n",
    "data = []\n",
    "for line in open(json_file,'r'):\n",
    "    data.append(json.loads(line))\n",
    "    \n",
    "# Creates DataFrame. \n",
    "df = pd.DataFrame(data) \n",
    "df= df.drop(['date','authors','link'], axis=1)"
   ]
  },
  {
   "cell_type": "code",
   "execution_count": 23,
   "metadata": {},
   "outputs": [],
   "source": [
    "# Grouping similar categories in data frame for headline \n",
    "df.loc[df['category'] == 'COLLEGE', 'category'] = 'EDUCATION'\n",
    "df.loc[df['category'] == 'CULTURE & ARTS', 'category'] = 'ARTS'\n",
    "df.loc[df['category'] == 'ARTS & CULTURE', 'category'] = 'ARTS'\n",
    "df.loc[df['category'] == 'THE WORLDPOST', 'category'] = 'WORLDPOST'\n",
    "df.loc[df['category'] == 'WORLD NEWS', 'category'] = 'WORLDPOST'\n",
    "df.loc[df['category'] == 'GREEN', 'category'] = 'ENVIRONMENT'\n",
    "df.loc[df['category'] == 'PARENTING', 'category'] = 'PARENTS'\n",
    "df.loc[df['category'] == 'STYLE & BEAUTY', 'category'] = 'STYLE'\n",
    "\n",
    "\n",
    "# Dropping categories with two little samples for headline \n",
    "df=df.drop(df[df.category == 'FIFTY'].index)\n",
    "df=df.drop(df[df.category == 'GOOD NEWS'].index)\n",
    "df=df.drop(df[df.category == 'LATINO VOICES'].index)\n",
    "df=df.drop(df[df.category == 'MONEY'].index)\n",
    "df=df.drop(df[df.category == 'WEIRD NEWS'].index)\n",
    "df=df.drop(df[df.category == 'TASTE'].index)\n",
    "df=df.drop(df[df.category == 'TECH'].index)\n",
    "df=df.reset_index(drop=True)\n",
    "\n",
    "# Dropping empty samples where no short_desc\n",
    "df.dropna(subset=['short_description'], inplace=True)\n",
    "df = df.reset_index(drop=True)\n",
    "\n",
    "# 188 370 samples \n",
    "\n",
    "#grouping together\n",
    "df['Text']=df['headline'] + '. ' + df['short_description']"
   ]
  },
  {
   "cell_type": "code",
   "execution_count": 4,
   "metadata": {
    "collapsed": true
   },
   "outputs": [
    {
     "data": {
      "text/html": [
       "<div>\n",
       "<style scoped>\n",
       "    .dataframe tbody tr th:only-of-type {\n",
       "        vertical-align: middle;\n",
       "    }\n",
       "\n",
       "    .dataframe tbody tr th {\n",
       "        vertical-align: top;\n",
       "    }\n",
       "\n",
       "    .dataframe thead th {\n",
       "        text-align: right;\n",
       "    }\n",
       "</style>\n",
       "<table border=\"1\" class=\"dataframe\">\n",
       "  <thead>\n",
       "    <tr style=\"text-align: right;\">\n",
       "      <th></th>\n",
       "      <th>short_description</th>\n",
       "    </tr>\n",
       "    <tr>\n",
       "      <th>category</th>\n",
       "      <th></th>\n",
       "    </tr>\n",
       "  </thead>\n",
       "  <tbody>\n",
       "    <tr>\n",
       "      <th>ARTS</th>\n",
       "      <td>3878</td>\n",
       "    </tr>\n",
       "    <tr>\n",
       "      <th>BLACK VOICES</th>\n",
       "      <td>4528</td>\n",
       "    </tr>\n",
       "    <tr>\n",
       "      <th>BUSINESS</th>\n",
       "      <td>5937</td>\n",
       "    </tr>\n",
       "    <tr>\n",
       "      <th>COMEDY</th>\n",
       "      <td>5175</td>\n",
       "    </tr>\n",
       "    <tr>\n",
       "      <th>CRIME</th>\n",
       "      <td>3405</td>\n",
       "    </tr>\n",
       "    <tr>\n",
       "      <th>DIVORCE</th>\n",
       "      <td>3426</td>\n",
       "    </tr>\n",
       "    <tr>\n",
       "      <th>EDUCATION</th>\n",
       "      <td>2148</td>\n",
       "    </tr>\n",
       "    <tr>\n",
       "      <th>ENTERTAINMENT</th>\n",
       "      <td>16058</td>\n",
       "    </tr>\n",
       "    <tr>\n",
       "      <th>ENVIRONMENT</th>\n",
       "      <td>3945</td>\n",
       "    </tr>\n",
       "    <tr>\n",
       "      <th>FOOD &amp; DRINK</th>\n",
       "      <td>6226</td>\n",
       "    </tr>\n",
       "    <tr>\n",
       "      <th>HEALTHY LIVING</th>\n",
       "      <td>6694</td>\n",
       "    </tr>\n",
       "    <tr>\n",
       "      <th>HOME &amp; LIVING</th>\n",
       "      <td>4195</td>\n",
       "    </tr>\n",
       "    <tr>\n",
       "      <th>IMPACT</th>\n",
       "      <td>3459</td>\n",
       "    </tr>\n",
       "    <tr>\n",
       "      <th>MEDIA</th>\n",
       "      <td>2815</td>\n",
       "    </tr>\n",
       "    <tr>\n",
       "      <th>PARENTS</th>\n",
       "      <td>12632</td>\n",
       "    </tr>\n",
       "    <tr>\n",
       "      <th>POLITICS</th>\n",
       "      <td>32739</td>\n",
       "    </tr>\n",
       "    <tr>\n",
       "      <th>QUEER VOICES</th>\n",
       "      <td>6314</td>\n",
       "    </tr>\n",
       "    <tr>\n",
       "      <th>RELIGION</th>\n",
       "      <td>2556</td>\n",
       "    </tr>\n",
       "    <tr>\n",
       "      <th>SCIENCE</th>\n",
       "      <td>2178</td>\n",
       "    </tr>\n",
       "    <tr>\n",
       "      <th>SPORTS</th>\n",
       "      <td>4884</td>\n",
       "    </tr>\n",
       "    <tr>\n",
       "      <th>STYLE</th>\n",
       "      <td>11903</td>\n",
       "    </tr>\n",
       "    <tr>\n",
       "      <th>TRAVEL</th>\n",
       "      <td>9887</td>\n",
       "    </tr>\n",
       "    <tr>\n",
       "      <th>WEDDINGS</th>\n",
       "      <td>3651</td>\n",
       "    </tr>\n",
       "    <tr>\n",
       "      <th>WELLNESS</th>\n",
       "      <td>17827</td>\n",
       "    </tr>\n",
       "    <tr>\n",
       "      <th>WOMEN</th>\n",
       "      <td>3490</td>\n",
       "    </tr>\n",
       "    <tr>\n",
       "      <th>WORLDPOST</th>\n",
       "      <td>8420</td>\n",
       "    </tr>\n",
       "  </tbody>\n",
       "</table>\n",
       "</div>"
      ],
      "text/plain": [
       "                short_description\n",
       "category                         \n",
       "ARTS                         3878\n",
       "BLACK VOICES                 4528\n",
       "BUSINESS                     5937\n",
       "COMEDY                       5175\n",
       "CRIME                        3405\n",
       "DIVORCE                      3426\n",
       "EDUCATION                    2148\n",
       "ENTERTAINMENT               16058\n",
       "ENVIRONMENT                  3945\n",
       "FOOD & DRINK                 6226\n",
       "HEALTHY LIVING               6694\n",
       "HOME & LIVING                4195\n",
       "IMPACT                       3459\n",
       "MEDIA                        2815\n",
       "PARENTS                     12632\n",
       "POLITICS                    32739\n",
       "QUEER VOICES                 6314\n",
       "RELIGION                     2556\n",
       "SCIENCE                      2178\n",
       "SPORTS                       4884\n",
       "STYLE                       11903\n",
       "TRAVEL                       9887\n",
       "WEDDINGS                     3651\n",
       "WELLNESS                    17827\n",
       "WOMEN                        3490\n",
       "WORLDPOST                    8420"
      ]
     },
     "execution_count": 4,
     "metadata": {},
     "output_type": "execute_result"
    }
   ],
   "source": [
    "json_file=r\"C:\\Users\\Lora\\Desktop\\TxMM\\Project\\news-category-dataset\\News_Category_Dataset_v2.json\"\n",
    "\n",
    "## investigate data \n",
    "data = []\n",
    "for line in open(json_file,'r'):\n",
    "    data.append(json.loads(line))\n",
    "    \n",
    "# Creates DataFrame. \n",
    "df_headline = pd.DataFrame(data) \n",
    "df_short_desc = pd.DataFrame(data)\n",
    "\n",
    "# Dropping unnecessary categories from both data frames\n",
    "df_headline = df_headline.drop(['date','authors','link','short_description'], axis=1)\n",
    "df_short_desc = df_short_desc.drop(['date','authors','link','headline'], axis=1)\n",
    "\n",
    "# Grouping similar categories in data frame for headline \n",
    "df_headline.loc[df_headline['category'] == 'COLLEGE', 'category'] = 'EDUCATION'\n",
    "df_headline.loc[df_headline['category'] == 'CULTURE & ARTS', 'category'] = 'ARTS'\n",
    "df_headline.loc[df_headline['category'] == 'ARTS & CULTURE', 'category'] = 'ARTS'\n",
    "df_headline.loc[df_headline['category'] == 'THE WORLDPOST', 'category'] = 'WORLDPOST'\n",
    "df_headline.loc[df_headline['category'] == 'WORLD NEWS', 'category'] = 'WORLDPOST'\n",
    "df_headline.loc[df_headline['category'] == 'GREEN', 'category'] = 'ENVIRONMENT'\n",
    "df_headline.loc[df_headline['category'] == 'PARENTING', 'category'] = 'PARENTS'\n",
    "df_headline.loc[df_headline['category'] == 'STYLE & BEAUTY', 'category'] = 'STYLE'\n",
    "\n",
    "\n",
    "# Dropping categories with two little samples for headline \n",
    "df_headline=df_headline.drop(df_headline[df_headline.category == 'FIFTY'].index)\n",
    "df_headline=df_headline.drop(df_headline[df_headline.category == 'GOOD NEWS'].index)\n",
    "df_headline=df_headline.drop(df_headline[df_headline.category == 'LATINO VOICES'].index)\n",
    "df_headline=df_headline.drop(df_headline[df_headline.category == 'MONEY'].index)\n",
    "df_headline=df_headline.drop(df_headline[df_headline.category == 'WEIRD NEWS'].index)\n",
    "df_headline=df_headline.drop(df_headline[df_headline.category == 'TASTE'].index)\n",
    "df_headline=df_headline.drop(df_headline[df_headline.category == 'TECH'].index)\n",
    "\n",
    "# Grouping similar categories in data frame for short desc \n",
    "df_short_desc.loc[df_short_desc['category'] == 'COLLEGE', 'category'] = 'EDUCATION'\n",
    "df_short_desc.loc[df_short_desc['category'] == 'CULTURE & ARTS', 'category'] = 'ARTS'\n",
    "df_short_desc.loc[df_short_desc['category'] == 'ARTS & CULTURE', 'category'] = 'ARTS'\n",
    "df_short_desc.loc[df_short_desc['category'] == 'THE WORLDPOST', 'category'] = 'WORLDPOST'\n",
    "df_short_desc.loc[df_short_desc['category'] == 'WORLD NEWS', 'category'] = 'WORLDPOST'\n",
    "df_short_desc.loc[df_short_desc['category'] == 'GREEN', 'category'] = 'ENVIRONMENT'\n",
    "df_short_desc.loc[df_short_desc['category'] == 'PARENTING', 'category'] = 'PARENTS'\n",
    "df_short_desc.loc[df_short_desc['category'] == 'STYLE & BEAUTY', 'category'] = 'STYLE'\n",
    "\n",
    "# Dropping categories with two little samples for short desc  \n",
    "df_short_desc=df_short_desc.drop(df_short_desc[df_short_desc.category == 'FIFTY'].index)\n",
    "df_short_desc=df_short_desc.drop(df_short_desc[df_short_desc.category == 'GOOD NEWS'].index)\n",
    "df_short_desc=df_short_desc.drop(df_short_desc[df_short_desc.category == 'LATINO VOICES'].index)\n",
    "df_short_desc=df_short_desc.drop(df_short_desc[df_short_desc.category == 'MONEY'].index)\n",
    "df_short_desc=df_short_desc.drop(df_short_desc[df_short_desc.category == 'WEIRD NEWS'].index)\n",
    "df_short_desc=df_short_desc.drop(df_short_desc[df_short_desc.category == 'TASTE'].index)\n",
    "df_short_desc=df_short_desc.drop(df_short_desc[df_short_desc.category == 'TECH'].index)\n",
    "\n",
    "# reseting index for both tables\n",
    "df_headline=df_headline.reset_index(drop=True)\n",
    "df_short_desc=df_short_desc.reset_index(drop=True)\n",
    "\n",
    "# checking categories\n",
    "df_headline.groupby('category').count()\n",
    "df_short_desc.groupby('category').count()"
   ]
  },
  {
   "cell_type": "code",
   "execution_count": 6,
   "metadata": {
    "collapsed": true
   },
   "outputs": [
    {
     "name": "stdout",
     "output_type": "stream",
     "text": [
      "[['there', 'were', 'mass', 'shootings', 'in', 'texas', 'last', 'week', 'but', 'only', 'on', 'tv']]\n",
      "[['she', 'left', 'her', 'husband', 'he', 'killed', 'their', 'children', 'just', 'another', 'day', 'in', 'america']]\n"
     ]
    }
   ],
   "source": [
    "#Let’s tokenize each sentence into a list of words, removing punctuations and unnecessary characters altogether.\n",
    "def sent_to_words(sentences):\n",
    "    for sentence in sentences:\n",
    "        yield(gensim.utils.simple_preprocess(str(sentence), deacc=True))  # deacc=True removes punctuations\n",
    "\n",
    "data_words_H = list(sent_to_words(data_headline))\n",
    "data_words_ShD = list(sent_to_words(data_short_desc))\n",
    "\n",
    "print(data_words_H[:1])\n",
    "print(data_words_ShD[:1])"
   ]
  },
  {
   "cell_type": "code",
   "execution_count": 20,
   "metadata": {},
   "outputs": [
    {
     "name": "stdout",
     "output_type": "stream",
     "text": [
      "['there', 'were', 'mass_shootings', 'in', 'texas', 'last', 'week', 'but', 'only', 'on', 'tv']\n"
     ]
    }
   ],
   "source": [
    "###### HEADLINES \n",
    "\n",
    "# Build the bigram and trigram models\n",
    "bigram_headlines= gensim.models.Phrases(data_words_H, min_count=2, threshold=70) # higher threshold fewer phrases.\n",
    "trigram_headlines = gensim.models.Phrases(bigram_headlines[data_words_H], threshold=70)  \n",
    "\n",
    "# Faster way to get a sentence clubbed as a trigram/bigram\n",
    "bigram_mod_headlines = gensim.models.phrases.Phraser(bigram_headlines)\n",
    "trigram_mod_headlines = gensim.models.phrases.Phraser(trigram_headlines)\n",
    "\n",
    "# See trigram example\n",
    "print(trigram_mod_headlines[bigram_mod_headlines[data_words_H[0]]])"
   ]
  },
  {
   "cell_type": "code",
   "execution_count": null,
   "metadata": {},
   "outputs": [],
   "source": [
    "########### SHORT DESCRIPTION\n",
    "\n",
    "# Build the bigram and trigram models\n",
    "bigram_SHD= gensim.models.Phrases(data_words_ShD, min_count=2, threshold=100) # higher threshold fewer phrases.\n",
    "trigram_SHD = gensim.models.Phrases(bigram_SHD[data_words_ShD], threshold=100)  \n",
    "\n",
    "# Faster way to get a sentence clubbed as a trigram/bigram\n",
    "bigram_mod_shd = gensim.models.phrases.Phraser(bigram_ShD)\n",
    "trigram_mod_shd = gensim.models.phrases.Phraser(trigram_ShD)\n",
    "\n",
    "# See trigram example\n",
    "print(trigram_mod_shd[bigram_mod_shd[data_words_ShD[0]]])"
   ]
  },
  {
   "cell_type": "code",
   "execution_count": 57,
   "metadata": {},
   "outputs": [],
   "source": [
    "## USED FOR ALL, HEADLINES, SHORT DESCRIPTION\n",
    "\n",
    "# Define functions for stopwords, bigrams, trigrams and lemmatization\n",
    "def remove_stopwords(texts):\n",
    "    return [[word for word in simple_preprocess(str(doc)) if word not in stop_words] for doc in texts]\n",
    "\n",
    "def make_bigrams(texts):\n",
    "    return [bigram_mod_shd[doc] for doc in texts]  # change bigram depending on what you use all / headlines etc\n",
    "\n",
    "def make_trigrams(texts):\n",
    "    return [trigram_mod_shd[bigram_mod_shd[doc]] for doc in texts] # change trigram depending on what you use all / headlines etc\n",
    "\n",
    "def lemmatization(texts, allowed_postags=['NOUN', 'ADJ', 'VERB', 'ADV']):\n",
    "    \"\"\"https://spacy.io/api/annotation\"\"\"\n",
    "    texts_out = []\n",
    "    for sent in texts:\n",
    "        doc = nlp(\" \".join(sent)) \n",
    "        texts_out.append([token.lemma_ for token in doc if token.pos_ in allowed_postags])\n",
    "    return texts_out"
   ]
  },
  {
   "cell_type": "code",
   "execution_count": 58,
   "metadata": {},
   "outputs": [
    {
     "data": {
      "text/plain": [
       "<spacy.lang.en.English at 0x2940c8a0780>"
      ]
     },
     "execution_count": 58,
     "metadata": {},
     "output_type": "execute_result"
    }
   ],
   "source": [
    "spacy.load('en_core_web_sm')"
   ]
  },
  {
   "cell_type": "code",
   "execution_count": 11,
   "metadata": {},
   "outputs": [
    {
     "name": "stdout",
     "output_type": "stream",
     "text": [
      "[['last', 'week', 'tv']]\n"
     ]
    }
   ],
   "source": [
    " ## HEADLINE\n",
    "# Remove Stop Words\n",
    "import en_core_web_sm\n",
    "data_words_nostops = remove_stopwords(data_words_)\n",
    "\n",
    "# Form Bigrams\n",
    "data_words_bigrams = make_bigrams(data_words_nostops)\n",
    "# Initialize spacy 'en' model, keeping only tagger component (for efficiency)\n",
    "# python3 -m spacy download en\n",
    "nlp = spacy.load('en_core_web_sm', disable=['parser', 'ner'])\n",
    "\n",
    "# Do lemmatization keeping only noun, adj, vb, adv\n",
    "data_lemmatized = lemmatization(data_words_bigrams, allowed_postags=['NOUN', 'ADJ', 'VERB', 'ADV'])\n",
    "\n",
    "print(data_lemmatized[:1])"
   ]
  },
  {
   "cell_type": "code",
   "execution_count": 59,
   "metadata": {},
   "outputs": [
    {
     "name": "stdout",
     "output_type": "stream",
     "text": [
      "[['leave', 'husband', 'kill', 'child', 'day']]\n"
     ]
    }
   ],
   "source": [
    "## ALL \n",
    "import en_core_web_sm\n",
    "data_words_nostops = remove_stopwords(data_words_all)\n",
    "\n",
    "# Form Bigrams\n",
    "data_words_bigrams = make_bigrams(data_words_nostops)\n",
    "# Initialize spacy 'en' model, keeping only tagger component (for efficiency)\n",
    "# python3 -m spacy download en\n",
    "nlp = spacy.load('en_core_web_sm', disable=['parser', 'ner'])\n",
    "\n",
    "# Do lemmatization keeping only noun, adj, vb, adv\n",
    "data_lemmatized = lemmatization(data_words_bigrams, allowed_postags=['NOUN', 'ADJ', 'VERB', 'ADV'])\n",
    "\n",
    "print(data_lemmatized[:1])"
   ]
  },
  {
   "cell_type": "code",
   "execution_count": 60,
   "metadata": {},
   "outputs": [
    {
     "name": "stdout",
     "output_type": "stream",
     "text": [
      "[[(0, 1), (1, 1), (2, 1), (3, 1), (4, 1)]]\n"
     ]
    }
   ],
   "source": [
    "## ALL \n",
    "id2word = corpora.Dictionary(data_lemmatized)\n",
    "\n",
    "# Create Corpus\n",
    "texts = data_lemmatized\n",
    "\n",
    "# Term Document Frequency\n",
    "corpus = [id2word.doc2bow(text) for text in texts]\n",
    "\n",
    "# View\n",
    "print(corpus[:1])"
   ]
  },
  {
   "cell_type": "code",
   "execution_count": 63,
   "metadata": {},
   "outputs": [
    {
     "name": "stdout",
     "output_type": "stream",
     "text": [
      "[[(0, 1), (1, 1), (2, 1), (3, 1), (4, 1)], [(5, 1), (6, 1)]]\n"
     ]
    }
   ],
   "source": [
    "# The two main inputs to the LDA topic model are the dictionary(id2word) and the corpus.\n",
    "#Let’s create them.\n",
    "# Create Dictionary\n",
    "id2word = corpora.Dictionary(data_lemmatized)\n",
    "\n",
    "# Create Corpus\n",
    "texts = data_lemmatized\n",
    "\n",
    "# Term Document Frequency\n",
    "corpus = [id2word.doc2bow(text) for text in texts]\n",
    "\n",
    "# View\n",
    "print(corpus[:2])"
   ]
  },
  {
   "cell_type": "code",
   "execution_count": 61,
   "metadata": {},
   "outputs": [
    {
     "data": {
      "text/plain": [
       "'child'"
      ]
     },
     "execution_count": 61,
     "metadata": {},
     "output_type": "execute_result"
    }
   ],
   "source": [
    "#Gensim creates a unique id for each word in the document.\n",
    "#The produced corpus shown above is a mapping of (word_id, word_frequency).\n",
    "#For example, (0, 1) above implies, word id 0 occurs once in the first document.\n",
    "#Likewise, word id 1 occurs twice and so on. This is used as the input by the LDA model.\n",
    "#If you want to see what word a given id corresponds to, pass the id as a key to the dictionary.\n",
    "id2word[0]"
   ]
  },
  {
   "cell_type": "code",
   "execution_count": 62,
   "metadata": {},
   "outputs": [
    {
     "data": {
      "text/plain": [
       "[[('child', 1), ('day', 1), ('husband', 1), ('kill', 1), ('leave', 1)]]"
      ]
     },
     "execution_count": 62,
     "metadata": {},
     "output_type": "execute_result"
    }
   ],
   "source": [
    "# https://www.machinelearningplus.com/nlp/topic-modeling-gensim-python/\n",
    "# Human readable format of corpus (term-frequency)\n",
    "[[(id2word[id], freq) for id, freq in cp] for cp in corpus[:1]]"
   ]
  },
  {
   "cell_type": "code",
   "execution_count": null,
   "metadata": {},
   "outputs": [],
   "source": [
    "# Building the Topic Model\n",
    "#Apart from that, alpha and eta are hyperparameters that affect sparsity of the topics. \n",
    "#According to the Gensim docs, both defaults to 1.0/num_topics prior.\n",
    "#chunksize is the number of documents to be used in each training chunk. \n",
    "#update_every determines how often the model parameters should be updated and passes \n",
    "#is the total number of training passes.\n",
    "\n",
    "# Build LDA model\n",
    "lda_model = gensim.models.ldamodel.LdaModel(corpus=corpus,\n",
    "                                           id2word=id2word,\n",
    "                                           num_topics=20, \n",
    "                                           random_state=100,\n",
    "                                           update_every=1,\n",
    "                                           chunksize=100,\n",
    "                                           passes=10,\n",
    "                                           alpha='auto',\n",
    "                                           per_word_topics=True,\n",
    "                                           )\n",
    "\n",
    "## save a model \n"
   ]
  },
  {
   "cell_type": "code",
   "execution_count": null,
   "metadata": {},
   "outputs": [],
   "source": [
    "lda_model.save('togetherLDA.model')"
   ]
  },
  {
   "cell_type": "code",
   "execution_count": 69,
   "metadata": {},
   "outputs": [
    {
     "name": "stdout",
     "output_type": "stream",
     "text": [
      "[(0,\n",
      "  '0.209*\"video\" + 0.134*\"want\" + 0.055*\"ask\" + 0.048*\"top\" + 0.046*\"begin\" + '\n",
      "  '0.042*\"favorite\" + 0.038*\"travel\" + 0.035*\"set\" + 0.032*\"name\" + '\n",
      "  '0.023*\"son\"'),\n",
      " (1,\n",
      "  '0.112*\"easy\" + 0.095*\"link\" + 0.089*\"film\" + 0.080*\"party\" + '\n",
      "  '0.065*\"company\" + 0.065*\"least\" + 0.061*\"history\" + 0.052*\"power\" + '\n",
      "  '0.041*\"action\" + 0.037*\"fire\"'),\n",
      " (2,\n",
      "  '0.607*\"photo\" + 0.167*\"people\" + 0.053*\"accord\" + 0.038*\"believe\" + '\n",
      "  '0.034*\"spend\" + 0.018*\"student\" + 0.010*\"produce\" + 0.007*\"male\" + '\n",
      "  '0.005*\"police\" + 0.003*\"suspect\"'),\n",
      " (3,\n",
      "  '0.348*\"make\" + 0.228*\"look\" + 0.175*\"way\" + 0.071*\"talk\" + 0.034*\"meet\" + '\n",
      "  '0.020*\"minute\" + 0.019*\"claim\" + 0.011*\"attempt\" + 0.011*\"photographer\" + '\n",
      "  '0.008*\"theme\"'),\n",
      " (4,\n",
      "  '0.163*\"tell\" + 0.109*\"model\" + 0.084*\"story\" + 0.069*\"season\" + 0.067*\"hit\" '\n",
      "  '+ 0.048*\"drug\" + 0.046*\"recent\" + 0.045*\"honor\" + 0.043*\"away\" + '\n",
      "  '0.038*\"shoot\"'),\n",
      " (5,\n",
      "  '0.296*\"many\" + 0.141*\"report\" + 0.063*\"focus\" + 0.056*\"surprise\" + '\n",
      "  '0.043*\"group\" + 0.041*\"pay\" + 0.025*\"powerful\" + 0.024*\"respond\" + '\n",
      "  '0.022*\"resort\" + 0.021*\"arrest\"'),\n",
      " (6,\n",
      "  '0.217*\"may\" + 0.180*\"life\" + 0.151*\"come\" + 0.108*\"give\" + 0.042*\"grow\" + '\n",
      "  '0.039*\"black\" + 0.033*\"enough\" + 0.031*\"risk\" + 0.024*\"likely\" + '\n",
      "  '0.023*\"research\"'),\n",
      " (7,\n",
      "  '0.283*\"child\" + 0.159*\"call\" + 0.130*\"leave\" + 0.106*\"old\" + 0.079*\"open\" + '\n",
      "  '0.054*\"husband\" + 0.030*\"guy\" + 0.025*\"kill\" + 0.017*\"meeting\" + '\n",
      "  '0.005*\"cite\"'),\n",
      " (8,\n",
      "  '0.196*\"think\" + 0.167*\"work\" + 0.134*\"parent\" + 0.122*\"even\" + '\n",
      "  '0.090*\"become\" + 0.057*\"cover\" + 0.041*\"reveal\" + 0.039*\"book\" + '\n",
      "  '0.025*\"process\" + 0.019*\"send\"'),\n",
      " (9,\n",
      "  '0.180*\"see\" + 0.108*\"wear\" + 0.101*\"also\" + 0.086*\"big\" + 0.047*\"include\" + '\n",
      "  '0.046*\"follow\" + 0.039*\"list\" + 0.037*\"walk\" + 0.036*\"late\" + 0.033*\"news\"'),\n",
      " (10,\n",
      "  '0.336*\"take\" + 0.185*\"would\" + 0.082*\"seem\" + 0.041*\"fun\" + 0.033*\"online\" '\n",
      "  '+ 0.031*\"boy\" + 0.030*\"amazing\" + 0.028*\"house\" + 0.025*\"member\" + '\n",
      "  '0.022*\"restaurant\"'),\n",
      " (11,\n",
      "  '0.393*\"day\" + 0.134*\"could\" + 0.073*\"plan\" + 0.061*\"less\" + 0.059*\"state\" + '\n",
      "  '0.040*\"almost\" + 0.028*\"receive\" + 0.024*\"adult\" + 0.022*\"classic\" + '\n",
      "  '0.021*\"suggest\"'),\n",
      " (12,\n",
      "  '0.132*\"turn\" + 0.124*\"try\" + 0.074*\"run\" + 0.064*\"death\" + 0.061*\"real\" + '\n",
      "  '0.060*\"die\" + 0.047*\"patient\" + 0.038*\"miss\" + 0.038*\"marry\" + '\n",
      "  '0.036*\"save\"'),\n",
      " (13,\n",
      "  '0.213*\"know\" + 0.157*\"year\" + 0.122*\"kid\" + 0.086*\"great\" + 0.070*\"health\" '\n",
      "  '+ 0.057*\"tip\" + 0.029*\"benefit\" + 0.029*\"continue\" + 0.026*\"release\" + '\n",
      "  '0.025*\"american\"'),\n",
      " (14,\n",
      "  '0.184*\"say\" + 0.171*\"go\" + 0.101*\"help\" + 0.100*\"use\" + 0.087*\"really\" + '\n",
      "  '0.079*\"change\" + 0.064*\"today\" + 0.038*\"moment\" + 0.030*\"actress\" + '\n",
      "  '0.027*\"pick\"'),\n",
      " (15,\n",
      "  '0.258*\"get\" + 0.130*\"world\" + 0.082*\"man\" + 0.077*\"mean\" + 0.061*\"long\" + '\n",
      "  '0.057*\"end\" + 0.044*\"age\" + 0.040*\"lose\" + 0.036*\"together\" + 0.032*\"care\"'),\n",
      " (16,\n",
      "  '0.268*\"new\" + 0.247*\"week\" + 0.192*\"need\" + 0.090*\"watch\" + 0.079*\"girl\" + '\n",
      "  '0.018*\"join\" + 0.011*\"writer\" + 0.007*\"lip\" + 0.006*\"bite\" + 0.000*\"good\"'),\n",
      " (17,\n",
      "  '0.148*\"show\" + 0.144*\"woman\" + 0.084*\"family\" + 0.073*\"never\" + '\n",
      "  '0.069*\"back\" + 0.062*\"put\" + 0.055*\"bring\" + 0.048*\"stop\" + 0.038*\"country\" '\n",
      "  '+ 0.034*\"other\"'),\n",
      " (18,\n",
      "  '0.200*\"still\" + 0.142*\"sure\" + 0.120*\"happen\" + 0.090*\"head\" + 0.060*\"deal\" '\n",
      "  '+ 0.051*\"present\" + 0.043*\"year_old\" + 0.041*\"throw\" + 0.025*\"attend\" + '\n",
      "  '0.021*\"ground\"'),\n",
      " (19,\n",
      "  '0.409*\"love\" + 0.179*\"thing\" + 0.143*\"much\" + 0.134*\"right\" + 0.031*\"bit\" + '\n",
      "  '0.010*\"warn\" + 0.000*\"time\" + 0.000*\"good\" + 0.000*\"find\" + 0.000*\"home\"')]\n"
     ]
    }
   ],
   "source": [
    "# Print the Keyword in the 10 topics\n",
    "pprint(lda_model.print_topics())\n",
    "doc_lda = lda_model[corpus]"
   ]
  },
  {
   "cell_type": "code",
   "execution_count": 70,
   "metadata": {},
   "outputs": [
    {
     "name": "stdout",
     "output_type": "stream",
     "text": [
      "\n",
      "Perplexity:  -22.93658993405915\n",
      "\n",
      "Coherence Score:  0.22274725500480863\n"
     ]
    }
   ],
   "source": [
    "# Compute Perplexity\n",
    "print('\\nPerplexity: ', lda_model.log_perplexity(corpus))  # a measure of how good the model is. lower the better.\n",
    "\n",
    "# Compute Coherence Score\n",
    "coherence_model_lda = CoherenceModel(model=lda_model, texts=data_lemmatized, dictionary=id2word, coherence='c_v')\n",
    "coherence_lda = coherence_model_lda.get_coherence()\n",
    "print('\\nCoherence Score: ', coherence_lda)"
   ]
  },
  {
   "cell_type": "code",
   "execution_count": 19,
   "metadata": {
    "collapsed": true
   },
   "outputs": [
    {
     "name": "stderr",
     "output_type": "stream",
     "text": [
      "C:\\Users\\Lora\\Anaconda3\\lib\\site-packages\\pyLDAvis\\_prepare.py:257: FutureWarning: Sorting because non-concatenation axis is not aligned. A future version\n",
      "of pandas will change to not sort by default.\n",
      "\n",
      "To accept the future behavior, pass 'sort=False'.\n",
      "\n",
      "To retain the current behavior and silence the warning, pass 'sort=True'.\n",
      "\n",
      "  return pd.concat([default_term_info] + list(topic_dfs))\n"
     ]
    },
    {
     "data": {
      "text/html": [
       "\n",
       "<link rel=\"stylesheet\" type=\"text/css\" href=\"https://cdn.rawgit.com/bmabey/pyLDAvis/files/ldavis.v1.0.0.css\">\n",
       "\n",
       "\n",
       "<div id=\"ldavis_el2370428336099308161138520497\"></div>\n",
       "<script type=\"text/javascript\">\n",
       "\n",
       "var ldavis_el2370428336099308161138520497_data = {\"mdsDat\": {\"x\": [-0.3908526230411046, -0.12681673955188996, -0.06654725418617768, -0.04267964805271087, 0.011233703370569767, -0.0171201821396238, -0.15639869017685326, 0.0006719236310359825, 0.04342066378950561, 0.026780484293086406, 0.02407092522957836, 0.020210457976328186, 0.03920657838852502, 0.0833630953522893, 0.030591389447178832, 0.04206397658557395, 0.10330255326261903, 0.09295602892886011, 0.14054431865601705, 0.1419990382371928], \"y\": [0.2585799149920366, -0.16803867620616114, -0.04707688819006342, -0.023898205419068338, 0.009209685805100985, -0.005815285778029652, -0.32641951752170834, 0.004051462677630659, 0.021540783581365266, 0.015514047091726676, 0.01450776190823082, 0.012937822671972452, 0.01997876260533229, 0.031786235791369605, 0.017003312489010554, 0.020944851772770567, 0.03525282297529246, 0.03358340135871714, 0.03820380082969011, 0.03815390656478506], \"topics\": [1, 2, 3, 4, 5, 6, 7, 8, 9, 10, 11, 12, 13, 14, 15, 16, 17, 18, 19, 20], \"cluster\": [1, 1, 1, 1, 1, 1, 1, 1, 1, 1, 1, 1, 1, 1, 1, 1, 1, 1, 1, 1], \"Freq\": [13.563423156738281, 8.516626358032227, 7.828287601470947, 6.724010944366455, 6.238542079925537, 6.051124572753906, 5.652235984802246, 5.622687339782715, 4.83964204788208, 4.684765338897705, 4.589425563812256, 4.44737434387207, 3.7697877883911133, 3.721656322479248, 3.3438150882720947, 2.884613275527954, 2.6794965267181396, 2.3902432918548584, 1.3635786771774292, 1.088673710823059]}, \"tinfo\": {\"Category\": [\"Default\", \"Default\", \"Default\", \"Default\", \"Default\", \"Default\", \"Default\", \"Default\", \"Default\", \"Default\", \"Default\", \"Default\", \"Default\", \"Default\", \"Default\", \"Default\", \"Default\", \"Default\", \"Default\", \"Default\", \"Default\", \"Default\", \"Default\", \"Default\", \"Default\", \"Default\", \"Default\", \"Default\", \"Default\", \"Default\", \"Topic1\", \"Topic1\", \"Topic1\", \"Topic1\", \"Topic1\", \"Topic1\", \"Topic1\", \"Topic1\", \"Topic1\", \"Topic1\", \"Topic1\", \"Topic1\", \"Topic1\", \"Topic1\", \"Topic1\", \"Topic1\", \"Topic1\", \"Topic1\", \"Topic1\", \"Topic1\", \"Topic1\", \"Topic1\", \"Topic1\", \"Topic1\", \"Topic1\", \"Topic1\", \"Topic1\", \"Topic1\", \"Topic1\", \"Topic1\", \"Topic1\", \"Topic1\", \"Topic1\", \"Topic1\", \"Topic1\", \"Topic2\", \"Topic2\", \"Topic2\", \"Topic2\", \"Topic2\", \"Topic2\", \"Topic2\", \"Topic2\", \"Topic2\", \"Topic2\", \"Topic2\", \"Topic2\", \"Topic2\", \"Topic2\", \"Topic2\", \"Topic2\", \"Topic2\", \"Topic2\", \"Topic2\", \"Topic2\", \"Topic2\", \"Topic2\", \"Topic2\", \"Topic2\", \"Topic2\", \"Topic2\", \"Topic2\", \"Topic2\", \"Topic2\", \"Topic2\", \"Topic2\", \"Topic3\", \"Topic3\", \"Topic3\", \"Topic3\", \"Topic3\", \"Topic3\", \"Topic3\", \"Topic3\", \"Topic3\", \"Topic3\", \"Topic3\", \"Topic3\", \"Topic3\", \"Topic3\", \"Topic3\", \"Topic3\", \"Topic3\", \"Topic3\", \"Topic3\", \"Topic3\", \"Topic3\", \"Topic3\", \"Topic3\", \"Topic3\", \"Topic3\", \"Topic3\", \"Topic3\", \"Topic3\", \"Topic3\", \"Topic3\", \"Topic3\", \"Topic4\", \"Topic4\", \"Topic4\", \"Topic4\", \"Topic4\", \"Topic4\", \"Topic4\", \"Topic4\", \"Topic4\", \"Topic4\", \"Topic4\", \"Topic4\", \"Topic4\", \"Topic4\", \"Topic4\", \"Topic4\", \"Topic4\", \"Topic4\", \"Topic4\", \"Topic4\", \"Topic4\", \"Topic4\", \"Topic4\", \"Topic4\", \"Topic4\", \"Topic4\", \"Topic4\", \"Topic4\", \"Topic4\", \"Topic4\", \"Topic4\", \"Topic4\", \"Topic4\", \"Topic4\", \"Topic5\", \"Topic5\", \"Topic5\", \"Topic5\", \"Topic5\", \"Topic5\", \"Topic5\", \"Topic5\", \"Topic5\", \"Topic5\", \"Topic5\", \"Topic5\", \"Topic5\", \"Topic5\", \"Topic5\", \"Topic5\", \"Topic5\", \"Topic5\", \"Topic5\", \"Topic5\", \"Topic5\", \"Topic5\", \"Topic5\", \"Topic5\", \"Topic5\", \"Topic5\", \"Topic5\", \"Topic5\", \"Topic5\", \"Topic5\", \"Topic5\", \"Topic5\", \"Topic5\", \"Topic5\", \"Topic6\", \"Topic6\", \"Topic6\", \"Topic6\", \"Topic6\", \"Topic6\", \"Topic6\", \"Topic6\", \"Topic6\", \"Topic6\", \"Topic6\", \"Topic6\", \"Topic6\", \"Topic6\", \"Topic6\", \"Topic6\", \"Topic6\", \"Topic6\", \"Topic6\", \"Topic6\", \"Topic6\", \"Topic6\", \"Topic6\", \"Topic6\", \"Topic6\", \"Topic6\", \"Topic6\", \"Topic6\", \"Topic6\", \"Topic6\", \"Topic6\", \"Topic6\", \"Topic6\", \"Topic6\", \"Topic6\", \"Topic6\", \"Topic6\", \"Topic6\", \"Topic7\", \"Topic7\", \"Topic7\", \"Topic7\", \"Topic7\", \"Topic7\", \"Topic7\", \"Topic7\", \"Topic7\", \"Topic7\", \"Topic7\", \"Topic7\", \"Topic7\", \"Topic7\", \"Topic7\", \"Topic7\", \"Topic7\", \"Topic7\", \"Topic7\", \"Topic7\", \"Topic7\", \"Topic7\", \"Topic7\", \"Topic7\", \"Topic7\", \"Topic7\", \"Topic7\", \"Topic7\", \"Topic7\", \"Topic7\", \"Topic7\", \"Topic7\", \"Topic7\", \"Topic7\", \"Topic7\", \"Topic7\", \"Topic7\", \"Topic7\", \"Topic7\", \"Topic7\", \"Topic7\", \"Topic7\", \"Topic7\", \"Topic7\", \"Topic7\", \"Topic7\", \"Topic7\", \"Topic7\", \"Topic7\", \"Topic7\", \"Topic7\", \"Topic7\", \"Topic7\", \"Topic7\", \"Topic7\", \"Topic8\", \"Topic8\", \"Topic8\", \"Topic8\", \"Topic8\", \"Topic8\", \"Topic8\", \"Topic8\", \"Topic8\", \"Topic8\", \"Topic8\", \"Topic8\", \"Topic8\", \"Topic8\", \"Topic8\", \"Topic8\", \"Topic8\", \"Topic8\", \"Topic8\", \"Topic8\", \"Topic8\", \"Topic8\", \"Topic8\", \"Topic8\", \"Topic8\", \"Topic8\", \"Topic8\", \"Topic8\", \"Topic8\", \"Topic8\", \"Topic8\", \"Topic8\", \"Topic8\", \"Topic8\", \"Topic8\", \"Topic8\", \"Topic8\", \"Topic8\", \"Topic8\", \"Topic8\", \"Topic8\", \"Topic8\", \"Topic9\", \"Topic9\", \"Topic9\", \"Topic9\", \"Topic9\", \"Topic9\", \"Topic9\", \"Topic9\", \"Topic9\", \"Topic9\", \"Topic9\", \"Topic9\", \"Topic9\", \"Topic9\", \"Topic9\", \"Topic9\", \"Topic9\", \"Topic9\", \"Topic9\", \"Topic9\", \"Topic9\", \"Topic9\", \"Topic9\", \"Topic9\", \"Topic9\", \"Topic9\", \"Topic9\", \"Topic9\", \"Topic9\", \"Topic9\", \"Topic9\", \"Topic9\", \"Topic9\", \"Topic9\", \"Topic9\", \"Topic9\", \"Topic10\", \"Topic10\", \"Topic10\", \"Topic10\", \"Topic10\", \"Topic10\", \"Topic10\", \"Topic10\", \"Topic10\", \"Topic10\", \"Topic10\", \"Topic10\", \"Topic10\", \"Topic10\", \"Topic10\", \"Topic10\", \"Topic10\", \"Topic10\", \"Topic10\", \"Topic10\", \"Topic10\", \"Topic10\", \"Topic10\", \"Topic10\", \"Topic10\", \"Topic10\", \"Topic10\", \"Topic10\", \"Topic10\", \"Topic10\", \"Topic10\", \"Topic10\", \"Topic10\", \"Topic10\", \"Topic10\", \"Topic10\", \"Topic10\", \"Topic10\", \"Topic10\", \"Topic10\", \"Topic10\", \"Topic10\", \"Topic10\", \"Topic10\", \"Topic10\", \"Topic10\", \"Topic10\", \"Topic10\", \"Topic10\", \"Topic10\", \"Topic11\", \"Topic11\", \"Topic11\", \"Topic11\", \"Topic11\", \"Topic11\", \"Topic11\", \"Topic11\", \"Topic11\", \"Topic11\", \"Topic11\", \"Topic11\", \"Topic11\", \"Topic11\", \"Topic11\", \"Topic11\", \"Topic11\", \"Topic11\", \"Topic11\", \"Topic11\", \"Topic11\", \"Topic11\", \"Topic11\", \"Topic11\", \"Topic11\", \"Topic11\", \"Topic11\", \"Topic11\", \"Topic11\", \"Topic11\", \"Topic11\", \"Topic11\", \"Topic11\", \"Topic11\", \"Topic11\", \"Topic11\", \"Topic11\", \"Topic11\", \"Topic11\", \"Topic11\", \"Topic11\", \"Topic11\", \"Topic11\", \"Topic11\", \"Topic11\", \"Topic11\", \"Topic11\", \"Topic11\", \"Topic11\", \"Topic11\", \"Topic11\", \"Topic11\", \"Topic11\", \"Topic12\", \"Topic12\", \"Topic12\", \"Topic12\", \"Topic12\", \"Topic12\", \"Topic12\", \"Topic12\", \"Topic12\", \"Topic12\", \"Topic12\", \"Topic12\", \"Topic12\", \"Topic12\", \"Topic12\", \"Topic12\", \"Topic12\", \"Topic12\", \"Topic12\", \"Topic12\", \"Topic12\", \"Topic12\", \"Topic12\", \"Topic12\", \"Topic12\", \"Topic12\", \"Topic12\", \"Topic12\", \"Topic12\", \"Topic12\", \"Topic12\", \"Topic12\", \"Topic12\", \"Topic12\", \"Topic12\", \"Topic12\", \"Topic12\", \"Topic12\", \"Topic12\", \"Topic12\", \"Topic12\", \"Topic12\", \"Topic12\", \"Topic12\", \"Topic12\", \"Topic12\", \"Topic12\", \"Topic12\", \"Topic12\", \"Topic12\", \"Topic12\", \"Topic13\", \"Topic13\", \"Topic13\", \"Topic13\", \"Topic13\", \"Topic13\", \"Topic13\", \"Topic13\", \"Topic13\", \"Topic13\", \"Topic13\", \"Topic13\", \"Topic13\", \"Topic13\", \"Topic13\", \"Topic13\", \"Topic13\", \"Topic13\", \"Topic13\", \"Topic13\", \"Topic13\", \"Topic13\", \"Topic13\", \"Topic13\", \"Topic13\", \"Topic13\", \"Topic13\", \"Topic13\", \"Topic13\", \"Topic13\", \"Topic13\", \"Topic13\", \"Topic13\", \"Topic13\", \"Topic13\", \"Topic13\", \"Topic13\", \"Topic13\", \"Topic13\", \"Topic13\", \"Topic13\", \"Topic13\", \"Topic13\", \"Topic13\", \"Topic13\", \"Topic13\", \"Topic13\", \"Topic13\", \"Topic13\", \"Topic14\", \"Topic14\", \"Topic14\", \"Topic14\", \"Topic14\", \"Topic14\", \"Topic14\", \"Topic14\", \"Topic14\", \"Topic14\", \"Topic14\", \"Topic14\", \"Topic14\", \"Topic14\", \"Topic14\", \"Topic14\", \"Topic14\", \"Topic14\", \"Topic14\", \"Topic14\", \"Topic14\", \"Topic14\", \"Topic14\", \"Topic14\", \"Topic14\", \"Topic14\", \"Topic14\", \"Topic14\", \"Topic14\", \"Topic14\", \"Topic14\", \"Topic14\", \"Topic14\", \"Topic14\", \"Topic14\", \"Topic14\", \"Topic14\", \"Topic14\", \"Topic14\", \"Topic14\", \"Topic14\", \"Topic14\", \"Topic14\", \"Topic14\", \"Topic15\", \"Topic15\", \"Topic15\", \"Topic15\", \"Topic15\", \"Topic15\", \"Topic15\", \"Topic15\", \"Topic15\", \"Topic15\", \"Topic15\", \"Topic15\", \"Topic15\", \"Topic15\", \"Topic15\", \"Topic15\", \"Topic15\", \"Topic15\", \"Topic15\", \"Topic15\", \"Topic15\", \"Topic15\", \"Topic15\", \"Topic15\", \"Topic15\", \"Topic15\", \"Topic15\", \"Topic15\", \"Topic15\", \"Topic15\", \"Topic15\", \"Topic15\", \"Topic15\", \"Topic15\", \"Topic15\", \"Topic15\", \"Topic15\", \"Topic15\", \"Topic15\", \"Topic15\", \"Topic15\", \"Topic15\", \"Topic16\", \"Topic16\", \"Topic16\", \"Topic16\", \"Topic16\", \"Topic16\", \"Topic16\", \"Topic16\", \"Topic16\", \"Topic16\", \"Topic16\", \"Topic16\", \"Topic16\", \"Topic16\", \"Topic16\", \"Topic16\", \"Topic16\", \"Topic16\", \"Topic16\", \"Topic16\", \"Topic16\", \"Topic16\", \"Topic16\", \"Topic16\", \"Topic16\", \"Topic16\", \"Topic16\", \"Topic16\", \"Topic16\", \"Topic16\", \"Topic16\", \"Topic16\", \"Topic16\", \"Topic16\", \"Topic16\", \"Topic16\", \"Topic16\", \"Topic16\", \"Topic16\", \"Topic16\", \"Topic16\", \"Topic16\", \"Topic16\", \"Topic16\", \"Topic16\", \"Topic16\", \"Topic16\", \"Topic16\", \"Topic17\", \"Topic17\", \"Topic17\", \"Topic17\", \"Topic17\", \"Topic17\", \"Topic17\", \"Topic17\", \"Topic17\", \"Topic17\", \"Topic17\", \"Topic17\", \"Topic17\", \"Topic17\", \"Topic17\", \"Topic17\", \"Topic17\", \"Topic17\", \"Topic17\", \"Topic17\", \"Topic17\", \"Topic17\", \"Topic17\", \"Topic17\", \"Topic17\", \"Topic17\", \"Topic17\", \"Topic17\", \"Topic17\", \"Topic17\", \"Topic17\", \"Topic17\", \"Topic17\", \"Topic17\", \"Topic17\", \"Topic17\", \"Topic17\", \"Topic17\", \"Topic17\", \"Topic17\", \"Topic17\", \"Topic17\", \"Topic17\", \"Topic17\", \"Topic17\", \"Topic17\", \"Topic17\", \"Topic17\", \"Topic17\", \"Topic17\", \"Topic17\", \"Topic17\", \"Topic17\", \"Topic17\", \"Topic17\", \"Topic17\", \"Topic17\", \"Topic17\", \"Topic17\", \"Topic18\", \"Topic18\", \"Topic18\", \"Topic18\", \"Topic18\", \"Topic18\", \"Topic18\", \"Topic18\", \"Topic18\", \"Topic18\", \"Topic18\", \"Topic18\", \"Topic18\", \"Topic18\", \"Topic18\", \"Topic18\", \"Topic18\", \"Topic18\", \"Topic18\", \"Topic18\", \"Topic18\", \"Topic18\", \"Topic18\", \"Topic18\", \"Topic18\", \"Topic18\", \"Topic18\", \"Topic18\", \"Topic18\", \"Topic18\", \"Topic18\", \"Topic18\", \"Topic18\", \"Topic18\", \"Topic18\", \"Topic18\", \"Topic18\", \"Topic18\", \"Topic18\", \"Topic18\", \"Topic18\", \"Topic18\", \"Topic18\", \"Topic18\", \"Topic18\", \"Topic18\", \"Topic18\", \"Topic18\", \"Topic18\", \"Topic18\", \"Topic19\", \"Topic19\", \"Topic19\", \"Topic19\", \"Topic19\", \"Topic19\", \"Topic19\", \"Topic19\", \"Topic19\", \"Topic19\", \"Topic19\", \"Topic19\", \"Topic19\", \"Topic19\", \"Topic19\", \"Topic19\", \"Topic19\", \"Topic19\", \"Topic19\", \"Topic19\", \"Topic19\", \"Topic19\", \"Topic19\", \"Topic19\", \"Topic19\", \"Topic19\", \"Topic19\", \"Topic19\", \"Topic19\", \"Topic19\", \"Topic19\", \"Topic19\", \"Topic19\", \"Topic19\", \"Topic19\", \"Topic19\", \"Topic19\", \"Topic19\", \"Topic19\", \"Topic19\", \"Topic19\", \"Topic19\", \"Topic19\", \"Topic19\", \"Topic20\", \"Topic20\", \"Topic20\", \"Topic20\", \"Topic20\", \"Topic20\", \"Topic20\", \"Topic20\", \"Topic20\", \"Topic20\", \"Topic20\", \"Topic20\", \"Topic20\", \"Topic20\", \"Topic20\", \"Topic20\", \"Topic20\", \"Topic20\", \"Topic20\", \"Topic20\", \"Topic20\", \"Topic20\", \"Topic20\", \"Topic20\", \"Topic20\", \"Topic20\", \"Topic20\", \"Topic20\", \"Topic20\", \"Topic20\", \"Topic20\", \"Topic20\", \"Topic20\", \"Topic20\", \"Topic20\", \"Topic20\", \"Topic20\", \"Topic20\", \"Topic20\", \"Topic20\", \"Topic20\", \"Topic20\", \"Topic20\", \"Topic20\", \"Topic20\", \"Topic20\", \"Topic20\", \"Topic20\", \"Topic20\", \"Topic20\", \"Topic20\"], \"Freq\": [87488.0, 26060.0, 21078.0, 23099.0, 21797.0, 15270.0, 14112.0, 15352.0, 11733.0, 11921.0, 12616.0, 10134.0, 10323.0, 11013.0, 9601.0, 9688.0, 9377.0, 8677.0, 9236.0, 9985.0, 7969.0, 6371.0, 8918.0, 6435.0, 6779.0, 6592.0, 6138.0, 6309.0, 3857.0, 5665.0, 87484.7109375, 3405.303955078125, 2540.69775390625, 1730.8292236328125, 1423.00439453125, 1192.0736083984375, 935.6934204101562, 722.1478881835938, 418.9601745605469, 291.41839599609375, 287.7004089355469, 211.63473510742188, 0.1267663687467575, 0.12657882273197174, 0.1264754831790924, 0.12649483978748322, 0.12647099792957306, 0.12645448744297028, 0.12649771571159363, 0.12644213438034058, 0.1264386773109436, 0.12641556560993195, 0.12639817595481873, 0.1263740062713623, 0.12639841437339783, 0.12640181183815002, 0.12638406455516815, 0.1263788342475891, 0.12639279663562775, 0.12646791338920593, 0.12641292810440063, 0.12644149363040924, 0.12641578912734985, 0.1263992041349411, 0.12640343606472015, 23095.888671875, 9982.189453125, 8915.4599609375, 6590.94140625, 5789.7822265625, 2202.760986328125, 1371.625, 1054.26806640625, 606.4563598632812, 505.82049560546875, 275.0842590332031, 0.1834404617547989, 0.18305329978466034, 0.18305809795856476, 0.18302138149738312, 0.18302321434020996, 0.18300436437129974, 0.18288184702396393, 0.1829172521829605, 0.1828453689813614, 0.18282441794872284, 0.18285128474235535, 0.1828567087650299, 0.18283404409885406, 0.18281957507133484, 0.18285079300403595, 0.182892307639122, 0.1828145682811737, 0.18278485536575317, 0.18281136453151703, 0.18279218673706055, 21794.4140625, 5008.505859375, 4830.5908203125, 3692.024169921875, 3362.326416015625, 2253.09619140625, 2148.69482421875, 1827.3916015625, 1815.4803466796875, 1462.68408203125, 1331.7677001953125, 1237.7425537109375, 667.66552734375, 627.4139404296875, 557.6884765625, 441.6207275390625, 400.4749755859375, 332.3990173339844, 230.83267211914062, 194.08380126953125, 95.29776000976562, 88.80770874023438, 29.236661911010742, 23.220916748046875, 1.0879679918289185, 0.20755499601364136, 0.2072359323501587, 0.20719709992408752, 0.2070961594581604, 0.20712848007678986, 0.20715881884098053, 12613.353515625, 9233.541015625, 6305.85107421875, 5301.40771484375, 2695.23193359375, 2131.174560546875, 2070.805419921875, 2001.4842529296875, 1236.583984375, 896.45458984375, 751.8916625976562, 474.2890319824219, 388.1351013183594, 99.29336547851562, 73.31657409667969, 0.19666315615177155, 0.1963825225830078, 0.19633281230926514, 0.1962967962026596, 0.19616934657096863, 0.19625616073608398, 0.19622227549552917, 0.19621777534484863, 0.196182981133461, 0.1962549239397049, 0.19617846608161926, 0.19625036418437958, 0.19609130918979645, 0.19615060091018677, 0.19613313674926758, 0.19619470834732056, 0.19616830348968506, 0.19618573784828186, 0.19617903232574463, 9685.5947265625, 6776.50634765625, 6135.31298828125, 3355.081787109375, 3208.935302734375, 2969.768798828125, 2753.210693359375, 2405.913818359375, 1409.929443359375, 1128.0177001953125, 631.5948486328125, 368.0073547363281, 301.6659240722656, 269.3056945800781, 223.3285675048828, 0.23084363341331482, 0.23049244284629822, 0.2304389923810959, 0.2304031103849411, 0.23036153614521027, 0.23036442697048187, 0.23044957220554352, 0.23041658103466034, 0.23034146428108215, 0.2303190678358078, 0.23038245737552643, 0.23029549419879913, 0.2302905023097992, 0.23029135167598724, 0.23028089106082916, 0.23033183813095093, 0.23032629489898682, 0.23030154407024384, 0.23029856383800507, 15349.6884765625, 9374.181640625, 6589.4853515625, 3532.85791015625, 2631.158447265625, 1946.5433349609375, 1225.9390869140625, 430.3901672363281, 0.1973176747560501, 0.1975409984588623, 0.19727669656276703, 0.19731733202934265, 0.1971389800310135, 0.19711707532405853, 0.19716759026050568, 0.19731292128562927, 0.19719335436820984, 0.19728226959705353, 0.19716930389404297, 0.1971445381641388, 0.1972329020500183, 0.1972610056400299, 0.19721218943595886, 0.1971331536769867, 0.19721932709217072, 0.19712750613689423, 0.19717273116111755, 0.19709593057632446, 0.19719207286834717, 0.19716259837150574, 0.19718970358371735, 0.19721901416778564, 0.19721300899982452, 0.19719098508358002, 0.19717025756835938, 0.19716934859752655, 0.19718129932880402, 0.19716975092887878, 26057.234375, 11010.259765625, 1777.2017822265625, 768.8052368164062, 419.7598876953125, 256.38189697265625, 89.26197052001953, 0.11022966355085373, 0.11040335893630981, 0.11016933619976044, 0.11015917360782623, 0.11017270386219025, 0.11020656675100327, 0.11015026271343231, 0.11015745252370834, 0.11015501618385315, 0.11016121506690979, 0.11015194654464722, 0.11015737056732178, 0.11015374213457108, 0.11015086621046066, 0.11014995723962784, 0.1101980060338974, 0.11015059798955917, 0.11019120365381241, 0.11014444380998611, 0.11014465987682343, 0.1101507917046547, 0.11016255617141724, 0.11015121638774872, 0.1101604476571083, 0.11016373336315155, 0.11015468835830688, 0.1102595329284668, 0.11016825586557388, 0.11023518443107605, 0.11021831631660461, 0.11020562052726746, 0.11018689721822739, 0.1102122962474823, 0.11017188429832458, 0.11019780486822128, 0.11022771149873734, 0.11021667718887329, 0.1101839542388916, 0.1101897656917572, 0.1101711094379425, 0.1102231815457344, 0.11021602153778076, 0.11018622666597366, 0.11019890755414963, 0.11019473522901535, 0.11019609868526459, 0.11018279939889908, 0.11018440127372742, 21075.462890625, 5662.373046875, 3420.542236328125, 2606.74658203125, 2134.17138671875, 1363.5079345703125, 783.5499267578125, 714.6817016601562, 0.1985071897506714, 0.19847829639911652, 0.19838491082191467, 0.19868741929531097, 0.19839061796665192, 0.1983141005039215, 0.1983308047056198, 0.1983879655599594, 0.19825616478919983, 0.19834718108177185, 0.19837413728237152, 0.19843199849128723, 0.19827280938625336, 0.1982586830854416, 0.1982739269733429, 0.19824957847595215, 0.1982557773590088, 0.19835226237773895, 0.19828656315803528, 0.1982644498348236, 0.19827555119991302, 0.1983354538679123, 0.19834958016872406, 0.19844044744968414, 0.19839195907115936, 0.19832293689250946, 0.1983250081539154, 0.19831912219524384, 0.1983560472726822, 0.19837555289268494, 0.19831791520118713, 0.1983325332403183, 0.19834834337234497, 0.19832557439804077, 8673.83984375, 3353.916259765625, 3262.71435546875, 2582.764892578125, 2200.755615234375, 1957.8037109375, 1952.4078369140625, 1937.840087890625, 832.809814453125, 718.657958984375, 563.6142578125, 523.5855712890625, 513.3505249023438, 505.2328186035156, 500.5018005371094, 482.32916259765625, 354.6240539550781, 209.44216918945312, 195.84046936035156, 82.29716491699219, 14.208911895751953, 12.44601058959961, 0.21035435795783997, 0.21029768884181976, 0.21040934324264526, 0.21024276316165924, 0.21023280918598175, 0.21027019619941711, 0.2104295939207077, 0.21023927628993988, 0.21064099669456482, 0.21035034954547882, 0.2103220671415329, 0.21038180589675903, 0.21037553250789642, 0.2103773057460785, 11918.0234375, 9598.6708984375, 3870.01904296875, 2271.6572265625, 1600.8828125, 690.9424438476562, 519.8208618164062, 386.4687805175781, 0.18758723139762878, 0.18758524954319, 0.1875450164079666, 0.18749865889549255, 0.18748816847801208, 0.1874820739030838, 0.1875888705253601, 0.18750177323818207, 0.1874801218509674, 0.1874801367521286, 0.18750587105751038, 0.18750043213367462, 0.18749073147773743, 0.18750086426734924, 0.18747684359550476, 0.18746832013130188, 0.18749776482582092, 0.18749620020389557, 0.18745623528957367, 0.1874573677778244, 0.18755008280277252, 0.18746377527713776, 0.18764141201972961, 0.18754145503044128, 0.18748068809509277, 0.18760956823825836, 0.18758559226989746, 0.18780343234539032, 0.18753640353679657, 0.1875603348016739, 0.18757672607898712, 0.18753863871097565, 0.187617689371109, 0.18753913044929504, 0.1876058578491211, 0.18754620850086212, 0.18758726119995117, 0.1875549703836441, 0.18754008412361145, 0.187557652592659, 0.1875622421503067, 0.18754257261753082, 10319.8671875, 7966.35498046875, 3363.83203125, 2991.830322265625, 2092.81689453125, 1967.2366943359375, 689.6414184570312, 564.7603759765625, 226.1262969970703, 98.09526824951172, 24.255619049072266, 0.18089623749256134, 0.18091771006584167, 0.18087662756443024, 0.18087774515151978, 0.18093006312847137, 0.18091559410095215, 0.180883526802063, 0.18086214363574982, 0.1808636337518692, 0.18086227774620056, 0.1810590624809265, 0.18086448311805725, 0.18086008727550507, 0.18086278438568115, 0.1809006631374359, 0.1808634251356125, 0.1808934360742569, 0.1808539181947708, 0.18085232377052307, 0.18089357018470764, 0.18093691766262054, 0.18089362978935242, 0.1809755116701126, 0.1809506118297577, 0.18096321821212769, 0.1809161752462387, 0.18102209270000458, 0.1808931976556778, 0.18095917999744415, 0.18112485110759735, 0.1809205710887909, 0.1809244304895401, 0.18096382915973663, 0.18097427487373352, 0.18093439936637878, 0.18096397817134857, 0.18096692860126495, 0.18093286454677582, 0.18094052374362946, 0.18092645704746246, 0.18092350661754608, 0.1809261590242386, 15267.171875, 3900.843505859375, 3160.089111328125, 2780.93212890625, 2026.998291015625, 731.6949462890625, 552.2239379882812, 538.7816772460938, 495.1885681152344, 0.17219917476177216, 0.1721242517232895, 0.17206180095672607, 0.17204968631267548, 0.17205069959163666, 0.17205041646957397, 0.17205895483493805, 0.17204393446445465, 0.17205576598644257, 0.17203982174396515, 0.1720406711101532, 0.1720481961965561, 0.17203722894191742, 0.17204205691814423, 0.17203138768672943, 0.17204295098781586, 0.1720321774482727, 0.17203231155872345, 0.172029048204422, 0.1720290333032608, 0.17202913761138916, 0.17221519351005554, 0.17219561338424683, 0.1721183806657791, 0.17209242284297943, 0.17214953899383545, 0.17211006581783295, 0.17208945751190186, 0.17210200428962708, 0.17210951447486877, 0.17219871282577515, 0.17217613756656647, 0.17211169004440308, 0.17216047644615173, 0.17213420569896698, 0.17229142785072327, 0.17212563753128052, 0.17213095724582672, 0.17211350798606873, 0.17212462425231934, 0.17211158573627472, 0.17212693393230438, 14109.306640625, 4619.0341796875, 2317.885498046875, 1079.6392822265625, 776.5045776367188, 535.921630859375, 412.1162109375, 363.6484069824219, 339.27789306640625, 0.16110442578792572, 0.16107667982578278, 0.1610657274723053, 0.1610931009054184, 0.16112136840820312, 0.16105866432189941, 0.1611732542514801, 0.16106516122817993, 0.16105082631111145, 0.1610596626996994, 0.16105040907859802, 0.16105318069458008, 0.1610715538263321, 0.16104371845722198, 0.16104698181152344, 0.16103999316692352, 0.16103732585906982, 0.16105158627033234, 0.16104881465435028, 0.1610327661037445, 0.1610356718301773, 0.16103942692279816, 0.16113276779651642, 0.1610579490661621, 0.1610928177833557, 0.16108952462673187, 0.16112034022808075, 0.16112695634365082, 0.16106636822223663, 0.16112302243709564, 0.16118961572647095, 0.16108494997024536, 0.16108854115009308, 0.16109323501586914, 0.16108331084251404, 0.1610892117023468, 0.16108249127864838, 0.16108568012714386, 0.16107705235481262, 0.16107654571533203, 10131.265625, 3619.8603515625, 2719.0244140625, 1645.44189453125, 1452.397216796875, 568.1145629882812, 539.71044921875, 479.3187561035156, 455.8331298828125, 411.0322570800781, 376.8722229003906, 282.8966369628906, 172.59750366210938, 0.21031948924064636, 0.21009841561317444, 0.21006833016872406, 0.2100723385810852, 0.21006426215171814, 0.2100696712732315, 0.21005362272262573, 0.2100542187690735, 0.21005500853061676, 0.21026086807250977, 0.21007443964481354, 0.2100527435541153, 0.21004951000213623, 0.21005846560001373, 0.21005374193191528, 0.21004892885684967, 0.2101287990808487, 0.21012276411056519, 0.21043817698955536, 0.21013595163822174, 0.21017122268676758, 0.21015028655529022, 0.21011899411678314, 0.21019212901592255, 0.21011243760585785, 0.2101377248764038, 0.21015265583992004, 0.21016770601272583, 0.2101200968027115, 0.21011430025100708, 0.21013221144676208, 6432.5302734375, 4355.3466796875, 3443.352294921875, 3225.142578125, 1943.584228515625, 896.5813598632812, 792.7882080078125, 351.82623291015625, 227.71484375, 120.60192108154297, 104.32478332519531, 66.47433471679688, 0.1363287717103958, 0.13623769581317902, 0.13625293970108032, 0.13624726235866547, 0.13622596859931946, 0.13648055493831635, 0.13625523447990417, 0.13619598746299744, 0.13620726764202118, 0.1361987590789795, 0.13618113100528717, 0.13619086146354675, 0.13620533049106598, 0.13618242740631104, 0.1362033486366272, 0.1361759454011917, 0.13617712259292603, 0.13618203997612, 0.13624796271324158, 0.13621200621128082, 0.13625383377075195, 0.13621047139167786, 0.1362006813287735, 0.13624337315559387, 0.13623912632465363, 0.13621994853019714, 0.13622987270355225, 0.13621748983860016, 0.13621175289154053, 0.13621021807193756, 11730.2998046875, 2201.159912109375, 1458.5552978515625, 1212.275390625, 553.9324951171875, 553.204345703125, 381.602783203125, 314.4660949707031, 245.4013214111328, 52.78337478637695, 34.27423095703125, 0.12512904405593872, 0.12509553134441376, 0.12508760392665863, 0.12512168288230896, 0.1250881552696228, 0.1250874400138855, 0.12508055567741394, 0.12508083879947662, 0.125080868601799, 0.12507884204387665, 0.12508384883403778, 0.12508533895015717, 0.1250918060541153, 0.1250780075788498, 0.1250768005847931, 0.12508144974708557, 0.1250770092010498, 0.12509286403656006, 0.12507735192775726, 0.12510523200035095, 0.1251002997159958, 0.1251010298728943, 0.12512382864952087, 0.1250966191291809, 0.12511979043483734, 0.125111386179924, 0.12511809170246124, 0.1251283437013626, 0.1251102238893509, 0.12510518729686737, 0.12510795891284943, 0.1251177340745926, 0.12510740756988525, 0.12513962388038635, 0.12510967254638672, 0.12510927021503448, 0.1250983476638794, 3626.976806640625, 2821.073974609375, 2427.941162109375, 2002.880126953125, 1906.638671875, 1901.50537109375, 1000.192138671875, 0.1795056164264679, 0.17950370907783508, 0.179501473903656, 0.17945736646652222, 0.1794874519109726, 0.1794627606868744, 0.17945808172225952, 0.17945517599582672, 0.17945821583271027, 0.17945550382137299, 0.1794585883617401, 0.1794593781232834, 0.1794588714838028, 0.17944689095020294, 0.17944814264774323, 0.179448664188385, 0.17945681512355804, 0.1794465184211731, 0.17945532500743866, 0.179447203874588, 0.17944596707820892, 0.17944607138633728, 0.179449662566185, 0.17947953939437866, 0.17946486175060272, 0.17945094406604767, 0.1794855147600174, 0.17946206033229828, 0.17946094274520874, 0.17945465445518494, 0.17955709993839264, 0.17952747642993927, 0.17945930361747742, 0.17949292063713074, 0.17948195338249207, 0.1795078068971634, 0.17947186529636383, 0.1794864386320114, 0.179513081908226, 0.17948350310325623, 0.17946672439575195, 0.17949527502059937, 0.17946548759937286, 0.17946524918079376, 0.17946940660476685, 0.17948563396930695, 0.17947442829608917, 0.17947937548160553, 0.1794854700565338, 0.17948409914970398, 0.17947565019130707, 0.1795009821653366, 6368.03662109375, 2411.80517578125, 1673.59326171875, 1325.836669921875, 872.65087890625, 681.5496215820312, 369.7142639160156, 356.2315979003906, 223.7259521484375, 99.05815887451172, 0.437926322221756, 0.1458372175693512, 0.1458146721124649, 0.14578387141227722, 0.14578010141849518, 0.14578326046466827, 0.14578033983707428, 0.14578036963939667, 0.14577923715114594, 0.14578428864479065, 0.1457771509885788, 0.14578570425510406, 0.14577369391918182, 0.14579738676548004, 0.14577332139015198, 0.14577332139015198, 0.14577333629131317, 0.14577274024486542, 0.1457730233669281, 0.1457730233669281, 0.1457923799753189, 0.145777627825737, 0.14578254520893097, 0.1458812952041626, 0.1458156406879425, 0.14578787982463837, 0.14579372107982635, 0.1458144634962082, 0.1457965224981308, 0.14584067463874817, 0.1458054780960083, 0.14583849906921387, 0.14581313729286194, 0.14579826593399048, 0.14585842192173004, 0.14579875767230988, 0.14580152928829193, 0.1457972675561905, 0.14581023156642914, 0.14579561352729797, 3854.05859375, 811.1928100585938, 799.2327880859375, 469.4623107910156, 180.1318817138672, 56.41348648071289, 0.15808723866939545, 0.1580861508846283, 0.15810459852218628, 0.15807829797267914, 0.15807682275772095, 0.15807683765888214, 0.15807394683361053, 0.15807047486305237, 0.15807081758975983, 0.15807586908340454, 0.15806859731674194, 0.15806414186954498, 0.1580636352300644, 0.1580636352300644, 0.15806326270103455, 0.15806327760219574, 0.15806305408477783, 0.1580609530210495, 0.1580769419670105, 0.15806037187576294, 0.15806293487548828, 0.15806685388088226, 0.15805983543395996, 0.15806016325950623, 0.15807056427001953, 0.15809139609336853, 0.15807639062404633, 0.15807543694972992, 0.15807832777500153, 0.15818651020526886, 0.158114954829216, 0.15807852149009705, 0.1580686718225479, 0.15807630121707916, 0.15812087059020996, 0.15809200704097748, 0.15808872878551483, 0.1580737829208374, 3559.782958984375, 847.6658935546875, 376.69024658203125, 0.13144950568675995, 0.13144119083881378, 0.13146106898784637, 0.13144364953041077, 0.13143295049667358, 0.13143329322338104, 0.1314348727464676, 0.13143233954906464, 0.13143113255500793, 0.13143113255500793, 0.13143035769462585, 0.13143233954906464, 0.13143113255500793, 0.13143113255500793, 0.13143113255500793, 0.13143233954906464, 0.1314307600259781, 0.1314336359500885, 0.13143329322338104, 0.1314307600259781, 0.13143329322338104, 0.13143418729305267, 0.13143035769462585, 0.13143329322338104, 0.1314270794391632, 0.1314270794391632, 0.13143014907836914, 0.13143420219421387, 0.1314334273338318, 0.1314334273338318, 0.13143329322338104, 0.1314348727464676, 0.13147412240505219, 0.13144351541996002, 0.13143973052501678, 0.13143488764762878, 0.13143488764762878, 0.13145025074481964, 0.1314357966184616, 0.13144215941429138, 0.13143597543239594, 0.13143455982208252, 0.1314350962638855, 0.13143427670001984, 0.1314338892698288, 0.13143396377563477, 0.13143445551395416, 0.13143345713615417], \"Term\": [\"photo\", \"video\", \"make\", \"week\", \"day\", \"get\", \"wedding\", \"new\", \"love\", \"way\", \"show\", \"find\", \"kid\", \"look\", \"life\", \"time\", \"go\", \"help\", \"child\", \"say\", \"parent\", \"talk\", \"woman\", \"poll\", \"know\", \"man\", \"people\", \"year\", \"back\", \"need\", \"photo\", \"give\", \"face\", \"advice\", \"easy\", \"attack\", \"fire\", \"spend\", \"worker\", \"federal\", \"fraud\", \"clear\", \"good\", \"style\", \"fall\", \"fashion\", \"dress\", \"wear\", \"home\", \"world\", \"tip\", \"take\", \"beauty\", \"hotel\", \"model\", \"recipe\", \"star\", \"spring\", \"top\", \"divorce\", \"food\", \"marriage\", \"work\", \"heart\", \"study\", \"week\", \"say\", \"woman\", \"may\", \"could\", \"would\", \"park\", \"amazing\", \"legacy\", \"deliver\", \"suggest\", \"good\", \"fall\", \"fashion\", \"study\", \"style\", \"divorce\", \"work\", \"marriage\", \"heart\", \"bad\", \"food\", \"dress\", \"wear\", \"mom\", \"tip\", \"home\", \"take\", \"health\", \"world\", \"healthy\", \"day\", \"first\", \"want\", \"die\", \"stop\", \"run\", \"teach\", \"dream\", \"job\", \"win\", \"race\", \"ride\", \"indian\", \"bomb\", \"restaurant\", \"female\", \"culture\", \"email\", \"primary\", \"straight\", \"queer\", \"press\", \"attorney\", \"authority\", \"elect\", \"good\", \"style\", \"home\", \"heart\", \"fashion\", \"divorce\", \"show\", \"child\", \"year\", \"use\", \"set\", \"care\", \"pick\", \"boy\", \"kill\", \"member\", \"court\", \"abuse\", \"accuse\", \"advance\", \"proud\", \"good\", \"study\", \"style\", \"divorce\", \"baby\", \"fashion\", \"fall\", \"work\", \"take\", \"marriage\", \"world\", \"home\", \"young\", \"top\", \"girl\", \"tip\", \"heart\", \"dress\", \"food\", \"time\", \"know\", \"people\", \"marry\", \"never\", \"age\", \"visit\", \"watch\", \"arrest\", \"song\", \"victim\", \"fake\", \"protest\", \"injure\", \"shooting\", \"good\", \"divorce\", \"marriage\", \"study\", \"dress\", \"tip\", \"style\", \"home\", \"food\", \"take\", \"fashion\", \"mom\", \"change\", \"recipe\", \"top\", \"fall\", \"work\", \"heart\", \"world\", \"new\", \"go\", \"man\", \"old\", \"favorite\", \"gay\", \"movie\", \"hilarious\", \"marriage\", \"good\", \"study\", \"divorce\", \"green\", \"wrong\", \"spring\", \"style\", \"recipe\", \"home\", \"girl\", \"hair\", \"work\", \"fashion\", \"food\", \"hotel\", \"dress\", \"hot\", \"top\", \"discuss\", \"world\", \"baby\", \"take\", \"fall\", \"tip\", \"wear\", \"model\", \"bad\", \"heart\", \"mom\", \"video\", \"look\", \"link\", \"low\", \"budget\", \"suit\", \"critic\", \"beauty\", \"good\", \"clip\", \"steal\", \"feature\", \"model\", \"prince\", \"commercial\", \"sound\", \"explain\", \"proposal\", \"cold\", \"throw\", \"sing\", \"level\", \"live\", \"jet\", \"star\", \"academic\", \"silly\", \"submit\", \"fan\", \"giant\", \"color\", \"music\", \"vintage\", \"style\", \"high\", \"fashion\", \"fall\", \"wear\", \"girl\", \"dress\", \"ad\", \"take\", \"marriage\", \"study\", \"baby\", \"mom\", \"hot\", \"divorce\", \"home\", \"change\", \"work\", \"food\", \"tip\", \"sleep\", \"world\", \"make\", \"need\", \"great\", \"last\", \"son\", \"tv\", \"player\", \"vow\", \"divorce\", \"home\", \"recipe\", \"good\", \"work\", \"well\", \"health\", \"tip\", \"mistake\", \"mom\", \"food\", \"marriage\", \"fat\", \"happy\", \"feel\", \"small\", \"appearance\", \"world\", \"friend\", \"room\", \"exercise\", \"healthy\", \"heart\", \"style\", \"study\", \"sleep\", \"change\", \"eat\", \"dress\", \"fashion\", \"bad\", \"wear\", \"fall\", \"take\", \"help\", \"turn\", \"drug\", \"story\", \"test\", \"walk\", \"today\", \"site\", \"yet\", \"police\", \"historic\", \"prove\", \"apologize\", \"allege\", \"chinese\", \"politic\", \"understand\", \"nuclear\", \"crime\", \"terrible\", \"immigration\", \"haunt\", \"model\", \"cancer\", \"study\", \"birthday\", \"style_evolution\", \"friend\", \"divorce\", \"singer\", \"good\", \"work\", \"world\", \"home\", \"marriage\", \"style\", \"way\", \"life\", \"risk\", \"call\", \"grow\", \"tear\", \"robot\", \"fund\", \"change\", \"healthy\", \"cancer\", \"simple\", \"mind\", \"increase\", \"wear\", \"fix\", \"weekend_diy\", \"remove\", \"stay\", \"lesson\", \"raise\", \"mean\", \"boost\", \"reduce\", \"cut\", \"lose\", \"agile\", \"starring\", \"eat\", \"battle\", \"home\", \"live\", \"end\", \"study\", \"work\", \"good\", \"health\", \"heart\", \"tip\", \"top\", \"style\", \"sleep\", \"divorce\", \"take\", \"marriage\", \"food\", \"mom\", \"dress\", \"fashion\", \"fall\", \"kid\", \"parent\", \"death\", \"think\", \"put\", \"miss\", \"war\", \"system\", \"already\", \"sad\", \"immigrant\", \"power\", \"part\", \"series\", \"huffpost\", \"keep\", \"cause\", \"list\", \"might\", \"fashionably_late\", \"coach\", \"divorce\", \"struggle\", \"shame\", \"dementia\", \"super_bowl\", \"brother\", \"cut\", \"etsy\", \"superior\", \"news\", \"baby\", \"gift\", \"work\", \"take\", \"food\", \"family\", \"style\", \"right\", \"tip\", \"good\", \"health\", \"eat\", \"study\", \"marriage\", \"world\", \"fashion\", \"home\", \"heart\", \"fall\", \"recipe\", \"sleep\", \"dress\", \"get\", \"black\", \"open\", \"real\", \"moment\", \"join\", \"least\", \"defend\", \"ignore\", \"married\", \"history\", \"blackvoice\", \"backyard\", \"announcement\", \"australian\", \"cold\", \"outrageous\", \"eye\", \"lip\", \"edition\", \"better\", \"fit\", \"engage\", \"prince\", \"white\", \"know_thine\", \"enemy\", \"vent\", \"undersea\", \"smoker\", \"divorce\", \"marriage\", \"change\", \"spring\", \"fall\", \"model\", \"well\", \"live\", \"bad\", \"style\", \"home\", \"healthy\", \"fashion\", \"dress\", \"good\", \"food\", \"tip\", \"world\", \"work\", \"wear\", \"study\", \"wedding\", \"thing\", \"ask\", \"wife\", \"blame\", \"warn\", \"writer\", \"threaten\", \"incredible\", \"bride\", \"guest\", \"planning\", \"plan\", \"couple\", \"tooth\", \"dress\", \"groom\", \"nuptial\", \"ring\", \"announcement\", \"royal\", \"question\", \"ceremony\", \"pre\", \"registry\", \"refinery\", \"cost\", \"wait\", \"spinbrush\", \"schedule\", \"strike\", \"tip\", \"share\", \"top\", \"bad\", \"marriage\", \"divorce\", \"celebrity\", \"style\", \"good\", \"take\", \"food\", \"home\", \"work\", \"fashion\", \"fall\", \"study\", \"heart\", \"world\", \"find\", \"sex\", \"still\", \"student\", \"shoot\", \"stun\", \"gun\", \"investigation\", \"sink\", \"charge\", \"pull\", \"theme\", \"russian\", \"home\", \"teacher\", \"tanning\", \"customer\", \"meme\", \"seek\", \"congressional\", \"indoor\", \"deny\", \"marriage\", \"case\", \"justice\", \"eventually\", \"salon\", \"discrimination\", \"century\", \"couple\", \"star\", \"good\", \"sleep\", \"work\", \"dress\", \"model\", \"divorce\", \"health\", \"tip\", \"fashion\", \"style\", \"heart\", \"take\", \"study\", \"poll\", \"travel\", \"cover\", \"reveal\", \"become\", \"law\", \"vote\", \"ruin\", \"exit\", \"access\", \"thousand\", \"voter\", \"beauty\", \"water\", \"guide\", \"magazine\", \"leave\", \"good\", \"model\", \"vogue\", \"issue\", \"next\", \"bracket\", \"snack\", \"singer\", \"round\", \"feature\", \"warm\", \"appeal\", \"truth\", \"wear\", \"well\", \"fashion\", \"girl\", \"hair\", \"marriage\", \"style\", \"fall\", \"divorce\", \"tip\", \"dress\", \"home\", \"love\", \"game\", \"rule\", \"final\", \"scene\", \"twitter\", \"funny\", \"regret\", \"cancel\", \"throne\", \"summit\", \"chef\", \"announcement\", \"professe\", \"leave\", \"nurse\", \"australian\", \"omarosa\", \"drama\", \"television\", \"franchise\", \"everyday\", \"practice\", \"snack\", \"quarterback\", \"profess\", \"personality\", \"fighting\", \"skin\", \"championship\", \"reason\", \"break\", \"play\", \"healthy\", \"gift\", \"change\", \"live\", \"food\", \"marriage\", \"dress\", \"heart\", \"fall\", \"style\", \"tip\", \"good\", \"study\", \"divorce\", \"mom\", \"report\", \"less\", \"save\", \"happen\", \"try\", \"campaign\", \"drop\", \"weekend_diy\", \"fix\", \"money\", \"trans\", \"minute\", \"bill\", \"nurture\", \"mortal\", \"decade\", \"instrument\", \"level\", \"meal\", \"hospital\", \"dedicated\", \"rope\", \"german\", \"studio\", \"outbreak\", \"calorie\", \"shock\", \"winterize\", \"utility\", \"temperature\", \"body\", \"obesity\", \"employee\", \"idea\", \"move\", \"rate\", \"quick\", \"home\", \"tip\", \"workout\", \"eat\", \"spring\", \"work\", \"ad\", \"sleep\", \"marriage\", \"healthy\", \"high\", \"fashion\", \"let\", \"cut\", \"keep\", \"study\", \"recipe\", \"dress\", \"style\", \"divorce\", \"food\", \"good\", \"talk\", \"much\", \"film\", \"meet\", \"claim\", \"sue\", \"photographer\", \"adult\", \"creator\", \"spy\", \"hilariously\", \"actor\", \"soul\", \"poison\", \"deem\", \"tattoo\", \"dragon\", \"censor\", \"pinterest\", \"huffpost\", \"concert\", \"engage\", \"cotton\", \"actress\", \"release_date\", \"melissa_mccarthy\", \"similar\", \"shoplift\", \"agony\", \"prolong\", \"split\", \"chemical\", \"release\", \"marriage\", \"family\", \"discuss\", \"singer\", \"model\", \"ad\", \"fashion\", \"health\", \"divorce\", \"work\", \"girl\", \"good\", \"baby\", \"mom\", \"bad\", \"style\", \"dress\", \"back\", \"pay\", \"lawyer\", \"attend\", \"suspend\", \"politician\", \"fare\", \"client\", \"outfit\", \"scandalous\", \"sofa\", \"bore\", \"patriotic\", \"lister\", \"remote\", \"york_city\", \"supermodel\", \"bromide\", \"proponent\", \"discusse\", \"safety_net\", \"strain\", \"demolish\", \"carman\", \"hide\", \"sparkly\", \"rose\", \"shape\", \"matchy\", \"adulthood\", \"leader\", \"bring\", \"shop\", \"airport\", \"birthday\", \"style\", \"sleep\", \"feature\", \"runway\", \"benefit\", \"divorce\", \"fashion\", \"good\", \"work\", \"big\", \"late\", \"expose\", \"even\", \"correspondent\", \"fan\", \"extreme\", \"payoff\", \"sodium\", \"connect\", \"taste_t\", \"blunder\", \"mishap\", \"cocaine\", \"beverage\", \"measle\", \"attendee\", \"contagious\", \"frozen\", \"campus\", \"source\", \"contain\", \"harm\", \"ingredient\", \"planet\", \"survey_reveal\", \"recall\", \"extravagant\", \"gypsy\", \"breakup\", \"track\", \"nutrition\", \"trap\", \"salt\", \"stage\", \"food\", \"part\", \"break\", \"patient\", \"disease\", \"world\", \"city\", \"change\", \"best\", \"party\", \"play\", \"guide\", \"fat\", \"star\", \"study\", \"mean\"], \"Total\": [87488.0, 26060.0, 21078.0, 23099.0, 21797.0, 15270.0, 14112.0, 15352.0, 11733.0, 11921.0, 12616.0, 10134.0, 10323.0, 11013.0, 9601.0, 9688.0, 9377.0, 8677.0, 9236.0, 9985.0, 7969.0, 6371.0, 8918.0, 6435.0, 6779.0, 6592.0, 6138.0, 6309.0, 3857.0, 5665.0, 87488.015625, 3408.622314453125, 2544.01611328125, 1734.1474609375, 1426.3226318359375, 1195.391845703125, 939.0115356445312, 725.4660034179688, 422.2782287597656, 294.7364501953125, 291.0184631347656, 214.95285034179688, 3.451887607574463, 3.448399066925049, 3.4471280574798584, 3.447672128677368, 3.4470438957214355, 3.4466731548309326, 3.4479293823242188, 3.446605920791626, 3.4470903873443604, 3.4465832710266113, 3.446145534515381, 3.4455223083496094, 3.4462506771087646, 3.4463744163513184, 3.4459025859832764, 3.4457991123199463, 3.446244716644287, 3.448305130004883, 3.446892738342285, 3.4479153156280518, 3.4471116065979004, 3.4466311931610107, 3.4475297927856445, 23099.15234375, 9985.4521484375, 8918.72265625, 6594.203125, 5793.0439453125, 2206.02294921875, 1374.8868408203125, 1057.5299072265625, 609.7181396484375, 509.0822448730469, 278.34600830078125, 3.451887607574463, 3.4471280574798584, 3.447672128677368, 3.4475297927856445, 3.448399066925049, 3.448305130004883, 3.4471116065979004, 3.4479153156280518, 3.4466311931610107, 3.446260929107666, 3.446892738342285, 3.4470438957214355, 3.4466731548309326, 3.446402072906494, 3.4470903873443604, 3.4479293823242188, 3.4465832710266113, 3.44608998298645, 3.446605920791626, 3.446380138397217, 21797.65234375, 5011.7431640625, 4833.828125, 3695.261962890625, 3365.564208984375, 2256.333984375, 2151.9326171875, 1830.6292724609375, 1818.718017578125, 1465.9217529296875, 1335.00537109375, 1240.980224609375, 670.9031372070312, 630.6515502929688, 560.9260864257812, 444.8582763671875, 403.7125244140625, 335.6365661621094, 234.07025146484375, 197.32138061523438, 98.5353775024414, 92.04532623291016, 32.47426223754883, 26.458513259887695, 4.325570106506348, 3.451887607574463, 3.448399066925049, 3.4479293823242188, 3.4466311931610107, 3.447672128677368, 3.448305130004883, 12616.6025390625, 9236.7900390625, 6309.09912109375, 5304.65576171875, 2698.48046875, 2134.423095703125, 2074.053955078125, 2004.732666015625, 1239.8323974609375, 899.7030029296875, 755.1400756835938, 477.5373840332031, 391.3834533691406, 102.54179382324219, 76.56500244140625, 3.451887607574463, 3.4475297927856445, 3.448399066925049, 3.448305130004883, 3.4460928440093994, 3.447672128677368, 3.4471280574798584, 3.4471116065979004, 3.4465832710266113, 3.4479153156280518, 3.446605920791626, 3.4479293823242188, 3.445146083831787, 3.446244716644287, 3.445971727371216, 3.4470903873443604, 3.4466311931610107, 3.4470438957214355, 3.446892738342285, 9688.8095703125, 6779.72021484375, 6138.52685546875, 3358.29638671875, 3212.14990234375, 2972.9833984375, 2756.42529296875, 2409.12841796875, 1413.143798828125, 1131.2320556640625, 634.8091430664062, 371.22161865234375, 304.88018798828125, 272.51995849609375, 226.54287719726562, 3.451887607574463, 3.448305130004883, 3.4479153156280518, 3.4475297927856445, 3.4470438957214355, 3.4470903873443604, 3.448399066925049, 3.4479293823242188, 3.446892738342285, 3.4465832710266113, 3.447672128677368, 3.446402072906494, 3.4463322162628174, 3.4463744163513184, 3.446244716644287, 3.4471280574798584, 3.4471116065979004, 3.4466311931610107, 3.446605920791626, 15352.935546875, 9377.4287109375, 6592.73291015625, 3536.10546875, 2634.406005859375, 1949.790771484375, 1229.1865234375, 433.63751220703125, 3.4479153156280518, 3.451887607574463, 3.4475297927856445, 3.448305130004883, 3.4452574253082275, 3.444902181625366, 3.4457991123199463, 3.448399066925049, 3.4463744163513184, 3.4479293823242188, 3.445971727371216, 3.445563316345215, 3.4471116065979004, 3.447672128677368, 3.446892738342285, 3.4455223083496094, 3.4470438957214355, 3.445452928543091, 3.446244716644287, 3.44492506980896, 3.446605920791626, 3.4460928440093994, 3.4465832710266113, 3.4471280574798584, 3.4470903873443604, 3.4466731548309326, 3.4462506771087646, 3.446260929107666, 3.4466311931610107, 3.446402072906494, 26060.5703125, 11013.59375, 1780.5361328125, 772.1394653320312, 423.0941162109375, 259.71612548828125, 92.59624481201172, 3.446145534515381, 3.451887607574463, 3.44473934173584, 3.4447174072265625, 3.4451792240142822, 3.4462506771087646, 3.4445111751556396, 3.4447453022003174, 3.4447031021118164, 3.4449031352996826, 3.4446215629577637, 3.4448063373565674, 3.4446940422058105, 3.4446067810058594, 3.444580078125, 3.446084499359131, 3.4446194171905518, 3.4459025859832764, 3.444444417953491, 3.444453239440918, 3.444646120071411, 3.445021152496338, 3.4446732997894287, 3.4449663162231445, 3.4450759887695312, 3.44478440284729, 3.448399066925049, 3.44525146484375, 3.447672128677368, 3.4471280574798584, 3.4466731548309326, 3.445971727371216, 3.4470438957214355, 3.445437431335449, 3.4465832710266113, 3.4479153156280518, 3.4475297927856445, 3.4460928440093994, 3.446402072906494, 3.445452928543091, 3.448305130004883, 3.4479293823242188, 3.4463322162628174, 3.4471116065979004, 3.446892738342285, 3.4470903873443604, 3.446286201477051, 3.446605920791626, 21078.7109375, 5665.619140625, 3423.78857421875, 2609.992919921875, 2137.417724609375, 1366.754150390625, 786.796142578125, 717.9279174804688, 3.448305130004883, 3.4479293823242188, 3.4463744163513184, 3.451887607574463, 3.4471116065979004, 3.4457995891571045, 3.44608998298645, 3.4470903873443604, 3.444817304611206, 3.446402072906494, 3.446892738342285, 3.4479153156280518, 3.4451496601104736, 3.444913148880005, 3.445199728012085, 3.4447898864746094, 3.444924831390381, 3.446605920791626, 3.445481300354004, 3.4451026916503906, 3.4453370571136475, 3.446380138397217, 3.4466311931610107, 3.448399066925049, 3.4475297927856445, 3.446286201477051, 3.4463322162628174, 3.446211576461792, 3.4470438957214355, 3.447672128677368, 3.446260929107666, 3.4466731548309326, 3.4471280574798584, 3.4465832710266113, 8677.07421875, 3357.150634765625, 3265.94873046875, 2585.999267578125, 2203.989990234375, 1961.037841796875, 1955.6419677734375, 1941.07421875, 836.0440673828125, 721.8922119140625, 566.8485107421875, 526.81982421875, 516.5847778320312, 508.467041015625, 503.73602294921875, 485.5633850097656, 357.8582763671875, 212.67640686035156, 199.07470703125, 85.53143310546875, 17.443161010742188, 15.68026065826416, 3.4462506771087646, 3.445683002471924, 3.4475297927856445, 3.444946527481079, 3.444854497909546, 3.445481300354004, 3.448305130004883, 3.445204734802246, 3.451887607574463, 3.4471116065979004, 3.446605920791626, 3.4479293823242188, 3.4479153156280518, 3.448399066925049, 11921.2802734375, 9601.927734375, 3873.276123046875, 2274.914306640625, 1604.1397705078125, 694.1994018554688, 523.0778198242188, 389.7257080078125, 3.4463322162628174, 3.446380138397217, 3.445683002471924, 3.444913625717163, 3.444814920425415, 3.4447052478790283, 3.4466731548309326, 3.4450807571411133, 3.4447033405303955, 3.4447431564331055, 3.445221185684204, 3.445131540298462, 3.4449942111968994, 3.4452033042907715, 3.4447920322418213, 3.4446463584899902, 3.445204496383667, 3.445202589035034, 3.444471836090088, 3.444504976272583, 3.446211576461792, 3.4446322917938232, 3.4479293823242188, 3.446084499359131, 3.444950819015503, 3.4475297927856445, 3.4471116065979004, 3.451887607574463, 3.44608998298645, 3.4466311931610107, 3.4470903873443604, 3.446244716644287, 3.448399066925049, 3.446286201477051, 3.448305130004883, 3.4465832710266113, 3.4479153156280518, 3.446892738342285, 3.446402072906494, 3.4470438957214355, 3.447672128677368, 3.4471280574798584, 10323.130859375, 7969.61865234375, 3367.095703125, 2995.093994140625, 2096.08056640625, 1970.500244140625, 692.9049682617188, 568.02392578125, 229.38983154296875, 101.35884857177734, 27.51918601989746, 3.444918155670166, 3.4453325271606445, 3.4446091651916504, 3.4446747303009033, 3.4456913471221924, 3.445465087890625, 3.444897174835205, 3.444535970687866, 3.444575071334839, 3.444556951522827, 3.448305130004883, 3.4446113109588623, 3.4445290565490723, 3.4445865154266357, 3.445322036743164, 3.4446232318878174, 3.445204496383667, 3.4444823265075684, 3.4444580078125, 3.4452462196350098, 3.4460928440093994, 3.4452590942382812, 3.4471116065979004, 3.4465832710266113, 3.446892738342285, 3.445819854736328, 3.448399066925049, 3.4453420639038086, 3.4470903873443604, 3.451887607574463, 3.44608998298645, 3.446211576461792, 3.4475297927856445, 3.4479153156280518, 3.446605920791626, 3.447672128677368, 3.4479293823242188, 3.4466311931610107, 3.4471280574798584, 3.4463744163513184, 3.446286201477051, 3.4470438957214355, 15270.4443359375, 3904.11572265625, 3163.361328125, 2784.204345703125, 2030.270751953125, 734.9673461914062, 555.496337890625, 542.0540771484375, 498.4609375, 3.4453516006469727, 3.4452295303344727, 3.4446353912353516, 3.444594144821167, 3.444622039794922, 3.4446229934692383, 3.4448063373565674, 3.444577693939209, 3.4448740482330322, 3.4446024894714355, 3.444636344909668, 3.4448156356811523, 3.444617748260498, 3.444723606109619, 3.4445111751556396, 3.444746255874634, 3.444531202316284, 3.444535732269287, 3.4444777965545654, 3.4444773197174072, 3.4444801807403564, 3.448305130004883, 3.4479153156280518, 3.4463322162628174, 3.4457991123199463, 3.4471280574798584, 3.4462506771087646, 3.4457995891571045, 3.446084499359131, 3.446260929107666, 3.448399066925049, 3.4479293823242188, 3.446380138397217, 3.447672128677368, 3.4470438957214355, 3.451887607574463, 3.446892738342285, 3.4470903873443604, 3.446605920791626, 3.4471116065979004, 3.4466731548309326, 3.4475297927856445, 14112.58984375, 4622.3173828125, 2321.168701171875, 1082.9227294921875, 779.7879638671875, 539.2050170898438, 415.39959716796875, 366.9317932128906, 342.561279296875, 3.4451394081115723, 3.4447293281555176, 3.444603204727173, 3.44524884223938, 3.4458601474761963, 3.444589138031006, 3.4470438957214355, 3.444807767868042, 3.4445621967315674, 3.4447968006134033, 3.444622039794922, 3.4447014331817627, 3.4451308250427246, 3.44453763961792, 3.444620132446289, 3.4444968700408936, 3.444472074508667, 3.4448113441467285, 3.4447755813598633, 3.44443416595459, 3.444498062133789, 3.444584846496582, 3.4470903873443604, 3.445096731185913, 3.446244716644287, 3.446260929107666, 3.4479153156280518, 3.448305130004883, 3.4455626010894775, 3.448399066925049, 3.451887607574463, 3.4465832710266113, 3.446892738342285, 3.4479293823242188, 3.4471116065979004, 3.447672128677368, 3.4471280574798584, 3.4475297927856445, 3.4466311931610107, 3.446605920791626, 10134.5, 3623.094482421875, 2722.258544921875, 1648.6763916015625, 1455.6317138671875, 571.3489379882812, 542.94482421875, 482.5531311035156, 459.0675048828125, 414.2666320800781, 380.1065979003906, 286.1310119628906, 175.83187866210938, 3.4479293823242188, 3.444626569747925, 3.444535255432129, 3.444603681564331, 3.4445180892944336, 3.444723606109619, 3.4444777965545654, 3.444495439529419, 3.444518566131592, 3.4479153156280518, 3.4448845386505127, 3.4445362091064453, 3.4444985389709473, 3.444648027420044, 3.4445738792419434, 3.4445366859436035, 3.4458601474761963, 3.4459025859832764, 3.451887607574463, 3.446286201477051, 3.4471116065979004, 3.4470438957214355, 3.4462506771087646, 3.448305130004883, 3.44608998298645, 3.4470903873443604, 3.447672128677368, 3.448399066925049, 3.4466311931610107, 3.4465832710266113, 3.4475297927856445, 6435.83837890625, 4358.65478515625, 3446.660400390625, 3228.45068359375, 1946.892578125, 899.8895874023438, 796.096435546875, 355.13446044921875, 231.0230712890625, 123.91016387939453, 107.63302612304688, 69.78257751464844, 3.446145534515381, 3.445128917694092, 3.4455482959747314, 3.445492744445801, 3.445438861846924, 3.451887607574463, 3.4462506771087646, 3.444761037826538, 3.4450807571411133, 3.4448704719543457, 3.4445877075195312, 3.4448349475860596, 3.445204734802246, 3.444636583328247, 3.4451792240142822, 3.444500684738159, 3.4445412158966064, 3.444679021835327, 3.4466731548309326, 3.4457995891571045, 3.447672128677368, 3.445971727371216, 3.445563316345215, 3.4479153156280518, 3.448399066925049, 3.4471280574798584, 3.448305130004883, 3.4470903873443604, 3.4470438957214355, 3.4479293823242188, 11733.6201171875, 2204.47900390625, 1461.874755859375, 1215.5948486328125, 557.2518310546875, 556.523681640625, 384.9220886230469, 317.785400390625, 248.72064208984375, 56.10271072387695, 37.59356689453125, 3.4448602199554443, 3.444622039794922, 3.4444453716278076, 3.445438861846924, 3.4445230960845947, 3.4446229934692383, 3.444464921951294, 3.4444806575775146, 3.444509506225586, 3.4444615840911865, 3.4446024894714355, 3.4446473121643066, 3.4448349475860596, 3.444455146789551, 3.4444243907928467, 3.4445719718933105, 3.444450616836548, 3.4449050426483154, 3.444486618041992, 3.4454054832458496, 3.445301055908203, 3.4453682899475098, 3.446380138397217, 3.4452590942382812, 3.4463322162628174, 3.446084499359131, 3.446892738342285, 3.4479153156280518, 3.4470438957214355, 3.4466311931610107, 3.4471280574798584, 3.448399066925049, 3.4470903873443604, 3.451887607574463, 3.4475297927856445, 3.448305130004883, 3.446402072906494, 3630.24169921875, 2824.3388671875, 2431.2060546875, 2006.1451416015625, 1909.9036865234375, 1904.7703857421875, 1003.4570922851562, 3.4447033405303955, 3.4450807571411133, 3.445063829421997, 3.4444618225097656, 3.4450490474700928, 3.4446167945861816, 3.444535970687866, 3.444493293762207, 3.444552183151245, 3.444518804550171, 3.444580078125, 3.4446380138397217, 3.4446723461151123, 3.4444446563720703, 3.444472551345825, 3.4444851875305176, 3.44464373588562, 3.444455862045288, 3.444627285003662, 3.4444756507873535, 3.4444522857666016, 3.4444639682769775, 3.4445371627807617, 3.4451465606689453, 3.4448764324188232, 3.444570302963257, 3.4454424381256104, 3.4448835849761963, 3.444855213165283, 3.4446847438812256, 3.4479293823242188, 3.4470903873443604, 3.444847583770752, 3.446211576461792, 3.4457991123199463, 3.4471116065979004, 3.445437431335449, 3.446286201477051, 3.4479153156280518, 3.446380138397217, 3.44525146484375, 3.447672128677368, 3.445235013961792, 3.445204496383667, 3.4456913471221924, 3.4475297927856445, 3.4463744163513184, 3.4470438957214355, 3.448399066925049, 3.448305130004883, 3.446892738342285, 3.451887607574463, 6371.33544921875, 2415.103759765625, 1676.8919677734375, 1329.1353759765625, 875.949462890625, 684.8482055664062, 373.0129089355469, 359.5302429199219, 227.0245819091797, 102.35680389404297, 3.7365634441375732, 3.444903612136841, 3.444917678833008, 3.444507122039795, 3.444481611251831, 3.444563150405884, 3.4445245265960693, 3.444554567337036, 3.4445436000823975, 3.4446747303009033, 3.4445090293884277, 3.444723606109619, 3.4444468021392822, 3.4450151920318604, 3.4444563388824463, 3.4444563388824463, 3.4444568157196045, 3.4444446563720703, 3.444453001022339, 3.444453477859497, 3.4449243545532227, 3.4445676803588867, 3.444733142852783, 3.4479153156280518, 3.445819854736328, 3.44492506980896, 3.445204734802246, 3.4462506771087646, 3.445437431335449, 3.447672128677368, 3.44608998298645, 3.448305130004883, 3.4471116065979004, 3.445971727371216, 3.451887607574463, 3.4460928440093994, 3.446402072906494, 3.446260929107666, 3.448399066925049, 3.4470438957214355, 3857.344970703125, 814.4791259765625, 802.5191040039062, 472.7486572265625, 183.41822814941406, 59.699832916259766, 3.4445338249206543, 3.4445736408233643, 3.4449820518493652, 3.4444634914398193, 3.444457769393921, 3.4444847106933594, 3.444467306137085, 3.4444520473480225, 3.4445059299468994, 3.444639205932617, 3.4445292949676514, 3.4444406032562256, 3.4444446563720703, 3.444446086883545, 3.4444379806518555, 3.444450616836548, 3.4444711208343506, 3.4444260597229004, 3.444777488708496, 3.4444243907928467, 3.4444901943206787, 3.444582939147949, 3.4444310665130615, 3.4444379806518555, 3.444676399230957, 3.44516921043396, 3.4448273181915283, 3.4448189735412598, 3.444946527481079, 3.448399066925049, 3.446286201477051, 3.4451792240142822, 3.4447226524353027, 3.4451968669891357, 3.448305130004883, 3.447672128677368, 3.451887607574463, 3.4471116065979004, 3563.095947265625, 850.9788818359375, 380.00323486328125, 3.444693088531494, 3.4444961547851562, 3.445021152496338, 3.4445881843566895, 3.444462299346924, 3.444481372833252, 3.4445297718048096, 3.444465160369873, 3.4444384574890137, 3.4444384574890137, 3.444441318511963, 3.4444966316223145, 3.4444658756256104, 3.4444732666015625, 3.4444780349731445, 3.4445102214813232, 3.4444808959960938, 3.4445583820343018, 3.4445526599884033, 3.4444875717163086, 3.44456148147583, 3.444601535797119, 3.4445066452026367, 3.444586992263794, 3.444427967071533, 3.444427728652954, 3.4445221424102783, 3.444636821746826, 3.4446167945861816, 3.444633960723877, 3.4446420669555664, 3.444721221923828, 3.446892738342285, 3.4453325271606445, 3.445301055908203, 3.4448654651641846, 3.444878578186035, 3.446605920791626, 3.4449973106384277, 3.4463322162628174, 3.445441961288452, 3.4451770782470703, 3.4453682899475098, 3.4455482959747314, 3.4451496601104736, 3.4459025859832764, 3.4475297927856445, 3.4452033042907715], \"loglift\": [30.0, 29.0, 28.0, 27.0, 26.0, 25.0, 24.0, 23.0, 22.0, 21.0, 20.0, 19.0, 18.0, 17.0, 16.0, 15.0, 14.0, 13.0, 12.0, 11.0, 10.0, 9.0, 8.0, 7.0, 6.0, 5.0, 4.0, 3.0, 2.0, 1.0, 1.9977999925613403, 1.9967999458312988, 1.996500015258789, 1.99590003490448, 1.9954999685287476, 1.9950000047683716, 1.9943000078201294, 1.9931999444961548, 1.98989999294281, 1.9865000247955322, 1.986299991607666, 1.982200026512146, -1.30649995803833, -1.3070000410079956, -1.3075000047683716, -1.3075000047683716, -1.3075000047683716, -1.3075000047683716, -1.3075000047683716, -1.3076000213623047, -1.3077000379562378, -1.307800054550171, -1.307800054550171, -1.307800054550171, -1.307800054550171, -1.307800054550171, -1.307800054550171, -1.307800054550171, -1.3078999519348145, -1.3078999519348145, -1.3078999519348145, -1.3079999685287476, -1.3078999519348145, -1.3078999519348145, -1.3080999851226807, 2.4630000591278076, 2.4628000259399414, 2.4628000259399414, 2.4626998901367188, 2.462599992752075, 2.461699962615967, 2.4607999324798584, 2.460099935531616, 2.4577999114990234, 2.456700086593628, 2.4514000415802, -0.4715999960899353, -0.4724000096321106, -0.4724999964237213, -0.47269999980926514, -0.47290000319480896, -0.4729999899864197, -0.4733000099658966, -0.4733000099658966, -0.4733999967575073, -0.4733999967575073, -0.4733999967575073, -0.4733999967575073, -0.4733999967575073, -0.4733999967575073, -0.47350001335144043, -0.47350001335144043, -0.47350001335144043, -0.47350001335144043, -0.47350001335144043, -0.47360000014305115, 2.547300100326538, 2.546799898147583, 2.546799898147583, 2.5464999675750732, 2.5464999675750732, 2.5460000038146973, 2.5459001064300537, 2.5457000732421875, 2.545599937438965, 2.5452001094818115, 2.5450000762939453, 2.544800043106079, 2.54259991645813, 2.54229998588562, 2.541599988937378, 2.54010009765625, 2.539400100708008, 2.5376999378204346, 2.5334999561309814, 2.530900001525879, 2.5139999389648438, 2.5116000175476074, 2.4423999786376953, 2.4168999195098877, 1.167199969291687, -0.2639000117778778, -0.26440000534057617, -0.26440000534057617, -0.2644999921321869, -0.2646999955177307, -0.2646999955177307, 2.699199914932251, 2.6991000175476074, 2.6989998817443848, 2.698899984359741, 2.6982998847961426, 2.697999954223633, 2.6979000568389893, 2.6979000568389893, 2.696899890899658, 2.6958999633789062, 2.695199966430664, 2.692699909210205, 2.691200017929077, 2.66729998588562, 2.656100034713745, -0.1657000035047531, -0.16590000689029694, -0.1664000004529953, -0.1665000021457672, -0.1665000021457672, -0.1665000021457672, -0.16660000383853912, -0.16660000383853912, -0.16660000383853912, -0.16660000383853912, -0.16660000383853912, -0.16670000553131104, -0.16670000553131104, -0.16670000553131104, -0.16670000553131104, -0.16670000553131104, -0.16670000553131104, -0.16670000553131104, -0.16670000553131104, 2.7741000652313232, 2.773900032043457, 2.773900032043457, 2.7734999656677246, 2.773400068283081, 2.7732999324798584, 2.7732999324798584, 2.773099899291992, 2.7720999717712402, 2.7716000080108643, 2.7692999839782715, 2.765700101852417, 2.7637999057769775, 2.7625999450683594, 2.7600998878479004, 0.06949999928474426, 0.0689999982714653, 0.06889999657869339, 0.06880000233650208, 0.06880000233650208, 0.06880000233650208, 0.06880000233650208, 0.06880000233650208, 0.06880000233650208, 0.06880000233650208, 0.06870000064373016, 0.06870000064373016, 0.06870000064373016, 0.06870000064373016, 0.06870000064373016, 0.06859999895095825, 0.06859999895095825, 0.06870000064373016, 0.06870000064373016, 2.8046998977661133, 2.8046000003814697, 2.8043999671936035, 2.803999900817871, 2.8036999702453613, 2.803299903869629, 2.802299976348877, 2.7973999977111816, -0.055799998342990875, -0.055799998342990875, -0.05590000003576279, -0.05590000003576279, -0.05590000003576279, -0.05590000003576279, -0.05590000003576279, -0.05590000003576279, -0.0560000017285347, -0.0560000017285347, -0.0560000017285347, -0.0560000017285347, -0.0560000017285347, -0.0560000017285347, -0.0560000017285347, -0.0560000017285347, -0.0560000017285347, -0.0560000017285347, -0.0560000017285347, -0.0560000017285347, -0.0560000017285347, -0.0560000017285347, -0.0560000017285347, -0.05609999969601631, -0.05609999969601631, -0.05609999969601631, -0.0560000017285347, -0.05609999969601631, -0.05609999969601631, -0.05609999969601631, 2.872999906539917, 2.87280011177063, 2.8712000846862793, 2.868799924850464, 2.8652000427246094, 2.8601999282836914, 2.836400032043457, -0.5692999958992004, -0.5694000124931335, -0.5695000290870667, -0.569599986076355, -0.569599986076355, -0.569599986076355, -0.569599986076355, -0.569599986076355, -0.569599986076355, -0.569599986076355, -0.569599986076355, -0.569599986076355, -0.569599986076355, -0.569599986076355, -0.569599986076355, -0.569599986076355, -0.569599986076355, -0.569599986076355, -0.569599986076355, -0.569599986076355, -0.569599986076355, -0.569599986076355, -0.569599986076355, -0.569599986076355, -0.569599986076355, -0.569599986076355, -0.5697000026702881, -0.569599986076355, -0.5697000026702881, -0.5697000026702881, -0.5697000026702881, -0.5697000026702881, -0.5697000026702881, -0.569599986076355, -0.5697000026702881, -0.5698999762535095, -0.5698000192642212, -0.5697000026702881, -0.5698000192642212, -0.5697000026702881, -0.5699999928474426, -0.5699999928474426, -0.5698000192642212, -0.5698999762535095, -0.5698999762535095, -0.5698999762535095, -0.5698000192642212, -0.5698999762535095, 2.878200054168701, 2.8777999877929688, 2.8773999214172363, 2.8770999908447266, 2.876800060272217, 2.875999927520752, 2.8742001056671143, 2.873800039291382, 0.023499999195337296, 0.023499999195337296, 0.023499999195337296, 0.023399999365210533, 0.02329999953508377, 0.02329999953508377, 0.02329999953508377, 0.02329999953508377, 0.02329999953508377, 0.02329999953508377, 0.02329999953508377, 0.02329999953508377, 0.02329999953508377, 0.02329999953508377, 0.02329999953508377, 0.02329999953508377, 0.02329999953508377, 0.02329999953508377, 0.02329999953508377, 0.02329999953508377, 0.02319999970495701, 0.02319999970495701, 0.02319999970495701, 0.02319999970495701, 0.02319999970495701, 0.02319999970495701, 0.02319999970495701, 0.02319999970495701, 0.02319999970495701, 0.023099999874830246, 0.02319999970495701, 0.023099999874830246, 0.023099999874830246, 0.023099999874830246, 3.0280001163482666, 3.027400016784668, 3.0272998809814453, 3.027100086212158, 3.026900053024292, 3.026700019836426, 3.026700019836426, 3.026700019836426, 3.0244998931884766, 3.0237998962402344, 3.022599935531616, 3.022200107574463, 3.0220000743865967, 3.021899938583374, 3.021899938583374, 3.0216000080108643, 3.0192999839782715, 3.013000011444092, 3.011899948120117, 2.989799976348877, 2.8232998847961426, 2.797300100326538, 0.2320999950170517, 0.23199999332427979, 0.23199999332427979, 0.23190000653266907, 0.23190000653266907, 0.23190000653266907, 0.23180000483989716, 0.23180000483989716, 0.23180000483989716, 0.23180000483989716, 0.23180000483989716, 0.23170000314712524, 0.23170000314712524, 0.23160000145435333, 3.0606000423431396, 3.060499906539917, 3.059999942779541, 3.0594000816345215, 3.058799982070923, 3.0562000274658203, 3.0546000003814697, 3.052500009536743, 0.15000000596046448, 0.15000000596046448, 0.15000000596046448, 0.15000000596046448, 0.14990000426769257, 0.14990000426769257, 0.14990000426769257, 0.14990000426769257, 0.14990000426769257, 0.14990000426769257, 0.14990000426769257, 0.14990000426769257, 0.14990000426769257, 0.14990000426769257, 0.14990000426769257, 0.14990000426769257, 0.14990000426769257, 0.14990000426769257, 0.14990000426769257, 0.14990000426769257, 0.14990000426769257, 0.14990000426769257, 0.14990000426769257, 0.14990000426769257, 0.14990000426769257, 0.14980000257492065, 0.14980000257492065, 0.14959999918937683, 0.14980000257492065, 0.14980000257492065, 0.14980000257492065, 0.14980000257492065, 0.14959999918937683, 0.14980000257492065, 0.14959999918937683, 0.14970000088214874, 0.14959999918937683, 0.14970000088214874, 0.14980000257492065, 0.14970000088214874, 0.14949999749660492, 0.14959999918937683, 3.0810999870300293, 3.0810000896453857, 3.080399990081787, 3.0803000926971436, 3.079900026321411, 3.0797998905181885, 3.07669997215271, 3.075700044631958, 3.0671000480651855, 3.0487000942230225, 2.955199956893921, 0.1347000002861023, 0.1347000002861023, 0.1347000002861023, 0.1347000002861023, 0.13459999859333038, 0.13459999859333038, 0.13459999859333038, 0.13459999859333038, 0.13459999859333038, 0.13459999859333038, 0.13459999859333038, 0.13459999859333038, 0.13459999859333038, 0.13459999859333038, 0.13459999859333038, 0.13459999859333038, 0.13459999859333038, 0.13459999859333038, 0.13459999859333038, 0.13459999859333038, 0.13459999859333038, 0.13459999859333038, 0.13449999690055847, 0.13449999690055847, 0.13449999690055847, 0.13449999690055847, 0.13439999520778656, 0.13449999690055847, 0.13439999520778656, 0.1339000016450882, 0.13449999690055847, 0.13449999690055847, 0.13429999351501465, 0.13420000672340393, 0.13439999520778656, 0.13429999351501465, 0.13420000672340393, 0.13439999520778656, 0.13429999351501465, 0.13439999520778656, 0.13439999520778656, 0.13420000672340393, 3.112600088119507, 3.111999988555908, 3.111799955368042, 3.1117000579833984, 3.1112000942230225, 3.1084001064300537, 3.1068999767303467, 3.106800079345703, 3.106300115585327, 0.11670000106096268, 0.11630000174045563, 0.1160999983549118, 0.1160999983549118, 0.1160999983549118, 0.1160999983549118, 0.1160999983549118, 0.11599999666213989, 0.11599999666213989, 0.11599999666213989, 0.11599999666213989, 0.11599999666213989, 0.11599999666213989, 0.11599999666213989, 0.11599999666213989, 0.11599999666213989, 0.11599999666213989, 0.11599999666213989, 0.11599999666213989, 0.11599999666213989, 0.11599999666213989, 0.11599999666213989, 0.11599999666213989, 0.11599999666213989, 0.11599999666213989, 0.11590000241994858, 0.11590000241994858, 0.11599999666213989, 0.11590000241994858, 0.11590000241994858, 0.11580000072717667, 0.11580000072717667, 0.11590000241994858, 0.11580000072717667, 0.11590000241994858, 0.11540000140666962, 0.11590000241994858, 0.11580000072717667, 0.11590000241994858, 0.11580000072717667, 0.11580000072717667, 0.11569999903440475, 3.277899980545044, 3.277400016784668, 3.276700019836426, 3.275099992752075, 3.273900032043457, 3.2720000743865967, 3.27020001411438, 3.269200086593628, 3.2685000896453857, 0.21549999713897705, 0.21539999544620514, 0.21539999544620514, 0.21539999544620514, 0.21539999544620514, 0.21539999544620514, 0.21539999544620514, 0.21529999375343323, 0.21529999375343323, 0.21529999375343323, 0.21529999375343323, 0.21529999375343323, 0.21529999375343323, 0.21529999375343323, 0.21529999375343323, 0.21529999375343323, 0.21529999375343323, 0.21529999375343323, 0.2152000069618225, 0.2152000069618225, 0.2152000069618225, 0.2152000069618225, 0.2151000052690506, 0.2152000069618225, 0.2151000052690506, 0.2151000052690506, 0.21480000019073486, 0.21469999849796295, 0.2151000052690506, 0.21469999849796295, 0.21410000324249268, 0.21490000188350677, 0.21490000188350677, 0.21459999680519104, 0.21480000019073486, 0.21469999849796295, 0.21480000019073486, 0.21469999849796295, 0.21490000188350677, 0.21490000188350677, 3.2906999588012695, 3.29010009765625, 3.289799928665161, 3.2890000343322754, 3.288800001144409, 3.2853000164031982, 3.2850000858306885, 3.2843000888824463, 3.283900022506714, 3.2832000255584717, 3.2825000286102295, 3.279599905014038, 3.27239990234375, 0.49410000443458557, 0.49399998784065247, 0.49390000104904175, 0.49390000104904175, 0.49390000104904175, 0.49380001425743103, 0.49380001425743103, 0.49380001425743103, 0.49380001425743103, 0.49380001425743103, 0.49380001425743103, 0.49380001425743103, 0.49380001425743103, 0.49380001425743103, 0.49380001425743103, 0.49380001425743103, 0.49380001425743103, 0.49380001425743103, 0.4934999942779541, 0.4936999976634979, 0.4936000108718872, 0.4936000108718872, 0.4936000108718872, 0.4934000074863434, 0.4936000108718872, 0.4934999942779541, 0.4934000074863434, 0.49320000410079956, 0.4934999942779541, 0.4934999942779541, 0.4932999908924103, 3.3975000381469727, 3.3973000049591064, 3.3970999717712402, 3.3970000743865967, 3.396399974822998, 3.394399881362915, 3.393899917602539, 3.388700008392334, 3.3835999965667725, 3.371000051498413, 3.36680006980896, 3.3494999408721924, 0.1680999994277954, 0.16769999265670776, 0.16769999265670776, 0.16769999265670776, 0.16760000586509705, 0.16760000586509705, 0.16750000417232513, 0.16750000417232513, 0.16750000417232513, 0.16750000417232513, 0.16750000417232513, 0.16750000417232513, 0.16750000417232513, 0.16750000417232513, 0.16750000417232513, 0.16750000417232513, 0.16750000417232513, 0.16750000417232513, 0.16740000247955322, 0.16740000247955322, 0.1670999974012375, 0.1673000007867813, 0.1673000007867813, 0.16699999570846558, 0.16680000722408295, 0.16699999570846558, 0.16680000722408295, 0.16699999570846558, 0.16699999570846558, 0.16670000553131104, 3.5455000400543213, 3.544300079345703, 3.5434999465942383, 3.5429999828338623, 3.539799928665161, 3.539799928665161, 3.537100076675415, 3.5353000164031982, 3.5322999954223633, 3.484800100326538, 3.4532999992370605, 0.2304999977350235, 0.23029999434947968, 0.23029999434947968, 0.23029999434947968, 0.23029999434947968, 0.23019999265670776, 0.23019999265670776, 0.23019999265670776, 0.23019999265670776, 0.23019999265670776, 0.23019999265670776, 0.23019999265670776, 0.23019999265670776, 0.23019999265670776, 0.23019999265670776, 0.23019999265670776, 0.23019999265670776, 0.23019999265670776, 0.23019999265670776, 0.23010000586509705, 0.23010000586509705, 0.23010000586509705, 0.23000000417232513, 0.23010000586509705, 0.23000000417232513, 0.23000000417232513, 0.2298000007867813, 0.2295999974012375, 0.2296999990940094, 0.2298000007867813, 0.2296999990940094, 0.22939999401569366, 0.2296999990940094, 0.22849999368190765, 0.2295999974012375, 0.22930000722408295, 0.2298000007867813, 3.6185998916625977, 3.6184000968933105, 3.6182000637054443, 3.6178998947143555, 3.617799997329712, 3.617799997329712, 3.616300106048584, 0.6651999950408936, 0.6650000214576721, 0.6650000214576721, 0.6650000214576721, 0.6650000214576721, 0.664900004863739, 0.664900004863739, 0.664900004863739, 0.664900004863739, 0.664900004863739, 0.664900004863739, 0.664900004863739, 0.664900004863739, 0.664900004863739, 0.664900004863739, 0.664900004863739, 0.664900004863739, 0.664900004863739, 0.664900004863739, 0.664900004863739, 0.664900004863739, 0.664900004863739, 0.664900004863739, 0.664900004863739, 0.664900004863739, 0.664900004863739, 0.6647999882698059, 0.664900004863739, 0.664900004863739, 0.664900004863739, 0.6644999980926514, 0.6646000146865845, 0.664900004863739, 0.6646000146865845, 0.6646999716758728, 0.6644999980926514, 0.6647999882698059, 0.6646000146865845, 0.6643000245094299, 0.6644999980926514, 0.6647999882698059, 0.6642000079154968, 0.6647999882698059, 0.6647999882698059, 0.6646999716758728, 0.6642000079154968, 0.6644999980926514, 0.6643000245094299, 0.6639999747276306, 0.6639999747276306, 0.6643999814987183, 0.6629999876022339, 3.733299970626831, 3.7323999404907227, 3.731800079345703, 3.731300115585327, 3.7300000190734863, 3.7288999557495117, 3.724900007247925, 3.724600076675415, 3.719099998474121, 3.7009999752044678, 1.589900016784668, 0.5716000199317932, 0.5715000033378601, 0.571399986743927, 0.5713000297546387, 0.5713000297546387, 0.5713000297546387, 0.5713000297546387, 0.5713000297546387, 0.5713000297546387, 0.5713000297546387, 0.5713000297546387, 0.5713000297546387, 0.5713000297546387, 0.5713000297546387, 0.5713000297546387, 0.5713000297546387, 0.5713000297546387, 0.5713000297546387, 0.5713000297546387, 0.5713000297546387, 0.5713000297546387, 0.5713000297546387, 0.5709999799728394, 0.5712000131607056, 0.5713000297546387, 0.5712000131607056, 0.5710999965667725, 0.5712000131607056, 0.5708000063896179, 0.5710999965667725, 0.5705999732017517, 0.5708000063896179, 0.5709999799728394, 0.5697000026702881, 0.5709999799728394, 0.570900022983551, 0.570900022983551, 0.5703999996185303, 0.5706999897956848, 4.2941999435424805, 4.290999889373779, 4.290999889373779, 4.288099765777588, 4.2769999504089355, 4.238399982452393, 1.2137000560760498, 1.2136000394821167, 1.2136000394821167, 1.2136000394821167, 1.2136000394821167, 1.2136000394821167, 1.2136000394821167, 1.2136000394821167, 1.2136000394821167, 1.2136000394821167, 1.2135000228881836, 1.2135000228881836, 1.2135000228881836, 1.2135000228881836, 1.2135000228881836, 1.2135000228881836, 1.2135000228881836, 1.2135000228881836, 1.2135000228881836, 1.2135000228881836, 1.2135000228881836, 1.2135000228881836, 1.2135000228881836, 1.2135000228881836, 1.2135000228881836, 1.2135000228881836, 1.2135000228881836, 1.2135000228881836, 1.2135000228881836, 1.2131999731063843, 1.2132999897003174, 1.2134000062942505, 1.2135000228881836, 1.2134000062942505, 1.2128000259399414, 1.2128000259399414, 1.2115000486373901, 1.2128000259399414, 4.5192999839782715, 4.516300201416016, 4.511499881744385, 1.2541999816894531, 1.2541999816894531, 1.2541999816894531, 1.2541999816894531, 1.2541999816894531, 1.2541999816894531, 1.2541999816894531, 1.2541999816894531, 1.2541999816894531, 1.2541999816894531, 1.2541999816894531, 1.2541999816894531, 1.2541999816894531, 1.2541999816894531, 1.2541999816894531, 1.2541999816894531, 1.2541999816894531, 1.2541999816894531, 1.2541999816894531, 1.2541999816894531, 1.2541999816894531, 1.2541999816894531, 1.2541999816894531, 1.2541999816894531, 1.25409996509552, 1.25409996509552, 1.25409996509552, 1.25409996509552, 1.25409996509552, 1.25409996509552, 1.25409996509552, 1.25409996509552, 1.2538000345230103, 1.253999948501587, 1.253999948501587, 1.25409996509552, 1.25409996509552, 1.2537000179290771, 1.25409996509552, 1.2537000179290771, 1.2539000511169434, 1.253999948501587, 1.2539000511169434, 1.2539000511169434, 1.253999948501587, 1.2538000345230103, 1.2532999515533447, 1.253999948501587], \"logprob\": [30.0, 29.0, 28.0, 27.0, 26.0, 25.0, 24.0, 23.0, 22.0, 21.0, 20.0, 19.0, 18.0, 17.0, 16.0, 15.0, 14.0, 13.0, 12.0, 11.0, 10.0, 9.0, 8.0, 7.0, 6.0, 5.0, 4.0, 3.0, 2.0, 1.0, -0.1736000031232834, -3.419800043106079, -3.7126998901367188, -4.096499919891357, -4.292300224304199, -4.469399929046631, -4.711599826812744, -4.970600128173828, -5.515100002288818, -5.8780999183654785, -5.890900135040283, -6.197999954223633, -13.618300437927246, -13.61970043182373, -13.620599746704102, -13.620400428771973, -13.620599746704102, -13.620699882507324, -13.620400428771973, -13.620800018310547, -13.620800018310547, -13.621000289916992, -13.621199607849121, -13.621399879455566, -13.621199607849121, -13.621100425720215, -13.621299743652344, -13.621299743652344, -13.621199607849121, -13.620599746704102, -13.621000289916992, -13.620800018310547, -13.621000289916992, -13.621199607849121, -13.621100425720215, -1.0400999784469604, -1.8789000511169434, -1.9918999671936035, -2.2939999103546143, -2.4235999584198, -3.390000104904175, -3.8636999130249023, -4.1269001960754395, -4.679900169372559, -4.861299991607666, -5.470399856567383, -12.78339958190918, -12.785499572753906, -12.785400390625, -12.785599708557129, -12.785599708557129, -12.785699844360352, -12.786399841308594, -12.786199569702148, -12.786600112915039, -12.786700248718262, -12.786600112915039, -12.786499977111816, -12.786700248718262, -12.786700248718262, -12.786600112915039, -12.786299705505371, -12.786800384521484, -12.78689956665039, -12.786800384521484, -12.78689956665039, -1.013800024986267, -2.484299898147583, -2.5204999446868896, -2.789299964904785, -2.8828001022338867, -3.2832000255584717, -3.3306000232696533, -3.4925999641418457, -3.4990999698638916, -3.7151999473571777, -3.809000015258789, -3.882200002670288, -4.4994001388549805, -4.561600208282471, -4.6793999671936035, -4.912799835205078, -5.0106000900268555, -5.196899890899658, -5.561500072479248, -5.734899997711182, -6.446199893951416, -6.51669979095459, -7.627799987792969, -7.8582000732421875, -10.918899536132812, -12.575599670410156, -12.577099800109863, -12.577300071716309, -12.577799797058105, -12.57759952545166, -12.577500343322754, -1.4085999727249146, -1.7206000089645386, -2.101900100708008, -2.275399923324585, -2.951900005340576, -3.1867001056671143, -3.2155001163482666, -3.249500036239624, -3.7309999465942383, -4.052700042724609, -4.228600025177002, -4.689300060272217, -4.889800071716309, -6.2530999183654785, -6.556399822235107, -12.477399826049805, -12.478799819946289, -12.479100227355957, -12.479299545288086, -12.479900360107422, -12.479499816894531, -12.479700088500977, -12.479700088500977, -12.479900360107422, -12.479499816894531, -12.479900360107422, -12.479499816894531, -12.480299949645996, -12.479999542236328, -12.48009967803955, -12.4798002243042, -12.479900360107422, -12.4798002243042, -12.479900360107422, -1.5978000164031982, -1.9550000429153442, -2.0543999671936035, -2.6579999923706055, -2.702500104904175, -2.7799999713897705, -2.8557000160217285, -2.990499973297119, -3.524899959564209, -3.747999906539917, -4.328000068664551, -4.868100166320801, -5.06689977645874, -5.1803998947143555, -5.367599964141846, -12.242199897766113, -12.243800163269043, -12.244000434875488, -12.244099617004395, -12.24429988861084, -12.24429988861084, -12.243900299072266, -12.244099617004395, -12.244400024414062, -12.244500160217285, -12.244199752807617, -12.244600296020508, -12.244600296020508, -12.244600296020508, -12.24470043182373, -12.244400024414062, -12.244500160217285, -12.244600296020508, -12.244600296020508, -1.1068999767303467, -1.600000023841858, -1.9524999856948853, -2.575900077819824, -2.870500087738037, -3.1719000339508057, -3.6342999935150146, -4.681000232696533, -12.36870002746582, -12.367500305175781, -12.368900299072266, -12.36870002746582, -12.369600296020508, -12.36970043182373, -12.369400024414062, -12.36870002746582, -12.36929988861084, -12.368800163269043, -12.369400024414062, -12.369500160217285, -12.369099617004395, -12.368900299072266, -12.369199752807617, -12.369600296020508, -12.369199752807617, -12.369600296020508, -12.369400024414062, -12.369799613952637, -12.36929988861084, -12.369400024414062, -12.36929988861084, -12.369199752807617, -12.369199752807617, -12.36929988861084, -12.369400024414062, -12.369400024414062, -12.36929988861084, -12.369400024414062, -0.5095000267028809, -1.37090003490448, -3.194700002670288, -4.032700061798096, -4.637800216674805, -5.130899906158447, -6.1859002113342285, -12.882699966430664, -12.881099700927734, -12.883299827575684, -12.883299827575684, -12.883199691772461, -12.88290023803711, -12.883399963378906, -12.883399963378906, -12.883399963378906, -12.883299827575684, -12.883399963378906, -12.883399963378906, -12.883399963378906, -12.883399963378906, -12.883399963378906, -12.883000373840332, -12.883399963378906, -12.883099555969238, -12.883500099182129, -12.883500099182129, -12.883399963378906, -12.883299827575684, -12.883399963378906, -12.883299827575684, -12.883299827575684, -12.883399963378906, -12.882399559020996, -12.883299827575684, -12.882699966430664, -12.882800102233887, -12.88290023803711, -12.883099555969238, -12.88290023803711, -12.883199691772461, -12.883000373840332, -12.882699966430664, -12.882800102233887, -12.883099555969238, -12.883099555969238, -12.883199691772461, -12.882800102233887, -12.882800102233887, -12.883099555969238, -12.883000373840332, -12.883000373840332, -12.883000373840332, -12.883099555969238, -12.883099555969238, -0.7164000272750854, -2.0306999683380127, -2.5346999168395996, -2.8064000606536865, -3.0064001083374023, -3.4544999599456787, -4.008399963378906, -4.100399971008301, -12.289199829101562, -12.289400100708008, -12.289799690246582, -12.288299560546875, -12.289799690246582, -12.290200233459473, -12.29010009765625, -12.289799690246582, -12.290499687194824, -12.289999961853027, -12.289899826049805, -12.289600372314453, -12.290399551391602, -12.290499687194824, -12.290399551391602, -12.290499687194824, -12.290499687194824, -12.289999961853027, -12.290300369262695, -12.290399551391602, -12.290399551391602, -12.29010009765625, -12.289999961853027, -12.28950023651123, -12.289799690246582, -12.29010009765625, -12.29010009765625, -12.290200233459473, -12.289999961853027, -12.289899826049805, -12.290200233459473, -12.29010009765625, -12.289999961853027, -12.29010009765625, -1.454200029373169, -2.404400110244751, -2.431999921798706, -2.6656999588012695, -2.8257999420166016, -2.942699909210205, -2.945499897003174, -2.953000068664551, -3.797499895095825, -3.9449000358581543, -4.187900066375732, -4.261600017547607, -4.281400203704834, -4.297299861907959, -4.306700229644775, -4.343699932098389, -4.651299953460693, -5.1778998374938965, -5.244999885559082, -6.111999988555908, -7.8684000968933105, -8.000900268554688, -12.081299781799316, -12.081500053405762, -12.081000328063965, -12.08180046081543, -12.08180046081543, -12.081700325012207, -12.080900192260742, -12.08180046081543, -12.079899787902832, -12.081299781799316, -12.081399917602539, -12.081100463867188, -12.081199645996094, -12.081199645996094, -1.1039999723434448, -1.3203999996185303, -2.228800058364868, -2.7614998817443848, -3.1115000247955322, -3.95169997215271, -4.236299991607666, -4.532700061798096, -12.163299560546875, -12.163299560546875, -12.16349983215332, -12.163800239562988, -12.163800239562988, -12.163900375366211, -12.163299560546875, -12.163800239562988, -12.163900375366211, -12.163900375366211, -12.163700103759766, -12.163800239562988, -12.163800239562988, -12.163800239562988, -12.163900375366211, -12.163900375366211, -12.163800239562988, -12.163800239562988, -12.163999557495117, -12.163999557495117, -12.16349983215332, -12.163999557495117, -12.163000106811523, -12.16349983215332, -12.163900375366211, -12.163200378417969, -12.163299560546875, -12.162099838256836, -12.163599967956543, -12.163399696350098, -12.163399696350098, -12.163599967956543, -12.163100242614746, -12.163599967956543, -12.163200378417969, -12.16349983215332, -12.163299560546875, -12.16349983215332, -12.16349983215332, -12.16349983215332, -12.163399696350098, -12.16349983215332, -1.2273999452590942, -1.486199975013733, -2.348400115966797, -2.46560001373291, -2.822999954223633, -2.8847999572753906, -3.9330999851226807, -4.132800102233887, -5.048099994659424, -5.883299827575684, -7.280600070953369, -12.179100036621094, -12.178899765014648, -12.179200172424316, -12.179200172424316, -12.178899765014648, -12.178899765014648, -12.179100036621094, -12.179200172424316, -12.179200172424316, -12.179200172424316, -12.178199768066406, -12.179200172424316, -12.179300308227539, -12.179200172424316, -12.178999900817871, -12.179200172424316, -12.179100036621094, -12.179300308227539, -12.179300308227539, -12.179100036621094, -12.178799629211426, -12.179100036621094, -12.178600311279297, -12.178799629211426, -12.17870044708252, -12.178899765014648, -12.178400039672852, -12.179100036621094, -12.17870044708252, -12.177800178527832, -12.178899765014648, -12.178899765014648, -12.17870044708252, -12.178600311279297, -12.178799629211426, -12.17870044708252, -12.17870044708252, -12.178899765014648, -12.178799629211426, -12.178899765014648, -12.178899765014648, -12.178899765014648, -0.8043000102043152, -2.168800115585327, -2.3794000148773193, -2.507200002670288, -2.823499917984009, -3.842400074005127, -4.123799800872803, -4.148499965667725, -4.232800006866455, -12.196900367736816, -12.19729995727539, -12.197699546813965, -12.197799682617188, -12.197699546813965, -12.197799682617188, -12.197699546813965, -12.197799682617188, -12.197699546813965, -12.197799682617188, -12.197799682617188, -12.197799682617188, -12.197799682617188, -12.197799682617188, -12.19789981842041, -12.197799682617188, -12.19789981842041, -12.19789981842041, -12.19789981842041, -12.19789981842041, -12.19789981842041, -12.196800231933594, -12.196900367736816, -12.197400093078613, -12.197500228881836, -12.197199821472168, -12.197400093078613, -12.197500228881836, -12.197500228881836, -12.197400093078613, -12.196900367736816, -12.196999549865723, -12.197400093078613, -12.197099685668945, -12.19729995727539, -12.196399688720703, -12.19729995727539, -12.19729995727539, -12.197400093078613, -12.19729995727539, -12.197400093078613, -12.19729995727539, -0.7178999781608582, -1.8344999551773071, -2.5241000652313232, -3.288100004196167, -3.6177000999450684, -3.9885001182556152, -4.251200199127197, -4.376299858093262, -4.445700168609619, -12.098199844360352, -12.098400115966797, -12.098400115966797, -12.098299980163574, -12.098099708557129, -12.09850025177002, -12.097800254821777, -12.098400115966797, -12.09850025177002, -12.09850025177002, -12.09850025177002, -12.09850025177002, -12.098400115966797, -12.098600387573242, -12.09850025177002, -12.098600387573242, -12.098600387573242, -12.09850025177002, -12.09850025177002, -12.098600387573242, -12.098600387573242, -12.098600387573242, -12.097999572753906, -12.09850025177002, -12.098299980163574, -12.098299980163574, -12.098099708557129, -12.098099708557129, -12.098400115966797, -12.098099708557129, -12.097700119018555, -12.098299980163574, -12.098299980163574, -12.098299980163574, -12.098299980163574, -12.098299980163574, -12.098299980163574, -12.098299980163574, -12.098400115966797, -12.098400115966797, -1.0362999439239502, -2.0653998851776123, -2.351599931716919, -2.8538999557495117, -2.9786999225616455, -3.91729998588562, -3.968600034713745, -4.087299823760986, -4.137499809265137, -4.241000175476074, -4.327700138092041, -4.61460018157959, -5.108699798583984, -11.81879997253418, -11.81980037689209, -11.819999694824219, -11.819899559020996, -11.819999694824219, -11.819999694824219, -11.819999694824219, -11.819999694824219, -11.819999694824219, -11.819000244140625, -11.819899559020996, -11.819999694824219, -11.819999694824219, -11.819999694824219, -11.819999694824219, -11.820099830627441, -11.819700241088867, -11.819700241088867, -11.81820011138916, -11.819600105285645, -11.819499969482422, -11.819600105285645, -11.819700241088867, -11.8193998336792, -11.81980037689209, -11.819600105285645, -11.819600105285645, -11.819499969482422, -11.819700241088867, -11.819700241088867, -11.819700241088867, -1.3834999799728394, -1.7733999490737915, -2.0083999633789062, -2.0738000869750977, -2.5803000926971436, -3.3540000915527344, -3.4769999980926514, -4.289400100708008, -4.7245001792907715, -5.360099792480469, -5.505099773406982, -5.9558000564575195, -12.145299911499023, -12.145899772644043, -12.14579963684082, -12.145899772644043, -12.145999908447266, -12.144200325012207, -12.14579963684082, -12.146200180053711, -12.146200180053711, -12.146200180053711, -12.146400451660156, -12.146300315856934, -12.146200180053711, -12.146300315856934, -12.146200180053711, -12.146400451660156, -12.146400451660156, -12.146300315856934, -12.145899772644043, -12.146100044250488, -12.14579963684082, -12.146100044250488, -12.146200180053711, -12.145899772644043, -12.145899772644043, -12.146100044250488, -12.145999908447266, -12.146100044250488, -12.146100044250488, -12.146100044250488, -0.6348999738693237, -2.3080999851226807, -2.7197000980377197, -2.904599905014038, -3.6877999305725098, -3.6891000270843506, -4.060500144958496, -4.254000186920166, -4.501999855041504, -6.038700103759766, -6.4704999923706055, -12.08329963684082, -12.083499908447266, -12.083600044250488, -12.08329963684082, -12.083600044250488, -12.083600044250488, -12.083700180053711, -12.083700180053711, -12.083700180053711, -12.083700180053711, -12.083600044250488, -12.083600044250488, -12.083600044250488, -12.083700180053711, -12.083700180053711, -12.083700180053711, -12.083700180053711, -12.083600044250488, -12.083700180053711, -12.083499908447266, -12.083499908447266, -12.083499908447266, -12.08329963684082, -12.083499908447266, -12.08329963684082, -12.083399772644043, -12.083399772644043, -12.08329963684082, -12.083399772644043, -12.083499908447266, -12.083399772644043, -12.083399772644043, -12.083399772644043, -12.083200454711914, -12.083399772644043, -12.083399772644043, -12.083499908447266, -1.7348999977111816, -1.986199975013733, -2.1363000869750977, -2.3287999629974365, -2.378000020980835, -2.38070011138916, -3.023200035095215, -11.648599624633789, -11.648699760437012, -11.648699760437012, -11.648900032043457, -11.648699760437012, -11.648900032043457, -11.648900032043457, -11.648900032043457, -11.648900032043457, -11.648900032043457, -11.648900032043457, -11.648900032043457, -11.648900032043457, -11.64900016784668, -11.64900016784668, -11.64900016784668, -11.648900032043457, -11.64900016784668, -11.648900032043457, -11.64900016784668, -11.64900016784668, -11.64900016784668, -11.64900016784668, -11.648799896240234, -11.648900032043457, -11.64900016784668, -11.648799896240234, -11.648900032043457, -11.648900032043457, -11.648900032043457, -11.64840030670166, -11.648500442504883, -11.648900032043457, -11.648699760437012, -11.648799896240234, -11.648599624633789, -11.648799896240234, -11.648799896240234, -11.648599624633789, -11.648799896240234, -11.648900032043457, -11.648699760437012, -11.648900032043457, -11.648900032043457, -11.648799896240234, -11.648799896240234, -11.648799896240234, -11.648799896240234, -11.648799896240234, -11.648799896240234, -11.648799896240234, -11.648699760437012, -1.057800054550171, -2.028700113296509, -2.3940999507904053, -2.6270999908447266, -3.045300006866455, -3.2925000190734863, -3.904099941253662, -3.9412999153137207, -4.406400203704834, -5.221199989318848, -10.642600059509277, -11.74209976196289, -11.742300033569336, -11.742500305175781, -11.742500305175781, -11.742500305175781, -11.742500305175781, -11.742500305175781, -11.742500305175781, -11.742500305175781, -11.742500305175781, -11.742500305175781, -11.742600440979004, -11.742400169372559, -11.742600440979004, -11.742600440979004, -11.742600440979004, -11.742600440979004, -11.742600440979004, -11.742600440979004, -11.742400169372559, -11.742500305175781, -11.742500305175781, -11.741800308227539, -11.742300033569336, -11.742500305175781, -11.742400169372559, -11.742300033569336, -11.742400169372559, -11.74209976196289, -11.742300033569336, -11.74209976196289, -11.742300033569336, -11.742400169372559, -11.741999626159668, -11.742400169372559, -11.742400169372559, -11.742400169372559, -11.742300033569336, -11.742400169372559, -0.9987000226974487, -2.5571000576019287, -2.571899890899658, -3.1040000915527344, -4.0619001388549805, -5.222899913787842, -11.100199699401855, -11.100199699401855, -11.100099563598633, -11.100199699401855, -11.100299835205078, -11.100299835205078, -11.100299835205078, -11.100299835205078, -11.100299835205078, -11.100299835205078, -11.100299835205078, -11.100299835205078, -11.100299835205078, -11.100299835205078, -11.100299835205078, -11.100299835205078, -11.100299835205078, -11.1003999710083, -11.100299835205078, -11.1003999710083, -11.100299835205078, -11.100299835205078, -11.1003999710083, -11.1003999710083, -11.100299835205078, -11.100199699401855, -11.100299835205078, -11.100299835205078, -11.100199699401855, -11.099599838256836, -11.100000381469727, -11.100199699401855, -11.100299835205078, -11.100299835205078, -11.100000381469727, -11.100199699401855, -11.100199699401855, -11.100299835205078, -0.8529999852180481, -2.287899971008301, -3.0989999771118164, -11.059599876403809, -11.059599876403809, -11.059499740600586, -11.059599876403809, -11.059700012207031, -11.059700012207031, -11.059700012207031, -11.059700012207031, -11.059700012207031, -11.059700012207031, -11.059700012207031, -11.059700012207031, -11.059700012207031, -11.059700012207031, -11.059700012207031, -11.059700012207031, -11.059700012207031, -11.059700012207031, -11.059700012207031, -11.059700012207031, -11.059700012207031, -11.059700012207031, -11.059700012207031, -11.059700012207031, -11.059700012207031, -11.059700012207031, -11.059700012207031, -11.059700012207031, -11.059700012207031, -11.059700012207031, -11.059700012207031, -11.059700012207031, -11.059399604797363, -11.059599876403809, -11.059599876403809, -11.059700012207031, -11.059700012207031, -11.059599876403809, -11.059700012207031, -11.059599876403809, -11.059700012207031, -11.059700012207031, -11.059700012207031, -11.059700012207031, -11.059700012207031, -11.059700012207031, -11.059700012207031, -11.059700012207031]}, \"token.table\": {\"Topic\": [4, 15, 4, 18, 4, 1, 5, 9, 11, 2, 9, 5, 13, 1, 19, 3, 3, 19, 15, 20, 12, 13, 3, 4, 7, 10, 17, 16, 4, 14, 4, 9, 18, 1, 2, 4, 15, 18, 9, 7, 3, 3, 11, 12, 2, 3, 3, 17, 9, 1, 3, 3, 15, 20, 1, 5, 6, 1, 3, 18, 16, 14, 1, 3, 1, 10, 16, 16, 6, 12, 1, 6, 8, 10, 14, 17, 9, 9, 6, 9, 12, 11, 9, 13, 3, 5, 14, 3, 12, 11, 4, 5, 8, 20, 15, 19, 12, 2, 17, 10, 7, 7, 16, 7, 8, 6, 5, 2, 18, 4, 11, 12, 6, 18, 8, 5, 6, 9, 6, 12, 11, 2, 19, 5, 1, 18, 4, 8, 9, 9, 19, 15, 3, 3, 5, 4, 9, 14, 11, 3, 3, 12, 16, 17, 3, 15, 3, 10, 10, 15, 16, 3, 14, 11, 17, 2, 16, 4, 14, 14, 5, 4, 14, 9, 8, 5, 1, 18, 14, 3, 9, 3, 14, 14, 18, 2, 7, 16, 19, 11, 18, 3, 10, 9, 9, 14, 13, 11, 15, 13, 16, 5, 9, 15, 17, 9, 8, 16, 9, 4, 5, 7, 5, 15, 15, 8, 9, 3, 11, 13, 5, 10, 13, 2, 13, 3, 2, 1, 2, 13, 4, 9], \"Freq\": [0.992592453956604, 0.9765139222145081, 0.9913551211357117, 0.9901809692382812, 0.9654600024223328, 0.9981850385665894, 0.9989964962005615, 0.9931814074516296, 0.9852223992347717, 0.9966621398925781, 0.9930606484413147, 0.9977753162384033, 0.9986348748207092, 0.9971625804901123, 0.9920704960823059, 0.8930149078369141, 0.8692854046821594, 0.9991328120231628, 0.9985142350196838, 0.9991310834884644, 0.9992019534111023, 0.9964247345924377, 0.994209885597229, 0.9981380701065063, 0.992686927318573, 0.9987189173698425, 0.9985455274581909, 0.9850409030914307, 0.9983962178230286, 0.9921146631240845, 0.9996979236602783, 0.9945685267448425, 0.9966328144073486, 0.9862627983093262, 0.9994745254516602, 0.9958417415618896, 0.9989379644393921, 0.9866772890090942, 0.9845550060272217, 0.9611620903015137, 0.9908040165901184, 0.9998324513435364, 0.9990805983543396, 0.9943657517433167, 0.9939454793930054, 0.9991172552108765, 0.9980174899101257, 0.9965547919273376, 0.9990971088409424, 0.9976704716682434, 0.23118339478969574, 0.989165186882019, 0.9869143962860107, 0.9920968413352966, 0.9988144040107727, 0.9913215637207031, 0.998707115650177, 0.9873227477073669, 0.993574857711792, 0.9982753992080688, 0.997042715549469, 0.9996546506881714, 0.9967928528785706, 0.9994526505470276, 0.9896279573440552, 0.9904401898384094, 0.9924086332321167, 0.998421847820282, 0.9985686540603638, 0.9997744560241699, 0.9989373087882996, 0.9996343851089478, 0.9991855025291443, 0.9980427026748657, 0.9945762157440186, 0.9984322190284729, 0.7652934193611145, 0.9996457099914551, 0.9916115999221802, 0.9949748516082764, 0.9930567741394043, 0.8721188306808472, 0.8026068210601807, 0.9896039366722107, 0.9956728219985962, 0.9870836734771729, 0.9926367998123169, 0.9979556798934937, 0.9959626197814941, 0.9996967315673828, 0.9977154731750488, 0.9995988011360168, 0.9988532662391663, 0.9964994788169861, 0.9967889785766602, 0.9956149458885193, 0.9937059283256531, 0.9939018487930298, 0.9988178014755249, 0.9996950626373291, 0.9980140328407288, 0.9996737241744995, 0.9996914863586426, 0.9959340691566467, 0.9998239278793335, 0.9994337558746338, 0.9990184307098389, 0.9995142221450806, 0.9976410269737244, 0.9958841800689697, 0.9982236623764038, 0.9983890056610107, 0.9974076151847839, 0.9987148642539978, 0.9993612170219421, 0.9990193843841553, 0.9998087882995605, 0.9827136397361755, 0.9991217851638794, 0.9989374279975891, 0.9995459318161011, 0.9979003071784973, 0.9957284331321716, 0.99942547082901, 0.9999655485153198, 0.9919227957725525, 0.9985275268554688, 0.9964461922645569, 0.9959935545921326, 0.9926613569259644, 0.9380260705947876, 0.9995589852333069, 0.9669149518013, 0.9868832230567932, 0.9905530214309692, 0.9534382224082947, 0.9946474432945251, 0.9918270111083984, 0.9985303282737732, 0.9641207456588745, 0.9977487921714783, 0.998849093914032, 0.9880881905555725, 0.9991070032119751, 0.9947834610939026, 0.9989311695098877, 0.9975984692573547, 0.9991541504859924, 0.994115948677063, 0.9911738634109497, 0.9980335235595703, 0.9985224008560181, 0.983894407749176, 0.9668617844581604, 0.9986813068389893, 0.9996542930603027, 0.9941645264625549, 0.9987102150917053, 0.9991459250450134, 0.9975050687789917, 0.9843611121177673, 0.9997144341468811, 0.9933179616928101, 0.9984162449836731, 0.9984009861946106, 0.9971429109573364, 0.9952223896980286, 0.9672048687934875, 0.9988030195236206, 0.9989410042762756, 0.9988402128219604, 0.9831676483154297, 0.9977700710296631, 0.9941385388374329, 0.9958410859107971, 0.9879789352416992, 0.9856916069984436, 0.9044100642204285, 0.9813637733459473, 0.994676411151886, 0.9994764924049377, 0.9986371994018555, 0.9953912496566772, 0.9587118625640869, 0.9986433982849121, 0.9890574216842651, 0.9992823004722595, 0.9989669919013977, 0.9662461876869202, 0.9920099973678589, 0.9446958899497986, 0.9997100234031677, 0.9981377124786377, 0.9991614818572998, 0.9984796643257141, 0.9990615248680115, 0.9979848861694336, 0.9936683773994446, 0.9920127987861633, 0.9993108510971069, 0.9955748319625854, 0.9998630285263062, 0.9987573623657227, 0.9961104989051819, 0.9457948207855225, 0.9959217309951782, 0.9984508752822876, 0.9994149208068848, 0.9958075284957886, 0.9940560460090637, 0.9987014532089233, 0.9997248649597168, 0.9997456073760986, 0.9998635053634644, 0.9973011016845703, 0.9980068802833557, 0.9995825886726379, 0.9922367930412292, 0.9986296892166138, 0.9918161034584045, 0.999508798122406, 0.9963589906692505], \"Term\": [\"abuse\", \"access\", \"accuse\", \"adult\", \"advance\", \"advice\", \"age\", \"allege\", \"already\", \"amazing\", \"apologize\", \"arrest\", \"ask\", \"attack\", \"attend\", \"attorney\", \"authority\", \"back\", \"become\", \"big\", \"black\", \"blame\", \"bomb\", \"boy\", \"budget\", \"call\", \"campaign\", \"cancel\", \"care\", \"charge\", \"child\", \"chinese\", \"claim\", \"clear\", \"could\", \"court\", \"cover\", \"creator\", \"crime\", \"critic\", \"culture\", \"day\", \"death\", \"defend\", \"deliver\", \"die\", \"dream\", \"drop\", \"drug\", \"easy\", \"elect\", \"email\", \"exit\", \"expose\", \"face\", \"fake\", \"favorite\", \"federal\", \"female\", \"film\", \"final\", \"find\", \"fire\", \"first\", \"fraud\", \"fund\", \"funny\", \"game\", \"gay\", \"get\", \"give\", \"go\", \"great\", \"grow\", \"gun\", \"happen\", \"haunt\", \"help\", \"hilarious\", \"historic\", \"ignore\", \"immigrant\", \"immigration\", \"incredible\", \"indian\", \"injure\", \"investigation\", \"job\", \"join\", \"kid\", \"kill\", \"know\", \"last\", \"late\", \"law\", \"lawyer\", \"least\", \"legacy\", \"less\", \"life\", \"link\", \"look\", \"love\", \"low\", \"make\", \"man\", \"marry\", \"may\", \"meet\", \"member\", \"miss\", \"moment\", \"movie\", \"much\", \"need\", \"never\", \"new\", \"nuclear\", \"old\", \"open\", \"parent\", \"park\", \"pay\", \"people\", \"photo\", \"photographer\", \"pick\", \"player\", \"police\", \"politic\", \"politician\", \"poll\", \"press\", \"primary\", \"protest\", \"proud\", \"prove\", \"pull\", \"put\", \"queer\", \"race\", \"real\", \"regret\", \"report\", \"restaurant\", \"reveal\", \"ride\", \"risk\", \"robot\", \"ruin\", \"rule\", \"run\", \"russian\", \"sad\", \"save\", \"say\", \"scene\", \"set\", \"sex\", \"shoot\", \"shooting\", \"show\", \"sink\", \"site\", \"son\", \"song\", \"spend\", \"spy\", \"still\", \"stop\", \"story\", \"straight\", \"student\", \"stun\", \"sue\", \"suggest\", \"suit\", \"summit\", \"suspend\", \"system\", \"talk\", \"teach\", \"tear\", \"terrible\", \"test\", \"theme\", \"thing\", \"think\", \"thousand\", \"threaten\", \"throne\", \"time\", \"today\", \"travel\", \"try\", \"turn\", \"tv\", \"twitter\", \"understand\", \"use\", \"victim\", \"video\", \"visit\", \"vote\", \"voter\", \"vow\", \"walk\", \"want\", \"war\", \"warn\", \"watch\", \"way\", \"wedding\", \"week\", \"wife\", \"win\", \"woman\", \"worker\", \"would\", \"writer\", \"year\", \"yet\"]}, \"R\": 30, \"lambda.step\": 0.01, \"plot.opts\": {\"xlab\": \"PC1\", \"ylab\": \"PC2\"}, \"topic.order\": [11, 10, 12, 5, 16, 18, 6, 19, 1, 3, 4, 20, 17, 14, 8, 15, 13, 7, 9, 2]};\n",
       "\n",
       "function LDAvis_load_lib(url, callback){\n",
       "  var s = document.createElement('script');\n",
       "  s.src = url;\n",
       "  s.async = true;\n",
       "  s.onreadystatechange = s.onload = callback;\n",
       "  s.onerror = function(){console.warn(\"failed to load library \" + url);};\n",
       "  document.getElementsByTagName(\"head\")[0].appendChild(s);\n",
       "}\n",
       "\n",
       "if(typeof(LDAvis) !== \"undefined\"){\n",
       "   // already loaded: just create the visualization\n",
       "   !function(LDAvis){\n",
       "       new LDAvis(\"#\" + \"ldavis_el2370428336099308161138520497\", ldavis_el2370428336099308161138520497_data);\n",
       "   }(LDAvis);\n",
       "}else if(typeof define === \"function\" && define.amd){\n",
       "   // require.js is available: use it to load d3/LDAvis\n",
       "   require.config({paths: {d3: \"https://cdnjs.cloudflare.com/ajax/libs/d3/3.5.5/d3.min\"}});\n",
       "   require([\"d3\"], function(d3){\n",
       "      window.d3 = d3;\n",
       "      LDAvis_load_lib(\"https://cdn.rawgit.com/bmabey/pyLDAvis/files/ldavis.v1.0.0.js\", function(){\n",
       "        new LDAvis(\"#\" + \"ldavis_el2370428336099308161138520497\", ldavis_el2370428336099308161138520497_data);\n",
       "      });\n",
       "    });\n",
       "}else{\n",
       "    // require.js not available: dynamically load d3 & LDAvis\n",
       "    LDAvis_load_lib(\"https://cdnjs.cloudflare.com/ajax/libs/d3/3.5.5/d3.min.js\", function(){\n",
       "         LDAvis_load_lib(\"https://cdn.rawgit.com/bmabey/pyLDAvis/files/ldavis.v1.0.0.js\", function(){\n",
       "                 new LDAvis(\"#\" + \"ldavis_el2370428336099308161138520497\", ldavis_el2370428336099308161138520497_data);\n",
       "            })\n",
       "         });\n",
       "}\n",
       "</script>"
      ],
      "text/plain": [
       "PreparedData(topic_coordinates=              x         y  topics  cluster       Freq\n",
       "topic                                                \n",
       "10    -0.390853  0.258580       1        1  13.563423\n",
       "9     -0.126817 -0.168039       2        1   8.516626\n",
       "11    -0.066547 -0.047077       3        1   7.828288\n",
       "4     -0.042680 -0.023898       4        1   6.724011\n",
       "15     0.011234  0.009210       5        1   6.238542\n",
       "17    -0.017120 -0.005815       6        1   6.051125\n",
       "5     -0.156399 -0.326420       7        1   5.652236\n",
       "18     0.000672  0.004051       8        1   5.622687\n",
       "0      0.043421  0.021541       9        1   4.839642\n",
       "2      0.026780  0.015514      10        1   4.684765\n",
       "3      0.024071  0.014508      11        1   4.589426\n",
       "19     0.020210  0.012938      12        1   4.447374\n",
       "16     0.039207  0.019979      13        1   3.769788\n",
       "13     0.083363  0.031786      14        1   3.721656\n",
       "7      0.030591  0.017003      15        1   3.343815\n",
       "14     0.042064  0.020945      16        1   2.884613\n",
       "12     0.103303  0.035253      17        1   2.679497\n",
       "6      0.092956  0.033583      18        1   2.390243\n",
       "8      0.140544  0.038204      19        1   1.363579\n",
       "1      0.141999  0.038154      20        1   1.088674, topic_info=      Category          Freq           Term         Total  loglift  logprob\n",
       "118    Default  87488.000000          photo  87488.000000  30.0000  30.0000\n",
       "198    Default  26060.000000          video  26060.000000  29.0000  29.0000\n",
       "185    Default  21078.000000           make  21078.000000  28.0000  28.0000\n",
       "2      Default  23099.000000           week  23099.000000  27.0000  27.0000\n",
       "323    Default  21797.000000            day  21797.000000  26.0000  26.0000\n",
       "200    Default  15270.000000            get  15270.000000  25.0000  25.0000\n",
       "262    Default  14112.000000        wedding  14112.000000  24.0000  24.0000\n",
       "21     Default  15352.000000            new  15352.000000  23.0000  23.0000\n",
       "51     Default  11733.000000           love  11733.000000  22.0000  22.0000\n",
       "38     Default  11921.000000            way  11921.000000  21.0000  21.0000\n",
       "311    Default  12616.000000           show  12616.000000  20.0000  20.0000\n",
       "250    Default  10134.000000           find  10134.000000  19.0000  19.0000\n",
       "41     Default  10323.000000            kid  10323.000000  18.0000  18.0000\n",
       "63     Default  11013.000000           look  11013.000000  17.0000  17.0000\n",
       "32     Default   9601.000000           life   9601.000000  16.0000  16.0000\n",
       "9      Default   9688.000000           time   9688.000000  15.0000  15.0000\n",
       "333    Default   9377.000000             go   9377.000000  14.0000  14.0000\n",
       "126    Default   8677.000000           help   8677.000000  13.0000  13.0000\n",
       "309    Default   9236.000000          child   9236.000000  12.0000  12.0000\n",
       "80     Default   9985.000000            say   9985.000000  11.0000  11.0000\n",
       "42     Default   7969.000000         parent   7969.000000  10.0000  10.0000\n",
       "29     Default   6371.000000           talk   6371.000000   9.0000   9.0000\n",
       "69     Default   8918.000000          woman   8918.000000   8.0000   8.0000\n",
       "89     Default   6435.000000           poll   6435.000000   7.0000   7.0000\n",
       "147    Default   6779.000000           know   6779.000000   6.0000   6.0000\n",
       "65     Default   6592.000000            man   6592.000000   5.0000   5.0000\n",
       "149    Default   6138.000000         people   6138.000000   4.0000   4.0000\n",
       "320    Default   6309.000000           year   6309.000000   3.0000   3.0000\n",
       "167    Default   3857.000000           back   3857.000000   2.0000   2.0000\n",
       "186    Default   5665.000000           need   5665.000000   1.0000   1.0000\n",
       "...        ...           ...            ...           ...      ...      ...\n",
       "6787   Topic20      0.131433        contain      3.444553   1.2542 -11.0597\n",
       "1353   Topic20      0.131431           harm      3.444488   1.2542 -11.0597\n",
       "12721  Topic20      0.131433     ingredient      3.444561   1.2542 -11.0597\n",
       "1740   Topic20      0.131434         planet      3.444602   1.2542 -11.0597\n",
       "20609  Topic20      0.131430  survey_reveal      3.444507   1.2542 -11.0597\n",
       "1133   Topic20      0.131433         recall      3.444587   1.2542 -11.0597\n",
       "12315  Topic20      0.131427    extravagant      3.444428   1.2541 -11.0597\n",
       "20611  Topic20      0.131427          gypsy      3.444428   1.2541 -11.0597\n",
       "2880   Topic20      0.131430        breakup      3.444522   1.2541 -11.0597\n",
       "691    Topic20      0.131434          track      3.444637   1.2541 -11.0597\n",
       "9489   Topic20      0.131433      nutrition      3.444617   1.2541 -11.0597\n",
       "1650   Topic20      0.131433           trap      3.444634   1.2541 -11.0597\n",
       "9423   Topic20      0.131433           salt      3.444642   1.2541 -11.0597\n",
       "924    Topic20      0.131435          stage      3.444721   1.2541 -11.0597\n",
       "2580   Topic20      0.131474           food      3.446893   1.2538 -11.0594\n",
       "670    Topic20      0.131444           part      3.445333   1.2540 -11.0596\n",
       "959    Topic20      0.131440          break      3.445301   1.2540 -11.0596\n",
       "1006   Topic20      0.131435        patient      3.444865   1.2541 -11.0597\n",
       "5279   Topic20      0.131435        disease      3.444879   1.2541 -11.0597\n",
       "538    Topic20      0.131450          world      3.446606   1.2537 -11.0596\n",
       "409    Topic20      0.131436           city      3.444997   1.2541 -11.0597\n",
       "813    Topic20      0.131442         change      3.446332   1.2537 -11.0596\n",
       "1817   Topic20      0.131436           best      3.445442   1.2539 -11.0597\n",
       "385    Topic20      0.131435          party      3.445177   1.2540 -11.0597\n",
       "655    Topic20      0.131435           play      3.445368   1.2539 -11.0597\n",
       "2498   Topic20      0.131434          guide      3.445548   1.2539 -11.0597\n",
       "3373   Topic20      0.131434            fat      3.445150   1.2540 -11.0597\n",
       "359    Topic20      0.131434           star      3.445903   1.2538 -11.0597\n",
       "2248   Topic20      0.131434          study      3.447530   1.2533 -11.0597\n",
       "888    Topic20      0.131433           mean      3.445203   1.2540 -11.0597\n",
       "\n",
       "[907 rows x 6 columns], token_table=      Topic      Freq        Term\n",
       "term                             \n",
       "308       4  0.992592       abuse\n",
       "82       15  0.976514      access\n",
       "264       4  0.991355      accuse\n",
       "156      18  0.990181       adult\n",
       "317       4  0.965460     advance\n",
       "284       1  0.998185      advice\n",
       "5         5  0.998996         age\n",
       "191       9  0.993181      allege\n",
       "39       11  0.985222     already\n",
       "275       2  0.996662     amazing\n",
       "153       9  0.993061   apologize\n",
       "188       5  0.997775      arrest\n",
       "294      13  0.998635         ask\n",
       "338       1  0.997163      attack\n",
       "314      19  0.992070      attend\n",
       "322       3  0.893015    attorney\n",
       "75        3  0.869285   authority\n",
       "167      19  0.999133        back\n",
       "258      15  0.998514      become\n",
       "279      20  0.999131         big\n",
       "101      12  0.999202       black\n",
       "221      13  0.996425       blame\n",
       "76        3  0.994210        bomb\n",
       "215       4  0.998138         boy\n",
       "194       7  0.992687      budget\n",
       "30       10  0.998719        call\n",
       "121      17  0.998546    campaign\n",
       "72       16  0.985041      cancel\n",
       "230       4  0.998396        care\n",
       "109      14  0.992115      charge\n",
       "...     ...       ...         ...\n",
       "129       9  0.998138       today\n",
       "84       15  0.999161      travel\n",
       "224      17  0.998480         try\n",
       "193       9  0.999062        turn\n",
       "1         8  0.997985          tv\n",
       "134      16  0.993668     twitter\n",
       "130       9  0.992013  understand\n",
       "13        4  0.999311         use\n",
       "25        5  0.995575      victim\n",
       "198       7  0.999863       video\n",
       "26        5  0.998757       visit\n",
       "60       15  0.996110        vote\n",
       "92       15  0.945795       voter\n",
       "289       8  0.995922         vow\n",
       "170       9  0.998451        walk\n",
       "141       3  0.999415        want\n",
       "166      11  0.995808         war\n",
       "249      13  0.994056        warn\n",
       "22        5  0.998701       watch\n",
       "38       10  0.999725         way\n",
       "262      13  0.999746     wedding\n",
       "2         2  0.999864        week\n",
       "298      13  0.997301        wife\n",
       "327       3  0.998007         win\n",
       "69        2  0.999583       woman\n",
       "229       1  0.992237      worker\n",
       "190       2  0.998630       would\n",
       "263      13  0.991816      writer\n",
       "320       4  0.999509        year\n",
       "155       9  0.996359         yet\n",
       "\n",
       "[222 rows x 3 columns], R=30, lambda_step=0.01, plot_opts={'xlab': 'PC1', 'ylab': 'PC2'}, topic_order=[11, 10, 12, 5, 16, 18, 6, 19, 1, 3, 4, 20, 17, 14, 8, 15, 13, 7, 9, 2])"
      ]
     },
     "execution_count": 19,
     "metadata": {},
     "output_type": "execute_result"
    }
   ],
   "source": [
    "# Visualize the topics\n",
    "pyLDAvis.enable_notebook()\n",
    "vis = pyLDAvis.gensim.prepare(lda_model, corpus, id2word)\n",
    "vis"
   ]
  },
  {
   "cell_type": "code",
   "execution_count": 18,
   "metadata": {},
   "outputs": [],
   "source": [
    "## trying to obtain feature vectors\n",
    "train_vecs = []\n",
    "for i in range(len(rev_train)):\n",
    "    top_topics = lda_train.get_document_topics(train_corpus[i], minimum_probability=0.0)\n",
    "    topic_vec = [top_topics[i][1] for i in range(20)]\n",
    "    topic_vec.extend([rev_train.iloc[i].real_counts]) # counts of reviews for restaurant\n",
    "    topic_vec.extend([len(rev_train.iloc[i].text)]) # length review\n",
    "    train_vecs.append(topic_vec)"
   ]
  }
 ],
 "metadata": {
  "kernelspec": {
   "display_name": "Python 3",
   "language": "python",
   "name": "python3"
  },
  "language_info": {
   "codemirror_mode": {
    "name": "ipython",
    "version": 3
   },
   "file_extension": ".py",
   "mimetype": "text/x-python",
   "name": "python",
   "nbconvert_exporter": "python",
   "pygments_lexer": "ipython3",
   "version": "3.7.3"
  }
 },
 "nbformat": 4,
 "nbformat_minor": 2
}
