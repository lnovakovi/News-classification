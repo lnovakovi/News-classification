{
 "cells": [
  {
   "cell_type": "code",
   "execution_count": 55,
   "metadata": {},
   "outputs": [],
   "source": [
    "import json\n",
    "from nltk.tokenize import sent_tokenize, word_tokenize \n",
    "import pandas as pd\n",
    "import json"
   ]
  },
  {
   "cell_type": "code",
   "execution_count": 32,
   "metadata": {},
   "outputs": [],
   "source": [
    "json_file=r\"C:\\Users\\Lora\\Desktop\\TxMM\\Project\\news-category-dataset\\News_Category_Dataset_v2.json\"\n",
    "\n",
    "## investigate data \n",
    "data = []\n",
    "for line in open(json_file,'r'):\n",
    "    data.append(json.loads(line))\n",
    "    \n",
    "# Creates DataFrame. \n",
    "df = pd.DataFrame(data) \n",
    "  \n",
    "# Dropping unnecessary categories \n",
    "df = df.drop(['date','authors','link'], axis=1)\n",
    "df['Text'] = df['headline'].str.cat(df['short_description'],sep=\". \")\n",
    "df = df = df.drop(['headline','short_description'], axis=1)\n",
    "\n",
    "# Grouping similar categories\n",
    "df.loc[df['category'] == 'COLLEGE', 'category'] = 'EDUCATION'\n",
    "## changing names of certain categories\n",
    "df.loc[df['category'] == 'CULTURE & ARTS', 'category'] = 'ARTS'\n",
    "df.loc[df['category'] == 'ARTS & CULTURE', 'category'] = 'ARTS'\n",
    "df.loc[df['category'] == 'THE WORLDPOST', 'category'] = 'WORLDPOST'\n",
    "df.loc[df['category'] == 'WORLD NEWS', 'category'] = 'WORLDPOST'\n",
    "df.loc[df['category'] == 'GREEN', 'category'] = 'ENVIRONMENT'\n",
    "df.loc[df['category'] == 'PARENTING', 'category'] = 'PARENTS'\n",
    "df.loc[df['category'] == 'STYLE & BEAUTY', 'category'] = 'STYLE'\n",
    "\n",
    "# Dropping categories with two little samples\n",
    "df=df.drop(df[df.category == 'FIFTY'].index)\n",
    "df=df.drop(df[df.category == 'GOOD NEWS'].index)\n",
    "df=df.drop(df[df.category == 'LATINO VOICES'].index)\n",
    "df=df.drop(df[df.category == 'MONEY'].index)\n",
    "df=df.drop(df[df.category == 'WEIRD NEWS'].index)\n",
    "df=df.drop(df[df.category == 'TASTE'].index)\n",
    "df=df.drop(df[df.category == 'TECH'].index)\n",
    "\n",
    "# reseting index\n",
    "df.reset_index(drop=True)\n",
    "\n",
    "# checking categories\n",
    "df.groupby('category').count()"
   ]
  },
  {
   "cell_type": "code",
   "execution_count": 74,
   "metadata": {},
   "outputs": [],
   "source": [
    "'''vocabulary=[]\n",
    "labels=[]\n",
    "for dic in data:\n",
    "    text=dic['headline'] + \". \" + dic['short_description']\n",
    "    vocabulary.append(text)\n",
    "    labels.append(dic['category'])'''"
   ]
  },
  {
   "cell_type": "code",
   "execution_count": 83,
   "metadata": {},
   "outputs": [],
   "source": [
    "'''sent_tok = []\n",
    "word_tok=[]\n",
    "for v in vocabulary:\n",
    "    sent_tok.append(sent_tokenize(v))\n",
    "    word_tok.append(word_tokenize(v))'''\n"
   ]
  }
 ],
 "metadata": {
  "kernelspec": {
   "display_name": "Python 3",
   "language": "python",
   "name": "python3"
  },
  "language_info": {
   "codemirror_mode": {
    "name": "ipython",
    "version": 3
   },
   "file_extension": ".py",
   "mimetype": "text/x-python",
   "name": "python",
   "nbconvert_exporter": "python",
   "pygments_lexer": "ipython3",
   "version": "3.7.3"
  }
 },
 "nbformat": 4,
 "nbformat_minor": 2
}
